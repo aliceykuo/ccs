{
 "metadata": {
  "name": "",
  "signature": "sha256:8b70cda484a748df79d1483c1a2c4ef3a5ef44bd8472bab9b332e6cb6b3cdeb5"
 },
 "nbformat": 3,
 "nbformat_minor": 0,
 "worksheets": [
  {
   "cells": [
    {
     "cell_type": "code",
     "collapsed": false,
     "input": [
      "import scipy\n",
      "from scipy import ndimage\n",
      "import numpy as np\n",
      "from sklearn.ensemble import RandomForestClassifier\n",
      "from sklearn.cross_validation import train_test_split\n",
      "import os"
     ],
     "language": "python",
     "metadata": {},
     "outputs": [],
     "prompt_number": 1
    },
    {
     "cell_type": "code",
     "collapsed": false,
     "input": [
      "if __name__ == '__main__':\n",
      "    file_names = os.listdir('style')\n",
      "\n",
      "    target_lst = []\n",
      "    feature_arr = None\n",
      "    for file_name in file_names:\n",
      "        print file_name\n",
      "        if file_name.startswith('beach'):\n",
      "            label = 1\n",
      "        elif file_name.startswith('rustic'):\n",
      "            label = 0\n",
      "        else:\n",
      "            continue\n",
      "\n",
      "        target_lst.append(label)\n",
      "\n",
      "        img_arr = scipy.misc.imread('style/%s' % file_name).astype('int32')\n",
      "        dx = ndimage.sobel(img_arr, 0)  # horizontal derivative\n",
      "        dy = ndimage.sobel(img_arr, 1)  # vertical derivative\n",
      "        mag = np.hypot(dx, dy)  # magnitude\n",
      "        mag *= 255.0 / np.max(mag)  # normalize (Q&D)\n",
      "        img_arr = mag.flatten()[np.newaxis, :]\n",
      "\n",
      "        if feature_arr is None:\n",
      "            feature_arr = img_arr\n",
      "        else:\n",
      "            feature_arr = np.r_[feature_arr, img_arr]\n",
      "\n",
      "    target_arr = np.array(target_lst)\n",
      "\n",
      "    train_feat, test_feat, train_target, test_target = train_test_split(feature_arr, target_arr, test_size=0.33)\n",
      "    rf = RandomForestClassifier()\n",
      "    rf.fit(train_feat, train_target)\n",
      "    print rf.score(test_feat, test_target)"
     ],
     "language": "python",
     "metadata": {},
     "outputs": []
    }
   ],
   "metadata": {}
  }
 ]
}