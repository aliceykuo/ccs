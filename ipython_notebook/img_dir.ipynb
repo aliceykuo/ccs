{
 "metadata": {
  "name": "",
  "signature": "sha256:944b59f0ab8528ab97a5d3ef15a4cad5400ebd02a07a73f2c4b0e2478ed0fc50"
 },
 "nbformat": 3,
 "nbformat_minor": 0,
 "worksheets": [
  {
   "cells": [
    {
     "cell_type": "code",
     "collapsed": false,
     "input": [
      "import urllib \n",
      "import numpy as np\n",
      "import pandas as pd\n",
      "from skimage import io\n",
      "import psycopg2"
     ],
     "language": "python",
     "metadata": {},
     "outputs": [],
     "prompt_number": 4
    },
    {
     "cell_type": "code",
     "collapsed": false,
     "input": [
      "pwd"
     ],
     "language": "python",
     "metadata": {},
     "outputs": [
      {
       "metadata": {},
       "output_type": "pyout",
       "prompt_number": 16,
       "text": [
        "u'/Users/kuoyen/Documents/capstone/image_dir'"
       ]
      }
     ],
     "prompt_number": 16
    },
    {
     "cell_type": "code",
     "collapsed": false,
     "input": [
      "df = pd.read_csv('../data/vintage_1.csv')"
     ],
     "language": "python",
     "metadata": {},
     "outputs": [],
     "prompt_number": 10
    },
    {
     "cell_type": "code",
     "collapsed": false,
     "input": [
      "# df.head(10)"
     ],
     "language": "python",
     "metadata": {},
     "outputs": [],
     "prompt_number": 5
    },
    {
     "cell_type": "code",
     "collapsed": false,
     "input": [
      "img = df['large_img.src']"
     ],
     "language": "python",
     "metadata": {},
     "outputs": [],
     "prompt_number": 9
    },
    {
     "cell_type": "code",
     "collapsed": false,
     "input": [
      "img[0]"
     ],
     "language": "python",
     "metadata": {},
     "outputs": [
      {
       "metadata": {},
       "output_type": "pyout",
       "prompt_number": 10,
       "text": [
        "'https://s-media-cache-ak0.pinimg.com/736x/b8/f6/d6/b8f6d6880191807b91095ebc6037521b.jpg'"
       ]
      }
     ],
     "prompt_number": 10
    },
    {
     "cell_type": "code",
     "collapsed": false,
     "input": [
      "show_img = io.imread(img[0])\n",
      "io.imshow(show_img)"
     ],
     "language": "python",
     "metadata": {},
     "outputs": [],
     "prompt_number": 15
    },
    {
     "cell_type": "code",
     "collapsed": false,
     "input": [
      "resource = urllib.urlopen(img[0])\n",
      "output = open(\"beach/file01.jpg\",\"wb\")\n",
      "output.write(resource.read())\n",
      "output.close()"
     ],
     "language": "python",
     "metadata": {},
     "outputs": [],
     "prompt_number": 13
    },
    {
     "cell_type": "code",
     "collapsed": false,
     "input": [
      "def save_image(filename, dir='beach'):\n",
      "    df = pd.read_csv(filename)\n",
      "    f_length = df.shape[0]\n",
      "    for i, row in enumerate(df.iterrows()):\n",
      "        desc = row['pin_desc']\n",
      "        photo_id = dir + str(i)\n",
      "        # psycopg2 insert\n",
      "        \n",
      "        img_url = df['large_img.src']\n",
      "        resource = urllib.urlopen(img_url)\n",
      "        dir_url = dir + '/file' + photo_id + '.jpg'\n",
      "        output = open(dir_url,\"wb\")\n",
      "        output.write(resource.read())\n",
      "        output.close()"
     ],
     "language": "python",
     "metadata": {},
     "outputs": []
    },
    {
     "cell_type": "code",
     "collapsed": false,
     "input": [
      "def save_image(filename, dir='beach'):\n",
      "    df = pd.read_csv(filename)\n",
      "    f_length = df.shape[0]\n",
      "    img = df['large_img.src']\n",
      "    for i in range(f_length):\n",
      "        url = img[i]\n",
      "        resource = urllib.urlopen(url)\n",
      "        dir_url = dir + '/file' + str(i) + '.jpg'\n",
      "        output = open(dir_url,\"wb\")\n",
      "        output.write(resource.read())\n",
      "        output.close()"
     ],
     "language": "python",
     "metadata": {},
     "outputs": [],
     "prompt_number": 25
    },
    {
     "cell_type": "code",
     "collapsed": false,
     "input": [
      "# save_image('beach_data.csv','beach')"
     ],
     "language": "python",
     "metadata": {},
     "outputs": [],
     "prompt_number": 1
    },
    {
     "cell_type": "code",
     "collapsed": false,
     "input": [
      "def save_image(dataframe, dir='beach'):\n",
      "    f_length = df.shape[0]\n",
      "    for i, row in enumerate(df.iterrows()):\n",
      "        desc = row['pin_desc']\n",
      "        image_id = dir + str(i)\n",
      "\n",
      "        img_url = df['img_url']\n",
      "        resource = urllib.urlopen(img_url)\n",
      "        dir_url = dir + '/' + dir + image_id + '.jpg'\n",
      "        output = open(dir_url,\"wb\")\n",
      "        output.write(resource.read())\n",
      "        output.close()\n"
     ],
     "language": "python",
     "metadata": {},
     "outputs": []
    },
    {
     "cell_type": "code",
     "collapsed": false,
     "input": [
      "pwd"
     ],
     "language": "python",
     "metadata": {},
     "outputs": [
      {
       "metadata": {},
       "output_type": "pyout",
       "prompt_number": 2,
       "text": [
        "u'/Users/kuoyen/Documents/capstone/image_dir'"
       ]
      }
     ],
     "prompt_number": 2
    },
    {
     "cell_type": "code",
     "collapsed": false,
     "input": [
      "def save_image(dataframe, dir='beach'):\n",
      "        conn = psycopg2.connect(dbname='pinterest_wedding', user='postgres', host='/tmp')\n",
      "        c = conn.cursor()\n",
      "\n",
      "        c.execute('''\n",
      "            CREATE TABLE pin_data \n",
      "            (\n",
      "                pin_id integer,\n",
      "                pin_desc varchar(5000),\n",
      "                img_url varchar(5000),\n",
      "                img_href varchar(5000),\n",
      "                img_text varchar(5000),\n",
      "                title_href varchar(5000),\n",
      "                tag_desc varchar(5000),\n",
      "                orig_pinner_href varchar(5000),\n",
      "                orig_pinner varchar(5000),\n",
      "                board_name_href varchar(5000),\n",
      "                board_name varchar(5000),\n",
      "                PRIMARY KEY(pin_id)\n",
      "            )\n",
      "        ''')\n",
      "#         rows = c.fetchall()\n",
      "        for i, row in enumerate(df.iteritems()):\n",
      "            pin_id = dir + str(i)\n",
      "            desc = row['pin_desc']\n",
      "            pin_desc = row['pin_desc']\n",
      "            img_url = row['img_url']\n",
      "            img_href = row['img_href']\n",
      "            img_text = row['img_text']\n",
      "            title_href = row['title_href']\n",
      "            title_text = row['title_text']\n",
      "            tag_desc = row['tag_desc']\n",
      "            orig_pinner_href = row['orig_pinner_href']\n",
      "            orig_pinner = row['orig_pinner']\n",
      "            board_name_href = row['board_name_href']\n",
      "            board_name = row['board_name']\n",
      "            print pin_id, desc, pin_desc\n",
      "            break\n",
      "#             INSERT INTO pin_data VALUES (pin_id, desc, pin_desc, img_url, img_href, img_text,\n",
      "#                 title_href, title_text, tag_desc, orig_pinner_href, orig_pinner, board_name_href,\n",
      "#                 board_name)\n",
      "        conn.commit()\n",
      "        conn.close()\n",
      "\n",
      "#         resource = urllib.urlopen(img_url)\n",
      "#         dir_url = dir + '/' + pin_id + '.jpg'\n",
      "#         output = open(dir_url,\"wb\")\n",
      "#         output.write(resource.read())\n",
      "#         output.close()"
     ],
     "language": "python",
     "metadata": {},
     "outputs": [],
     "prompt_number": 8
    },
    {
     "cell_type": "code",
     "collapsed": false,
     "input": [
      "save_image('beach_data.csv','beach')"
     ],
     "language": "python",
     "metadata": {},
     "outputs": []
    },
    {
     "cell_type": "code",
     "collapsed": false,
     "input": [],
     "language": "python",
     "metadata": {},
     "outputs": []
    }
   ],
   "metadata": {}
  }
 ]
}