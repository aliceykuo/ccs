{
 "metadata": {
  "name": "",
  "signature": "sha256:5435b24247c611699401d36f3c25e085de9bb2e45bc55d366231a1660a734f86"
 },
 "nbformat": 3,
 "nbformat_minor": 0,
 "worksheets": [
  {
   "cells": [
    {
     "cell_type": "code",
     "collapsed": false,
     "input": [
      "from skimage import io\n",
      "import pandas as pd\n",
      "import numpy as np\n",
      "from skimage.color import rgb2gray\n",
      "# from skimage.exposure import \n",
      "from sklearn.preprocessing import StandardScaler\n",
      "from PIL import Image\n",
      "import cv2\n",
      "from skimage import filter\n",
      "\n"
     ],
     "language": "python",
     "metadata": {},
     "outputs": [],
     "prompt_number": 11
    },
    {
     "cell_type": "code",
     "collapsed": false,
     "input": [
      "pwd"
     ],
     "language": "python",
     "metadata": {},
     "outputs": [
      {
       "metadata": {},
       "output_type": "pyout",
       "prompt_number": 3,
       "text": [
        "u'/Users/kuoyen/Documents/myweddingstyle/image_train'"
       ]
      }
     ],
     "prompt_number": 3
    },
    {
     "cell_type": "code",
     "collapsed": false,
     "input": [],
     "language": "python",
     "metadata": {},
     "outputs": [],
     "prompt_number": 8
    },
    {
     "cell_type": "code",
     "collapsed": false,
     "input": [],
     "language": "python",
     "metadata": {},
     "outputs": []
    }
   ],
   "metadata": {}
  }
 ]
}