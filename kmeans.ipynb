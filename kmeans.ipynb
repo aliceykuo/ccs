{
 "metadata": {
  "name": "",
  "signature": "sha256:b1123c224ef70207477bbb33d98126a25ead8b9ac3623fc80fe5f6f1b7f69b70"
 },
 "nbformat": 3,
 "nbformat_minor": 0,
 "worksheets": [
  {
   "cells": [
    {
     "cell_type": "code",
     "collapsed": false,
     "input": [
      "import scipy\n",
      "from scipy import ndimage\n",
      "import numpy as np\n",
      "from sklearn.ensemble import RandomForestClassifier\n",
      "from sklearn.cross_validation import train_test_split\n",
      "from skimage import io\n",
      "import os \n",
      "from PIL import Image\n",
      "from collections import namedtuple\n",
      "from sklearn.cluster import KMeans\n",
      "import random\n",
      "\n",
      "from collections import namedtuple\n",
      "from math import sqrt\n",
      "import random\n",
      "try:\n",
      "    import Image\n",
      "except ImportError:\n",
      "    from PIL import Image"
     ],
     "language": "python",
     "metadata": {},
     "outputs": [],
     "prompt_number": 98
    },
    {
     "cell_type": "code",
     "collapsed": false,
     "input": [
      "from collections import namedtuple\n",
      "from math import sqrt\n",
      "import random\n",
      "try:\n",
      "    import Image\n",
      "except ImportError:\n",
      "    from PIL import Image\n",
      "\n",
      "Point = namedtuple('Point', ('coords', 'n', 'ct'))\n",
      "Cluster = namedtuple('Cluster', ('points', 'center', 'n'))\n",
      "\n",
      "def get_points(img):\n",
      "    points = []\n",
      "    w, h = img.size\n",
      "    for count, color in img.getcolors(w * h):\n",
      "        points.append(Point(color, 3, count))\n",
      "    return points\n",
      "\n",
      "rtoh = lambda rgb: '#%s' % ''.join(('%02x' % p for p in rgb))\n",
      "\n",
      "def colorz(, n=3):\n",
      "    img = Image.open(filename)\n",
      "    img.thumbnail((200, 200))\n",
      "    w, h = img.size\n",
      "\n",
      "    points = get_points(img)\n",
      "    clusters = kmeans(points, n, 1)\n",
      "    rgbs = [map(int, c.center.coords) for c in clusters]\n",
      "    return map(rtoh, rgbs)\n",
      "\n",
      "def euclidean(p1, p2):\n",
      "    return sqrt(sum([\n",
      "        (p1.coords[i] - p2.coords[i]) ** 2 for i in range(p1.n)\n",
      "    ]))\n",
      "\n",
      "def calculate_center(points, n):\n",
      "    vals = [0.0 for i in range(n)]\n",
      "    plen = 0\n",
      "    for p in points:\n",
      "        plen += p.ct\n",
      "        for i in range(n):\n",
      "            vals[i] += (p.coords[i] * p.ct)\n",
      "    return Point([(v / plen) for v in vals], n, 1)\n",
      "\n",
      "def kmeans(points, k, min_diff):\n",
      "    clusters = [Cluster([p], p, p.n) for p in random.sample(points, k)]\n",
      "\n",
      "    while 1:\n",
      "        plists = [[] for i in range(k)]\n",
      "\n",
      "        for p in points:\n",
      "            smallest_distance = float('Inf')\n",
      "            for i in range(k):\n",
      "                distance = euclidean(p, clusters[i].center)\n",
      "                if distance < smallest_distance:\n",
      "                    smallest_distance = distance\n",
      "                    idx = i\n",
      "            plists[idx].append(p)\n",
      "\n",
      "        diff = 0\n",
      "        for i in range(k):\n",
      "            old = clusters[i]\n",
      "            center = calculate_center(plists[i], old.n)\n",
      "            new = Cluster(plists[i], center, old.n)\n",
      "            clusters[i] = new\n",
      "            diff = max(diff, euclidean(old.center, new.center))\n",
      "\n",
      "        if diff < min_diff:\n",
      "            break\n",
      "\n",
      "    return clusters"
     ],
     "language": "python",
     "metadata": {},
     "outputs": [],
     "prompt_number": 3
    },
    {
     "cell_type": "code",
     "collapsed": false,
     "input": [
      "from sklearn.preprocessing import StandardScaler"
     ],
     "language": "python",
     "metadata": {},
     "outputs": [],
     "prompt_number": 4
    },
    {
     "cell_type": "code",
     "collapsed": false,
     "input": [
      "colorz('beach1.jpg', n=3)"
     ],
     "language": "python",
     "metadata": {},
     "outputs": [
      {
       "metadata": {},
       "output_type": "pyout",
       "prompt_number": 5,
       "text": [
        "['#a2c1ce', '#6b898c', '#d9d9d2']"
       ]
      }
     ],
     "prompt_number": 5
    },
    {
     "cell_type": "code",
     "collapsed": false,
     "input": [
      "scaler = StandardScaler()"
     ],
     "language": "python",
     "metadata": {},
     "outputs": [],
     "prompt_number": 6
    },
    {
     "cell_type": "code",
     "collapsed": false,
     "input": [
      "STANDARD_SIZE = (50, 50)\n",
      "def get_image_data(filename):\n",
      "    img = Image.open(filename)\n",
      "    img = img.getdata()\n",
      "    img = img.resize(STANDARD_SIZE)\n",
      "    img = map(list, img)\n",
      "    img = np.array(img)\n",
      "    s = img.shape[0] * img.shape[1]\n",
      "    img_wide = img.reshape(1, s)\n",
      "    return img_wide[0]"
     ],
     "language": "python",
     "metadata": {},
     "outputs": [],
     "prompt_number": 7
    },
    {
     "cell_type": "code",
     "collapsed": false,
     "input": [
      "colorz('/Users/kuoyen/Desktop/dress.jpg',n=5)"
     ],
     "language": "python",
     "metadata": {},
     "outputs": [
      {
       "metadata": {},
       "output_type": "pyout",
       "prompt_number": 24,
       "text": [
        "['#6a6971', '#55493a', '#f8f9f2', '#decc9e', '#828cae']"
       ]
      }
     ],
     "prompt_number": 24
    },
    {
     "cell_type": "code",
     "collapsed": false,
     "input": [
      "img_arr = scipy.misc.imread('/Users/kuoyen/Desktop/dress.jpg').astype('int32')\n",
      "dx = ndimage.sobel(img_arr, 0)\n",
      "dy = ndimage.sobel(img_arr, 1)\n",
      "mag = np.hypot(dx, dy)  # magnitude\n",
      "mag *= 255.0 / np.max(mag)  # normalize (Q&D)\n",
      "img_arr = mag.flatten()[np.newaxis, :]"
     ],
     "language": "python",
     "metadata": {},
     "outputs": [],
     "prompt_number": 20
    },
    {
     "cell_type": "code",
     "collapsed": false,
     "input": [
      "points = get_points(img_arr)\n",
      "clusters = kmeans(points, 3, 1)\n",
      "rgbs = [map(int, c.center.coords) for c in clusters]\n",
      "print map(rtoh, rgbs)\n"
     ],
     "language": "python",
     "metadata": {},
     "outputs": [
      {
       "ename": "TypeError",
       "evalue": "'int' object is not iterable",
       "output_type": "pyerr",
       "traceback": [
        "\u001b[0;31m---------------------------------------------------------------------------\u001b[0m\n\u001b[0;31mTypeError\u001b[0m                                 Traceback (most recent call last)",
        "\u001b[0;32m<ipython-input-23-ece79fbcf2b0>\u001b[0m in \u001b[0;36m<module>\u001b[0;34m()\u001b[0m\n\u001b[0;32m----> 1\u001b[0;31m \u001b[0mpoints\u001b[0m \u001b[0;34m=\u001b[0m \u001b[0mget_points\u001b[0m\u001b[0;34m(\u001b[0m\u001b[0mimg_arr\u001b[0m\u001b[0;34m)\u001b[0m\u001b[0;34m\u001b[0m\u001b[0m\n\u001b[0m\u001b[1;32m      2\u001b[0m \u001b[0mclusters\u001b[0m \u001b[0;34m=\u001b[0m \u001b[0mkmeans\u001b[0m\u001b[0;34m(\u001b[0m\u001b[0mpoints\u001b[0m\u001b[0;34m,\u001b[0m \u001b[0;36m3\u001b[0m\u001b[0;34m,\u001b[0m \u001b[0;36m1\u001b[0m\u001b[0;34m)\u001b[0m\u001b[0;34m\u001b[0m\u001b[0m\n\u001b[1;32m      3\u001b[0m \u001b[0mrgbs\u001b[0m \u001b[0;34m=\u001b[0m \u001b[0;34m[\u001b[0m\u001b[0mmap\u001b[0m\u001b[0;34m(\u001b[0m\u001b[0mint\u001b[0m\u001b[0;34m,\u001b[0m \u001b[0mc\u001b[0m\u001b[0;34m.\u001b[0m\u001b[0mcenter\u001b[0m\u001b[0;34m.\u001b[0m\u001b[0mcoords\u001b[0m\u001b[0;34m)\u001b[0m \u001b[0;32mfor\u001b[0m \u001b[0mc\u001b[0m \u001b[0;32min\u001b[0m \u001b[0mclusters\u001b[0m\u001b[0;34m]\u001b[0m\u001b[0;34m\u001b[0m\u001b[0m\n\u001b[1;32m      4\u001b[0m \u001b[0;32mprint\u001b[0m \u001b[0mmap\u001b[0m\u001b[0;34m(\u001b[0m\u001b[0mrtoh\u001b[0m\u001b[0;34m,\u001b[0m \u001b[0mrgbs\u001b[0m\u001b[0;34m)\u001b[0m\u001b[0;34m\u001b[0m\u001b[0m\n",
        "\u001b[0;32m<ipython-input-3-2ae139e22255>\u001b[0m in \u001b[0;36mget_points\u001b[0;34m(img)\u001b[0m\n\u001b[1;32m     12\u001b[0m \u001b[0;32mdef\u001b[0m \u001b[0mget_points\u001b[0m\u001b[0;34m(\u001b[0m\u001b[0mimg\u001b[0m\u001b[0;34m)\u001b[0m\u001b[0;34m:\u001b[0m\u001b[0;34m\u001b[0m\u001b[0m\n\u001b[1;32m     13\u001b[0m     \u001b[0mpoints\u001b[0m \u001b[0;34m=\u001b[0m \u001b[0;34m[\u001b[0m\u001b[0;34m]\u001b[0m\u001b[0;34m\u001b[0m\u001b[0m\n\u001b[0;32m---> 14\u001b[0;31m     \u001b[0mw\u001b[0m\u001b[0;34m,\u001b[0m \u001b[0mh\u001b[0m \u001b[0;34m=\u001b[0m \u001b[0mimg\u001b[0m\u001b[0;34m.\u001b[0m\u001b[0msize\u001b[0m\u001b[0;34m\u001b[0m\u001b[0m\n\u001b[0m\u001b[1;32m     15\u001b[0m     \u001b[0;32mfor\u001b[0m \u001b[0mcount\u001b[0m\u001b[0;34m,\u001b[0m \u001b[0mcolor\u001b[0m \u001b[0;32min\u001b[0m \u001b[0mimg\u001b[0m\u001b[0;34m.\u001b[0m\u001b[0mgetcolors\u001b[0m\u001b[0;34m(\u001b[0m\u001b[0mw\u001b[0m \u001b[0;34m*\u001b[0m \u001b[0mh\u001b[0m\u001b[0;34m)\u001b[0m\u001b[0;34m:\u001b[0m\u001b[0;34m\u001b[0m\u001b[0m\n\u001b[1;32m     16\u001b[0m         \u001b[0mpoints\u001b[0m\u001b[0;34m.\u001b[0m\u001b[0mappend\u001b[0m\u001b[0;34m(\u001b[0m\u001b[0mPoint\u001b[0m\u001b[0;34m(\u001b[0m\u001b[0mcolor\u001b[0m\u001b[0;34m,\u001b[0m \u001b[0;36m3\u001b[0m\u001b[0;34m,\u001b[0m \u001b[0mcount\u001b[0m\u001b[0;34m)\u001b[0m\u001b[0;34m)\u001b[0m\u001b[0;34m\u001b[0m\u001b[0m\n",
        "\u001b[0;31mTypeError\u001b[0m: 'int' object is not iterable"
       ]
      }
     ],
     "prompt_number": 23
    },
    {
     "cell_type": "code",
     "collapsed": false,
     "input": [
      "from sklearn.decomposition import RandomizedPCA\n",
      "from sklearn.preprocessing import StandardScaler\n",
      " \n",
      "pca = RandomizedPCA(n_components=10)\n",
      "std_scaler = StandardScaler()\n",
      " \n",
      "X_train, X_test, y_train, y_test = train_test_split(data, labels, test_size=0.1)\n",
      " \n",
      "X_train = pca.fit_transform(X_train)\n",
      "X_test = pca.transform(X_test)\n",
      " \n",
      "X_train = std_scaler.fit_transform(X_train)\n",
      "X_test = std_scaler.transform(X_test)"
     ],
     "language": "python",
     "metadata": {},
     "outputs": [
      {
       "ename": "NameError",
       "evalue": "name 'data' is not defined",
       "output_type": "pyerr",
       "traceback": [
        "\u001b[0;31m---------------------------------------------------------------------------\u001b[0m\n\u001b[0;31mNameError\u001b[0m                                 Traceback (most recent call last)",
        "\u001b[0;32m<ipython-input-19-4935cdb862b1>\u001b[0m in \u001b[0;36m<module>\u001b[0;34m()\u001b[0m\n\u001b[1;32m      5\u001b[0m \u001b[0mstd_scaler\u001b[0m \u001b[0;34m=\u001b[0m \u001b[0mStandardScaler\u001b[0m\u001b[0;34m(\u001b[0m\u001b[0;34m)\u001b[0m\u001b[0;34m\u001b[0m\u001b[0m\n\u001b[1;32m      6\u001b[0m \u001b[0;34m\u001b[0m\u001b[0m\n\u001b[0;32m----> 7\u001b[0;31m \u001b[0mX_train\u001b[0m\u001b[0;34m,\u001b[0m \u001b[0mX_test\u001b[0m\u001b[0;34m,\u001b[0m \u001b[0my_train\u001b[0m\u001b[0;34m,\u001b[0m \u001b[0my_test\u001b[0m \u001b[0;34m=\u001b[0m \u001b[0mtrain_test_split\u001b[0m\u001b[0;34m(\u001b[0m\u001b[0mdata\u001b[0m\u001b[0;34m,\u001b[0m \u001b[0mlabels\u001b[0m\u001b[0;34m,\u001b[0m \u001b[0mtest_size\u001b[0m\u001b[0;34m=\u001b[0m\u001b[0;36m0.1\u001b[0m\u001b[0;34m)\u001b[0m\u001b[0;34m\u001b[0m\u001b[0m\n\u001b[0m\u001b[1;32m      8\u001b[0m \u001b[0;34m\u001b[0m\u001b[0m\n\u001b[1;32m      9\u001b[0m \u001b[0mX_train\u001b[0m \u001b[0;34m=\u001b[0m \u001b[0mpca\u001b[0m\u001b[0;34m.\u001b[0m\u001b[0mfit_transform\u001b[0m\u001b[0;34m(\u001b[0m\u001b[0mX_train\u001b[0m\u001b[0;34m)\u001b[0m\u001b[0;34m\u001b[0m\u001b[0m\n",
        "\u001b[0;31mNameError\u001b[0m: name 'data' is not defined"
       ]
      }
     ],
     "prompt_number": 19
    },
    {
     "cell_type": "code",
     "collapsed": false,
     "input": [
      "from PIL import Image\n",
      "Point = namedtuple('Point', ('coords', 'n', 'ct'))\n",
      "Cluster = namedtuple('Cluster', ('points', 'center', 'n'))\n",
      "\n",
      "\n",
      "def get_points(img):\n",
      "    points = []\n",
      "    w, h = img.size\n",
      "    for count, color in img.getcolors(w * h):\n",
      "        points.append(Point(color, 3, count))\n",
      "    return points\n",
      "\n",
      "rtoh = lambda rgb: '#%s' % ''.join(('%02x' % p for p in rgb))\n",
      "\n",
      "def dominant_colors(directory, n=3):\n",
      "    path = '/Users/kuoyen/Documents/myweddingstyle/image_dir/'+ directory\n",
      "    dirs = os.listdir(path)\n",
      "    label_img_arr = None\n",
      "    for ith_image, file_img in enumerate(dirs):\n",
      "        if ith_image <= 10:\n",
      "            if 'jpg' in file_img:\n",
      "                img = Image.open(path + '/' + file_img)\n",
      "                img.thumbnail((200, 200))\n",
      "                w, h = img.size\n",
      "\n",
      "                points = get_points(img)\n",
      "                clusters = kmeans(points, n, 1)\n",
      "                rgbs = [map(int, c.center.coords) for c in clusters]\n",
      "    return map(rtoh, rgbs)\n",
      "\n",
      "def euclidean(p1, p2):\n",
      "    return sqrt(sum([\n",
      "        (p1.coords[i] - p2.coords[i]) ** 2 for i in range(p1.n)\n",
      "    ]))\n",
      "\n",
      "def calculate_center(points, n):\n",
      "    vals = [0.0 for i in range(n)]\n",
      "    plen = 0\n",
      "    for p in points:\n",
      "        plen += p.ct\n",
      "        for i in range(n):\n",
      "            vals[i] += (p.coords[i] * p.ct)\n",
      "    return Point([(v / plen) for v in vals], n, 1)\n",
      "\n",
      "def kmeans(points, k, min_diff):\n",
      "    clusters = [Cluster([p], p, p.n) for p in random.sample(points, k)]\n",
      "\n",
      "    while 1:\n",
      "        plists = [[] for i in range(k)]\n",
      "\n",
      "        for p in points:\n",
      "            smallest_distance = float('Inf')\n",
      "            for i in range(k):\n",
      "                distance = euclidean(p, clusters[i].center)\n",
      "                if distance < smallest_distance:\n",
      "                    smallest_distance = distance\n",
      "                    idx = i\n",
      "            plists[idx].append(p)\n",
      "\n",
      "        diff = 0\n",
      "        for i in range(k):\n",
      "            old = clusters[i]\n",
      "            center = calculate_center(plists[i], old.n)\n",
      "            new = Cluster(plists[i], center, old.n)\n",
      "            clusters[i] = new\n",
      "            diff = max(diff, euclidean(old.center, new.center))\n",
      "\n",
      "        if diff < min_diff:\n",
      "            break\n",
      "\n",
      "    return clusters"
     ],
     "language": "python",
     "metadata": {},
     "outputs": [],
     "prompt_number": 107
    },
    {
     "cell_type": "code",
     "collapsed": false,
     "input": [
      "c1, c2, c3 = dominant_colors('beach',n=3)"
     ],
     "language": "python",
     "metadata": {},
     "outputs": [],
     "prompt_number": 108
    },
    {
     "cell_type": "code",
     "collapsed": false,
     "input": [
      "pwd"
     ],
     "language": "python",
     "metadata": {},
     "outputs": [
      {
       "metadata": {},
       "output_type": "pyout",
       "prompt_number": 40,
       "text": [
        "u'/Users/kuoyen/Documents/capstone'"
       ]
      }
     ],
     "prompt_number": 40
    },
    {
     "cell_type": "code",
     "collapsed": false,
     "input": [
      "\n",
      "nColors = 3;\n",
      "% repeat the clustering 3 times to avoid local minima\n",
      "[cluster_idx, cluster_center] = kmeans(ab,nColors,'distance','sqEuclidean', ...\n",
      "                                      'Replicates',3);"
     ],
     "language": "python",
     "metadata": {},
     "outputs": []
    }
   ],
   "metadata": {}
  }
 ]
}