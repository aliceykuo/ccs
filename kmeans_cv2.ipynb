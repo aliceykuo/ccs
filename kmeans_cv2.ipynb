{
 "metadata": {
  "name": "",
  "signature": "sha256:c2b833aa8518ec0621f22d34b8efaa9effdcc8d71da7fda3d312a68d4121cafc"
 },
 "nbformat": 3,
 "nbformat_minor": 0,
 "worksheets": [
  {
   "cells": [
    {
     "cell_type": "code",
     "collapsed": false,
     "input": [
      "import numpy as np\n",
      "import cv2\n",
      "\n",
      "img = cv2.imread('home.jpg')\n",
      "Z = img.reshape((-1,3))\n",
      "\n",
      "# convert to np.float32\n",
      "Z = np.float32(Z)\n",
      "\n",
      "# define criteria, number of clusters(K) and apply kmeans()\n",
      "criteria = (cv2.TERM_CRITERIA_EPS + cv2.TERM_CRITERIA_MAX_ITER, 10, 1.0)\n",
      "K = 8\n",
      "ret,label,center=cv2.kmeans(Z,K,None,criteria,10,cv2.KMEANS_RANDOM_CENTERS)\n",
      "\n",
      "# Now convert back into uint8, and make original image\n",
      "center = np.uint8(center)\n",
      "res = center[label.flatten()]\n",
      "res2 = res.reshape((img.shape))\n",
      "\n",
      "cv2.imshow('res2',res2)\n",
      "cv2.waitKey(0)\n",
      "cv2.destroyAllWindows()"
     ],
     "language": "python",
     "metadata": {},
     "outputs": [
      {
       "ename": "AttributeError",
       "evalue": "'NoneType' object has no attribute 'reshape'",
       "output_type": "pyerr",
       "traceback": [
        "\u001b[0;31m---------------------------------------------------------------------------\u001b[0m\n\u001b[0;31mAttributeError\u001b[0m                            Traceback (most recent call last)",
        "\u001b[0;32m<ipython-input-1-442ce1bb94f2>\u001b[0m in \u001b[0;36m<module>\u001b[0;34m()\u001b[0m\n\u001b[1;32m      3\u001b[0m \u001b[0;34m\u001b[0m\u001b[0m\n\u001b[1;32m      4\u001b[0m \u001b[0mimg\u001b[0m \u001b[0;34m=\u001b[0m \u001b[0mcv2\u001b[0m\u001b[0;34m.\u001b[0m\u001b[0mimread\u001b[0m\u001b[0;34m(\u001b[0m\u001b[0;34m'home.jpg'\u001b[0m\u001b[0;34m)\u001b[0m\u001b[0;34m\u001b[0m\u001b[0m\n\u001b[0;32m----> 5\u001b[0;31m \u001b[0mZ\u001b[0m \u001b[0;34m=\u001b[0m \u001b[0mimg\u001b[0m\u001b[0;34m.\u001b[0m\u001b[0mreshape\u001b[0m\u001b[0;34m(\u001b[0m\u001b[0;34m(\u001b[0m\u001b[0;34m-\u001b[0m\u001b[0;36m1\u001b[0m\u001b[0;34m,\u001b[0m\u001b[0;36m3\u001b[0m\u001b[0;34m)\u001b[0m\u001b[0;34m)\u001b[0m\u001b[0;34m\u001b[0m\u001b[0m\n\u001b[0m\u001b[1;32m      6\u001b[0m \u001b[0;34m\u001b[0m\u001b[0m\n\u001b[1;32m      7\u001b[0m \u001b[0;31m# convert to np.float32\u001b[0m\u001b[0;34m\u001b[0m\u001b[0;34m\u001b[0m\u001b[0m\n",
        "\u001b[0;31mAttributeError\u001b[0m: 'NoneType' object has no attribute 'reshape'"
       ]
      }
     ],
     "prompt_number": 1
    },
    {
     "cell_type": "code",
     "collapsed": false,
     "input": [
      "pwd"
     ],
     "language": "python",
     "metadata": {},
     "outputs": [
      {
       "metadata": {},
       "output_type": "pyout",
       "prompt_number": 2,
       "text": [
        "u'/Users/kuoyen/Documents/capstone'"
       ]
      }
     ],
     "prompt_number": 2
    },
    {
     "cell_type": "code",
     "collapsed": false,
     "input": [
      "from sklearn.datasets import load_sample_image\n",
      "from skimage import io\n",
      "import matplotlib.pyplot as plt\n",
      "from sklearn.cluster import KMeans\n",
      "# from sklearn.metrics import pairwise_distances_argmin\n",
      "from sklearn.datasets import load_sample_image\n",
      "from sklearn.utils import shuffle\n",
      "from time import time\n",
      "n_colors = 64\n",
      "\n",
      "# Load the Summer Palace photo\n",
      "pic = io.imread(\"image_dir/beach/beach1.jpg\")\n",
      "\n",
      "# Convert to floats instead of the default 8 bits integer coding. Dividing by\n",
      "# 255 is important so that plt.imshow behaves works well on float data (need to\n",
      "# be in the range [0-1]\n",
      "pic = np.array(pic, dtype=np.float64) / 255\n",
      "\n",
      "# Load Image and transform to a 2D numpy array.\n",
      "w, h, d = original_shape = tuple(pic.shape)\n",
      "assert d == 3\n",
      "image_array = np.reshape(pic, (w * h, d))\n",
      "\n",
      "print(\"Fitting model on a small sub-sample of the data\")\n",
      "t0 = time()\n",
      "image_array_sample = shuffle(image_array, random_state=0)[:1000]\n",
      "kmeans = KMeans(n_clusters=n_colors, random_state=0).fit(image_array_sample)\n",
      "print(\"done in %0.3fs.\" % (time() - t0))\n",
      "\n",
      "# Get labels for all points\n",
      "print(\"Predicting color indices on the full image (k-means)\")\n",
      "t0 = time()\n",
      "labels = kmeans.predict(image_array)\n",
      "print(\"done in %0.3fs.\" % (time() - t0))\n",
      "\n",
      "\n",
      "# codebook_random = shuffle(image_array, random_state=0)[:n_colors + 1]\n",
      "# print(\"Predicting color indices on the full image (random)\")\n",
      "# t0 = time()\n",
      "# labels_random = pairwise_distances_argmin(codebook_random,\n",
      "#                                           image_array,\n",
      "#                                           axis=0)\n",
      "# print(\"done in %0.3fs.\" % (time() - t0))\n",
      "\n",
      "\n",
      "def recreate_image(codebook, labels, w, h):\n",
      "    \"\"\"Recreate the (compressed) image from the code book & labels\"\"\"\n",
      "    d = codebook.shape[1]\n",
      "    image = np.zeros((w, h, d))\n",
      "    label_idx = 0\n",
      "    for i in range(w):\n",
      "        for j in range(h):\n",
      "            image[i][j] = codebook[labels[label_idx]]\n",
      "            label_idx += 1\n",
      "    return image"
     ],
     "language": "python",
     "metadata": {},
     "outputs": [
      {
       "output_type": "stream",
       "stream": "stdout",
       "text": [
        "Fitting model on a small sub-sample of the data\n",
        "done in 0.420s."
       ]
      },
      {
       "output_type": "stream",
       "stream": "stdout",
       "text": [
        "\n",
        "Predicting color indices on the full image (k-means)\n",
        "done in 0.598s."
       ]
      },
      {
       "output_type": "stream",
       "stream": "stdout",
       "text": [
        "\n"
       ]
      }
     ],
     "prompt_number": 11
    },
    {
     "cell_type": "code",
     "collapsed": false,
     "input": [
      "model = GradientBoostingClassifier(max_features=10, n_estimators=300)\n",
      "model.fit(X, y_train)\n",
      "X_test = vectorizer.transform(data_test).toarray()\n",
      "pred = model.predict(X_test)\n",
      "print 'accuracy: ' + str(accuracy_score(pred, y_test))\n",
      "print 'recall: ' + str(recall_score(pred, y_test))\n",
      "print 'precision: ' + str(precision_score(pred, y_test))"
     ],
     "language": "python",
     "metadata": {},
     "outputs": [],
     "prompt_number": 10
    },
    {
     "cell_type": "code",
     "collapsed": false,
     "input": [],
     "language": "python",
     "metadata": {},
     "outputs": []
    }
   ],
   "metadata": {}
  }
 ]
}