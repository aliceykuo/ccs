{
 "metadata": {
  "name": "",
  "signature": "sha256:1cc6f631bbcb5f23fb6edab5ef1813478b80be033413ceabf36498526c942459"
 },
 "nbformat": 3,
 "nbformat_minor": 0,
 "worksheets": [
  {
   "cells": [
    {
     "cell_type": "code",
     "collapsed": false,
     "input": [
      "import cv2\n",
      "import pandas as pd\n",
      "import numpy as np\n",
      "from skimage import io\n",
      "import matplotlib.pyplot as plt \n",
      "%matplotlib inline"
     ],
     "language": "python",
     "metadata": {},
     "outputs": [],
     "prompt_number": 4
    },
    {
     "cell_type": "code",
     "collapsed": false,
     "input": [
      "img = io.imread('/Users/kuoyen/Documents/capstone/images/uniform_30/beach/beach1041.jpg')"
     ],
     "language": "python",
     "metadata": {},
     "outputs": [],
     "prompt_number": 114
    },
    {
     "cell_type": "code",
     "collapsed": false,
     "input": [],
     "language": "python",
     "metadata": {},
     "outputs": [
      {
       "metadata": {},
       "output_type": "pyout",
       "prompt_number": 117,
       "text": [
        "(30, 30, 3)"
       ]
      }
     ],
     "prompt_number": 117
    },
    {
     "cell_type": "code",
     "collapsed": false,
     "input": [],
     "language": "python",
     "metadata": {},
     "outputs": []
    },
    {
     "cell_type": "code",
     "collapsed": false,
     "input": [
      "img = io.imread('/Users/kuoyen/Documents/capstone/images/uniform_30/beach/beach1041.jpg')"
     ],
     "language": "python",
     "metadata": {},
     "outputs": []
    },
    {
     "cell_type": "code",
     "collapsed": false,
     "input": [
      "def sift(img):\n",
      "    sift_arr = []\n",
      "    gray = cv2.cvtColor(img, cv2.COLOR_BGR2GRAY)\n",
      "    sift = cv2.SIFT()\n",
      "    kp, des = sift.detectAndCompute(gray,None)\n",
      "    img = cv2.drawKeypoints(gray, kp)\n",
      "    if des is None:\n",
      "        des = [0]\n",
      "#     for i in des:\n",
      "#         sift_arr.append(i)\n",
      "# #     print len(sift_arr)\n",
      "    return des\n",
      "#     return sift_arr"
     ],
     "language": "python",
     "metadata": {},
     "outputs": [],
     "prompt_number": 115
    },
    {
     "cell_type": "code",
     "collapsed": false,
     "input": [
      "des = sift(img)\n",
      "print len(des)\n"
     ],
     "language": "python",
     "metadata": {},
     "outputs": [
      {
       "ename": "TypeError",
       "evalue": "object of type 'NoneType' has no len()",
       "output_type": "pyerr",
       "traceback": [
        "\u001b[0;31m---------------------------------------------------------------------------\u001b[0m\n\u001b[0;31mTypeError\u001b[0m                                 Traceback (most recent call last)",
        "\u001b[0;32m<ipython-input-116-01de16358cc8>\u001b[0m in \u001b[0;36m<module>\u001b[0;34m()\u001b[0m\n\u001b[1;32m      1\u001b[0m \u001b[0mdes\u001b[0m \u001b[0;34m=\u001b[0m \u001b[0msift\u001b[0m\u001b[0;34m(\u001b[0m\u001b[0mimg\u001b[0m\u001b[0;34m)\u001b[0m\u001b[0;34m\u001b[0m\u001b[0m\n\u001b[0;32m----> 2\u001b[0;31m \u001b[0;32mprint\u001b[0m \u001b[0mlen\u001b[0m\u001b[0;34m(\u001b[0m\u001b[0mdes\u001b[0m\u001b[0;34m)\u001b[0m\u001b[0;34m\u001b[0m\u001b[0m\n\u001b[0m",
        "\u001b[0;31mTypeError\u001b[0m: object of type 'NoneType' has no len()"
       ]
      }
     ],
     "prompt_number": 116
    },
    {
     "cell_type": "code",
     "collapsed": false,
     "input": [
      "print sift_arr"
     ],
     "language": "python",
     "metadata": {},
     "outputs": [
      {
       "output_type": "stream",
       "stream": "stdout",
       "text": [
        "[array([  94.,   70.,   28.,   15.,   10.,    1.,    3.,   58.,   14.,\n",
        "         17.,   70.,   98.,   77.,    7.,    2.,    8.,   76.,  108.,\n",
        "         60.,   19.,   19.,    6.,    5.,   20.,   18.,   30.,   28.,\n",
        "         30.,   75.,   48.,    4.,    5.,   48.,   32.,  116.,  108.,\n",
        "          8.,    1.,    5.,   65.,   98.,   37.,  110.,   62.,   71.,\n",
        "         25.,   75.,   43.,   36.,   75.,   58.,   67.,   48.,   31.,\n",
        "        116.,   43.,   12.,  101.,   94.,   36.,   13.,    8.,    2.,\n",
        "          2.,   40.,   17.,   30.,   75.,   12.,    0.,    0.,    1.,\n",
        "        116.,   36.,   12.,   14.,   23.,    3.,   12.,   21.,   22.,\n",
        "         11.,   22.,  116.,  116.,   19.,   20.,    7.,   39.,   56.,\n",
        "         61.,   22.,   12.,    7.,    1.,    5.,    0.,    0.,    0.,\n",
        "          0.,    0.,    0.,    0.,    0.,    3.,    0.,    0.,    0.,\n",
        "          1.,    0.,    0.,    0.,    1.,    0.,    0.,    2.,   10.,\n",
        "          2.,    0.,    0.,    7.,    1.,    1.,    0.,    1.,    2.,\n",
        "          0.,    1.], dtype=float32), array([   0.,    0.,    0.,    0.,    0.,    0.,    0.,    0.,    2.,\n",
        "          0.,    0.,    0.,    1.,    1.,    0.,    0.,    0.,    0.,\n",
        "          0.,    0.,   10.,    8.,    0.,    0.,   16.,    0.,    0.,\n",
        "          0.,    3.,    3.,    1.,    9.,   20.,   16.,    4.,    0.,\n",
        "         20.,   15.,   28.,   14.,  115.,   35.,   14.,    9.,   30.,\n",
        "         26.,   10.,   31.,   17.,    3.,   10.,   19.,  115.,  115.,\n",
        "         37.,   18.,   58.,    0.,    0.,   11.,   31.,   27.,   67.,\n",
        "        115.,   24.,    5.,    1.,    0.,   11.,   74.,  115.,   52.,\n",
        "        106.,   22.,   91.,   64.,   28.,   50.,   62.,   78.,   97.,\n",
        "         37.,   85.,   63.,   65.,   37.,   76.,   72.,   41.,   10.,\n",
        "          0.,   38.,   82.,   58.,   93.,   92.,   26.,   56.,   17.,\n",
        "          9.,    4.,   28.,   43.,   28.,   25.,   18.,    4.,    7.,\n",
        "         39.,  115.,   92.,   31.,   63.,   20.,    6.,    6.,   23.,\n",
        "         34.,   75.,   80.,   38.,    7.,    0.,   15.,   58.,   52.,\n",
        "         14.,   52.], dtype=float32), array([  10.,   41.,   39.,    7.,    5.,   44.,   25.,   15.,   25.,\n",
        "         58.,   54.,   54.,   36.,    8.,    9.,   15.,  161.,   66.,\n",
        "         47.,   27.,   11.,    0.,    0.,   67.,   85.,   12.,    2.,\n",
        "          0.,    2.,    3.,    2.,   59.,   10.,    7.,    8.,   25.,\n",
        "         23.,   35.,   17.,   16.,   75.,   19.,   15.,  127.,  108.,\n",
        "         12.,   11.,   20.,  161.,   30.,    4.,   20.,   16.,    0.,\n",
        "          2.,  138.,   52.,    8.,   12.,    3.,    6.,    9.,   11.,\n",
        "         66.,    0.,    0.,    1.,    9.,   28.,   12.,    2.,    0.,\n",
        "         98.,    7.,    3.,   52.,  144.,   13.,   11.,   29.,  161.,\n",
        "         47.,    8.,    7.,    7.,    1.,    4.,   49.,   41.,   24.,\n",
        "         60.,   18.,    5.,    2.,    0.,    2.,    0.,    0.,    0.,\n",
        "          0.,    1.,    0.,    0.,    0.,   19.,    2.,    0.,    2.,\n",
        "          9.,    4.,   12.,   31.,  119.,   83.,   58.,    6.,    1.,\n",
        "          1.,    6.,   40.,    7.,   45.,   40.,    6.,    3.,    1.,\n",
        "          0.,    0.], dtype=float32), array([   0.,    0.,    0.,    0.,    0.,    0.,    0.,    0.,   66.,\n",
        "          4.,    0.,    0.,    0.,    2.,    3.,   15.,  104.,    3.,\n",
        "          0.,    0.,    0.,    1.,   91.,  142.,    1.,    0.,    0.,\n",
        "          0.,    0.,    9.,  113.,   74.,    2.,    3.,    2.,    1.,\n",
        "          2.,    2.,    4.,    8.,  141.,   10.,    1.,    2.,    5.,\n",
        "         13.,   32.,   27.,  155.,   20.,    0.,    0.,    0.,    1.,\n",
        "         17.,  105.,   32.,    1.,    0.,    0.,    7.,   49.,   60.,\n",
        "         54.,    9.,    2.,    1.,    0.,    0.,    2.,   66.,   87.,\n",
        "         66.,    2.,    1.,    1.,    2.,   31.,  102.,   93.,  155.,\n",
        "         75.,    0.,    0.,    1.,   12.,   18.,   27.,   70.,   39.,\n",
        "          4.,    4.,   21.,   23.,    2.,    5.,   13.,    0.,    0.,\n",
        "          0.,    3.,    7.,   75.,   79.,   14.,    0.,    2.,    5.,\n",
        "         26.,   34.,   59.,   48.,  151.,   44.,    2.,    2.,    2.,\n",
        "          5.,   18.,   77.,   49.,   53.,   34.,   11.,    5.,    1.,\n",
        "          0.,    4.], dtype=float32), array([  16.,   31.,   37.,    3.,    2.,   19.,   24.,   20.,   19.,\n",
        "         67.,   83.,   40.,   19.,   10.,   14.,    7.,  180.,   73.,\n",
        "         59.,   22.,    6.,    0.,    0.,   74.,  111.,   12.,    5.,\n",
        "          1.,    4.,    5.,    3.,   63.,    4.,    0.,    0.,   11.,\n",
        "         24.,   11.,   12.,   17.,   78.,   16.,    7.,  127.,  112.,\n",
        "          8.,   10.,    7.,  180.,   47.,    8.,   24.,   13.,    0.,\n",
        "          0.,  104.,   79.,   17.,   29.,    7.,   12.,   10.,    5.,\n",
        "         53.,    0.,    0.,    0.,    3.,    9.,    0.,    0.,    0.,\n",
        "         74.,    4.,    1.,   38.,   81.,    3.,    5.,   48.,  180.,\n",
        "        105.,   27.,    4.,    7.,    1.,    2.,   70.,   41.,   61.,\n",
        "         71.,   10.,    1.,    0.,    0.,    0.,    0.,    0.,    0.,\n",
        "          0.,    0.,    0.,    0.,    0.,    7.,    1.,    0.,    0.,\n",
        "          0.,    0.,    0.,   11.,   39.,   76.,   49.,    2.,    0.,\n",
        "          0.,    0.,   14.,    1.,   39.,   23.,    1.,    0.,    0.,\n",
        "          0.,    0.], dtype=float32), array([   0.,    0.,    0.,    0.,    0.,    0.,    0.,    0.,    4.,\n",
        "          0.,    0.,    0.,    0.,    0.,    0.,   20.,    1.,    0.,\n",
        "          0.,    0.,    0.,    0.,    0.,    6.,    0.,    0.,    0.,\n",
        "          0.,    0.,    0.,    0.,    0.,   24.,    4.,    0.,    0.,\n",
        "          0.,    0.,    0.,    4.,  148.,   17.,    0.,    0.,    0.,\n",
        "          0.,    5.,  148.,   51.,    4.,    0.,    0.,    5.,   27.,\n",
        "         22.,  101.,    0.,    0.,    0.,    0.,    1.,    5.,    3.,\n",
        "          3.,   30.,    2.,    0.,    0.,    0.,    0.,   35.,   98.,\n",
        "        148.,   72.,    2.,    0.,    0.,    0.,   24.,  148.,  119.,\n",
        "         78.,   73.,   17.,   14.,   33.,   13.,   21.,    0.,    4.,\n",
        "         85.,   41.,    9.,    9.,   10.,    9.,   88.,    3.,    0.,\n",
        "          0.,    0.,    0.,   24.,  115.,   70.,   21.,   11.,    6.,\n",
        "          3.,    0.,   39.,  140.,   21.,   28.,  111.,   84.,   41.,\n",
        "          0.,    1.,    7.,    0.,    2.,  148.,  109.,   19.,    5.,\n",
        "          4.,    0.], dtype=float32)]\n"
       ]
      }
     ],
     "prompt_number": 98
    },
    {
     "cell_type": "code",
     "collapsed": false,
     "input": [
      "self.post_feat_mat = None \n",
      "        for dom_col in dom_colors:\n",
      "            dom_col = np.array(dom_col).ravel()[np.newaxis, :]\n",
      "            if self.post_feat_mat is None:\n",
      "                self.post_feat_mat = dom_col\n",
      "            else: \n",
      "                self.post_feat_mat = np.concatenate((self.post_feat_mat,dom_col),  axis=0)"
     ],
     "language": "python",
     "metadata": {},
     "outputs": []
    }
   ],
   "metadata": {}
  }
 ]
}