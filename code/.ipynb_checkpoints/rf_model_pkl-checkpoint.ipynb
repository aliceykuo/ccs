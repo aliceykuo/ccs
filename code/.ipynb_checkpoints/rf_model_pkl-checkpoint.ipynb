{
 "metadata": {
  "name": "",
  "signature": "sha256:7d57a7def118b057cf36a8caaf45f1eb32202260982287183916a583cdbcffb1"
 },
 "nbformat": 3,
 "nbformat_minor": 0,
 "worksheets": [
  {
   "cells": [
    {
     "cell_type": "code",
     "collapsed": false,
     "input": [
      "from sklearn.preprocessing import StandardScaler\n",
      "from sklearn.cross_validation import train_test_split\n",
      "from sklearn.cross_validation import cross_val_score\n",
      "from sklearn.metrics import confusion_matrix, precision_score, recall_score, f1_score\n",
      "from sklearn.ensemble import RandomForestClassifier\n",
      "from sklearn.linear_model import LogisticRegression\n",
      "from sklearn.svm import SVC\n",
      "from sklearn.decomposition import RandomizedPCA\n",
      "from sklearn.linear_model import SGDClassifier\n",
      "from sklearn.neighbors import KNeighborsClassifier\n",
      "from sklearn.linear_model import SGDClassifier\n",
      "from sklearn.multiclass import OneVsRestClassifier\n",
      "from sklearn.grid_search import GridSearchCV\n",
      "from sklearn.cross_validation import cross_val_score\n",
      "from sklearn.svm import LinearSVC\n",
      "from sklearn import preprocessing\n",
      "import pickle as pkl\n",
      "import pandas as pd\n",
      "import numpy as np\n",
      "from sklearn.neural_network import BernoulliRBM\n",
      "from sklearn.naive_bayes import MultinomialNB"
     ],
     "language": "python",
     "metadata": {},
     "outputs": [],
     "prompt_number": 1
    },
    {
     "cell_type": "code",
     "collapsed": false,
     "input": [
      "pkl_path1 = '/Users/kuoyen/Desktop/wedding/extract_patches_500img_0330.pkl'\n",
      "df = pd.read_pickle(pkl_path1)\n",
      "X = df[6250:12500, 1:]\n",
      "y = df[6250:12500, 0:1]"
     ],
     "language": "python",
     "metadata": {},
     "outputs": [],
     "prompt_number": 2
    },
    {
     "cell_type": "code",
     "collapsed": false,
     "input": [
      "X = df[6250:12500, 1:]\n",
      "y = df[6250:12500, 0:1]\n",
      "\n",
      "print X.shape\n",
      "print y.shape\n",
      "\n",
      "# pkl.dump(rf, open('/Users/kuoyen/Documents/capstone/images/rf_baseline_500patches.pkl', 'wb'))"
     ],
     "language": "python",
     "metadata": {},
     "outputs": [
      {
       "output_type": "stream",
       "stream": "stdout",
       "text": [
        "(6250, 1215)\n",
        "(6250, 1)\n"
       ]
      }
     ],
     "prompt_number": 4
    },
    {
     "cell_type": "code",
     "collapsed": false,
     "input": [
      "def random_forest(X, y):\n",
      "    # X_train, X_test, y_train, y_test = train_test_split(X, y)\n",
      "    rf = RandomForestClassifier(n_estimators=500, n_jobs=-1)\n",
      "    mean_f1 = cross_val_score(rf, X, y, cv=5, scoring='f1').mean()\n",
      "\n",
      "    rf = RandomForestClassifier(n_estimators=500, n_jobs=-1)\n",
      "    rf.fit(X, y)\n",
      "    pkl.dump(rf, open('rf_model_test.pkl', 'wb'))\n",
      "#   \n",
      "#     rf.predict(X)\n",
      "#     print mean_f1"
     ],
     "language": "python",
     "metadata": {},
     "outputs": [],
     "prompt_number": 7
    },
    {
     "cell_type": "code",
     "collapsed": false,
     "input": [
      "rf = random_forest(X, y.ravel())"
     ],
     "language": "python",
     "metadata": {},
     "outputs": [],
     "prompt_number": 8
    },
    {
     "cell_type": "code",
     "collapsed": false,
     "input": [
      "new_data = df[22505:22507, 1:]"
     ],
     "language": "python",
     "metadata": {},
     "outputs": [],
     "prompt_number": 14
    },
    {
     "cell_type": "code",
     "collapsed": false,
     "input": [
      "model = pd.read_pickle('/Users/kuoyen/Documents/capstone/code/rf_model_test.pkl')"
     ],
     "language": "python",
     "metadata": {},
     "outputs": [],
     "prompt_number": 10
    },
    {
     "cell_type": "code",
     "collapsed": false,
     "input": [
      "model.predict_proba(new_data)"
     ],
     "language": "python",
     "metadata": {},
     "outputs": [
      {
       "metadata": {},
       "output_type": "pyout",
       "prompt_number": 15,
       "text": [
        "array([[ 1.],\n",
        "       [ 1.]])"
       ]
      }
     ],
     "prompt_number": 15
    },
    {
     "cell_type": "code",
     "collapsed": false,
     "input": [
      "new_data = df[37505:37507, 1:]"
     ],
     "language": "python",
     "metadata": {},
     "outputs": []
    }
   ],
   "metadata": {}
  }
 ]
}