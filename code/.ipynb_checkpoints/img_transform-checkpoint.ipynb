{
 "metadata": {
  "name": "",
  "signature": "sha256:211e345a01f5f2d8a70a64dfb23d6e733e899f23c0a435794ce734bb1645164a"
 },
 "nbformat": 3,
 "nbformat_minor": 0,
 "worksheets": [
  {
   "cells": [
    {
     "cell_type": "code",
     "collapsed": false,
     "input": [
      "from skimage import io\n",
      "import pandas as pd\n",
      "import numpy as np\n",
      "from skimage.color import rgb2gray\n",
      "from skimage.transform import resize, downscale_local_mean\n",
      "from sklearn.preprocessing import StandardScaler\n",
      "# from PIL import Image\n",
      "import cv2\n",
      "import os, sys"
     ],
     "language": "python",
     "metadata": {},
     "outputs": [],
     "prompt_number": 1
    },
    {
     "cell_type": "code",
     "collapsed": false,
     "input": [
      "# setup a standard image size - downsize and get all images to the same dimensions \n",
      "# converts into a numpy array of RGB pixels\n",
      "def img_to_matrix(directory='beach'):\n",
      "    \"\"\"doc string\"\"\"\n",
      "    # Open a file\n",
      "    path = '/Users/kuoyen/Documents/capstone/image_dir/'+ directory\n",
      "    dirs = os.listdir(path)\n",
      "    label_img_arr = None\n",
      "    for ith_image, file_img in enumerate(dirs):\n",
      "        if ith_image <= 1000:\n",
      "            if ith_image == 0 or ith_image % 100 == 0:\n",
      "                print ith_image\n",
      "            if 'jpg' in file_img:\n",
      "                standard_size = (100, 75)\n",
      "                img = io.imread(path + '/' + file_img)\n",
      "                img = resize(img, standard_size)\n",
      "                img = img.ravel()\n",
      "                label_img = np.append(directory, img)[np.newaxis, :]\n",
      "                try:\n",
      "                    if label_img_arr is None:\n",
      "                        label_img_arr = label_img\n",
      "                    else:\n",
      "                        label_img_arr = np.r_[label_img_arr, label_img]\n",
      "                except:\n",
      "                    print file_img\n",
      "                    print label_img_arr.shape\n",
      "                    print label_img.shape\n",
      "#                 print label_img_arr.shape ##\n",
      "    return label_img_arr"
     ],
     "language": "python",
     "metadata": {},
     "outputs": [],
     "prompt_number": 56
    },
    {
     "cell_type": "code",
     "collapsed": false,
     "input": [
      "rustic_arr = img_to_matrix(directory='rustic')"
     ],
     "language": "python",
     "metadata": {},
     "outputs": [
      {
       "output_type": "stream",
       "stream": "stdout",
       "text": [
        "0\n",
        "100"
       ]
      },
      {
       "output_type": "stream",
       "stream": "stdout",
       "text": [
        "\n",
        "200"
       ]
      },
      {
       "output_type": "stream",
       "stream": "stdout",
       "text": [
        "\n",
        "300"
       ]
      },
      {
       "output_type": "stream",
       "stream": "stdout",
       "text": [
        "\n",
        "400"
       ]
      },
      {
       "output_type": "stream",
       "stream": "stdout",
       "text": [
        "\n"
       ]
      },
      {
       "ename": "ValueError",
       "evalue": "all the input array dimensions except for the concatenation axis must match exactly",
       "output_type": "pyerr",
       "traceback": [
        "\u001b[0;31m---------------------------------------------------------------------------\u001b[0m\n\u001b[0;31mValueError\u001b[0m                                Traceback (most recent call last)",
        "\u001b[0;32m<ipython-input-57-e5046466629f>\u001b[0m in \u001b[0;36m<module>\u001b[0;34m()\u001b[0m\n\u001b[0;32m----> 1\u001b[0;31m \u001b[0mrustic_arr\u001b[0m \u001b[0;34m=\u001b[0m \u001b[0mimg_to_matrix\u001b[0m\u001b[0;34m(\u001b[0m\u001b[0mdirectory\u001b[0m\u001b[0;34m=\u001b[0m\u001b[0;34m'rustic'\u001b[0m\u001b[0;34m)\u001b[0m\u001b[0;34m\u001b[0m\u001b[0m\n\u001b[0m",
        "\u001b[0;32m<ipython-input-56-89b5c976fc2c>\u001b[0m in \u001b[0;36mimg_to_matrix\u001b[0;34m(directory)\u001b[0m\n\u001b[1;32m     20\u001b[0m                     \u001b[0mlabel_img_arr\u001b[0m \u001b[0;34m=\u001b[0m \u001b[0mlabel_img\u001b[0m\u001b[0;34m\u001b[0m\u001b[0m\n\u001b[1;32m     21\u001b[0m                 \u001b[0;32melse\u001b[0m\u001b[0;34m:\u001b[0m\u001b[0;34m\u001b[0m\u001b[0m\n\u001b[0;32m---> 22\u001b[0;31m                     \u001b[0mlabel_img_arr\u001b[0m \u001b[0;34m=\u001b[0m \u001b[0mnp\u001b[0m\u001b[0;34m.\u001b[0m\u001b[0mr_\u001b[0m\u001b[0;34m[\u001b[0m\u001b[0mlabel_img_arr\u001b[0m\u001b[0;34m,\u001b[0m \u001b[0mlabel_img\u001b[0m\u001b[0;34m]\u001b[0m\u001b[0;34m\u001b[0m\u001b[0m\n\u001b[0m\u001b[1;32m     23\u001b[0m \u001b[0;31m#                 print label_img_arr.shape ##\u001b[0m\u001b[0;34m\u001b[0m\u001b[0;34m\u001b[0m\u001b[0m\n\u001b[1;32m     24\u001b[0m     \u001b[0;32mreturn\u001b[0m \u001b[0mlabel_img_arr\u001b[0m\u001b[0;34m\u001b[0m\u001b[0m\n",
        "\u001b[0;32m/Users/kuoyen/anaconda/lib/python2.7/site-packages/numpy/lib/index_tricks.pyc\u001b[0m in \u001b[0;36m__getitem__\u001b[0;34m(self, key)\u001b[0m\n\u001b[1;32m    336\u001b[0m                 \u001b[0mobjs\u001b[0m\u001b[0;34m[\u001b[0m\u001b[0mk\u001b[0m\u001b[0;34m]\u001b[0m \u001b[0;34m=\u001b[0m \u001b[0mobjs\u001b[0m\u001b[0;34m[\u001b[0m\u001b[0mk\u001b[0m\u001b[0;34m]\u001b[0m\u001b[0;34m.\u001b[0m\u001b[0mastype\u001b[0m\u001b[0;34m(\u001b[0m\u001b[0mfinal_dtype\u001b[0m\u001b[0;34m)\u001b[0m\u001b[0;34m\u001b[0m\u001b[0m\n\u001b[1;32m    337\u001b[0m \u001b[0;34m\u001b[0m\u001b[0m\n\u001b[0;32m--> 338\u001b[0;31m         \u001b[0mres\u001b[0m \u001b[0;34m=\u001b[0m \u001b[0m_nx\u001b[0m\u001b[0;34m.\u001b[0m\u001b[0mconcatenate\u001b[0m\u001b[0;34m(\u001b[0m\u001b[0mtuple\u001b[0m\u001b[0;34m(\u001b[0m\u001b[0mobjs\u001b[0m\u001b[0;34m)\u001b[0m\u001b[0;34m,\u001b[0m \u001b[0maxis\u001b[0m\u001b[0;34m=\u001b[0m\u001b[0mself\u001b[0m\u001b[0;34m.\u001b[0m\u001b[0maxis\u001b[0m\u001b[0;34m)\u001b[0m\u001b[0;34m\u001b[0m\u001b[0m\n\u001b[0m\u001b[1;32m    339\u001b[0m         \u001b[0;32mreturn\u001b[0m \u001b[0mself\u001b[0m\u001b[0;34m.\u001b[0m\u001b[0m_retval\u001b[0m\u001b[0;34m(\u001b[0m\u001b[0mres\u001b[0m\u001b[0;34m)\u001b[0m\u001b[0;34m\u001b[0m\u001b[0m\n\u001b[1;32m    340\u001b[0m \u001b[0;34m\u001b[0m\u001b[0m\n",
        "\u001b[0;31mValueError\u001b[0m: all the input array dimensions except for the concatenation axis must match exactly"
       ]
      }
     ],
     "prompt_number": 57
    },
    {
     "cell_type": "code",
     "collapsed": false,
     "input": [
      "rustic_arr.shape"
     ],
     "language": "python",
     "metadata": {},
     "outputs": [
      {
       "metadata": {},
       "output_type": "pyout",
       "prompt_number": 29,
       "text": [
        "(1000,)"
       ]
      }
     ],
     "prompt_number": 29
    },
    {
     "cell_type": "code",
     "collapsed": false,
     "input": [
      "ballroom_arr = img_to_matrix(directory='ballroom')"
     ],
     "language": "python",
     "metadata": {},
     "outputs": [],
     "prompt_number": 18
    },
    {
     "cell_type": "code",
     "collapsed": false,
     "input": [
      "print ballroom_arr.shape"
     ],
     "language": "python",
     "metadata": {},
     "outputs": [
      {
       "output_type": "stream",
       "stream": "stdout",
       "text": [
        "(801,)\n"
       ]
      }
     ],
     "prompt_number": 19
    },
    {
     "cell_type": "code",
     "collapsed": false,
     "input": [
      "vintage_arr = img_to_matrix(directory='vintage')"
     ],
     "language": "python",
     "metadata": {},
     "outputs": [],
     "prompt_number": 153
    },
    {
     "cell_type": "code",
     "collapsed": false,
     "input": [
      "# print vintage_arr.shape"
     ],
     "language": "python",
     "metadata": {},
     "outputs": [
      {
       "output_type": "stream",
       "stream": "stdout",
       "text": [
        "(11, 22501)\n"
       ]
      }
     ],
     "prompt_number": 154
    },
    {
     "cell_type": "code",
     "collapsed": false,
     "input": [
      "beach_arr = img_to_matrix(directory='beach')"
     ],
     "language": "python",
     "metadata": {},
     "outputs": [
      {
       "output_type": "stream",
       "stream": "stdout",
       "text": [
        "0\n",
        "1\n",
        "[ 0.96862745  0.95294118  0.95686275 ...,  0.76475817  0.65495425\n",
        "  0.56867974]\n",
        "2\n",
        "[ 0.93333333  0.9372549   0.95294118 ...,  0.93224837  0.89803922\n",
        "  0.88445098]"
       ]
      },
      {
       "output_type": "stream",
       "stream": "stdout",
       "text": [
        "\n",
        "3\n",
        "[ 0.64803922  0.7127451   0.79705882 ...,  0.82287582  0.75620915\n",
        "  0.68562092]\n",
        "4"
       ]
      },
      {
       "output_type": "stream",
       "stream": "stdout",
       "text": [
        "\n",
        "[ 0.90121569  0.92082353  0.93258824 ...,  0.78212837  0.78033516\n",
        "  0.73418536]"
       ]
      },
      {
       "output_type": "stream",
       "stream": "stdout",
       "text": [
        "\n",
        "5\n",
        "[ 0.81239216  0.79278431  0.77905882 ...,  0.93333333  0.94509804\n",
        "  0.97254902]\n",
        "6"
       ]
      },
      {
       "output_type": "stream",
       "stream": "stdout",
       "text": [
        "\n",
        "[ 0.78036601  0.72546405  0.67840523 ...,  0.5892549   0.55788235\n",
        "  0.54611765]\n",
        "7\n",
        "[ 0.47843137  0.61568627  0.69019608 ...,  0.89065359  0.86712418\n",
        "  0.81222222]"
       ]
      },
      {
       "output_type": "stream",
       "stream": "stdout",
       "text": [
        "\n",
        "8\n",
        "[ 0.63207843  0.66737255  0.70266667 ...,  0.63027451  0.59498039\n",
        "  0.59890196]\n",
        "9\n",
        "[ 0.85876471  0.87052941  0.89798039 ...,  0.8579902   0.81877451\n",
        "  0.77955882]"
       ]
      },
      {
       "output_type": "stream",
       "stream": "stdout",
       "text": [
        "\n",
        "10\n",
        "[ 0.93169935  0.88235294  0.77418301 ...,  0.90065359  0.87875817\n",
        "  0.73823529]\n",
        "11\n",
        "[ 0.21960784  0.16535948  0.13006536 ...,  0.30457516  0.30457516\n",
        "  0.26535948]"
       ]
      },
      {
       "output_type": "stream",
       "stream": "stdout",
       "text": [
        "\n",
        "12\n",
        "[ 0.93523529  0.93523529  0.92739216 ...,  0.95294118  0.94901961\n",
        "  0.94117647]\n",
        "13\n",
        "[ 0.94705882  0.76666667  0.65490196 ...,  0.65294118  0.61568627\n",
        "  0.58039216]"
       ]
      },
      {
       "output_type": "stream",
       "stream": "stdout",
       "text": [
        "\n",
        "14\n",
        "[ 1.  1.  1. ...,  1.  1.  1.]\n",
        "15\n",
        "[ 0.48207843  0.59388889  0.73783333 ...,  0.15204575  0.21214379\n",
        "  0.16765359]"
       ]
      },
      {
       "output_type": "stream",
       "stream": "stdout",
       "text": [
        "\n",
        "16\n",
        "[ 0.73382353  0.62401961  0.52990196 ...,  0.80857843  0.66740196\n",
        "  0.46348039]\n",
        "17\n",
        "[ 0.98039216  0.98431373  0.99215686 ...,  0.67279412  0.69632353\n",
        "  0.69632353]"
       ]
      },
      {
       "output_type": "stream",
       "stream": "stdout",
       "text": [
        "\n",
        "18\n",
        "[ 0.95931373  0.87303922  0.78039216 ...,  0.88308824  0.77328431\n",
        "  0.67916667]\n",
        "19\n",
        "[ 0.98823529  0.99215686  1.         ...,  0.79734118  0.79734118\n",
        "  0.79734118]"
       ]
      },
      {
       "output_type": "stream",
       "stream": "stdout",
       "text": [
        "\n",
        "20\n",
        "[ 0.87181699  0.86789542  0.89926797 ...,  0.78788758  0.78396601\n",
        "  0.81533856]\n",
        "21"
       ]
      },
      {
       "output_type": "stream",
       "stream": "stdout",
       "text": [
        "\n",
        "[ 0.92941176  0.9254902   0.91764706 ...,  0.96832235  0.96440078\n",
        "  0.95655765]"
       ]
      },
      {
       "output_type": "stream",
       "stream": "stdout",
       "text": [
        "\n",
        "22\n",
        "[ 0.78823529  0.90196078  0.93333333 ...,  0.89411765  0.87058824\n",
        "  0.74509804]\n",
        "23"
       ]
      },
      {
       "output_type": "stream",
       "stream": "stdout",
       "text": [
        "\n",
        "[ 0.88743399  0.85074771  0.70634706 ...,  0.72462222  0.70357386\n",
        "  0.61659804]\n",
        "24"
       ]
      },
      {
       "output_type": "stream",
       "stream": "stdout",
       "text": [
        "\n",
        "[ 0.82363399  0.8191634   0.83877124 ...,  0.7256732   0.65900654\n",
        "  0.63155556]\n",
        "25\n",
        "[ 0.65490196  0.77254902  0.8745098  ...,  0.89068627  0.88946078\n",
        "  0.82892157]"
       ]
      },
      {
       "output_type": "stream",
       "stream": "stdout",
       "text": [
        "\n",
        "26\n",
        "[ 0.16597386  0.2892549   0.3298366  ...,  0.12920915  0.30567974\n",
        "  0.13705229]\n",
        "27"
       ]
      },
      {
       "output_type": "stream",
       "stream": "stdout",
       "text": [
        "\n",
        "[ 0.31633987  0.41045752  0.50457516 ...,  0.37581699  0.30588235\n",
        "  0.2369281 ]\n",
        "28\n",
        "[ 0.38745425  0.35932026  0.42638235 ...,  0.1999085   0.15626144\n",
        "  0.15455556]"
       ]
      },
      {
       "output_type": "stream",
       "stream": "stdout",
       "text": [
        "\n",
        "29\n",
        "[ 0.71383373  0.76481412  0.79618667 ...,  0.61473412  0.57551843\n",
        "  0.52867608]\n",
        "30"
       ]
      },
      {
       "output_type": "stream",
       "stream": "stdout",
       "text": [
        "\n",
        "[ 0.64081046  0.72073203  0.71198693 ...,  0.6714902   0.65972549\n",
        "  0.64011765]\n",
        "31\n",
        "[ 0.83529412  0.82352941  0.78823529 ...,  0.91356209  0.90157516  0.8575    ]"
       ]
      },
      {
       "output_type": "stream",
       "stream": "stdout",
       "text": [
        "\n",
        "32\n",
        "[ 0.16810458  0.16418301  0.14457516 ...,  0.38895425  0.37326797\n",
        "  0.36150327]"
       ]
      },
      {
       "output_type": "stream",
       "stream": "stdout",
       "text": [
        "\n",
        "33\n",
        "[ 0.74901961  0.78431373  0.84313725 ...,  0.87595163  0.82104967\n",
        "  0.8171281 ]"
       ]
      },
      {
       "output_type": "stream",
       "stream": "stdout",
       "text": [
        "\n",
        "34\n",
        "[ 0.36107974  0.24607686  0.09096575 ...,  0.86526222  0.83867399\n",
        "  0.82531451]"
       ]
      },
      {
       "output_type": "stream",
       "stream": "stdout",
       "text": [
        "\n",
        "35\n",
        "[ 0.81367686  0.86172549  0.90913569 ...,  0.00118013  0.0051017\n",
        "  0.01294484]"
       ]
      },
      {
       "output_type": "stream",
       "stream": "stdout",
       "text": [
        "\n",
        "36\n",
        "[ 0.43414902  0.3483451   0.27995294 ...,  0.40092549  0.4779451\n",
        "  0.48856471]"
       ]
      },
      {
       "output_type": "stream",
       "stream": "stdout",
       "text": [
        "\n",
        "37\n",
        "[ 0.98431373  0.97647059  0.98039216 ...,  0.89803922  0.85882353\n",
        "  0.82352941]\n",
        "38"
       ]
      },
      {
       "output_type": "stream",
       "stream": "stdout",
       "text": [
        "\n",
        "[ 0.7859085   0.85649673  0.90355556 ...,  0.88162941  0.81888431\n",
        "  0.72868824]"
       ]
      },
      {
       "output_type": "stream",
       "stream": "stdout",
       "text": [
        "\n",
        "39\n",
        "[ 0.30777255  0.29992941  0.30385098 ...,  0.30705882  0.30839216\n",
        "  0.33576471]\n",
        "40"
       ]
      },
      {
       "output_type": "stream",
       "stream": "stdout",
       "text": [
        "\n",
        "[ 0.99213399  0.99213399  0.99213399 ...,  0.73649673  0.75610458\n",
        "  0.7404183 ]"
       ]
      },
      {
       "output_type": "stream",
       "stream": "stdout",
       "text": [
        "\n",
        "41\n",
        "[ 0.94728431  0.94728431  0.95512745 ...,  0.43141176  0.47847059\n",
        "  0.47847059]"
       ]
      },
      {
       "output_type": "stream",
       "stream": "stdout",
       "text": [
        "\n",
        "42\n",
        "[ 0.03681046  0.06033987  0.01799843 ...,  0.69665359  0.69177621\n",
        "  0.73256941]"
       ]
      },
      {
       "output_type": "stream",
       "stream": "stdout",
       "text": [
        "\n",
        "43\n",
        "[ 0.82357085  0.77259046  0.60400222 ...,  0.33105307  0.45348444\n",
        "  0.29649098]"
       ]
      },
      {
       "output_type": "stream",
       "stream": "stdout",
       "text": [
        "\n",
        "44\n",
        "[ 0.85490196  0.84705882  0.89803922 ...,  0.22562092  0.36011765\n",
        "  0.49388235]"
       ]
      },
      {
       "output_type": "stream",
       "stream": "stdout",
       "text": [
        "\n",
        "45\n",
        "[ 0.90820915  0.88860131  0.91605229 ...,  0.75726654  0.73373712\n",
        "  0.73373712]"
       ]
      },
      {
       "output_type": "stream",
       "stream": "stdout",
       "text": [
        "\n",
        "46\n",
        "[ 0.32541752  0.31597961  0.10969359 ...,  0.33798693  0.42426144\n",
        "  0.51445752]"
       ]
      },
      {
       "output_type": "stream",
       "stream": "stdout",
       "text": [
        "\n",
        "47\n",
        "[ 0.13500654  0.2157966   0.06598118 ...,  0.90431948  0.78267242\n",
        "  0.71231948]"
       ]
      },
      {
       "output_type": "stream",
       "stream": "stdout",
       "text": [
        "\n",
        "48\n",
        "[ 0.91138275  0.93100654  0.94992157 ...,  0.73340379  0.7004481\n",
        "  0.68544301]"
       ]
      },
      {
       "output_type": "stream",
       "stream": "stdout",
       "text": [
        "\n",
        "49\n",
        "[ 0.89579085  0.87618301  0.89186928 ...,  0.86282353  0.73341176\n",
        "  0.65905882]"
       ]
      },
      {
       "output_type": "stream",
       "stream": "stdout",
       "text": [
        "\n",
        "50\n",
        "[ 0.96470588  0.96078431  0.98431373 ...,  0.99607843  0.99607843\n",
        "  0.99607843]\n",
        "51"
       ]
      },
      {
       "output_type": "stream",
       "stream": "stdout",
       "text": [
        "\n",
        "[ 0.7254902   0.7372549   0.70980392 ...,  0.72941176  0.74117647\n",
        "  0.71372549]"
       ]
      },
      {
       "output_type": "stream",
       "stream": "stdout",
       "text": [
        "\n",
        "52\n",
        "[ 0.89411765  0.89019608  0.87058824 ...,  0.90588235  0.90196078\n",
        "  0.89411765]"
       ]
      },
      {
       "output_type": "stream",
       "stream": "stdout",
       "text": [
        "\n",
        "53\n",
        "[ 0.76470588  0.76862745  0.74509804 ...,  0.80490196  0.80882353\n",
        "  0.78529412]"
       ]
      },
      {
       "output_type": "stream",
       "stream": "stdout",
       "text": [
        "\n",
        "54\n",
        "[ 1.  1.  1. ...,  1.  1.  1.]"
       ]
      },
      {
       "output_type": "stream",
       "stream": "stdout",
       "text": [
        "\n",
        "55\n",
        "[ 1.  1.  1. ...,  1.  1.  1.]\n",
        "56"
       ]
      },
      {
       "output_type": "stream",
       "stream": "stdout",
       "text": [
        "\n",
        "[ 1.  1.  1. ...,  1.  1.  1.]\n",
        "57\n",
        "[ 1.  1.  1. ...,  1.  1.  1.]"
       ]
      },
      {
       "output_type": "stream",
       "stream": "stdout",
       "text": [
        "\n",
        "58\n",
        "[ 1.  1.  1. ...,  1.  1.  1.]"
       ]
      },
      {
       "output_type": "stream",
       "stream": "stdout",
       "text": [
        "\n",
        "59\n",
        "[ 0.23445686  0.49720196  0.70112353 ...,  0.7081183   0.67096144\n",
        "  0.65694183]"
       ]
      },
      {
       "output_type": "stream",
       "stream": "stdout",
       "text": [
        "\n",
        "60\n",
        "[ 1.  1.  1. ...,  1.  1.  1.]\n",
        "61\n",
        "[ 1.  1.  1. ...,  1.  1.  1.]"
       ]
      },
      {
       "output_type": "stream",
       "stream": "stdout",
       "text": [
        "\n",
        "62\n",
        "[ 1.  1.  1. ...,  1.  1.  1.]\n",
        "63"
       ]
      },
      {
       "output_type": "stream",
       "stream": "stdout",
       "text": [
        "\n",
        "[ 1.  1.  1. ...,  1.  1.  1.]\n",
        "64\n",
        "[ 1.  1.  1. ...,  1.  1.  1.]"
       ]
      },
      {
       "output_type": "stream",
       "stream": "stdout",
       "text": [
        "\n",
        "65\n",
        "[ 1.  1.  1. ...,  1.  1.  1.]\n",
        "66"
       ]
      },
      {
       "output_type": "stream",
       "stream": "stdout",
       "text": [
        "\n",
        "[ 1.  1.  1. ...,  1.  1.  1.]\n",
        "67\n",
        "[ 1.  1.  1. ...,  1.  1.  1.]"
       ]
      },
      {
       "output_type": "stream",
       "stream": "stdout",
       "text": [
        "\n",
        "68\n",
        "[ 0.81568627  0.72156863  0.70588235 ...,  0.76490196  0.67470588\n",
        "  0.65117647]"
       ]
      },
      {
       "output_type": "stream",
       "stream": "stdout",
       "text": [
        "\n",
        "69\n",
        "[ 0.19849856  0.21026327  0.10438092 ...,  0.36684601  0.3794034\n",
        "  0.31300575]\n",
        "70"
       ]
      },
      {
       "output_type": "stream",
       "stream": "stdout",
       "text": [
        "\n",
        "[ 0.84846405  0.82885621  0.85630719 ...,  0.03462418  0.03070261\n",
        "  0.01521242]"
       ]
      },
      {
       "output_type": "stream",
       "stream": "stdout",
       "text": [
        "\n",
        "71\n",
        "[ 0.94509804  0.94509804  0.94509804 ...,  0.89803922  0.89803922\n",
        "  0.89803922]\n",
        "72\n",
        "[ 1.  1.  1. ...,  1.  1.  1.]"
       ]
      },
      {
       "output_type": "stream",
       "stream": "stdout",
       "text": [
        "\n",
        "73\n",
        "[ 0.85098039  0.72156863  0.64705882 ...,  0.87870588  0.74929412  0.714     ]"
       ]
      },
      {
       "output_type": "stream",
       "stream": "stdout",
       "text": [
        "\n",
        "74\n",
        "[ 0.95294118  0.95294118  0.95294118 ...,  0.95294118  0.95294118\n",
        "  0.95294118]"
       ]
      },
      {
       "output_type": "stream",
       "stream": "stdout",
       "text": [
        "\n",
        "75\n",
        "[ 0.94509804  0.94509804  0.94509804 ...,  0.94509804  0.94509804\n",
        "  0.94509804]"
       ]
      },
      {
       "output_type": "stream",
       "stream": "stdout",
       "text": [
        "\n",
        "76\n",
        "[ 0.21960784  0.20392157  0.20784314 ...,  0.85098039  0.84705882\n",
        "  0.86666667]"
       ]
      },
      {
       "output_type": "stream",
       "stream": "stdout",
       "text": [
        "\n",
        "77\n",
        "[ 0.68482353  0.68482353  0.69266667 ...,  0.77647059  0.77254902\n",
        "  0.76470588]\n",
        "78\n",
        "[ 0.54830458  0.51301046  0.44634379 ...,  0.43888889  0.40359477\n",
        "  0.3369281 ]"
       ]
      },
      {
       "output_type": "stream",
       "stream": "stdout",
       "text": [
        "\n",
        "79\n",
        "[ 0.18431373  0.18431373  0.18431373 ...,  0.13628758  0.0970719\n",
        "  0.08922876]"
       ]
      },
      {
       "output_type": "stream",
       "stream": "stdout",
       "text": [
        "\n",
        "80\n",
        "[ 0.93298039  0.92332026  0.89950327 ...,  0.98755556  0.98363399\n",
        "  0.97579085]"
       ]
      },
      {
       "output_type": "stream",
       "stream": "stdout",
       "text": [
        "\n",
        "81\n",
        "[ 0.94117647  0.9254902   0.92156863 ...,  0.67777778  0.61111111\n",
        "  0.50915033]"
       ]
      },
      {
       "output_type": "stream",
       "stream": "stdout",
       "text": [
        "\n",
        "82\n",
        "[ 0.59607843  0.60392157  0.59215686 ...,  0.4         0.41568627\n",
        "  0.41176471]"
       ]
      },
      {
       "output_type": "stream",
       "stream": "stdout",
       "text": [
        "\n",
        "83\n",
        "[ 0.77901961  0.80254902  0.79470588 ...,  0.65683987  0.66468301\n",
        "  0.74703595]"
       ]
      },
      {
       "output_type": "stream",
       "stream": "stdout",
       "text": [
        "\n",
        "84\n",
        "[ 0.3254902   0.32156863  0.35294118 ...,  0.37647059  0.37647059\n",
        "  0.41568627]\n",
        "85\n",
        "[ 0.46707647  0.43178235  0.41217451 ...,  0.48771242  0.43281046\n",
        "  0.39751634]"
       ]
      },
      {
       "output_type": "stream",
       "stream": "stdout",
       "text": [
        "\n",
        "86\n",
        "[ 0.97320261  0.95359477  0.94183007 ...,  0.77614379  0.70163399\n",
        "  0.70947712]"
       ]
      },
      {
       "output_type": "stream",
       "stream": "stdout",
       "text": [
        "\n",
        "87\n",
        "[ 0.98823529  0.98823529  0.98039216 ...,  0.76078431  0.59215686\n",
        "  0.52941176]\n",
        "88\n",
        "[ 0.00333948  0.00333948  0.00333948 ...,  0.          0.          0.        ]"
       ]
      },
      {
       "output_type": "stream",
       "stream": "stdout",
       "text": [
        "\n",
        "89\n",
        "[ 0.99607843  1.          0.97647059 ...,  0.84282039  0.61929098\n",
        "  0.45066353]"
       ]
      },
      {
       "output_type": "stream",
       "stream": "stdout",
       "text": [
        "\n",
        "90\n",
        "[ 0.99215686  0.98039216  0.95294118 ...,  0.98431373  1.          1.        ]"
       ]
      },
      {
       "output_type": "stream",
       "stream": "stdout",
       "text": [
        "\n",
        "91\n",
        "[ 0.90980392  0.90196078  0.94509804 ...,  0.90588235  0.90196078\n",
        "  0.93333333]"
       ]
      },
      {
       "output_type": "stream",
       "stream": "stdout",
       "text": [
        "\n",
        "92\n",
        "[ 0.90196078  0.92941176  0.96078431 ...,  0.74637255  0.71107843\n",
        "  0.67578431]"
       ]
      },
      {
       "output_type": "stream",
       "stream": "stdout",
       "text": [
        "\n",
        "93\n",
        "[ 0.38190013  0.34681516  0.41306353 ...,  0.36674039  0.32752471\n",
        "  0.35889725]\n",
        "94"
       ]
      },
      {
       "output_type": "stream",
       "stream": "stdout",
       "text": [
        "\n",
        "[ 0.94076301  0.94076301  0.94076301 ...,  0.96046889  0.95654732\n",
        "  0.94870418]\n",
        "95\n",
        "[ 0.82387582  0.68863399  0.44721569 ...,  0.75680392  0.70190196\n",
        "  0.70190196]"
       ]
      },
      {
       "output_type": "stream",
       "stream": "stdout",
       "text": [
        "\n",
        "96\n",
        "[ 0.66198039  0.48335294  0.38818627 ...,  0.93        0.94960784\n",
        "  0.96529412]"
       ]
      },
      {
       "output_type": "stream",
       "stream": "stdout",
       "text": [
        "\n",
        "97\n",
        "[ 0.91372549  0.89019608  0.84313725 ...,  0.75294118  0.7254902\n",
        "  0.65490196]"
       ]
      },
      {
       "output_type": "stream",
       "stream": "stdout",
       "text": [
        "\n",
        "98\n",
        "[ 0.72752941  0.71184314  0.66870588 ...,  0.08394771  0.09571242\n",
        "  0.1231634 ]"
       ]
      },
      {
       "output_type": "stream",
       "stream": "stdout",
       "text": [
        "\n",
        "99\n",
        "[ 0.99607843  0.99607843  0.99607843 ...,  0.25862745  0.18019608\n",
        "  0.08375163]"
       ]
      },
      {
       "output_type": "stream",
       "stream": "stdout",
       "text": [
        "\n",
        "100\n",
        "[ 0.83911765  0.78570588  0.73472549 ...,  0.31027451  0.26713725\n",
        "  0.28282353]"
       ]
      },
      {
       "output_type": "stream",
       "stream": "stdout",
       "text": [
        "\n",
        "101\n",
        "[ 0.72941176  0.71372549  0.67058824 ...,  0.08272549  0.0944902\n",
        "  0.12194118]"
       ]
      },
      {
       "output_type": "stream",
       "stream": "stdout",
       "text": [
        "\n",
        "102\n",
        "[ 0.22745098  0.19215686  0.17254902 ...,  0.84156863  0.80627451\n",
        "  0.76505882]"
       ]
      },
      {
       "output_type": "stream",
       "stream": "stdout",
       "text": [
        "\n",
        "103\n",
        "[ 0.91372549  0.87843137  0.84313725 ...,  0.42848366  0.52775163\n",
        "  0.58700654]"
       ]
      },
      {
       "output_type": "stream",
       "stream": "stdout",
       "text": [
        "\n",
        "104\n",
        "[ 0.94901961  0.94901961  0.94901961 ...,  0.4661281   0.40286013\n",
        "  0.23423268]\n",
        "105"
       ]
      },
      {
       "output_type": "stream",
       "stream": "stdout",
       "text": [
        "\n",
        "[ 0.38667974  0.3803719   0.30100719 ...,  1.          1.          1.        ]"
       ]
      },
      {
       "output_type": "stream",
       "stream": "stdout",
       "text": [
        "\n",
        "106\n",
        "[ 0.88363399  0.88363399  0.83657516 ...,  0.94373856  0.92413072\n",
        "  0.90708497]"
       ]
      },
      {
       "output_type": "stream",
       "stream": "stdout",
       "text": [
        "\n",
        "107\n",
        "[ 0.3921634   0.13333987  0.07526144 ...,  0.98695542  0.76183778\n",
        "  0.46156327]"
       ]
      },
      {
       "output_type": "stream",
       "stream": "stdout",
       "text": [
        "\n",
        "108\n",
        "[ 0.80090196  0.83227451  0.87541176 ...,  0.67215686  0.71019608\n",
        "  0.75882353]\n",
        "109\n",
        "[ 0.74509804  0.81568627  0.82352941 ...,  0.31568627  0.2372549\n",
        "  0.20980392]"
       ]
      },
      {
       "output_type": "stream",
       "stream": "stdout",
       "text": [
        "\n",
        "110\n",
        "[ 0.98405229  0.98405229  0.98405229 ...,  0.9836732   0.9836732   0.9836732 ]"
       ]
      },
      {
       "output_type": "stream",
       "stream": "stdout",
       "text": [
        "\n",
        "111\n",
        "[ 0.81160784  0.83513725  0.83513725 ...,  0.21231373  0.25871895\n",
        "  0.25401307]"
       ]
      },
      {
       "output_type": "stream",
       "stream": "stdout",
       "text": [
        "\n",
        "112\n",
        "[ 0.0900915   0.07048366  0.05479739 ...,  0.          0.          0.        ]"
       ]
      },
      {
       "output_type": "stream",
       "stream": "stdout",
       "text": [
        "\n",
        "113\n",
        "[ 0.16078431  0.16470588  0.14509804 ...,  0.18823529  0.17647059\n",
        "  0.15686275]\n",
        "114\n",
        "[ 0.41143791  0.39836601  0.42581699 ...,  0.74117647  0.70588235\n",
        "  0.67843137]"
       ]
      },
      {
       "output_type": "stream",
       "stream": "stdout",
       "text": [
        "\n",
        "115\n",
        "[ 0.9276732   0.9276732   0.9276732  ...,  0.7531634   0.6914085\n",
        "  0.67105229]"
       ]
      },
      {
       "output_type": "stream",
       "stream": "stdout",
       "text": [
        "\n",
        "116\n",
        "[ 0.62844444  0.58922876  0.54216993 ...,  0.01176471  0.19607843\n",
        "  0.40784314]"
       ]
      },
      {
       "output_type": "stream",
       "stream": "stdout",
       "text": [
        "\n",
        "117\n",
        "[ 0.68196078  0.7172549   0.77607843 ...,  0.21435294  0.1947451\n",
        "  0.12023529]"
       ]
      },
      {
       "output_type": "stream",
       "stream": "stdout",
       "text": [
        "\n",
        "118\n",
        "[ 0.80235294  0.78379804  0.75768627 ...,  0.56687647  0.58045686\n",
        "  0.62739216]"
       ]
      },
      {
       "output_type": "stream",
       "stream": "stdout",
       "text": [
        "\n",
        "119\n",
        "[ 0.42973856  0.51764706  0.34183007 ...,  0.69861111  0.58627451\n",
        "  0.5504085 ]"
       ]
      },
      {
       "output_type": "stream",
       "stream": "stdout",
       "text": [
        "\n",
        "120\n",
        "[ 0.89019608  0.88235294  0.90196078 ...,  0.3283566   0.32828484\n",
        "  0.2224481 ]"
       ]
      },
      {
       "output_type": "stream",
       "stream": "stdout",
       "text": [
        "\n",
        "121\n",
        "[ 0.07843137  0.14117647  0.09019608 ...,  0.34047059  0.31568627\n",
        "  0.28508235]"
       ]
      },
      {
       "output_type": "stream",
       "stream": "stdout",
       "text": [
        "\n",
        "122\n",
        "[ 1.          0.99607843  1.         ...,  0.97067059  0.9742      0.99020588]"
       ]
      },
      {
       "output_type": "stream",
       "stream": "stdout",
       "text": [
        "\n",
        "123\n",
        "[ 0.95686275  0.98823529  1.         ...,  0.83830065  0.77947712\n",
        "  0.70496732]"
       ]
      },
      {
       "output_type": "stream",
       "stream": "stdout",
       "text": [
        "\n",
        "124\n",
        "[ 0.83429412  0.83429412  0.88135294 ...,  0.91306863  0.85916667\n",
        "  0.84440196]\n",
        "125"
       ]
      },
      {
       "output_type": "stream",
       "stream": "stdout",
       "text": [
        "\n",
        "[ 0.96219608  0.92690196  0.90729412 ...,  0.88345098  0.83247059\n",
        "  0.80109804]\n",
        "126\n",
        "[ 0.9372549   0.9372549   0.9372549  ...,  0.57250667  0.62356549\n",
        "  0.69031059]"
       ]
      },
      {
       "output_type": "stream",
       "stream": "stdout",
       "text": [
        "\n",
        "127\n",
        "[ 1.  1.  1. ...,  1.  1.  1.]"
       ]
      },
      {
       "output_type": "stream",
       "stream": "stdout",
       "text": [
        "\n",
        "128\n",
        "[ 0.36817647  0.35989216  0.33330392 ...,  0.02637255  0.02245098\n",
        "  0.01134314]\n",
        "129\n",
        "[ 0.17995098  0.15642157  0.09367647 ...,  0.74656863  0.64617647\n",
        "  0.56107843]"
       ]
      },
      {
       "output_type": "stream",
       "stream": "stdout",
       "text": [
        "\n",
        "130\n",
        "[ 1.          1.          1.         ...,  0.98039216  0.97647059\n",
        "  0.96862745]"
       ]
      },
      {
       "output_type": "stream",
       "stream": "stdout",
       "text": [
        "\n",
        "131\n",
        "[ 1.  1.  1. ...,  1.  1.  1.]\n",
        "132\n",
        "[ 0.93103922  0.92711765  0.94672549 ...,  0.91764706  0.93333333\n",
        "  0.97647059]"
       ]
      },
      {
       "output_type": "stream",
       "stream": "stdout",
       "text": [
        "\n",
        "133\n",
        "[ 0.84705882  0.83603922  0.76003922 ...,  0.79160784  0.78807843\n",
        "  0.78101961]\n",
        "134\n",
        "[ 0.71062745  0.60082353  0.54592157 ...,  0.7530217   0.67459033\n",
        "  0.6785119 ]"
       ]
      },
      {
       "output_type": "stream",
       "stream": "stdout",
       "text": [
        "\n",
        "135\n",
        "[ 1.  1.  1. ...,  1.  1.  1.]\n",
        "136"
       ]
      },
      {
       "output_type": "stream",
       "stream": "stdout",
       "text": [
        "\n",
        "[ 0.11058771  0.05176418  0.03215634 ...,  0.41176471  0.34117647\n",
        "  0.3254902 ]\n",
        "137\n",
        "[ 0.94509804  0.94901961  0.96862745 ...,  0.85244444  0.8210719\n",
        "  0.80930719]"
       ]
      },
      {
       "output_type": "stream",
       "stream": "stdout",
       "text": [
        "\n",
        "138\n",
        "[ 0.76435294  0.78003922  0.78396078 ...,  0.80784314  0.80784314\n",
        "  0.83921569]"
       ]
      },
      {
       "output_type": "stream",
       "stream": "stdout",
       "text": [
        "\n",
        "139\n",
        "[ 0.47956863  0.54623529  0.62466667 ...,  0.71784314  0.72176471\n",
        "  0.74137255]"
       ]
      },
      {
       "output_type": "stream",
       "stream": "stdout",
       "text": [
        "\n",
        "140\n",
        "[ 0.83429412  0.83429412  0.88135294 ...,  0.91306863  0.85916667\n",
        "  0.84440196]\n",
        "141"
       ]
      },
      {
       "output_type": "stream",
       "stream": "stdout",
       "text": [
        "\n",
        "[ 0.40784314  0.51372549  0.63137255 ...,  0.69565621  0.67604837\n",
        "  0.66036209]\n",
        "142"
       ]
      },
      {
       "output_type": "stream",
       "stream": "stdout",
       "text": [
        "\n",
        "[ 0.29868235  0.2072      0.08235294 ...,  0.53267974  0.45608889\n",
        "  0.31793464]"
       ]
      },
      {
       "output_type": "stream",
       "stream": "stdout",
       "text": [
        "\n",
        "143\n",
        "[ 0.85654327  0.80948444  0.80948444 ...,  0.82745098  0.78431373\n",
        "  0.77647059]"
       ]
      },
      {
       "output_type": "stream",
       "stream": "stdout",
       "text": [
        "\n",
        "144\n",
        "[ 0.93333333  0.94117647  0.9372549  ...,  0.91764706  0.91764706\n",
        "  0.90980392]"
       ]
      },
      {
       "output_type": "stream",
       "stream": "stdout",
       "text": [
        "\n",
        "145\n",
        "[ 0.90588235  0.91372549  0.87058824 ...,  0.87058824  0.89411765\n",
        "  0.85490196]"
       ]
      },
      {
       "output_type": "stream",
       "stream": "stdout",
       "text": [
        "\n",
        "146\n",
        "[ 0.69346405  0.73660131  0.70522876 ...,  0.56271895  0.63330719\n",
        "  0.48428758]"
       ]
      },
      {
       "output_type": "stream",
       "stream": "stdout",
       "text": [
        "\n",
        "147\n",
        "[ 0.28821569  0.28821569  0.21762745 ...,  0.74798039  0.72837255\n",
        "  0.71268627]"
       ]
      },
      {
       "output_type": "stream",
       "stream": "stdout",
       "text": [
        "\n",
        "148\n",
        "[ 0.90784314  0.90784314  0.90784314 ...,  0.60259804  0.50455882\n",
        "  0.34544118]"
       ]
      },
      {
       "output_type": "stream",
       "stream": "stdout",
       "text": [
        "\n",
        "149\n",
        "[ 0.89159608  0.61316471  0.50336078 ...,  0.86623922  0.87408235\n",
        "  0.92114118]"
       ]
      },
      {
       "output_type": "stream",
       "stream": "stdout",
       "text": [
        "\n",
        "150\n",
        "[ 0.95165948  0.91244379  0.90460065 ...,  0.85882353  0.85490196\n",
        "  0.87843137]\n",
        "151\n",
        "[ 0.64362745  0.52186275  0.5022549  ...,  0.73327516  0.6156281\n",
        "  0.57641242]"
       ]
      },
      {
       "output_type": "stream",
       "stream": "stdout",
       "text": [
        "\n",
        "152\n",
        "[ 0.66509804  0.54745098  0.40627451 ...,  0.70858039  0.65367843\n",
        "  0.61838431]"
       ]
      },
      {
       "output_type": "stream",
       "stream": "stdout",
       "text": [
        "\n",
        "153\n",
        "[ 0.34670588  0.53494118  0.582      ...,  0.70529856  0.72490641\n",
        "  0.74059268]"
       ]
      },
      {
       "output_type": "stream",
       "stream": "stdout",
       "text": [
        "\n",
        "154\n",
        "[ 0.61683007  0.67957516  0.8129085  ...,  0.53333333  0.42401961\n",
        "  0.35947712]"
       ]
      },
      {
       "output_type": "stream",
       "stream": "stdout",
       "text": [
        "\n",
        "155\n",
        "[ 0.64081046  0.72073203  0.71198693 ...,  0.6714902   0.65972549\n",
        "  0.64011765]\n",
        "156\n",
        "[ 0.55294118  0.5254902   0.58823529 ...,  0.85882353  0.82745098\n",
        "  0.81568627]"
       ]
      },
      {
       "output_type": "stream",
       "stream": "stdout",
       "text": [
        "\n",
        "157\n",
        "[ 1.          1.          1.         ...,  0.49662484  0.45944314\n",
        "  0.36711895]"
       ]
      },
      {
       "output_type": "stream",
       "stream": "stdout",
       "text": [
        "\n",
        "158\n",
        "[ 0.85882353  0.87058824  0.89803922 ...,  0.81874235  0.74815412\n",
        "  0.69325216]\n",
        "159"
       ]
      },
      {
       "output_type": "stream",
       "stream": "stdout",
       "text": [
        "\n",
        "[ 0.69035294  0.72956863  0.76878431 ...,  0.66411765  0.63666667\n",
        "  0.56607843]\n",
        "160\n",
        "[ 0.8859715   0.88989307  0.90950092 ...,  0.85882353  0.85882353\n",
        "  0.89019608]"
       ]
      },
      {
       "output_type": "stream",
       "stream": "stdout",
       "text": [
        "\n",
        "161\n",
        "[ 0.74315686  0.77845098  0.80590196 ...,  0.33735294  0.28245098\n",
        "  0.28833333]"
       ]
      },
      {
       "output_type": "stream",
       "stream": "stdout",
       "text": [
        "\n",
        "162\n",
        "[ 0.99607843  0.99215686  0.98431373 ...,  0.64444444  0.58954248\n",
        "  0.48366013]"
       ]
      },
      {
       "output_type": "stream",
       "stream": "stdout",
       "text": [
        "\n",
        "163\n",
        "[ 0.28445595  0.38641673  0.43739712 ...,  0.99607843  0.99607843\n",
        "  0.99607843]"
       ]
      },
      {
       "output_type": "stream",
       "stream": "stdout",
       "text": [
        "\n",
        "164\n",
        "[ 0.89493464  0.89493464  0.8870915  ...,  0.28611111  0.2380719   0.1753268 ]"
       ]
      },
      {
       "output_type": "stream",
       "stream": "stdout",
       "text": [
        "\n",
        "165\n",
        "[ 0.94509804  0.96470588  0.9869281  ...,  0.69493464  0.56454248\n",
        "  0.44787582]\n",
        "166"
       ]
      },
      {
       "output_type": "stream",
       "stream": "stdout",
       "text": [
        "\n",
        "[ 0.68657464  0.63559425  0.56892758 ...,  0.85150327  0.82013072\n",
        "  0.80836601]"
       ]
      },
      {
       "output_type": "stream",
       "stream": "stdout",
       "text": [
        "\n",
        "167\n",
        "[ 0.83327451  0.83719608  0.84503922 ...,  0.70743137  0.72311765\n",
        "  0.7662549 ]"
       ]
      },
      {
       "output_type": "stream",
       "stream": "stdout",
       "text": [
        "\n",
        "168\n",
        "[ 0.85570588  0.82594118  0.78788235 ...,  0.83654902  0.82086275\n",
        "  0.77772549]"
       ]
      },
      {
       "output_type": "stream",
       "stream": "stdout",
       "text": [
        "\n",
        "169\n",
        "[ 0.66308497  0.59249673  0.44060131 ...,  0.42177778  0.28452288\n",
        "  0.15903268]"
       ]
      },
      {
       "output_type": "stream",
       "stream": "stdout",
       "text": [
        "\n",
        "170\n",
        "[ 0.37047059  0.38192157  0.0987451  ...,  0.80176471  0.75470588\n",
        "  0.75470588]"
       ]
      },
      {
       "output_type": "stream",
       "stream": "stdout",
       "text": [
        "\n",
        "171\n",
        "[ 0.92544771  0.91760458  0.92936928 ...,  0.35179085  0.34786928\n",
        "  0.34002614]"
       ]
      },
      {
       "output_type": "stream",
       "stream": "stdout",
       "text": [
        "\n",
        "172\n",
        "[ 0.42917647  0.2688366   0.16666667 ...,  0.31701961  0.34447059\n",
        "  0.31701961]"
       ]
      },
      {
       "output_type": "stream",
       "stream": "stdout",
       "text": [
        "\n",
        "173\n",
        "[ 0.93634314  0.89712745  0.86183333 ...,  0.90107843  0.86186275\n",
        "  0.82656863]\n",
        "174\n",
        "[ 0.90956863  0.90564706  0.89780392 ...,  0.55113725  0.48447059\n",
        "  0.40603922]"
       ]
      },
      {
       "output_type": "stream",
       "stream": "stdout",
       "text": [
        "\n",
        "175\n",
        "[ 0.50009804  0.55507843  0.59829412 ...,  0.44701961  0.44309804  0.498     ]"
       ]
      },
      {
       "output_type": "stream",
       "stream": "stdout",
       "text": [
        "\n",
        "176\n",
        "[ 0.57058824  0.38627451  0.28039216 ...,  0.42941176  0.33921569\n",
        "  0.31568627]"
       ]
      },
      {
       "output_type": "stream",
       "stream": "stdout",
       "text": [
        "\n",
        "177\n",
        "[ 0.90596405  0.88635621  0.8745915  ...,  0.85866013  0.81985294\n",
        "  0.81928105]"
       ]
      },
      {
       "output_type": "stream",
       "stream": "stdout",
       "text": [
        "\n",
        "178\n",
        "[ 0.97139216  0.97139216  0.97923529 ...,  0.35638105  0.32732157\n",
        "  0.3627268 ]"
       ]
      },
      {
       "output_type": "stream",
       "stream": "stdout",
       "text": [
        "\n",
        "179\n",
        "[ 0.86473203  0.86865359  0.88826144 ...,  0.68454902  0.66101961\n",
        "  0.67670588]"
       ]
      },
      {
       "output_type": "stream",
       "stream": "stdout",
       "text": [
        "\n",
        "180\n",
        "[ 0.8124902   0.84386275  0.887      ...,  0.52652288  0.32456209\n",
        "  0.33338562]\n",
        "181"
       ]
      },
      {
       "output_type": "stream",
       "stream": "stdout",
       "text": [
        "\n",
        "[ 0.48286275  0.49462745  0.15756863 ...,  0.51721569  0.41601961\n",
        "  0.11215686]"
       ]
      },
      {
       "output_type": "stream",
       "stream": "stdout",
       "text": [
        "\n",
        "182\n",
        "[ 0.96390052  0.96782209  0.97566523 ...,  0.80078941  0.78510314\n",
        "  0.78118157]"
       ]
      },
      {
       "output_type": "stream",
       "stream": "stdout",
       "text": [
        "\n",
        "183\n",
        "[ 0.51372549  0.65490196  0.78823529 ...,  0.33007843  0.28266667\n",
        "  0.29352941]\n",
        "184"
       ]
      },
      {
       "output_type": "stream",
       "stream": "stdout",
       "text": [
        "\n",
        "[ 0.78449556  0.83939752  0.85116222 ...,  0.84594105  0.78319595\n",
        "  0.72045085]"
       ]
      },
      {
       "output_type": "stream",
       "stream": "stdout",
       "text": [
        "\n",
        "185\n",
        "[ 0.94901961  0.94509804  0.9372549  ...,  0.85204248  0.78929739\n",
        "  0.6873366 ]"
       ]
      },
      {
       "output_type": "stream",
       "stream": "stdout",
       "text": [
        "\n",
        "186\n",
        "[ 0.46882353  0.53568627  0.10823529 ...,  0.71294118  0.71294118\n",
        "  0.72078431]"
       ]
      },
      {
       "output_type": "stream",
       "stream": "stdout",
       "text": [
        "\n",
        "187\n",
        "[ 1.          0.99215686  0.97254902 ...,  1.          1.          1.        ]"
       ]
      },
      {
       "output_type": "stream",
       "stream": "stdout",
       "text": [
        "\n",
        "188\n",
        "[ 0.57651961  0.68632353  0.69808824 ...,  0.61012745  0.64542157\n",
        "  0.63365686]"
       ]
      },
      {
       "output_type": "stream",
       "stream": "stdout",
       "text": [
        "\n",
        "189\n",
        "[ 0.15783007  0.55584314  0.55288889 ...,  0.93132026  0.86857516\n",
        "  0.81759477]"
       ]
      },
      {
       "output_type": "stream",
       "stream": "stdout",
       "text": [
        "\n",
        "190\n",
        "[ 0.81470588  0.90588235  0.99444444 ...,  0.98888889  0.87973856\n",
        "  0.71699346]"
       ]
      },
      {
       "output_type": "stream",
       "stream": "stdout",
       "text": [
        "\n",
        "191\n",
        "[ 0.18431373  0.15686275  0.12286275 ...,  0.09411765  0.11372549\n",
        "  0.09803922]\n",
        "192"
       ]
      },
      {
       "output_type": "stream",
       "stream": "stdout",
       "text": [
        "\n",
        "[ 0.56247059  0.56247059  0.60168627 ...,  0.39356863  0.38572549\n",
        "  0.40533333]\n",
        "193"
       ]
      },
      {
       "output_type": "stream",
       "stream": "stdout",
       "text": [
        "\n",
        "[ 0.8627451   0.8745098   0.90196078 ...,  0.80476654  0.7381783\n",
        "  0.66774693]"
       ]
      },
      {
       "output_type": "stream",
       "stream": "stdout",
       "text": [
        "\n",
        "194\n",
        "[ 0.85278431  0.84419608  0.87005882 ...,  0.8200719   0.77693464\n",
        "  0.75340523]"
       ]
      },
      {
       "output_type": "stream",
       "stream": "stdout",
       "text": [
        "\n",
        "195\n",
        "[ 0.66170745  0.87347216  0.88131529 ...,  0.83921569  0.90196078\n",
        "  0.90196078]\n",
        "196\n",
        "[ 0.87950745  0.83495007  0.84592575 ...,  0.34901961  0.63529412\n",
        "  0.65882353]"
       ]
      },
      {
       "output_type": "stream",
       "stream": "stdout",
       "text": [
        "\n",
        "197\n",
        "[ 0.60905882  0.73062745  0.80121569 ...,  0.24394118  0.25570588\n",
        "  0.27531373]"
       ]
      },
      {
       "output_type": "stream",
       "stream": "stdout",
       "text": [
        "\n",
        "198\n",
        "[ 0.77254902  0.77254902  0.78039216 ...,  0.85952941  0.88305882\n",
        "  0.93011765]"
       ]
      },
      {
       "output_type": "stream",
       "stream": "stdout",
       "text": [
        "\n",
        "199\n",
        "[ 0.7352549   0.76270588  0.8725098  ...,  0.62580392  0.5905      0.52778431]"
       ]
      },
      {
       "output_type": "stream",
       "stream": "stdout",
       "text": [
        "\n",
        "200\n",
        "[ 0.95        0.93382353  0.8995098  ...,  0.97696078  0.97598039\n",
        "  0.95931373]\n",
        "201\n",
        "[ 0.89019608  0.95294118  0.95294118 ...,  0.64901961  0.58235294\n",
        "  0.48039216]"
       ]
      },
      {
       "output_type": "stream",
       "stream": "stdout",
       "text": [
        "\n",
        "202\n",
        "[ 0.18235294  0.18235294  0.19019608 ...,  0.44313725  0.42352941\n",
        "  0.44313725]"
       ]
      },
      {
       "output_type": "stream",
       "stream": "stdout",
       "text": [
        "\n",
        "203\n",
        "[ 0.70645752  0.81626144  0.91037908 ...,  0.32064261  0.28927007\n",
        "  0.14417203]"
       ]
      },
      {
       "output_type": "stream",
       "stream": "stdout",
       "text": [
        "\n",
        "204\n",
        "[ 0.06666667  0.0627451   0.03333333 ...,  0.15294118  0.23529412\n",
        "  0.00784314]"
       ]
      },
      {
       "output_type": "stream",
       "stream": "stdout",
       "text": [
        "\n",
        "205\n",
        "[ 0.44705882  0.56862745  0.69019608 ...,  0.31739869  0.3136732\n",
        "  0.33426144]"
       ]
      },
      {
       "output_type": "stream",
       "stream": "stdout",
       "text": [
        "\n",
        "206\n",
        "[ 0.95686275  0.95294118  0.93333333 ...,  0.66605229  0.65434641\n",
        "  0.6190719 ]"
       ]
      },
      {
       "output_type": "stream",
       "stream": "stdout",
       "text": [
        "\n",
        "207\n",
        "[ 1.          0.98666444  0.94285399 ...,  0.35686275  0.31372549\n",
        "  0.24313725]"
       ]
      },
      {
       "output_type": "stream",
       "stream": "stdout",
       "text": [
        "\n",
        "208\n",
        "[ 0.18569281  0.17319608  0.12824837 ...,  0.97095425  0.92781699\n",
        "  0.84938562]"
       ]
      },
      {
       "output_type": "stream",
       "stream": "stdout",
       "text": [
        "\n",
        "209\n",
        "[ 0.25500667  0.33343804  0.36568614 ...,  0.04081046  0.00943791  0.        ]"
       ]
      },
      {
       "output_type": "stream",
       "stream": "stdout",
       "text": [
        "\n",
        "210\n",
        "[ 0.65882353  0.64313725  0.69803922 ...,  0.59215686  0.20980392\n",
        "  0.71176471]"
       ]
      },
      {
       "output_type": "stream",
       "stream": "stdout",
       "text": [
        "\n",
        "211\n",
        "[ 0.78039216  0.74117647  0.70588235 ...,  0.57843137  0.39803922\n",
        "  0.26666667]"
       ]
      },
      {
       "output_type": "stream",
       "stream": "stdout",
       "text": [
        "\n",
        "212\n",
        "[ 0.48799425  0.44477856  0.35850405 ...,  0.38583007  0.32700654\n",
        "  0.25249673]"
       ]
      },
      {
       "output_type": "stream",
       "stream": "stdout",
       "text": [
        "\n",
        "213\n",
        "[ 0.37882353  0.46666667  0.63254902 ...,  0.24313725  0.18039216\n",
        "  0.12156863]"
       ]
      },
      {
       "output_type": "stream",
       "stream": "stdout",
       "text": [
        "\n",
        "214\n",
        "[ 0.89159608  0.85490196  0.74397647 ...,  0.84815686  0.86776471\n",
        "  0.95403922]"
       ]
      },
      {
       "output_type": "stream",
       "stream": "stdout",
       "text": [
        "\n",
        "215\n",
        "[ 0.80256863  0.74650588  0.70417647 ...,  0.56652157  0.5098      0.44444314]"
       ]
      },
      {
       "output_type": "stream",
       "stream": "stdout",
       "text": [
        "\n",
        "216\n",
        "[ 0.24530392  0.19301634  0.15118627 ...,  0.0797451   0.06013725\n",
        "  0.04837255]\n",
        "217\n",
        "[ 0.77428758  0.45795425  0.33636601 ...,  0.45362092  0.38695425\n",
        "  0.42616993]"
       ]
      },
      {
       "output_type": "stream",
       "stream": "stdout",
       "text": [
        "\n",
        "218\n",
        "[ 0.89803922  0.89019608  0.90196078 ...,  0.87843137  0.80784314\n",
        "  0.76078431]"
       ]
      },
      {
       "output_type": "stream",
       "stream": "stdout",
       "text": [
        "\n",
        "219\n",
        "[ 0.21929542  0.45458954  0.56439346 ...,  0.11537908  0.15401569\n",
        "  0.13230458]"
       ]
      },
      {
       "output_type": "stream",
       "stream": "stdout",
       "text": [
        "\n",
        "220\n",
        "[ 0.8         0.83137255  0.88235294 ...,  0.47815556  0.35678301\n",
        "  0.24697908]"
       ]
      },
      {
       "output_type": "stream",
       "stream": "stdout",
       "text": [
        "\n",
        "221\n",
        "[ 0.54913595  0.48639085  0.42756732 ...,  0.82352941  0.81960784\n",
        "  0.8745098 ]"
       ]
      },
      {
       "output_type": "stream",
       "stream": "stdout",
       "text": [
        "\n",
        "222\n",
        "[ 0.66900654  0.5984183   0.55920261 ...,  0.21485412  0.24928549\n",
        "  0.29057124]"
       ]
      },
      {
       "output_type": "stream",
       "stream": "stdout",
       "text": [
        "\n",
        "223\n",
        "[ 0.82360784  0.82360784  0.82360784 ...,  0.54262902  0.53472209\n",
        "  0.54632993]"
       ]
      },
      {
       "output_type": "stream",
       "stream": "stdout",
       "text": [
        "\n",
        "224\n",
        "[ 0.9344983   0.9344983   0.9344983  ...,  0.41026876  0.35436444\n",
        "  0.29326065]"
       ]
      },
      {
       "output_type": "stream",
       "stream": "stdout",
       "text": [
        "\n",
        "225\n",
        "[ 1.          1.          1.         ...,  0.9167451   0.88145098\n",
        "  0.81478431]\n",
        "226\n",
        "[ 0.34707503  0.31570248  0.30393778 ...,  0.29014693  0.29014693\n",
        "  0.29799007]"
       ]
      },
      {
       "output_type": "stream",
       "stream": "stdout",
       "text": [
        "\n",
        "227\n",
        "[ 0.75686275  0.75686275  0.75686275 ...,  0.48502941  0.43602941\n",
        "  0.37626144]\n",
        "228"
       ]
      },
      {
       "output_type": "stream",
       "stream": "stdout",
       "text": [
        "\n",
        "[ 0.90820915  0.90428758  0.82193464 ...,  0.97647059  0.88627451\n",
        "  0.71372549]\n",
        "229\n",
        "[ 0.9254902   0.94117647  0.97647059 ...,  0.83137255  0.76470588\n",
        "  0.59607843]"
       ]
      },
      {
       "output_type": "stream",
       "stream": "stdout",
       "text": [
        "\n",
        "230\n",
        "[ 0.18235294  0.18235294  0.19019608 ...,  0.44313725  0.42352941\n",
        "  0.44313725]"
       ]
      },
      {
       "output_type": "stream",
       "stream": "stdout",
       "text": [
        "\n",
        "231\n",
        "[ 0.01764706  0.01764706  0.00980392 ...,  0.76470588  0.72941176\n",
        "  0.69411765]"
       ]
      },
      {
       "output_type": "stream",
       "stream": "stdout",
       "text": [
        "\n",
        "232\n",
        "[ 0.99200627  0.94284627  0.67002275 ...,  0.59215686  0.81568627\n",
        "  0.74117647]\n",
        "233\n",
        "[ 0.92253922  0.52838889  0.58918954 ...,  0.65098039  0.25490196\n",
        "  0.37254902]"
       ]
      },
      {
       "output_type": "stream",
       "stream": "stdout",
       "text": [
        "\n",
        "234\n",
        "[ 0.879       0.87845098  0.893      ...,  0.61866667  0.65564706\n",
        "  0.65172549]"
       ]
      },
      {
       "output_type": "stream",
       "stream": "stdout",
       "text": [
        "\n",
        "235\n",
        "[ 0.78822549  0.80391176  0.7999902  ...,  0.37644118  0.47448039\n",
        "  0.49408824]"
       ]
      },
      {
       "output_type": "stream",
       "stream": "stdout",
       "text": [
        "\n",
        "236\n",
        "[ 0.81058824  0.98960784  0.99235294 ...,  0.30406275  0.35112157\n",
        "  0.33818039]"
       ]
      },
      {
       "output_type": "stream",
       "stream": "stdout",
       "text": [
        "\n",
        "237\n",
        "[ 0.8745098   0.8627451   0.89019608 ...,  0.84632353  0.73469608\n",
        "  0.65295098]\n",
        "238\n",
        "[ 0.77254902  0.85490196  0.82745098 ...,  0.6661634   0.61910458\n",
        "  0.52498693]"
       ]
      },
      {
       "output_type": "stream",
       "stream": "stdout",
       "text": [
        "\n",
        "239\n",
        "[ 0.29411765  0.49803922  0.65098039 ...,  0.59338092  0.56185712\n",
        "  0.51376379]"
       ]
      },
      {
       "output_type": "stream",
       "stream": "stdout",
       "text": [
        "\n",
        "240\n",
        "[ 0.39095281  0.4419332   0.70859987 ...,  0.31422876  0.23273856\n",
        "  0.3194183 ]"
       ]
      },
      {
       "output_type": "stream",
       "stream": "stdout",
       "text": [
        "\n",
        "241\n",
        "[ 0.00188627  0.43819033  0.42591582 ...,  0.00213778  0.41448889\n",
        "  0.41705908]\n",
        "242\n",
        "[ 0.58052941  0.66490196  0.79629412 ...,  0.45578431  0.66441176\n",
        "  0.68754902]"
       ]
      },
      {
       "output_type": "stream",
       "stream": "stdout",
       "text": [
        "\n",
        "243\n",
        "[ 0.8729783   0.90827242  0.97493908 ...,  0.37110693  0.30915033\n",
        "  0.06561882]"
       ]
      },
      {
       "output_type": "stream",
       "stream": "stdout",
       "text": [
        "\n",
        "244\n",
        "[ 0.92096078  0.85037255  0.75747059 ...,  0.30828431  0.23377451\n",
        "  0.41220588]"
       ]
      },
      {
       "output_type": "stream",
       "stream": "stdout",
       "text": [
        "\n",
        "245\n",
        "[ 0.34313725  0.48039216  0.62941176 ...,  0.7         0.62941176\n",
        "  0.5745098 ]"
       ]
      },
      {
       "output_type": "stream",
       "stream": "stdout",
       "text": [
        "\n",
        "246\n",
        "[ 0.66143791  0.64183007  0.62614379 ...,  0.24869281  0.29901961\n",
        "  0.40555556]"
       ]
      },
      {
       "output_type": "stream",
       "stream": "stdout",
       "text": [
        "\n",
        "247\n",
        "[ 0.99694118  1.          0.9812549  ...,  0.99607843  0.99607843\n",
        "  0.99607843]"
       ]
      },
      {
       "output_type": "stream",
       "stream": "stdout",
       "text": [
        "\n",
        "248\n",
        "[ 0.90196078  0.88627451  0.89019608 ...,  0.16089542  0.1020719\n",
        "  0.07462092]"
       ]
      },
      {
       "output_type": "stream",
       "stream": "stdout",
       "text": [
        "\n",
        "249\n",
        "[ 0.8372549   0.89607843  0.88431373 ...,  0.3939085   0.44881046\n",
        "  0.46057516]"
       ]
      },
      {
       "output_type": "stream",
       "stream": "stdout",
       "text": [
        "\n",
        "250\n",
        "[ 0.26926431  0.42917438  0.52980758 ...,  0.55762719  0.54522353\n",
        "  0.5491451 ]"
       ]
      },
      {
       "output_type": "stream",
       "stream": "stdout",
       "text": [
        "\n",
        "251\n",
        "[ 0.27647059  0.41960784  0.59607843 ...,  0.57254902  0.59803922\n",
        "  0.54313725]\n",
        "252"
       ]
      },
      {
       "output_type": "stream",
       "stream": "stdout",
       "text": [
        "\n",
        "[ 0.88803346  0.93509229  0.97602562 ...,  0.93195922  0.88519686\n",
        "  0.84854327]"
       ]
      },
      {
       "output_type": "stream",
       "stream": "stdout",
       "text": [
        "\n",
        "253\n",
        "[ 0.18823529  0.45490196  0.63137255 ...,  0.69851569  0.68203137\n",
        "  0.60192745]"
       ]
      },
      {
       "output_type": "stream",
       "stream": "stdout",
       "text": [
        "\n",
        "254\n",
        "[ 0.63130196  0.60122353  0.57900784 ...,  0.62744314  0.58822745\n",
        "  0.55293333]"
       ]
      },
      {
       "output_type": "stream",
       "stream": "stdout",
       "text": [
        "\n",
        "255\n",
        "[ 0.45        0.46568627  0.50294118 ...,  0.40384314  0.34894118\n",
        "  0.30580392]"
       ]
      },
      {
       "output_type": "stream",
       "stream": "stdout",
       "text": [
        "\n",
        "256\n",
        "[ 0.90555556  0.9251634   0.94084967 ...,  0.8254902   0.84509804\n",
        "  0.85686275]"
       ]
      },
      {
       "output_type": "stream",
       "stream": "stdout",
       "text": [
        "\n",
        "257\n",
        "[ 1.          1.          1.         ...,  0.83631373  0.83819608\n",
        "  0.85882353]"
       ]
      },
      {
       "output_type": "stream",
       "stream": "stdout",
       "text": [
        "\n",
        "258\n",
        "[ 0.31534222  0.62514614  0.77808732 ...,  0.40533961  0.53156183\n",
        "  0.58453333]"
       ]
      },
      {
       "output_type": "stream",
       "stream": "stdout",
       "text": [
        "\n",
        "259\n",
        "[ 1.  1.  1. ...,  1.  1.  1.]"
       ]
      },
      {
       "output_type": "stream",
       "stream": "stdout",
       "text": [
        "\n",
        "260\n",
        "[ 0.35686275  0.3254902   0.55686275 ...,  0.28108484  0.2567319\n",
        "  0.36488876]"
       ]
      },
      {
       "output_type": "stream",
       "stream": "stdout",
       "text": [
        "\n",
        "261\n",
        "[ 0.50980392  0.65098039  0.77647059 ...,  0.30686275  0.27745098\n",
        "  0.2872549 ]"
       ]
      },
      {
       "output_type": "stream",
       "stream": "stdout",
       "text": [
        "\n",
        "262\n",
        "[ 0.45291503  0.61762092  0.7823268  ...,  0.51372549  0.49803922\n",
        "  0.50196078]"
       ]
      },
      {
       "output_type": "stream",
       "stream": "stdout",
       "text": [
        "\n",
        "263\n",
        "[ 0.15769621  0.20274824  0.3104732  ...,  0.0682949   0.0682949   0.0682949 ]"
       ]
      },
      {
       "output_type": "stream",
       "stream": "stdout",
       "text": [
        "\n",
        "264\n",
        "[ 0.31328993  0.36427033  0.43093699 ...,  0.46869817  0.52305882\n",
        "  0.58580392]"
       ]
      },
      {
       "output_type": "stream",
       "stream": "stdout",
       "text": [
        "\n",
        "265\n",
        "[ 0.27662745  0.27376471  0.36788235 ...,  0.17727477  0.17727477\n",
        "  0.21735373]"
       ]
      },
      {
       "output_type": "stream",
       "stream": "stdout",
       "text": [
        "\n",
        "266\n",
        "[ 0.70196078  0.88235294  0.98431373 ...,  0.5554902   0.4927451   0.43      ]"
       ]
      },
      {
       "output_type": "stream",
       "stream": "stdout",
       "text": [
        "\n",
        "267\n",
        "[ 0.89411765  0.89411765  0.88627451 ...,  0.26862745  0.22156863\n",
        "  0.16666667]"
       ]
      },
      {
       "output_type": "stream",
       "stream": "stdout",
       "text": [
        "\n",
        "268\n",
        "[ 0.78039216  0.69439216  0.60027451 ...,  0.61746706  0.51158471\n",
        "  0.44491804]\n",
        "269\n",
        "[ 0.38745425  0.35932026  0.42638235 ...,  0.1999085   0.15626144\n",
        "  0.15455556]"
       ]
      },
      {
       "output_type": "stream",
       "stream": "stdout",
       "text": [
        "\n",
        "270\n",
        "[ 0.09803922  0.32941176  0.62745098 ...,  0.97254902  0.96470588\n",
        "  0.97647059]"
       ]
      },
      {
       "output_type": "stream",
       "stream": "stdout",
       "text": [
        "\n",
        "271\n",
        "[ 0.77843137  0.79904902  0.8157451  ...,  0.07357843  0.48338235\n",
        "  0.59906863]\n",
        "272"
       ]
      },
      {
       "output_type": "stream",
       "stream": "stdout",
       "text": [
        "\n",
        "[ 0.84701961  0.87839216  0.89015686 ...,  0.92261765  0.89516667\n",
        "  0.84222549]\n",
        "273\n",
        "[ 0.98623529  0.98623529  0.99407843 ...,  0.48631373  0.44121569\n",
        "  0.40788235]"
       ]
      },
      {
       "output_type": "stream",
       "stream": "stdout",
       "text": [
        "\n",
        "274\n",
        "[ 0.66785294  0.69138235  0.66669608 ...,  0.25409804  0.46394118\n",
        "  0.44333333]\n",
        "275"
       ]
      },
      {
       "output_type": "stream",
       "stream": "stdout",
       "text": [
        "\n",
        "[ 0.99315686  0.99315686  0.98531373 ...,  0.95105882  0.94909804\n",
        "  0.92360784]\n",
        "276\n",
        "[ 0.88284314  0.89068627  0.87107843 ...,  0.96960784  0.94166667\n",
        "  0.91176471]"
       ]
      },
      {
       "output_type": "stream",
       "stream": "stdout",
       "text": [
        "\n",
        "277\n",
        "[ 0.9235098   0.92154902  0.89605882 ...,  0.59407843  0.50388235\n",
        "  0.4234902 ]"
       ]
      },
      {
       "output_type": "stream",
       "stream": "stdout",
       "text": [
        "\n",
        "278\n",
        "[ 0.64335294  0.75897059  0.76483333 ...,  0.52155882  0.21961765\n",
        "  0.02745098]"
       ]
      },
      {
       "output_type": "stream",
       "stream": "stdout",
       "text": [
        "\n",
        "279\n",
        "[ 0.26078431  0.27252941  0.21961765 ...,  0.71176471  0.74117647\n",
        "  0.73921569]"
       ]
      },
      {
       "output_type": "stream",
       "stream": "stdout",
       "text": [
        "\n",
        "280\n",
        "[ 0.84116667  0.88622549  0.9215     ...,  0.95880392  0.93919608\n",
        "  0.91958824]"
       ]
      },
      {
       "output_type": "stream",
       "stream": "stdout",
       "text": [
        "\n",
        "281\n",
        "[ 0.42745098  0.46666667  0.4745098  ...,  0.93529412  0.92745098\n",
        "  0.93137255]"
       ]
      },
      {
       "output_type": "stream",
       "stream": "stdout",
       "text": [
        "\n",
        "282\n",
        "[ 0.89582353  0.76063725  0.47228431 ...,  0.14310784  0.11957843\n",
        "  0.19997059]"
       ]
      },
      {
       "output_type": "stream",
       "stream": "stdout",
       "text": [
        "\n",
        "283\n",
        "[ 0.27320261  0.3124183   0.03594771 ...,  0.14035948  0.20081699\n",
        "  0.07352941]"
       ]
      },
      {
       "output_type": "stream",
       "stream": "stdout",
       "text": [
        "\n",
        "284\n",
        "[ 0.44542157  0.46110784  0.4042549  ...,  0.05496078  0.0275098\n",
        "  0.05496078]"
       ]
      },
      {
       "output_type": "stream",
       "stream": "stdout",
       "text": [
        "\n",
        "285\n",
        "[ 0.84806863  0.82453922  0.87159804 ...,  0.52087255  0.43851961\n",
        "  0.4267549 ]"
       ]
      },
      {
       "output_type": "stream",
       "stream": "stdout",
       "text": [
        "\n",
        "286\n",
        "[ 0.97647059  0.98431373  1.         ...,  0.66648039  0.68214706\n",
        "  0.72134314]"
       ]
      },
      {
       "output_type": "stream",
       "stream": "stdout",
       "text": [
        "\n",
        "287\n",
        "[ 0.95686275  0.95686275  0.95686275 ...,  0.47843137  0.42372549\n",
        "  0.44004902]"
       ]
      },
      {
       "output_type": "stream",
       "stream": "stdout",
       "text": [
        "\n",
        "288\n",
        "[ 0.91764706  0.91764706  0.91764706 ...,  0.44896078  0.36268627\n",
        "  0.21954902]"
       ]
      },
      {
       "output_type": "stream",
       "stream": "stdout",
       "text": [
        "\n",
        "289\n",
        "[ 0.149       0.10193137  0.01178431 ...,  0.66862745  0.69215686\n",
        "  0.74705882]"
       ]
      },
      {
       "output_type": "stream",
       "stream": "stdout",
       "text": [
        "\n",
        "290\n",
        "[ 0.96274039  0.95881882  0.98234824 ...,  0.91986353  0.84143216\n",
        "  0.74339294]\n",
        "291\n",
        "[ 0.80980392  0.80588235  0.78627451 ...,  0.75294118  0.75294118\n",
        "  0.79215686]"
       ]
      },
      {
       "output_type": "stream",
       "stream": "stdout",
       "text": [
        "\n",
        "292\n",
        "[ 0.92301961  0.83963725  0.7967451  ...,  0.13509804  0.11493137\n",
        "  0.04403922]\n",
        "293"
       ]
      },
      {
       "output_type": "stream",
       "stream": "stdout",
       "text": [
        "\n",
        "[ 0.87024837  0.88593464  0.88985621 ...,  0.90196078  0.76470588\n",
        "  0.67843137]\n",
        "294"
       ]
      },
      {
       "output_type": "stream",
       "stream": "stdout",
       "text": [
        "\n",
        "[ 0.36936523  0.35367895  0.31060549 ...,  0.06666667  0.06666667\n",
        "  0.06666667]"
       ]
      },
      {
       "output_type": "stream",
       "stream": "stdout",
       "text": [
        "\n",
        "295\n",
        "[ 0.76447059  0.87047059  0.95282353 ...,  0.6365098   0.63210667\n",
        "  0.61198118]\n",
        "296\n",
        "[ 0.64067974  0.57317647  0.61124706 ...,  0.85391895  0.83484444\n",
        "  0.78635817]"
       ]
      },
      {
       "output_type": "stream",
       "stream": "stdout",
       "text": [
        "\n",
        "297\n",
        "[ 0.15980392  0.18333333  0.14411765 ...,  0.81427451  0.72407843\n",
        "  0.69482353]"
       ]
      },
      {
       "output_type": "stream",
       "stream": "stdout",
       "text": [
        "\n",
        "298\n",
        "[ 0.29308497  0.26563399  0.2319085  ...,  0.53333333  0.55294118\n",
        "  0.57647059]"
       ]
      },
      {
       "output_type": "stream",
       "stream": "stdout",
       "text": [
        "\n",
        "299\n",
        "[ 0.10040523  0.09620915  0.08918954 ...,  0.45487582  0.48322876\n",
        "  0.54326797]"
       ]
      },
      {
       "output_type": "stream",
       "stream": "stdout",
       "text": [
        "\n",
        "300\n",
        "[ 0.34575163  0.29869281  0.20457516 ...,  0.39462745  0.41031373\n",
        "  0.44796078]"
       ]
      },
      {
       "output_type": "stream",
       "stream": "stdout",
       "text": [
        "\n",
        "301\n",
        "[ 0.          0.53160784  0.67656863 ...,  0.79641176  0.72190196\n",
        "  0.65523529]"
       ]
      },
      {
       "output_type": "stream",
       "stream": "stdout",
       "text": [
        "\n",
        "302\n",
        "[ 0.08095059  0.27856941  0.36171608 ...,  0.53566745  0.26507922\n",
        "  0.04249098]\n",
        "303\n",
        "[ 0.01482353  0.01482353  0.01482353 ...,  0.01176471  0.01176471\n",
        "  0.01960784]"
       ]
      },
      {
       "output_type": "stream",
       "stream": "stdout",
       "text": [
        "\n",
        "304\n",
        "[ 0.9045098   0.90058824  0.8927451  ...,  0.13232941  0.14349804\n",
        "  0.1468549 ]\n",
        "305"
       ]
      },
      {
       "output_type": "stream",
       "stream": "stdout",
       "text": [
        "\n",
        "[ 0.0990949   0.22850667  0.30301647 ...,  0.14782039  0.13213412  0.09684   ]"
       ]
      },
      {
       "output_type": "stream",
       "stream": "stdout",
       "text": [
        "\n",
        "306\n",
        "[ 0.63343137  0.5777098   0.47820784 ...,  0.94509804  0.92941176\n",
        "  0.9254902 ]\n",
        "307"
       ]
      },
      {
       "output_type": "stream",
       "stream": "stdout",
       "text": [
        "\n",
        "[ 0.75323529  0.80813725  0.81205882 ...,  0.19561961  0.11718824\n",
        "  0.07405098]"
       ]
      },
      {
       "output_type": "stream",
       "stream": "stdout",
       "text": [
        "\n",
        "308\n",
        "[ 0.7867749   0.54544157  0.37166745 ...,  0.81341176  0.77811765\n",
        "  0.7585098 ]"
       ]
      },
      {
       "output_type": "stream",
       "stream": "stdout",
       "text": [
        "\n",
        "309\n",
        "[ 0.50905882  0.56862745  0.54154902 ...,  0.75967529  0.76359686\n",
        "  0.77928314]"
       ]
      },
      {
       "output_type": "stream",
       "stream": "stdout",
       "text": [
        "\n",
        "310\n",
        "[ 0.6955098   0.71511765  0.69158824 ...,  0.8584902   0.8584902\n",
        "  0.85064706]"
       ]
      },
      {
       "output_type": "stream",
       "stream": "stdout",
       "text": [
        "\n",
        "311\n",
        "[ 0.76008078  0.74047294  0.72478667 ...,  0.63078431  0.62294118\n",
        "  0.57588235]"
       ]
      },
      {
       "output_type": "stream",
       "stream": "stdout",
       "text": [
        "\n",
        "312\n",
        "[ 0.80611765  0.77082353  0.74337255 ...,  0.77923608  0.79884392\n",
        "  0.81419686]"
       ]
      },
      {
       "output_type": "stream",
       "stream": "stdout",
       "text": [
        "\n",
        "313\n",
        "[ 0.58219608  0.58611765  0.56298039 ...,  0.74941176  0.66749804\n",
        "  0.54649412]"
       ]
      },
      {
       "output_type": "stream",
       "stream": "stdout",
       "text": [
        "\n",
        "314\n",
        "[ 0.1254902   0.17254902  0.03137255 ...,  0.24917647  0.30595098\n",
        "  0.09436275]\n",
        "315"
       ]
      },
      {
       "output_type": "stream",
       "stream": "stdout",
       "text": [
        "\n",
        "[ 1.  1.  1. ...,  1.  1.  1.]\n",
        "316\n",
        "[ 0.99533333  0.99533333  0.99533333 ...,  0.98468627  0.98468627\n",
        "  0.98468627]"
       ]
      },
      {
       "output_type": "stream",
       "stream": "stdout",
       "text": [
        "\n",
        "317\n",
        "[ 0.98401712  0.98401712  0.98401712 ...,  0.9800719   0.9800719   0.9800719 ]\n",
        "318\n",
        "[ 0.00784314  0.05882353  0.13333333 ...,  0.10025856  0.18653307\n",
        "  0.28065072]"
       ]
      },
      {
       "output_type": "stream",
       "stream": "stdout",
       "text": [
        "\n",
        "319\n",
        "[ 0.8772549   0.87333333  0.85372549 ...,  0.72745098  0.6254902   0.5745098 ]"
       ]
      },
      {
       "output_type": "stream",
       "stream": "stdout",
       "text": [
        "\n",
        "320\n",
        "[ 0.9745098   0.97058824  0.95098039 ...,  0.8         0.83529412\n",
        "  0.87058824]"
       ]
      },
      {
       "output_type": "stream",
       "stream": "stdout",
       "text": [
        "\n",
        "321\n",
        "[ 0.65004902  0.65587255  0.68926471 ...,  0.63820588  0.64604902\n",
        "  0.69508824]\n",
        "322\n",
        "[ 0.33333333  0.52941176  0.77647059 ...,  0.68979477  0.6858732\n",
        "  0.66999085]"
       ]
      },
      {
       "output_type": "stream",
       "stream": "stdout",
       "text": [
        "\n",
        "323\n",
        "[ 0.82833333  0.84794118  0.87147059 ...,  0.60233333  0.50821569\n",
        "  0.23194118]"
       ]
      },
      {
       "output_type": "stream",
       "stream": "stdout",
       "text": [
        "\n",
        "324\n",
        "[ 0.81153203  0.79584575  0.78408105 ...,  0.5873098   0.5873098   0.5873098 ]"
       ]
      },
      {
       "output_type": "stream",
       "stream": "stdout",
       "text": [
        "\n",
        "325\n",
        "[ 0.95686275  0.97254902  0.98431373 ...,  0.74079739  0.76824837\n",
        "  0.79177778]"
       ]
      },
      {
       "output_type": "stream",
       "stream": "stdout",
       "text": [
        "\n",
        "326\n",
        "[ 0.97058824  0.96666667  0.95882353 ...,  0.63484314  0.58778431\n",
        "  0.53288235]"
       ]
      },
      {
       "output_type": "stream",
       "stream": "stdout",
       "text": [
        "\n",
        "327\n",
        "[ 0.60935817  0.71131895  0.71524052 ...,  0.17341438  0.17733595\n",
        "  0.15380654]"
       ]
      },
      {
       "output_type": "stream",
       "stream": "stdout",
       "text": [
        "\n",
        "328\n",
        "[ 0.09011634  0.3913451   0.68386797 ...,  0.37442222  0.35481438\n",
        "  0.34304967]"
       ]
      },
      {
       "output_type": "stream",
       "stream": "stdout",
       "text": [
        "\n",
        "329\n",
        "[ 0.48214379  0.44684967  0.41155556 ...,  0.25171765  0.21365229\n",
        "  0.19543007]\n",
        "330"
       ]
      },
      {
       "output_type": "stream",
       "stream": "stdout",
       "text": [
        "\n",
        "[ 1.  1.  1. ...,  1.  1.  1.]\n",
        "331\n",
        "[ 1.  1.  1. ...,  1.  1.  1.]"
       ]
      },
      {
       "output_type": "stream",
       "stream": "stdout",
       "text": [
        "\n",
        "332\n",
        "[ 0.75134641  0.58664052  0.39840523 ...,  0.64997255  0.48918824\n",
        "  0.41075686]"
       ]
      },
      {
       "output_type": "stream",
       "stream": "stdout",
       "text": [
        "\n",
        "333\n",
        "[ 0.84313725  0.83921569  0.85882353 ...,  0.34005098  0.31474118\n",
        "  0.2263902 ]"
       ]
      },
      {
       "output_type": "stream",
       "stream": "stdout",
       "text": [
        "\n",
        "334\n",
        "[ 0.81568627  0.81960784  0.79607843 ...,  0.88517451  0.86556667\n",
        "  0.84988039]"
       ]
      },
      {
       "output_type": "stream",
       "stream": "stdout",
       "text": [
        "\n",
        "335\n",
        "[ 0.79894118  0.80286275  0.74300549 ...,  0.47301961  0.33968627\n",
        "  0.19458824]"
       ]
      },
      {
       "output_type": "stream",
       "stream": "stdout",
       "text": [
        "\n",
        "336\n",
        "[ 0.9345098   0.8854902   0.85346405 ...,  0.91043137  0.85160784\n",
        "  0.83984314]\n",
        "337"
       ]
      },
      {
       "output_type": "stream",
       "stream": "stdout",
       "text": [
        "\n",
        "[ 0.78823529  0.77254902  0.7372549  ...,  0.58431373  0.56862745\n",
        "  0.52156863]"
       ]
      },
      {
       "output_type": "stream",
       "stream": "stdout",
       "text": [
        "\n",
        "338\n",
        "[ 0.64705882  0.73333333  0.78431373 ...,  0.56054837  0.62721503\n",
        "  0.66643072]"
       ]
      },
      {
       "output_type": "stream",
       "stream": "stdout",
       "text": [
        "\n",
        "339\n",
        "[ 0.91372549  0.93333333  0.95686275 ...,  0.81535948  0.81143791\n",
        "  0.79183007]"
       ]
      },
      {
       "output_type": "stream",
       "stream": "stdout",
       "text": [
        "\n",
        "340\n",
        "[ 0.91372549  0.92941176  0.92679739 ...,  0.78235294  0.90392157\n",
        "  0.9745098 ]\n",
        "341"
       ]
      },
      {
       "output_type": "stream",
       "stream": "stdout",
       "text": [
        "\n",
        "[ 0.33195059  0.25369804  0.26164993 ...,  0.98431373  0.98431373\n",
        "  0.98431373]\n",
        "342\n",
        "[ 0.98430392  0.96077451  0.91371569 ...,  0.72945098  0.56082353\n",
        "  0.49415686]"
       ]
      },
      {
       "output_type": "stream",
       "stream": "stdout",
       "text": [
        "\n",
        "343\n",
        "[ 0.19133987  0.17173203  0.1874183  ...,  0.14852941  0.12892157\n",
        "  0.15571895]"
       ]
      },
      {
       "output_type": "stream",
       "stream": "stdout",
       "text": [
        "\n",
        "344\n",
        "[ 0.16895425  0.17287582  0.11797386 ...,  0.61503268  0.48366013\n",
        "  0.40326797]\n",
        "345\n",
        "[ 0.74117647  0.70196078  0.66666667 ...,  0.85882353  0.84313725\n",
        "  0.83137255]"
       ]
      },
      {
       "output_type": "stream",
       "stream": "stdout",
       "text": [
        "\n",
        "346\n",
        "[ 0.47058824  0.41176471  0.62745098 ...,  0.42105882  0.33764706\n",
        "  0.40498039]\n",
        "347\n",
        "[ 0.41352288  0.44489542  0.5350915  ...,  0.50269935  0.33015033\n",
        "  0.22426797]"
       ]
      },
      {
       "output_type": "stream",
       "stream": "stdout",
       "text": [
        "\n",
        "348\n",
        "[ 0.98431373  0.98431373  0.98431373 ...,  0.77547712  0.80139869\n",
        "  0.72597386]"
       ]
      },
      {
       "output_type": "stream",
       "stream": "stdout",
       "text": [
        "\n",
        "349\n",
        "[ 0.90196078  0.92941176  0.96078431 ...,  0.74637255  0.71107843\n",
        "  0.67578431]"
       ]
      },
      {
       "output_type": "stream",
       "stream": "stdout",
       "text": [
        "\n",
        "350\n",
        "[ 0.65490196  0.70980392  0.75294118 ...,  0.48407843  0.4710098\n",
        "  0.46864706]"
       ]
      },
      {
       "output_type": "stream",
       "stream": "stdout",
       "text": [
        "\n",
        "351\n",
        "[ 0.66095098  0.66879412  0.62565686 ...,  0.72242157  0.77732353\n",
        "  0.78908824]"
       ]
      },
      {
       "output_type": "stream",
       "stream": "stdout",
       "text": [
        "\n",
        "352\n",
        "[ 0.76470588  0.76862745  0.77647059 ...,  0.26078431  0.23333333\n",
        "  0.20196078]"
       ]
      },
      {
       "output_type": "stream",
       "stream": "stdout",
       "text": [
        "\n",
        "353\n",
        "[ 1.          1.          1.         ...,  0.99888235  0.99719608\n",
        "  0.99570065]"
       ]
      },
      {
       "output_type": "stream",
       "stream": "stdout",
       "text": [
        "\n",
        "354\n",
        "[ 0.39150327  0.31699346  0.25882353 ...,  0.92916667  0.93308824\n",
        "  0.90955882]"
       ]
      },
      {
       "output_type": "stream",
       "stream": "stdout",
       "text": [
        "\n",
        "355\n",
        "[ 0.84153595  0.84153595  0.84578431 ...,  0.95839869  0.95839869\n",
        "  0.95839869]\n",
        "356"
       ]
      },
      {
       "output_type": "stream",
       "stream": "stdout",
       "text": [
        "\n",
        "[ 0.60064052  0.56926797  0.37711111 ...,  0.33377647  0.29456078\n",
        "  0.29063922]\n",
        "357\n",
        "[ 0.61023529  0.55533333  0.3112549  ...,  0.68235294  0.72156863\n",
        "  0.81960784]"
       ]
      },
      {
       "output_type": "stream",
       "stream": "stdout",
       "text": [
        "\n",
        "358\n",
        "[ 0.56071895  0.51098039  0.46290196 ...,  0.84194771  0.82257516\n",
        "  0.80712418]"
       ]
      },
      {
       "output_type": "stream",
       "stream": "stdout",
       "text": [
        "\n",
        "359\n",
        "[ 0.80341176  0.7994902   0.79164706 ...,  0.76019608  0.69745098\n",
        "  0.63470588]\n",
        "360"
       ]
      },
      {
       "output_type": "stream",
       "stream": "stdout",
       "text": [
        "\n",
        "[ 0.97732026  0.93156863  0.93091503 ...,  0.5030719   0.42464052\n",
        "  0.38416993]\n",
        "361\n",
        "[ 0.23198693  0.15261438  0.09128105 ...,  0.43755556  0.36332026\n",
        "  0.24126797]"
       ]
      },
      {
       "output_type": "stream",
       "stream": "stdout",
       "text": [
        "\n",
        "362\n",
        "[ 0.34698366  0.29969608  0.03517647 ...,  0.7470098   0.53916667\n",
        "  0.22544118]"
       ]
      },
      {
       "output_type": "stream",
       "stream": "stdout",
       "text": [
        "\n",
        "363\n",
        "[ 0.32480719  0.35225817  0.39147386 ...,  0.08133007  0.06564379\n",
        "  0.05387908]"
       ]
      },
      {
       "output_type": "stream",
       "stream": "stdout",
       "text": [
        "\n",
        "364\n",
        "[ 0.77156863  0.63823529  0.63039216 ...,  0.71705882  0.61460784\n",
        "  0.61931373]\n",
        "365\n",
        "[ 0.          0.          0.         ...,  0.27647059  0.11960784\n",
        "  0.04705882]"
       ]
      },
      {
       "output_type": "stream",
       "stream": "stdout",
       "text": [
        "\n",
        "366\n",
        "[ 0.94509804  0.90980392  0.91372549 ...,  0.81215686  0.76107843\n",
        "  0.65745098]\n",
        "367"
       ]
      },
      {
       "output_type": "stream",
       "stream": "stdout",
       "text": [
        "\n",
        "[ 0.          0.          0.         ...,  0.27647059  0.11960784\n",
        "  0.04705882]"
       ]
      },
      {
       "output_type": "stream",
       "stream": "stdout",
       "text": [
        "\n",
        "368\n",
        "[ 1.  1.  1. ...,  1.  1.  1.]\n",
        "369\n",
        "[ 0.81235804  0.6087698   0.59820118 ...,  0.86819608  0.58317647\n",
        "  0.6367451 ]"
       ]
      },
      {
       "output_type": "stream",
       "stream": "stdout",
       "text": [
        "\n",
        "370\n",
        "[ 0.29706275  0.38725882  0.32413595 ...,  0.20284248  0.17697974\n",
        "  0.21586209]"
       ]
      },
      {
       "output_type": "stream",
       "stream": "stdout",
       "text": [
        "\n",
        "371\n",
        "[ 1.  1.  1. ...,  1.  1.  1.]\n",
        "372"
       ]
      },
      {
       "output_type": "stream",
       "stream": "stdout",
       "text": [
        "\n",
        "[ 0.35772549  0.28946405  0.24705882 ...,  0.31017176  0.24577307\n",
        "  0.17972078]"
       ]
      },
      {
       "output_type": "stream",
       "stream": "stdout",
       "text": [
        "\n",
        "373\n",
        "[ 0.93333333  0.8965098   0.8814902  ...,  0.15533333  0.12003922\n",
        "  0.13180392]"
       ]
      },
      {
       "output_type": "stream",
       "stream": "stdout",
       "text": [
        "\n",
        "374\n",
        "[ 0.33319216  0.36539608  0.40244706 ...,  0.40627451  0.35137255\n",
        "  0.33960784]\n",
        "375"
       ]
      },
      {
       "output_type": "stream",
       "stream": "stdout",
       "text": [
        "\n",
        "[ 0.02119582  0.08231386  0.0214183  ...,  0.04640627  0.09956941\n",
        "  0.02914458]"
       ]
      },
      {
       "output_type": "stream",
       "stream": "stdout",
       "text": [
        "\n",
        "376\n",
        "[ 0.57398693  0.52300654  0.49947712 ...,  0.66169935  0.59895425\n",
        "  0.58065359]"
       ]
      },
      {
       "output_type": "stream",
       "stream": "stdout",
       "text": [
        "\n",
        "377\n",
        "[ 0.59137255  0.34169935  0.17437908 ...,  0.62797386  0.60052288\n",
        "  0.57464052]\n",
        "378"
       ]
      },
      {
       "output_type": "stream",
       "stream": "stdout",
       "text": [
        "\n",
        "[ 0.94447059  0.65098039  0.48596078 ...,  0.61869281  0.71281046\n",
        "  0.66183007]\n",
        "379\n",
        "[ 0.2595715   0.08329699  0.09498327 ...,  0.59618588  0.46039503\n",
        "  0.39053882]"
       ]
      },
      {
       "output_type": "stream",
       "stream": "stdout",
       "text": [
        "\n",
        "380\n",
        "[ 0.49803922  0.41960784  0.39215686 ...,  0.61202614  0.43383007\n",
        "  0.28614379]"
       ]
      },
      {
       "output_type": "stream",
       "stream": "stdout",
       "text": [
        "\n",
        "381\n",
        "[ 0.68127451  0.67735294  0.6695098  ...,  0.58575163  0.58575163\n",
        "  0.58575163]\n",
        "382"
       ]
      },
      {
       "output_type": "stream",
       "stream": "stdout",
       "text": [
        "\n",
        "[ 0.78160784  0.84435294  0.94631373 ...,  0.80764706  0.80764706\n",
        "  0.77627451]"
       ]
      },
      {
       "output_type": "stream",
       "stream": "stdout",
       "text": [
        "\n",
        "383\n",
        "[ 0.37647059  0.38039216  0.38823529 ...,  0.29411765  0.28627451\n",
        "  0.29019608]"
       ]
      },
      {
       "output_type": "stream",
       "stream": "stdout",
       "text": [
        "\n",
        "384\n",
        "[ 0.82843137  0.8872549   0.89901961 ...,  0.67189542  0.73071895\n",
        "  0.71895425]\n",
        "385\n",
        "[ 0.94661542  0.90441935  0.90198797 ...,  0.87937255  0.85584314\n",
        "  0.85584314]"
       ]
      },
      {
       "output_type": "stream",
       "stream": "stdout",
       "text": [
        "\n",
        "386\n",
        "[ 0.68243137  0.6785098   0.67066667 ...,  0.58198693  0.58198693\n",
        "  0.58198693]"
       ]
      },
      {
       "output_type": "stream",
       "stream": "stdout",
       "text": [
        "\n",
        "387\n",
        "[ 0.67843137  0.65490196  0.59215686 ...,  0.84901961  0.85686275\n",
        "  0.8372549 ]\n",
        "388"
       ]
      },
      {
       "output_type": "stream",
       "stream": "stdout",
       "text": [
        "\n",
        "[ 0.23464052  0.43856209  0.67385621 ...,  0.78490196  0.76137255\n",
        "  0.76137255]"
       ]
      },
      {
       "output_type": "stream",
       "stream": "stdout",
       "text": [
        "\n",
        "389\n",
        "[ 0.54509804  0.63137255  0.7254902  ...,  0.78627451  0.76666667\n",
        "  0.75098039]\n",
        "390\n",
        "[ 1.  1.  1. ...,  1.  1.  1.]"
       ]
      },
      {
       "output_type": "stream",
       "stream": "stdout",
       "text": [
        "\n",
        "391\n",
        "[ 0.518       0.5807451   0.5807451  ...,  0.52858824  0.55996078\n",
        "  0.57172549]"
       ]
      },
      {
       "output_type": "stream",
       "stream": "stdout",
       "text": [
        "\n",
        "392\n",
        "[ 0.99260654  0.99260654  0.99582745 ...,  1.          1.          1.        ]"
       ]
      },
      {
       "output_type": "stream",
       "stream": "stdout",
       "text": [
        "\n",
        "393\n",
        "[ 1.          0.96862745  0.91764706 ...,  0.88113778  0.8824319\n",
        "  0.84580444]"
       ]
      },
      {
       "output_type": "stream",
       "stream": "stdout",
       "text": [
        "\n",
        "394\n",
        "[ 0.20732471  0.21589987  0.15073229 ...,  0.3565098   0.32121569\n",
        "  0.29376471]"
       ]
      },
      {
       "output_type": "stream",
       "stream": "stdout",
       "text": [
        "\n",
        "395\n",
        "[ 0.51069281  0.4694902   0.58815686 ...,  0.37254902  0.38828758\n",
        "  0.41375163]"
       ]
      },
      {
       "output_type": "stream",
       "stream": "stdout",
       "text": [
        "\n",
        "396\n",
        "[ 0.67190196  0.73856863  0.8135098  ...,  0.88605882  0.86841176\n",
        "  0.80370588]\n",
        "397"
       ]
      },
      {
       "output_type": "stream",
       "stream": "stdout",
       "text": [
        "\n",
        "[ 0.39607843  0.43137255  0.44117647 ...,  0.00392157  0.00392157\n",
        "  0.00392157]"
       ]
      },
      {
       "output_type": "stream",
       "stream": "stdout",
       "text": [
        "\n",
        "398\n",
        "[ 0.87249882  0.83720471  0.72347922 ...,  0.70898353  0.65016     0.52859137]\n",
        "399"
       ]
      },
      {
       "output_type": "stream",
       "stream": "stdout",
       "text": [
        "\n",
        "[ 0.27075163  0.31388889  0.4001634  ...,  0.25245098  0.18578431\n",
        "  0.15441176]"
       ]
      },
      {
       "output_type": "stream",
       "stream": "stdout",
       "text": [
        "\n",
        "400\n",
        "[ 0.99215686  1.          0.99607843 ...,  0.99215686  1.          0.99607843]"
       ]
      },
      {
       "output_type": "stream",
       "stream": "stdout",
       "text": [
        "\n",
        "401\n",
        "[ 0.96609033  0.96216876  0.94648248 ...,  0.25078209  0.23413503\n",
        "  0.1163834 ]"
       ]
      },
      {
       "output_type": "stream",
       "stream": "stdout",
       "text": [
        "\n",
        "402\n",
        "[ 0.73764706  0.79254902  0.84352941 ...,  0.79562092  0.7603268\n",
        "  0.70111111]"
       ]
      },
      {
       "output_type": "stream",
       "stream": "stdout",
       "text": [
        "\n",
        "403\n",
        "[ 0.79333333  0.8096732   0.94496732 ...,  0.67667974  0.66671895\n",
        "  0.68794771]\n",
        "404\n",
        "[ 0.64709804  0.81269608  0.89108824 ...,  0.6245      0.82933333\n",
        "  0.90966667]"
       ]
      },
      {
       "output_type": "stream",
       "stream": "stdout",
       "text": [
        "\n",
        "405\n",
        "[ 0.23942157  0.30478105  0.13942157 ...,  0.86934641  0.21920915\n",
        "  0.28719608]"
       ]
      },
      {
       "output_type": "stream",
       "stream": "stdout",
       "text": [
        "\n",
        "406\n",
        "[ 0.61202614  0.58541176  0.61636601 ...,  0.30713307  0.29998431\n",
        "  0.10306928]"
       ]
      },
      {
       "output_type": "stream",
       "stream": "stdout",
       "text": [
        "\n",
        "407\n",
        "[ 0.99215686  0.99215686  0.99215686 ...,  0.99215686  0.99215686\n",
        "  0.99215686]"
       ]
      },
      {
       "output_type": "stream",
       "stream": "stdout",
       "text": [
        "\n",
        "408\n",
        "[ 0.84544523  0.89887373  0.93397647 ...,  0.57625307  0.61464157\n",
        "  0.74400105]"
       ]
      },
      {
       "output_type": "stream",
       "stream": "stdout",
       "text": [
        "\n",
        "409\n",
        "[ 0.50980392  0.65098039  0.77647059 ...,  0.30686275  0.27745098\n",
        "  0.2872549 ]"
       ]
      },
      {
       "output_type": "stream",
       "stream": "stdout",
       "text": [
        "\n",
        "410\n",
        "[ 0.94509804  0.96470588  0.98039216 ...,  0.32698562  0.42502484\n",
        "  0.51129935]"
       ]
      },
      {
       "output_type": "stream",
       "stream": "stdout",
       "text": [
        "\n",
        "411\n",
        "[ 0.3482549   0.52864706  0.76001961 ...,  0.57352078  0.57618745\n",
        "  0.55328549]"
       ]
      },
      {
       "output_type": "stream",
       "stream": "stdout",
       "text": [
        "\n",
        "412\n",
        "[ 0.57647059  0.59607843  0.75294118 ...,  0.38823529  0.32941176\n",
        "  0.34901961]\n",
        "413"
       ]
      },
      {
       "output_type": "stream",
       "stream": "stdout",
       "text": [
        "\n",
        "[ 0.19031373  0.12960784  0.07129412 ...,  0.43819608  0.41662745\n",
        "  0.39137255]"
       ]
      },
      {
       "output_type": "stream",
       "stream": "stdout",
       "text": [
        "\n",
        "414\n",
        "[ 0.99612549  0.92574641  0.98054379 ...,  0.58420915  0.46656209\n",
        "  0.27048366]"
       ]
      },
      {
       "output_type": "stream",
       "stream": "stdout",
       "text": [
        "\n",
        "415\n",
        "[ 0.80072575  0.63994144  0.51798797 ...,  0.45912471  0.34147765  0.24736   ]"
       ]
      },
      {
       "output_type": "stream",
       "stream": "stdout",
       "text": [
        "\n",
        "416\n",
        "[ 1.          1.          1.         ...,  0.69531216  0.76862588\n",
        "  0.82352784]\n",
        "417\n",
        "[ 0.63137255  0.67843137  0.77254902 ...,  0.48594771  0.18398693\n",
        "  0.06503268]"
       ]
      },
      {
       "output_type": "stream",
       "stream": "stdout",
       "text": [
        "\n",
        "418\n",
        "[ 0.87213072  0.82899346  0.82115033 ...,  0.58823529  0.56470588\n",
        "  0.51764706]\n",
        "419\n",
        "[ 0.12156863  0.23529412  0.50196078 ...,  0.08627451  0.08235294\n",
        "  0.10588235]"
       ]
      },
      {
       "output_type": "stream",
       "stream": "stdout",
       "text": [
        "\n",
        "420\n",
        "[ 0.97254902  0.97254902  0.97254902 ...,  0.92886275  0.92886275\n",
        "  0.92101961]"
       ]
      },
      {
       "output_type": "stream",
       "stream": "stdout",
       "text": [
        "\n",
        "421\n",
        "[ 1.          0.98823529  0.96862745 ...,  0.61155294  0.55420784\n",
        "  0.42160654]"
       ]
      },
      {
       "output_type": "stream",
       "stream": "stdout",
       "text": [
        "\n",
        "422\n",
        "[ 0.73921569  0.76666667  0.80588235 ...,  0.36858824  0.30976471\n",
        "  0.29015686]\n",
        "423"
       ]
      },
      {
       "output_type": "stream",
       "stream": "stdout",
       "text": [
        "\n",
        "[ 0.89411765  0.91372549  0.92941176 ...,  0.84901961  0.82745098\n",
        "  0.83921569]"
       ]
      },
      {
       "output_type": "stream",
       "stream": "stdout",
       "text": [
        "\n",
        "424\n",
        "[ 0.86862745  0.88431373  0.89607843 ...,  0.77843137  0.81764706\n",
        "  0.86470588]"
       ]
      },
      {
       "output_type": "stream",
       "stream": "stdout",
       "text": [
        "\n",
        "425\n",
        "[ 0.41691503  0.32671895  0.20122876 ...,  0.06626118  0.10155529\n",
        "  0.01920235]"
       ]
      },
      {
       "output_type": "stream",
       "stream": "stdout",
       "text": [
        "\n",
        "426\n",
        "[ 0.7454902   0.72588235  0.71019608 ...,  0.7992549   0.79533333\n",
        "  0.77964706]"
       ]
      },
      {
       "output_type": "stream",
       "stream": "stdout",
       "text": [
        "\n",
        "427\n",
        "[ 0.41176471  0.40784314  0.38823529 ...,  0.8624183   0.82320261\n",
        "  0.81535948]"
       ]
      },
      {
       "output_type": "stream",
       "stream": "stdout",
       "text": [
        "\n",
        "428\n",
        "[ 0.31131895  0.27210327  0.2681817  ...,  0.03308366  0.01739739\n",
        "  0.01347582]"
       ]
      },
      {
       "output_type": "stream",
       "stream": "stdout",
       "text": [
        "\n",
        "429\n",
        "[ 0.65696078  0.71578431  0.68833333 ...,  0.60392157  0.63823529\n",
        "  0.58372549]\n",
        "430\n",
        "[ 0.22376471  0.27866667  0.17738039 ...,  0.48953725  0.42287059\n",
        "  0.36012549]"
       ]
      },
      {
       "output_type": "stream",
       "stream": "stdout",
       "text": [
        "\n",
        "431\n",
        "[ 0.25902118  0.18043294  0.08249255 ...,  0.07315608  0.03464627\n",
        "  0.00123451]\n",
        "432"
       ]
      },
      {
       "output_type": "stream",
       "stream": "stdout",
       "text": [
        "\n",
        "[ 0.92156863  0.9254902   0.90196078 ...,  0.68311569  0.71146863\n",
        "  0.71629216]\n",
        "433\n",
        "[ 0.89864052  0.89471895  0.88687582 ...,  0.7861885   0.77050222\n",
        "  0.72736497]"
       ]
      },
      {
       "output_type": "stream",
       "stream": "stdout",
       "text": [
        "\n",
        "434\n",
        "[ 0.23456209  0.15686275  0.1395817  ...,  0.34055124  0.32337477\n",
        "  0.26910562]"
       ]
      },
      {
       "output_type": "stream",
       "stream": "stdout",
       "text": [
        "\n",
        "435\n",
        "[ 0.05882353  0.05882353  0.05882353 ...,  0.12156863  0.1254902\n",
        "  0.13333333]"
       ]
      },
      {
       "output_type": "stream",
       "stream": "stdout",
       "text": [
        "\n",
        "436\n",
        "[ 0.94296078  0.92727451  0.89198039 ...,  0.78562745  0.43734314\n",
        "  0.53701961]"
       ]
      },
      {
       "output_type": "stream",
       "stream": "stdout",
       "text": [
        "\n",
        "437\n",
        "[ 0.4707281   0.48638889  0.46473333 ...,  0.50388889  0.56271242\n",
        "  0.57584967]"
       ]
      },
      {
       "output_type": "stream",
       "stream": "stdout",
       "text": [
        "\n",
        "438\n",
        "[ 0.8245098   0.83235294  0.85       ...,  0.71176471  0.7         0.67254902]"
       ]
      },
      {
       "output_type": "stream",
       "stream": "stdout",
       "text": [
        "\n",
        "439\n",
        "[ 0.66311111  0.70909804  0.65205229 ...,  0.74064052  0.85436601\n",
        "  0.84652288]\n",
        "440\n",
        "[ 0.40196078  0.29607843  0.08627451 ...,  0.25294118  0.15882353\n",
        "  0.05294118]"
       ]
      },
      {
       "output_type": "stream",
       "stream": "stdout",
       "text": [
        "\n",
        "441\n",
        "[ 0.58529412  0.65784314  0.67352941 ...,  0.8245098   0.8245098\n",
        "  0.83235294]\n",
        "442"
       ]
      },
      {
       "output_type": "stream",
       "stream": "stdout",
       "text": [
        "\n",
        "[ 0.81764706  0.82941176  0.79411765 ...,  0.5627451   0.58235294\n",
        "  0.59411765]\n",
        "443\n",
        "[ 0.83529412  0.83529412  0.83529412 ...,  0.3745098   0.3745098   0.3745098 ]"
       ]
      },
      {
       "output_type": "stream",
       "stream": "stdout",
       "text": [
        "\n",
        "444\n",
        "[ 0.12962745  0.05511765  0.03943137 ...,  0.68103922  0.583       0.46143137]\n",
        "445\n",
        "[ 0.98124183  0.98124183  0.98124183 ...,  0.98653595  0.98653595\n",
        "  0.98653595]"
       ]
      },
      {
       "output_type": "stream",
       "stream": "stdout",
       "text": [
        "\n",
        "446\n",
        "[ 0.86359477  0.8479085   0.95379085 ...,  0.71169935  0.66856209\n",
        "  0.83718954]\n",
        "447\n",
        "[ 0.17339216  0.11764706  0.10588235 ...,  0.04962418  0.0989183\n",
        "  0.06446732]"
       ]
      },
      {
       "output_type": "stream",
       "stream": "stdout",
       "text": [
        "\n",
        "448\n",
        "[ 0.99215686  0.99215686  0.99215686 ...,  0.94976627  0.8085898\n",
        "  0.72066824]\n",
        "449\n",
        "[ 0.69796732  0.69298693  0.49783007 ...,  0.74515686  0.74907843\n",
        "  0.75692157]"
       ]
      },
      {
       "output_type": "stream",
       "stream": "stdout",
       "text": [
        "\n",
        "450\n",
        "[ 0.72044392  0.69299294  0.82240471 ...,  0.44577778  0.4136732\n",
        "  0.53524183]"
       ]
      },
      {
       "output_type": "stream",
       "stream": "stdout",
       "text": [
        "\n",
        "451\n",
        "[ 0.98039216  0.98039216  0.98039216 ...,  0.63053268  0.57955229\n",
        "  0.54425817]"
       ]
      },
      {
       "output_type": "stream",
       "stream": "stdout",
       "text": [
        "\n",
        "452\n",
        "[ 0.2995098   0.3504902   0.38578431 ...,  0.3879902   0.28995098\n",
        "  0.16985294]"
       ]
      },
      {
       "output_type": "stream",
       "stream": "stdout",
       "text": [
        "\n",
        "453\n",
        "[ 0.24962745  0.28884314  0.32805882 ...,  0.25789869  0.21083987\n",
        "  0.16378105]"
       ]
      },
      {
       "output_type": "stream",
       "stream": "stdout",
       "text": [
        "\n",
        "454\n",
        "[ 0.80390327  0.77253072  0.76076601 ...,  0.9930719   0.9930719\n",
        "  0.99398693]"
       ]
      },
      {
       "output_type": "stream",
       "stream": "stdout",
       "text": [
        "\n",
        "455\n",
        "[ 0.91764706  0.91764706  0.91764706 ...,  0.89411765  0.89803922\n",
        "  0.91372549]\n",
        "456\n",
        "[ 0.81176471  0.75294118  0.73333333 ...,  0.83529412  0.77647059\n",
        "  0.75686275]\n",
        "457"
       ]
      },
      {
       "output_type": "stream",
       "stream": "stdout",
       "text": [
        "\n",
        "[ 0.98137255  0.98137255  0.98921569 ...,  0.69784314  0.65862745\n",
        "  0.4527451 ]\n",
        "458\n",
        "[ 0.52156863  0.60784314  0.6627451  ...,  0.57843137  0.55098039\n",
        "  0.48039216]\n",
        "459"
       ]
      },
      {
       "output_type": "stream",
       "stream": "stdout",
       "text": [
        "\n",
        "[ 0.10040523  0.09620915  0.08918954 ...,  0.45487582  0.48322876\n",
        "  0.54326797]"
       ]
      },
      {
       "output_type": "stream",
       "stream": "stdout",
       "text": [
        "\n",
        "460\n",
        "[ 0.51040248  0.51751359  0.54018301 ...,  0.85490196  0.84705882\n",
        "  0.85098039]"
       ]
      },
      {
       "output_type": "stream",
       "stream": "stdout",
       "text": [
        "\n",
        "461\n",
        "[ 0.37794118  0.37794118  0.37794118 ...,  0.54705882  0.47647059\n",
        "  0.38823529]"
       ]
      },
      {
       "output_type": "stream",
       "stream": "stdout",
       "text": [
        "\n",
        "462\n",
        "[ 0.47693647  0.46507843  0.39056863 ...,  0.19224275  0.17892157\n",
        "  0.14378431]"
       ]
      },
      {
       "output_type": "stream",
       "stream": "stdout",
       "text": [
        "\n",
        "463\n",
        "[ 0.66360784  0.66752941  0.59882353 ...,  0.63223529  0.57733333\n",
        "  0.44007843]\n",
        "464"
       ]
      },
      {
       "output_type": "stream",
       "stream": "stdout",
       "text": [
        "\n",
        "[ 0.58474902  0.63520654  0.73886667 ...,  0.30981046  0.32157516\n",
        "  0.34118301]"
       ]
      },
      {
       "output_type": "stream",
       "stream": "stdout",
       "text": [
        "\n",
        "465\n",
        "[ 0.27058824  0.23529412  0.17647059 ...,  0.80784314  0.79607843\n",
        "  0.7372549 ]\n",
        "466\n",
        "[ 1.          0.99607843  1.         ...,  0.66836601  0.77816993\n",
        "  0.79385621]"
       ]
      },
      {
       "output_type": "stream",
       "stream": "stdout",
       "text": [
        "\n",
        "467\n",
        "[ 0.95098039  0.95098039  0.95882353 ...,  0.78235294  0.78235294\n",
        "  0.74313725]\n",
        "468\n",
        "[ 0.84776052  0.82030954  0.78109386 ...,  0.84086275  0.81733333\n",
        "  0.75663582]"
       ]
      },
      {
       "output_type": "stream",
       "stream": "stdout",
       "text": [
        "\n",
        "469\n",
        "[ 0.77352941  0.77352941  0.78137255 ...,  0.77745098  0.7872549\n",
        "  0.78333333]\n",
        "470"
       ]
      },
      {
       "output_type": "stream",
       "stream": "stdout",
       "text": [
        "\n",
        "[ 0.09468627  0.148       0.04215686 ...,  0.02294118  0.34333333\n",
        "  0.25745098]"
       ]
      },
      {
       "output_type": "stream",
       "stream": "stdout",
       "text": [
        "\n",
        "471\n",
        "[ 0.66390196  0.73968627  0.80646405 ...,  0.6345817   0.64646405\n",
        "  0.7053268 ]"
       ]
      },
      {
       "output_type": "stream",
       "stream": "stdout",
       "text": [
        "\n",
        "472\n",
        "[ 0.84222222  0.87359477  0.88535948 ...,  0.16377778  0.17946405\n",
        "  0.17554248]"
       ]
      },
      {
       "output_type": "stream",
       "stream": "stdout",
       "text": [
        "\n",
        "473\n",
        "[ 0.88415111  0.85896575  0.77742641 ...,  0.33239791  0.31639791\n",
        "  0.32008418]"
       ]
      },
      {
       "output_type": "stream",
       "stream": "stdout",
       "text": [
        "\n",
        "474\n",
        "[ 0.20784314  0.56470588  0.92941176 ...,  0.12154902  0.10978431\n",
        "  0.37252941]"
       ]
      },
      {
       "output_type": "stream",
       "stream": "stdout",
       "text": [
        "\n",
        "475\n",
        "[ 0.99209804  0.99142484  0.99540523 ...,  1.          0.99675163  1.        ]"
       ]
      },
      {
       "output_type": "stream",
       "stream": "stdout",
       "text": [
        "\n",
        "476\n",
        "[ 0.95686275  0.95686275  0.95686275 ...,  0.95294118  0.9254902\n",
        "  0.90196078]"
       ]
      },
      {
       "output_type": "stream",
       "stream": "stdout",
       "text": [
        "\n",
        "477\n",
        "[ 0.59096732  0.50184314  0.44317647 ...,  0.69908497  0.74222222\n",
        "  0.82352941]\n",
        "478\n",
        "[ 0.99215686  0.98431373  0.98823529 ...,  0.95294118  0.92156863\n",
        "  0.90980392]"
       ]
      },
      {
       "output_type": "stream",
       "stream": "stdout",
       "text": [
        "\n",
        "479\n",
        "[ 0.48509804  0.48509804  0.48509804 ...,  0.20152941  0.13486275\n",
        "  0.07211765]"
       ]
      },
      {
       "output_type": "stream",
       "stream": "stdout",
       "text": [
        "\n",
        "480\n",
        "[ 0.83215686  0.84        0.75372549 ...,  0.82568627  0.79823529\n",
        "  0.69627451]\n",
        "481\n",
        "[ 0.77058824  0.79803922  0.82941176 ...,  0.73235294  0.65        0.53823529]"
       ]
      },
      {
       "output_type": "stream",
       "stream": "stdout",
       "text": [
        "\n",
        "482\n",
        "[ 0.95453595  0.95453595  0.95453595 ...,  1.          1.          1.        ]"
       ]
      },
      {
       "output_type": "stream",
       "stream": "stdout",
       "text": [
        "\n",
        "483\n",
        "[ 0.99215686  1.          0.98039216 ...,  0.2513315   0.21334458\n",
        "  0.17248183]"
       ]
      },
      {
       "output_type": "stream",
       "stream": "stdout",
       "text": [
        "\n",
        "484\n",
        "[ 0.98040523  0.98579085  0.97929412 ...,  0.33535294  0.30398039\n",
        "  0.29221569]"
       ]
      },
      {
       "output_type": "stream",
       "stream": "stdout",
       "text": [
        "\n",
        "485\n",
        "[ 0.3345098   0.36196078  0.42470588 ...,  0.53137255  0.57058824\n",
        "  0.60980392]"
       ]
      },
      {
       "output_type": "stream",
       "stream": "stdout",
       "text": [
        "\n",
        "486\n",
        "[ 0.43158824  0.49041176  0.61223634 ...,  0.89840719  0.83333529\n",
        "  0.73262562]"
       ]
      },
      {
       "output_type": "stream",
       "stream": "stdout",
       "text": [
        "\n",
        "487\n",
        "[ 0.06472379  0.16603752  0.2324885  ...,  0.85506484  0.77663346\n",
        "  0.74133935]"
       ]
      },
      {
       "output_type": "stream",
       "stream": "stdout",
       "text": [
        "\n",
        "488\n",
        "[ 0.8745098   0.87843137  0.85490196 ...,  0.90980392  0.92941176\n",
        "  0.94509804]"
       ]
      },
      {
       "output_type": "stream",
       "stream": "stdout",
       "text": [
        "\n",
        "489\n",
        "[ 0.17945098  0.07756863  0.03309804 ...,  0.63435294  0.66588235\n",
        "  0.64533333]"
       ]
      },
      {
       "output_type": "stream",
       "stream": "stdout",
       "text": [
        "\n",
        "490\n",
        "[ 0.73760392  0.71746405  0.69337255 ...,  0.78126928  0.71460261\n",
        "  0.64192288]"
       ]
      },
      {
       "output_type": "stream",
       "stream": "stdout",
       "text": [
        "\n",
        "491\n",
        "[ 0.75686275  0.71372549  0.62745098 ...,  0.5768366   0.39963399\n",
        "  0.3254902 ]\n",
        "492"
       ]
      },
      {
       "output_type": "stream",
       "stream": "stdout",
       "text": [
        "\n",
        "[ 0.8627451   0.8745098   0.90196078 ...,  0.82124183  0.75653595\n",
        "  0.67222222]\n",
        "493\n",
        "[ 0.42333333  0.44686275  0.44686275 ...,  0.01568627  0.          0.        ]"
       ]
      },
      {
       "output_type": "stream",
       "stream": "stdout",
       "text": [
        "\n",
        "494\n",
        "[ 0.22352941  0.24313725  0.16470588 ...,  0.66103791  0.70025359\n",
        "  0.70665882]"
       ]
      },
      {
       "output_type": "stream",
       "stream": "stdout",
       "text": [
        "\n",
        "495\n",
        "[ 0.86470588  0.8372549   0.78823529 ...,  0.81960784  0.78431373\n",
        "  0.74901961]\n",
        "496\n",
        "[ 0.91138275  0.93100654  0.94992157 ...,  0.73340379  0.7004481\n",
        "  0.68544301]"
       ]
      },
      {
       "output_type": "stream",
       "stream": "stdout",
       "text": [
        "\n",
        "497\n",
        "[ 0.20598693  0.24520261  0.2844183  ...,  0.14078431  0.12109804\n",
        "  0.12317647]"
       ]
      },
      {
       "output_type": "stream",
       "stream": "stdout",
       "text": [
        "\n",
        "498\n",
        "[ 0.19818301  0.24524183  0.29230065 ...,  0.20954248  0.1820915\n",
        "  0.15071895]\n",
        "499"
       ]
      },
      {
       "output_type": "stream",
       "stream": "stdout",
       "text": [
        "\n",
        "[ 0.34669281  0.41016993  0.62352941 ...,  0.37747712  0.32649673\n",
        "  0.43630065]\n",
        "500"
       ]
      },
      {
       "output_type": "stream",
       "stream": "stdout",
       "text": [
        "\n",
        "[ 0.51568627  0.61372549  0.73137255 ...,  0.76862745  0.75294118\n",
        "  0.74117647]\n",
        "501\n",
        "[ 0.83645425  0.84429739  0.79331699 ...,  0.20788889  0.23202614\n",
        "  0.23688889]"
       ]
      },
      {
       "output_type": "stream",
       "stream": "stdout",
       "text": [
        "\n",
        "502\n",
        "[ 0.18370641  0.09935948  0.10653294 ...,  0.29538209  0.31120562\n",
        "  0.34608797]"
       ]
      },
      {
       "output_type": "stream",
       "stream": "stdout",
       "text": [
        "\n",
        "503\n",
        "[ 0.37875817  0.38267974  0.31993464 ...,  0.60228758  0.5748366\n",
        "  0.50490196]"
       ]
      },
      {
       "output_type": "stream",
       "stream": "stdout",
       "text": [
        "\n",
        "504\n",
        "[ 0.12156863  0.12156863  0.12941176 ...,  0.47254902  0.48431373\n",
        "  0.55098039]"
       ]
      },
      {
       "output_type": "stream",
       "stream": "stdout",
       "text": [
        "\n",
        "505\n",
        "[ 0.36862745  0.49019608  0.70588235 ...,  0.32797386  0.31620915\n",
        "  0.35934641]"
       ]
      },
      {
       "output_type": "stream",
       "stream": "stdout",
       "text": [
        "\n",
        "506\n",
        "[ 0.96078431  0.95294118  0.96470588 ...,  0.91862745  0.87941176\n",
        "  0.8754902 ]"
       ]
      },
      {
       "output_type": "stream",
       "stream": "stdout",
       "text": [
        "\n",
        "507\n",
        "[ 0.80158824  0.88001961  0.97413725 ...,  0.94654902  0.88503922\n",
        "  0.82388235]"
       ]
      },
      {
       "output_type": "stream",
       "stream": "stdout",
       "text": [
        "\n",
        "508\n",
        "[ 0.27800784  0.05447843  0.11832157 ...,  0.78313725  0.76745098\n",
        "  0.72431373]"
       ]
      },
      {
       "output_type": "stream",
       "stream": "stdout",
       "text": [
        "\n",
        "509\n",
        "[ 0.83388235  0.86917647  0.90025098 ...,  0.86039216  0.8172549\n",
        "  0.74666667]"
       ]
      },
      {
       "output_type": "stream",
       "stream": "stdout",
       "text": [
        "\n",
        "510\n",
        "[ 0.77902614  0.75304575  0.75948366 ...,  0.58722876  0.6068366\n",
        "  0.61860131]\n",
        "511"
       ]
      },
      {
       "output_type": "stream",
       "stream": "stdout",
       "text": [
        "\n",
        "[ 0.52347451  0.5523451   0.38890196 ...,  0.65881569  0.65097255\n",
        "  0.59214902]\n",
        "512"
       ]
      },
      {
       "output_type": "stream",
       "stream": "stdout",
       "text": [
        "\n",
        "[ 0.95114379  0.94330065  0.94722222 ...,  0.96519608  0.90261438\n",
        "  0.83946078]"
       ]
      },
      {
       "output_type": "stream",
       "stream": "stdout",
       "text": [
        "\n",
        "513\n",
        "[ 1.  1.  1. ...,  1.  1.  1.]\n",
        "514\n",
        "[ 1.          1.          1.         ...,  0.98823529  0.98823529\n",
        "  0.98823529]"
       ]
      },
      {
       "output_type": "stream",
       "stream": "stdout",
       "text": [
        "\n",
        "515\n",
        "[ 0.99607843  0.99607843  0.99607843 ...,  0.18856209  0.18464052\n",
        "  0.20816993]"
       ]
      },
      {
       "output_type": "stream",
       "stream": "stdout",
       "text": [
        "\n",
        "516\n",
        "[ 0.72993464  0.71934641  0.70496732 ...,  0.89803922  0.88627451\n",
        "  0.86535948]"
       ]
      },
      {
       "output_type": "stream",
       "stream": "stdout",
       "text": [
        "\n",
        "517\n",
        "[ 0.74993464  0.89816993  0.96418301 ...,  0.38405229  0.36836601\n",
        "  0.36915033]"
       ]
      },
      {
       "output_type": "stream",
       "stream": "stdout",
       "text": [
        "\n",
        "518\n",
        "[ 0.89738562  0.89346405  0.9130719  ...,  0.35398693  0.31973856\n",
        "  0.29111111]"
       ]
      },
      {
       "output_type": "stream",
       "stream": "stdout",
       "text": [
        "\n",
        "519\n",
        "[ 0.61728824  0.65115098  0.70454902 ...,  0.55679608  0.49287451\n",
        "  0.43010196]"
       ]
      },
      {
       "output_type": "stream",
       "stream": "stdout",
       "text": [
        "\n",
        "520\n",
        "[ 0.82158824  0.8255098   0.83335294 ...,  0.81121647  0.81121647\n",
        "  0.80337333]\n",
        "521"
       ]
      },
      {
       "output_type": "stream",
       "stream": "stdout",
       "text": [
        "\n",
        "[ 0.95382353  0.93813725  0.92637255 ...,  0.60645425  0.61821895\n",
        "  0.6378268 ]\n",
        "522\n",
        "[ 0.87058824  0.89803922  0.92941176 ...,  0.90588235  0.88627451\n",
        "  0.90196078]"
       ]
      },
      {
       "output_type": "stream",
       "stream": "stdout",
       "text": [
        "\n",
        "523\n",
        "[ 0.86543791  0.86543791  0.87328105 ...,  0.48003922  0.41163399\n",
        "  0.36459477]\n",
        "524\n",
        "[ 0.92908497  0.91339869  0.90947712 ...,  0.8498366   0.85065359\n",
        "  0.85849673]"
       ]
      },
      {
       "output_type": "stream",
       "stream": "stdout",
       "text": [
        "\n",
        "525\n",
        "[ 0.53529412  0.62156863  0.66470588 ...,  0.41185294  0.39616667\n",
        "  0.4549902 ]"
       ]
      },
      {
       "output_type": "stream",
       "stream": "stdout",
       "text": [
        "\n",
        "526\n",
        "[ 0.84222222  0.87359477  0.88535948 ...,  0.16377778  0.17946405\n",
        "  0.17554248]"
       ]
      },
      {
       "output_type": "stream",
       "stream": "stdout",
       "text": [
        "\n",
        "527\n",
        "[ 0.28028431  0.46363725  0.54495098 ...,  0.2751634   0.35751634\n",
        "  0.36143791]"
       ]
      },
      {
       "output_type": "stream",
       "stream": "stdout",
       "text": [
        "\n",
        "528\n",
        "[ 0.4200281   0.4041719   0.23573399 ...,  0.58651634  0.60612418\n",
        "  0.61788889]\n",
        "529"
       ]
      },
      {
       "output_type": "stream",
       "stream": "stdout",
       "text": [
        "\n",
        "[ 0.58759085  0.56013987  0.53661046 ...,  0.46081176  0.37453725\n",
        "  0.31963529]\n",
        "530"
       ]
      },
      {
       "output_type": "stream",
       "stream": "stdout",
       "text": [
        "\n",
        "[ 0.68759608  0.72559216  0.78351503 ...,  0.34727843  0.34727843\n",
        "  0.34832418]\n",
        "531\n",
        "[ 0.6417098   0.65517386  0.67138301 ...,  0.74073725  0.73681569\n",
        "  0.7603451 ]"
       ]
      },
      {
       "output_type": "stream",
       "stream": "stdout",
       "text": [
        "\n",
        "532\n",
        "[ 0.91764706  0.92156863  0.94117647 ...,  0.52100654  0.59159477\n",
        "  0.60728105]\n",
        "533"
       ]
      },
      {
       "output_type": "stream",
       "stream": "stdout",
       "text": [
        "\n",
        "[ 0.98004183  0.9839634   0.99180654 ...,  0.33369412  0.26088366\n",
        "  0.19931503]\n",
        "534"
       ]
      },
      {
       "output_type": "stream",
       "stream": "stdout",
       "text": [
        "\n",
        "[ 0.95881046  0.95881046  0.95881046 ...,  0.65310458  0.64918301\n",
        "  0.6769085 ]\n",
        "535"
       ]
      },
      {
       "output_type": "stream",
       "stream": "stdout",
       "text": [
        "\n",
        "[ 0.97722941  0.97722941  0.97722941 ...,  0.28358627  0.22865294\n",
        "  0.16405098]\n",
        "536"
       ]
      },
      {
       "output_type": "stream",
       "stream": "stdout",
       "text": [
        "\n",
        "[ 0.10980392  0.43137255  0.62745098 ...,  0.23386928  0.43386928\n",
        "  0.54759477]\n",
        "537"
       ]
      },
      {
       "output_type": "stream",
       "stream": "stdout",
       "text": [
        "\n",
        "[ 0.94901961  0.96862745  0.99215686 ...,  0.51098039  0.51320261\n",
        "  0.5254902 ]"
       ]
      },
      {
       "output_type": "stream",
       "stream": "stdout",
       "text": [
        "\n",
        "538\n",
        "[ 0.21044248  0.22835098  0.24011569 ...,  0.51726275  0.52510588\n",
        "  0.50549804]"
       ]
      },
      {
       "output_type": "stream",
       "stream": "stdout",
       "text": [
        "\n",
        "539\n",
        "[ 0.66476667  0.72093007  0.63943791 ...,  0.55156144  0.45299935\n",
        "  0.31299935]"
       ]
      },
      {
       "output_type": "stream",
       "stream": "stdout",
       "text": [
        "\n",
        "540\n",
        "[ 0.96862745  0.98823529  1.         ...,  0.43868039  0.3980634\n",
        "  0.39075033]"
       ]
      },
      {
       "output_type": "stream",
       "stream": "stdout",
       "text": [
        "\n",
        "541\n",
        "[ 0.85678431  0.896       0.93129412 ...,  0.70074771  0.68775425\n",
        "  0.70615948]"
       ]
      },
      {
       "output_type": "stream",
       "stream": "stdout",
       "text": [
        "\n",
        "542\n",
        "[ 0.65519608  0.75323529  0.87088235 ...,  0.86561765  0.81463725\n",
        "  0.79110784]"
       ]
      },
      {
       "output_type": "stream",
       "stream": "stdout",
       "text": [
        "\n",
        "543\n",
        "[ 0.76722222  0.80643791  0.85349673 ...,  0.73678431  0.61440523\n",
        "  0.59454902]\n",
        "544"
       ]
      },
      {
       "output_type": "stream",
       "stream": "stdout",
       "text": [
        "\n",
        "[ 0.80766078  0.69858235  0.61622941 ...,  0.12125425  0.0898817\n",
        "  0.07811699]"
       ]
      },
      {
       "output_type": "stream",
       "stream": "stdout",
       "text": [
        "\n",
        "545\n",
        "[ 1.          1.          1.         ...,  0.69526275  0.65996863\n",
        "  0.59330196]"
       ]
      },
      {
       "output_type": "stream",
       "stream": "stdout",
       "text": [
        "\n",
        "546\n",
        "[ 0.96403922  0.89737255  0.72482353 ...,  0.90090196  0.846       0.66168627]"
       ]
      },
      {
       "output_type": "stream",
       "stream": "stdout",
       "text": [
        "\n",
        "547\n",
        "[ 0.00392157  0.00392157  0.00392157 ...,  0.27058824  0.19607843\n",
        "  0.1372549 ]"
       ]
      },
      {
       "output_type": "stream",
       "stream": "stdout",
       "text": [
        "\n",
        "548\n",
        "[ 0.98039216  0.83921569  0.70588235 ...,  0.59607843  0.40784314\n",
        "  0.32941176]"
       ]
      },
      {
       "output_type": "stream",
       "stream": "stdout",
       "text": [
        "\n",
        "549\n",
        "[ 0.26385621  0.19326797  0.14006536 ...,  0.01176471  0.00784314  0.        ]"
       ]
      },
      {
       "output_type": "stream",
       "stream": "stdout",
       "text": [
        "\n",
        "550\n",
        "[ 0.20784314  0.18823529  0.2745098  ...,  0.20784314  0.18823529\n",
        "  0.2745098 ]"
       ]
      },
      {
       "output_type": "stream",
       "stream": "stdout",
       "text": [
        "\n",
        "551\n",
        "[ 0.2599749   0.22468078  0.20507294 ...,  0.13570039  0.14354353\n",
        "  0.12393569]"
       ]
      },
      {
       "output_type": "stream",
       "stream": "stdout",
       "text": [
        "\n",
        "552\n",
        "[ 0.96078431  0.96470588  0.98039216 ...,  0.64494118  0.64494118\n",
        "  0.61356863]"
       ]
      },
      {
       "output_type": "stream",
       "stream": "stdout",
       "text": [
        "\n",
        "553\n",
        "[ 0.43581699  0.36915033  0.34079739 ...,  0.3565098   0.30277124\n",
        "  0.22173856]"
       ]
      },
      {
       "output_type": "stream",
       "stream": "stdout",
       "text": [
        "\n",
        "554\n",
        "[ 0.18701961  0.55013399  0.74269608 ...,  0.82640196  0.76365686\n",
        "  0.70091176]\n",
        "555"
       ]
      },
      {
       "output_type": "stream",
       "stream": "stdout",
       "text": [
        "\n",
        "[ 0.56783333  0.71685294  0.80704902 ...,  0.89645098  0.84547059\n",
        "  0.82194118]"
       ]
      },
      {
       "output_type": "stream",
       "stream": "stdout",
       "text": [
        "\n",
        "556\n",
        "[ 0.69803922  0.68627451  0.65139869 ...,  0.51733333  0.36047059\n",
        "  0.15654902]"
       ]
      },
      {
       "output_type": "stream",
       "stream": "stdout",
       "text": [
        "\n",
        "557\n",
        "[ 0.75686275  0.65098039  0.54509804 ...,  0.74705882  0.75882353\n",
        "  0.78627451]"
       ]
      },
      {
       "output_type": "stream",
       "stream": "stdout",
       "text": [
        "\n",
        "558\n",
        "[ 0.88627451  0.89019608  0.90588235 ...,  0.32859804  0.27369608\n",
        "  0.23840196]"
       ]
      },
      {
       "output_type": "stream",
       "stream": "stdout",
       "text": [
        "\n",
        "559\n",
        "[ 0.94117647  0.94509804  0.96078431 ...,  0.90947386  0.89378758\n",
        "  0.89770915]"
       ]
      },
      {
       "output_type": "stream",
       "stream": "stdout",
       "text": [
        "\n",
        "560\n",
        "[ 0.07254902  0.06078431  0.00196078 ...,  0.45228758  0.45620915\n",
        "  0.23267974]\n",
        "561"
       ]
      },
      {
       "output_type": "stream",
       "stream": "stdout",
       "text": [
        "\n",
        "[ 0.91570588  0.89080392  0.73864706 ...,  0.94490196  0.88607843\n",
        "  0.76960784]"
       ]
      },
      {
       "output_type": "stream",
       "stream": "stdout",
       "text": [
        "\n",
        "562\n",
        "[ 0.66078431  0.47254902  0.33137255 ...,  0.33921569  0.56078431\n",
        "  0.6627451 ]"
       ]
      },
      {
       "output_type": "stream",
       "stream": "stdout",
       "text": [
        "\n",
        "563\n",
        "[ 0.84222222  0.87359477  0.88535948 ...,  0.16377778  0.17946405\n",
        "  0.17554248]"
       ]
      },
      {
       "output_type": "stream",
       "stream": "stdout",
       "text": [
        "\n",
        "564\n",
        "[ 1.  1.  1. ...,  1.  1.  1.]"
       ]
      },
      {
       "output_type": "stream",
       "stream": "stdout",
       "text": [
        "\n",
        "565\n",
        "[ 0.71960784  0.70228758  0.56732026 ...,  0.68921569  0.68137255\n",
        "  0.63039216]"
       ]
      },
      {
       "output_type": "stream",
       "stream": "stdout",
       "text": [
        "\n",
        "566\n",
        "[ 0.81690196  0.78552941  0.77376471 ...,  0.33413072  0.28105229\n",
        "  0.24095425]"
       ]
      },
      {
       "output_type": "stream",
       "stream": "stdout",
       "text": [
        "\n",
        "567\n",
        "[ 0.89019608  0.88627451  0.87058824 ...,  0.88471163  0.85333908\n",
        "  0.77882928]"
       ]
      },
      {
       "output_type": "stream",
       "stream": "stdout",
       "text": [
        "\n",
        "568\n",
        "[ 0.78431373  0.69803922  0.60784314 ...,  0.87278431  0.81756863\n",
        "  0.82745098]"
       ]
      },
      {
       "output_type": "stream",
       "stream": "stdout",
       "text": [
        "\n",
        "569\n",
        "[ 0.95294118  0.94117647  0.91372549 ...,  0.32345098  0.34305882\n",
        "  0.3587451 ]"
       ]
      },
      {
       "output_type": "stream",
       "stream": "stdout",
       "text": [
        "\n",
        "570\n",
        "[ 0.8255817   0.89021699  0.98731111 ...,  0.77254902  0.84313725\n",
        "  0.89803922]"
       ]
      },
      {
       "output_type": "stream",
       "stream": "stdout",
       "text": [
        "\n",
        "571\n",
        "[ 0.9372549   0.91764706  0.89411765 ...,  0.88235294  0.84313725\n",
        "  0.79607843]"
       ]
      },
      {
       "output_type": "stream",
       "stream": "stdout",
       "text": [
        "\n",
        "572\n",
        "[ 0.98823529  0.95294118  0.91764706 ...,  0.23127451  0.1757451\n",
        "  0.17409804]"
       ]
      },
      {
       "output_type": "stream",
       "stream": "stdout",
       "text": [
        "\n",
        "573\n",
        "[ 0.69411765  0.74901961  0.78431373 ...,  0.67607843  0.58588235\n",
        "  0.41333333]"
       ]
      },
      {
       "output_type": "stream",
       "stream": "stdout",
       "text": [
        "\n",
        "574\n",
        "[ 0.90326797  0.79738562  0.73202614 ...,  0.8         0.72156863\n",
        "  0.75686275]"
       ]
      },
      {
       "output_type": "stream",
       "stream": "stdout",
       "text": [
        "\n",
        "575\n",
        "[ 0.50124837  0.36696732  0.23255556 ...,  0.50252288  0.58095425\n",
        "  0.60840523]"
       ]
      },
      {
       "output_type": "stream",
       "stream": "stdout",
       "text": [
        "\n",
        "576\n",
        "[ 0.73464052  0.71111111  0.64836601 ...,  0.59443464  0.56306209\n",
        "  0.48855229]"
       ]
      },
      {
       "output_type": "stream",
       "stream": "stdout",
       "text": [
        "\n",
        "577\n",
        "[ 0.98823529  0.99215686  0.97254902 ...,  0.828       0.72996078\n",
        "  0.64368627]"
       ]
      },
      {
       "output_type": "stream",
       "stream": "stdout",
       "text": [
        "\n",
        "578\n",
        "[ 0.68101961  0.67552941  0.6574902  ...,  0.39647059  0.42392157\n",
        "  0.44745098]"
       ]
      },
      {
       "output_type": "stream",
       "stream": "stdout",
       "text": [
        "\n",
        "579\n",
        "[ 0.11764706  0.16078431  0.02745098 ...,  0.78431373  0.78823529\n",
        "  0.80784314]"
       ]
      },
      {
       "output_type": "stream",
       "stream": "stdout",
       "text": [
        "\n",
        "580\n",
        "[ 0.78431373  0.81568627  0.82352941 ...,  0.89278431  0.83223529\n",
        "  0.70993464]"
       ]
      },
      {
       "output_type": "stream",
       "stream": "stdout",
       "text": [
        "\n",
        "581\n",
        "[ 0.56472549  0.62747059  0.67845098 ...,  0.41960784  0.38431373\n",
        "  0.39607843]"
       ]
      },
      {
       "output_type": "stream",
       "stream": "stdout",
       "text": [
        "\n",
        "582\n",
        "[ 0.59084967  0.51633987  0.50065359 ...,  0.17810458  0.13888889\n",
        "  0.0996732 ]"
       ]
      },
      {
       "output_type": "stream",
       "stream": "stdout",
       "text": [
        "\n",
        "583\n",
        "[ 0.97254902  0.97254902  0.97254902 ...,  0.54481046  0.71195425\n",
        "  0.84939869]"
       ]
      },
      {
       "output_type": "stream",
       "stream": "stdout",
       "text": [
        "\n",
        "584\n",
        "[ 0.70509804  0.53647059  0.46196078 ...,  0.60392157  0.6         0.63137255]"
       ]
      },
      {
       "output_type": "stream",
       "stream": "stdout",
       "text": [
        "\n",
        "585\n",
        "[ 0.74509804  0.83921569  0.88627451 ...,  0.49573856  0.55064052\n",
        "  0.58593464]"
       ]
      },
      {
       "output_type": "stream",
       "stream": "stdout",
       "text": [
        "\n",
        "586\n",
        "[ 0.78529412  0.80490196  0.78137255 ...,  0.81862745  0.75784314\n",
        "  0.66372549]"
       ]
      },
      {
       "output_type": "stream",
       "stream": "stdout",
       "text": [
        "\n",
        "587\n",
        "[ 0.8717549   0.8717549   0.90312745 ...,  0.81176471  0.77647059\n",
        "  0.74901961]"
       ]
      },
      {
       "output_type": "stream",
       "stream": "stdout",
       "text": [
        "\n",
        "588\n",
        "[ 0.81690196  0.78552941  0.77376471 ...,  0.33413072  0.28105229\n",
        "  0.24095425]\n",
        "589"
       ]
      },
      {
       "output_type": "stream",
       "stream": "stdout",
       "text": [
        "\n",
        "[ 0.86379085  0.85986928  0.85202614 ...,  0.61015686  0.55917647\n",
        "  0.4925098 ]"
       ]
      },
      {
       "output_type": "stream",
       "stream": "stdout",
       "text": [
        "\n",
        "590\n",
        "[ 0.57454902  0.60295098  0.61570588 ...,  0.39306863  0.40483333\n",
        "  0.43228431]\n",
        "591"
       ]
      },
      {
       "output_type": "stream",
       "stream": "stdout",
       "text": [
        "\n",
        "[ 0.8         0.78039216  0.70196078 ...,  0.92544444  0.78034641\n",
        "  0.60387582]"
       ]
      },
      {
       "output_type": "stream",
       "stream": "stdout",
       "text": [
        "\n",
        "592\n",
        "[ 0.02745098  0.10980392  0.05098039 ...,  0.          0.06666667\n",
        "  0.00784314]"
       ]
      },
      {
       "output_type": "stream",
       "stream": "stdout",
       "text": [
        "\n",
        "593\n",
        "[ 0.73618954  0.76756209  0.70873856 ...,  0.6486732   0.63298693\n",
        "  0.51926144]\n",
        "594"
       ]
      },
      {
       "output_type": "stream",
       "stream": "stdout",
       "text": [
        "\n",
        "[ 0.75593137  0.84020588  0.89803922 ...,  0.48586275  0.47514706\n",
        "  0.47031373]"
       ]
      },
      {
       "output_type": "stream",
       "stream": "stdout",
       "text": [
        "\n",
        "595\n",
        "[ 0.79672549  0.78888235  0.8084902  ...,  0.82252941  0.81468627\n",
        "  0.81860784]"
       ]
      },
      {
       "output_type": "stream",
       "stream": "stdout",
       "text": [
        "\n",
        "596\n",
        "[ 0.91852941  0.92245098  0.94205882 ...,  0.26852941  0.12343137\n",
        "  0.08813725]"
       ]
      },
      {
       "output_type": "stream",
       "stream": "stdout",
       "text": [
        "\n",
        "597\n",
        "[ 0.51157542  0.57949699  0.69866667 ...,  0.17317647  0.16533333\n",
        "  0.1692549 ]\n",
        "598"
       ]
      },
      {
       "output_type": "stream",
       "stream": "stdout",
       "text": [
        "\n",
        "[ 0.99298771  0.99298771  0.99298771 ...,  0.99767399  0.99767399\n",
        "  0.99767399]\n",
        "599\n",
        "[ 0.6503268   0.65816993  0.65424837 ...,  0.59568627  0.62313725\n",
        "  0.59568627]"
       ]
      },
      {
       "output_type": "stream",
       "stream": "stdout",
       "text": [
        "\n",
        "600\n",
        "[ 0.65890196  0.78047059  0.79223529 ...,  0.17649987  0.21491974\n",
        "  0.20630954]"
       ]
      },
      {
       "output_type": "stream",
       "stream": "stdout",
       "text": [
        "\n",
        "601\n",
        "[ 0.91301961  0.93284314  0.93284314 ...,  0.85621307  0.64900379\n",
        "  0.46633281]"
       ]
      },
      {
       "output_type": "stream",
       "stream": "stdout",
       "text": [
        "\n",
        "602\n",
        "[ 0.7745098   0.85294118  0.82745098 ...,  0.65339869  0.60633987\n",
        "  0.51248366]"
       ]
      },
      {
       "output_type": "stream",
       "stream": "stdout",
       "text": [
        "\n",
        "603\n",
        "[ 0.1280915   0.11828758  0.09867974 ...,  0.70271895  0.65369935\n",
        "  0.57624837]\n",
        "604"
       ]
      },
      {
       "output_type": "stream",
       "stream": "stdout",
       "text": [
        "\n",
        "[ 0.39567843  0.51332549  0.61528627 ...,  0.23583529  0.22407059\n",
        "  0.18877647]"
       ]
      },
      {
       "output_type": "stream",
       "stream": "stdout",
       "text": [
        "\n",
        "605\n",
        "[ 0.76862745  0.84705882  0.80392157 ...,  0.60588235  0.78235294\n",
        "  0.83333333]\n",
        "606\n",
        "[ 0.19844771  0.49220588  0.58781046 ...,  0.23853595  0.24637908\n",
        "  0.15226144]"
       ]
      },
      {
       "output_type": "stream",
       "stream": "stdout",
       "text": [
        "\n",
        "607\n",
        "[ 0.87846327  0.88238484  0.89022797 ...,  0.24348288  0.21931451\n",
        "  0.24676549]"
       ]
      },
      {
       "output_type": "stream",
       "stream": "stdout",
       "text": [
        "\n",
        "608\n",
        "[ 0.90980392  0.87058824  0.83137255 ...,  0.65528784  0.56901333\n",
        "  0.47489569]"
       ]
      },
      {
       "output_type": "stream",
       "stream": "stdout",
       "text": [
        "\n",
        "609\n",
        "[ 0.49019608  0.47843137  0.50588235 ...,  0.01777451  0.01777451\n",
        "  0.01777451]"
       ]
      },
      {
       "output_type": "stream",
       "stream": "stdout",
       "text": [
        "\n",
        "610\n",
        "[ 0.9156      0.91952157  0.9901098  ...,  0.69803922  0.67843137\n",
        "  0.66666667]"
       ]
      },
      {
       "output_type": "stream",
       "stream": "stdout",
       "text": [
        "\n",
        "611\n",
        "[ 0.89396732  0.82664706  0.7469085  ...,  0.58523529  0.69480392\n",
        "  0.66827451]"
       ]
      },
      {
       "output_type": "stream",
       "stream": "stdout",
       "text": [
        "\n",
        "612\n",
        "[ 0.50980392  0.65098039  0.77647059 ...,  0.30686275  0.27745098\n",
        "  0.2872549 ]"
       ]
      },
      {
       "output_type": "stream",
       "stream": "stdout",
       "text": [
        "\n",
        "613\n",
        "[ 0.41960784  0.55294118  0.74117647 ...,  0.76862745  0.74901961\n",
        "  0.72773856]\n",
        "614"
       ]
      },
      {
       "output_type": "stream",
       "stream": "stdout",
       "text": [
        "\n",
        "[ 0.40328549  0.39426588  0.34556    ...,  0.83133569  0.76466902\n",
        "  0.64702196]"
       ]
      },
      {
       "output_type": "stream",
       "stream": "stdout",
       "text": [
        "\n",
        "615\n",
        "[ 0.52686301  0.6320915   0.71575216 ...,  0.60561307  0.54286797\n",
        "  0.44090719]"
       ]
      },
      {
       "output_type": "stream",
       "stream": "stdout",
       "text": [
        "\n",
        "616\n",
        "[ 0.6656468   0.6903919   0.73684288 ...,  0.02179739  0.01605229\n",
        "  0.00760131]\n",
        "617\n",
        "[ 0.9420915   0.9551634   0.97215686 ...,  0.24490196  0.26839869\n",
        "  0.26849673]"
       ]
      },
      {
       "output_type": "stream",
       "stream": "stdout",
       "text": [
        "\n",
        "618\n",
        "[ 0.83921569  0.89411765  0.92941176 ...,  0.5042549   0.38786928\n",
        "  0.13603268]"
       ]
      },
      {
       "output_type": "stream",
       "stream": "stdout",
       "text": [
        "\n",
        "619\n",
        "[ 0.75294118  0.76862745  0.77254902 ...,  0.55370588  0.64227451\n",
        "  0.63366667]"
       ]
      },
      {
       "output_type": "stream",
       "stream": "stdout",
       "text": [
        "\n",
        "620\n",
        "[ 0.95105882  0.96666667  0.9627451  ...,  0.36913725  0.36129412\n",
        "  0.36521569]"
       ]
      },
      {
       "output_type": "stream",
       "stream": "stdout",
       "text": [
        "\n",
        "621\n",
        "[ 0.92917647  0.92133333  0.96915294 ...,  0.78543529  0.78151373\n",
        "  0.76190588]\n",
        "622\n",
        "[ 0.94117647  0.9254902   0.91372549 ...,  0.1986366   0.26922484\n",
        "  0.27706797]"
       ]
      },
      {
       "output_type": "stream",
       "stream": "stdout",
       "text": [
        "\n",
        "623\n",
        "[ 0.98823529  0.97254902  0.96078431 ...,  0.96437908  0.84354575\n",
        "  0.76486928]"
       ]
      },
      {
       "output_type": "stream",
       "stream": "stdout",
       "text": [
        "\n",
        "624\n",
        "[ 0.76470588  0.85098039  0.90588235 ...,  0.09411765  0.03921569\n",
        "  0.03529412]"
       ]
      },
      {
       "output_type": "stream",
       "stream": "stdout",
       "text": [
        "\n",
        "625\n",
        "[ 0.90196078  0.92156863  0.94509804 ...,  0.80527268  0.79350797\n",
        "  0.73468444]"
       ]
      },
      {
       "output_type": "stream",
       "stream": "stdout",
       "text": [
        "\n",
        "626\n",
        "[ 0.60168627  0.45892157  0.37741176 ...,  0.2682549   0.35845098\n",
        "  0.38982353]"
       ]
      },
      {
       "output_type": "stream",
       "stream": "stdout",
       "text": [
        "\n",
        "627\n",
        "[ 0.65882353  0.62352941  0.61764706 ...,  0.75098039  0.76666667\n",
        "  0.86470588]"
       ]
      },
      {
       "output_type": "stream",
       "stream": "stdout",
       "text": [
        "\n",
        "628\n",
        "[ 0.99215686  0.99215686  0.99215686 ...,  0.92357843  0.84122549\n",
        "  0.77455882]"
       ]
      },
      {
       "output_type": "stream",
       "stream": "stdout",
       "text": [
        "\n",
        "629\n",
        "[ 0.92156863  0.96862745  0.96862745 ...,  0.41817412  0.61425255\n",
        "  0.6573898 ]"
       ]
      },
      {
       "output_type": "stream",
       "stream": "stdout",
       "text": [
        "\n",
        "630\n",
        "[ 0.92941176  0.92941176  0.9372549  ...,  0.66666667  0.61176471\n",
        "  0.56078431]"
       ]
      },
      {
       "output_type": "stream",
       "stream": "stdout",
       "text": [
        "\n",
        "631\n",
        "[ 1.  1.  1. ...,  1.  1.  1.]"
       ]
      },
      {
       "output_type": "stream",
       "stream": "stdout",
       "text": [
        "\n",
        "632\n",
        "[ 0.44215686  0.45392157  0.42647059 ...,  0.36853922  0.3194902\n",
        "  0.26060784]\n",
        "633"
       ]
      },
      {
       "output_type": "stream",
       "stream": "stdout",
       "text": [
        "\n",
        "[ 1.          1.          1.         ...,  0.66862745  0.68039216\n",
        "  0.75490196]"
       ]
      },
      {
       "output_type": "stream",
       "stream": "stdout",
       "text": [
        "\n",
        "634\n",
        "[ 0.88039216  0.90784314  0.94705882 ...,  0.7372549   0.70980392\n",
        "  0.67843137]"
       ]
      },
      {
       "output_type": "stream",
       "stream": "stdout",
       "text": [
        "\n",
        "635\n",
        "[ 0.99852941  0.99852941  0.99852941 ...,  0.57189542  0.59542484\n",
        "  0.5875817 ]"
       ]
      },
      {
       "output_type": "stream",
       "stream": "stdout",
       "text": [
        "\n",
        "636\n",
        "[ 1.          1.          1.         ...,  0.67662745  0.69623529\n",
        "  0.71192157]"
       ]
      },
      {
       "output_type": "stream",
       "stream": "stdout",
       "text": [
        "\n",
        "637\n",
        "[ 0.35490196  0.35490196  0.24901961 ...,  0.91568627  0.88039216\n",
        "  0.82156863]"
       ]
      },
      {
       "output_type": "stream",
       "stream": "stdout",
       "text": [
        "\n",
        "638\n",
        "[ 0.94509804  0.94509804  0.94509804 ...,  0.94509804  0.94509804\n",
        "  0.94509804]\n",
        "639"
       ]
      },
      {
       "output_type": "stream",
       "stream": "stdout",
       "text": [
        "\n",
        "[ 0.91376471  0.88429412  0.90196078 ...,  0.76078431  0.75686275\n",
        "  0.78039216]"
       ]
      },
      {
       "output_type": "stream",
       "stream": "stdout",
       "text": [
        "\n",
        "640\n",
        "[ 0.58356863  0.56078431  0.54192157 ...,  0.99014706  0.79280392\n",
        "  0.61156863]"
       ]
      },
      {
       "output_type": "stream",
       "stream": "stdout",
       "text": [
        "\n",
        "641\n",
        "[ 0.90196078  0.92941176  0.95294118 ...,  0.91372549  0.8745098\n",
        "  0.86666667]"
       ]
      },
      {
       "output_type": "stream",
       "stream": "stdout",
       "text": [
        "\n",
        "642\n",
        "[ 0.21051634  0.23359869  0.19483007 ...,  0.33457778  0.33849935\n",
        "  0.35612026]"
       ]
      },
      {
       "output_type": "stream",
       "stream": "stdout",
       "text": [
        "\n",
        "643\n",
        "[ 0.88729412  0.88729412  0.89513725 ...,  0.66985882  0.65809412\n",
        "  0.63236863]"
       ]
      },
      {
       "output_type": "stream",
       "stream": "stdout",
       "text": [
        "\n",
        "644\n",
        "[ 0.33754902  0.28656863  0.25127451 ...,  0.69702941  0.63428431\n",
        "  0.58330392]"
       ]
      },
      {
       "output_type": "stream",
       "stream": "stdout",
       "text": [
        "\n",
        "645\n",
        "[ 0.48206013  0.59622484  0.73769412 ...,  0.12886797  0.19958693\n",
        "  0.16515556]"
       ]
      },
      {
       "output_type": "stream",
       "stream": "stdout",
       "text": [
        "\n",
        "646\n",
        "[ 0.95773529  0.93812745  0.92244118 ...,  0.62035294  0.70425817\n",
        "  0.74169281]"
       ]
      },
      {
       "output_type": "stream",
       "stream": "stdout",
       "text": [
        "\n",
        "647\n",
        "[ 0.99607843  0.97254902  0.87058824 ...,  0.70597229  0.70597229\n",
        "  0.65891346]"
       ]
      },
      {
       "output_type": "stream",
       "stream": "stdout",
       "text": [
        "\n",
        "648\n",
        "[ 0.53899085  0.5821281   0.41800784 ...,  0.75803922  0.67607843\n",
        "  0.64980392]"
       ]
      },
      {
       "output_type": "stream",
       "stream": "stdout",
       "text": [
        "\n",
        "649\n",
        "[ 0.48813072  0.58616993  0.70773856 ...,  0.92342484  0.90773856\n",
        "  0.86460131]"
       ]
      },
      {
       "output_type": "stream",
       "stream": "stdout",
       "text": [
        "\n",
        "650\n",
        "[ 0.76091399  0.7962081   0.82365908 ...,  0.57414797  0.57752052\n",
        "  0.49963817]"
       ]
      },
      {
       "output_type": "stream",
       "stream": "stdout",
       "text": [
        "\n",
        "651\n",
        "[ 0.08104575  0.06928105  0.0496732  ...,  0.15816993  0.12287582\n",
        "  0.13464052]"
       ]
      },
      {
       "output_type": "stream",
       "stream": "stdout",
       "text": [
        "\n",
        "652\n",
        "[ 0.17592157  0.40330392  0.46395098 ...,  0.86890196  0.84537255\n",
        "  0.79831373]"
       ]
      },
      {
       "output_type": "stream",
       "stream": "stdout",
       "text": [
        "\n",
        "653\n",
        "[ 0.48791582  0.56242562  0.62124915 ...,  0.71764706  0.70980392\n",
        "  0.65098039]"
       ]
      },
      {
       "output_type": "stream",
       "stream": "stdout",
       "text": [
        "\n",
        "654\n",
        "[ 1.          1.          1.         ...,  0.53532941  0.50028235\n",
        "  0.22895294]"
       ]
      },
      {
       "output_type": "stream",
       "stream": "stdout",
       "text": [
        "\n",
        "655\n",
        "[ 0.9372549   0.93496732  0.91045752 ...,  0.87908497  0.76535948\n",
        "  0.6751634 ]"
       ]
      },
      {
       "output_type": "stream",
       "stream": "stdout",
       "text": [
        "\n",
        "656\n",
        "[ 0.81690196  0.78552941  0.77376471 ...,  0.33413072  0.28105229\n",
        "  0.24095425]\n",
        "657"
       ]
      },
      {
       "output_type": "stream",
       "stream": "stdout",
       "text": [
        "\n",
        "[ 0.97712418  0.95751634  0.94183007 ...,  0.93711438  0.87436928\n",
        "  0.82338889]\n",
        "658\n",
        "[ 0.04453595  0.13081046  0.2249281  ...,  0.23988235  0.1504183\n",
        "  0.10887582]"
       ]
      },
      {
       "output_type": "stream",
       "stream": "stdout",
       "text": [
        "\n",
        "659\n",
        "[ 0.74901961  0.83137255  0.90588235 ...,  0.80588235  0.80588235\n",
        "  0.80588235]"
       ]
      },
      {
       "output_type": "stream",
       "stream": "stdout",
       "text": [
        "\n",
        "660\n",
        "[ 0.53667974  0.55171895  0.49875817 ...,  0.49467647  0.45938235\n",
        "  0.43193137]"
       ]
      },
      {
       "output_type": "stream",
       "stream": "stdout",
       "text": [
        "\n",
        "661\n",
        "[ 0.65696078  0.71578431  0.68833333 ...,  0.60392157  0.63823529\n",
        "  0.58372549]\n",
        "662"
       ]
      },
      {
       "output_type": "stream",
       "stream": "stdout",
       "text": [
        "\n",
        "[ 0.49644863  0.50821333  0.52782118 ...,  0.82323765  0.7918651\n",
        "  0.74872784]"
       ]
      },
      {
       "output_type": "stream",
       "stream": "stdout",
       "text": [
        "\n",
        "663\n",
        "[ 0.45717647  0.46501961  0.3787451  ...,  0.76470588  0.71764706\n",
        "  0.59215686]"
       ]
      },
      {
       "output_type": "stream",
       "stream": "stdout",
       "text": [
        "\n",
        "664\n",
        "[ 0.66176471  0.64215686  0.59117647 ...,  0.46715686  0.49656863\n",
        "  0.51911765]\n",
        "665"
       ]
      },
      {
       "output_type": "stream",
       "stream": "stdout",
       "text": [
        "\n",
        "[ 0.72947059  0.66280392  0.63143137 ...,  0.38714771  0.24989281\n",
        "  0.1321281 ]"
       ]
      },
      {
       "output_type": "stream",
       "stream": "stdout",
       "text": [
        "\n",
        "666\n",
        "[ 0.56451176  0.55666863  0.61039412 ...,  0.61927255  0.61535098\n",
        "  0.63495882]"
       ]
      },
      {
       "output_type": "stream",
       "stream": "stdout",
       "text": [
        "\n",
        "667\n",
        "[ 0.91372549  0.88627451  0.91372549 ...,  0.68721699  0.64041961\n",
        "  0.6083268 ]"
       ]
      },
      {
       "output_type": "stream",
       "stream": "stdout",
       "text": [
        "\n",
        "668\n",
        "[ 0.96078431  0.92156863  0.91764706 ...,  0.79196078  0.77235294\n",
        "  0.74882353]"
       ]
      },
      {
       "output_type": "stream",
       "stream": "stdout",
       "text": [
        "\n",
        "669\n",
        "[ 0.69926471  0.73848039  0.77377451 ...,  0.36078431  0.32156863\n",
        "  0.35294118]"
       ]
      },
      {
       "output_type": "stream",
       "stream": "stdout",
       "text": [
        "\n",
        "670\n",
        "[ 0.93096078  0.92311765  0.93488235 ...,  0.48976536  0.48832745\n",
        "  0.51682418]"
       ]
      },
      {
       "output_type": "stream",
       "stream": "stdout",
       "text": [
        "\n",
        "671\n",
        "[ 0.84222222  0.87359477  0.88535948 ...,  0.16377778  0.17946405\n",
        "  0.17554248]"
       ]
      },
      {
       "output_type": "stream",
       "stream": "stdout",
       "text": [
        "\n",
        "672\n",
        "[ 0.8745098   0.8745098   0.8745098  ...,  0.56315359  0.57622549\n",
        "  0.5745915 ]"
       ]
      },
      {
       "output_type": "stream",
       "stream": "stdout",
       "text": [
        "\n",
        "673\n",
        "[ 0.95485294  0.95093137  0.93132353 ...,  0.56243137  0.51931373\n",
        "  0.49570588]"
       ]
      },
      {
       "output_type": "stream",
       "stream": "stdout",
       "text": [
        "\n",
        "674\n",
        "[ 0.99150327  0.99150327  0.99150327 ...,  0.47173203  0.39330065\n",
        "  0.36584967]"
       ]
      },
      {
       "output_type": "stream",
       "stream": "stdout",
       "text": [
        "\n",
        "675\n",
        "[ 0.71762745  0.78433333  0.84705882 ...,  0.61966667  0.6275098\n",
        "  0.62358824]"
       ]
      },
      {
       "output_type": "stream",
       "stream": "stdout",
       "text": [
        "\n",
        "676\n",
        "[ 0.98431373  0.98431373  0.98431373 ...,  0.77134641  0.74389542\n",
        "  0.68115033]"
       ]
      },
      {
       "output_type": "stream",
       "stream": "stdout",
       "text": [
        "\n",
        "677\n",
        "[ 0.78104575  0.82810458  0.88300654 ...,  0.75707843  0.73747059\n",
        "  0.71394118]\n",
        "678"
       ]
      },
      {
       "output_type": "stream",
       "stream": "stdout",
       "text": [
        "\n",
        "[ 0.97660784  0.97376275  0.96591961 ...,  0.97272549  0.96847059\n",
        "  0.96162745]\n",
        "679\n",
        "[ 0.68627451  0.7254902   0.76078431 ...,  0.52313725  0.44470588\n",
        "  0.33882353]"
       ]
      },
      {
       "output_type": "stream",
       "stream": "stdout",
       "text": [
        "\n",
        "680\n",
        "[ 1.          1.          1.         ...,  0.70405229  0.68052288\n",
        "  0.62562092]"
       ]
      },
      {
       "output_type": "stream",
       "stream": "stdout",
       "text": [
        "\n",
        "681\n",
        "[ 0.89803922  0.89803922  0.89803922 ...,  0.79821438  0.81390065\n",
        "  0.84919477]"
       ]
      },
      {
       "output_type": "stream",
       "stream": "stdout",
       "text": [
        "\n",
        "682\n",
        "[ 0.94509804  0.94509804  0.94509804 ...,  0.34337255  0.33534641\n",
        "  0.31341699]"
       ]
      },
      {
       "output_type": "stream",
       "stream": "stdout",
       "text": [
        "\n",
        "683\n",
        "[ 0.91928837  0.91928837  0.91144523 ...,  0.75286275  0.77247059\n",
        "  0.78815686]"
       ]
      },
      {
       "output_type": "stream",
       "stream": "stdout",
       "text": [
        "\n",
        "684\n",
        "[ 0.96862745  0.95294118  0.94117647 ...,  0.71511765  0.7238451\n",
        "  0.73296209]"
       ]
      },
      {
       "output_type": "stream",
       "stream": "stdout",
       "text": [
        "\n",
        "685\n",
        "[ 0.89803922  0.91764706  0.94117647 ...,  0.49575294  0.50359608\n",
        "  0.5506549 ]"
       ]
      },
      {
       "output_type": "stream",
       "stream": "stdout",
       "text": [
        "\n",
        "686\n",
        "[ 0.97022941  0.98591569  0.98199412 ...,  0.71235425  0.70202745\n",
        "  0.66738693]"
       ]
      },
      {
       "output_type": "stream",
       "stream": "stdout",
       "text": [
        "\n",
        "687\n",
        "[ 0.07984314  0.29733333  0.36470588 ...,  0.60803922  0.57666667\n",
        "  0.56490196]"
       ]
      },
      {
       "output_type": "stream",
       "stream": "stdout",
       "text": [
        "\n",
        "688\n",
        "[ 0.89617647  0.86872549  0.89617647 ...,  0.65123529  0.61201961\n",
        "  0.57280392]"
       ]
      },
      {
       "output_type": "stream",
       "stream": "stdout",
       "text": [
        "\n",
        "689\n",
        "[ 0.91905882  0.92658824  0.96329412 ...,  0.96470588  0.96862745\n",
        "  0.97647059]"
       ]
      },
      {
       "output_type": "stream",
       "stream": "stdout",
       "text": [
        "\n",
        "690\n",
        "[ 0.64039216  0.70313725  0.69921569 ...,  0.31214379  0.34090196\n",
        "  0.31240523]"
       ]
      },
      {
       "output_type": "stream",
       "stream": "stdout",
       "text": [
        "\n",
        "691\n",
        "[ 0.96470588  0.97254902  0.96862745 ...,  0.83244444  0.82852288\n",
        "  0.8128366 ]"
       ]
      },
      {
       "output_type": "stream",
       "stream": "stdout",
       "text": [
        "\n",
        "692\n",
        "[ 0.86172235  0.88917333  0.92054588 ...,  0.61948235  0.53803137\n",
        "  0.45901176]"
       ]
      },
      {
       "output_type": "stream",
       "stream": "stdout",
       "text": [
        "\n",
        "693\n",
        "[ 0.90576157  0.92536941  0.94105569 ...,  0.8707451   0.77270588\n",
        "  0.65505882]"
       ]
      },
      {
       "output_type": "stream",
       "stream": "stdout",
       "text": [
        "\n",
        "694\n",
        "[ 0.98039216  0.98039216  0.98039216 ...,  0.81431686  0.70536627\n",
        "  0.60043451]"
       ]
      },
      {
       "output_type": "stream",
       "stream": "stdout",
       "text": [
        "\n",
        "695\n",
        "[ 0.86172235  0.88917333  0.92054588 ...,  0.61948235  0.53803137\n",
        "  0.45901176]"
       ]
      },
      {
       "output_type": "stream",
       "stream": "stdout",
       "text": [
        "\n",
        "696\n",
        "[ 0.96852941  0.98813725  1.         ...,  0.76763529  0.78724314\n",
        "  0.81077255]\n",
        "697\n",
        "[ 1.          1.          1.         ...,  0.81250719  0.80482092\n",
        "  0.79572288]"
       ]
      },
      {
       "output_type": "stream",
       "stream": "stdout",
       "text": [
        "\n",
        "698\n",
        "[ 0.93168627  0.95129412  0.96698039 ...,  0.76780392  0.77784314\n",
        "  0.83603922]"
       ]
      },
      {
       "output_type": "stream",
       "stream": "stdout",
       "text": [
        "\n",
        "699\n",
        "[ 0.68398039  0.72319608  0.76233922 ...,  0.85892157  0.87460784\n",
        "  0.88637255]\n",
        "700\n",
        "[ 1.          1.          1.         ...,  0.90571569  0.80439412\n",
        "  0.64539608]"
       ]
      },
      {
       "output_type": "stream",
       "stream": "stdout",
       "text": [
        "\n",
        "701\n",
        "[ 0.57306353  0.56188863  0.57004549 ...,  0.41177098  0.47855686\n",
        "  0.51777255]"
       ]
      },
      {
       "output_type": "stream",
       "stream": "stdout",
       "text": [
        "\n",
        "702\n",
        "[ 0.422       0.38670588  0.49258824 ...,  0.09319608  0.03437255\n",
        "  0.01476471]"
       ]
      },
      {
       "output_type": "stream",
       "stream": "stdout",
       "text": [
        "\n",
        "703\n",
        "[ 0.76378431  0.84221569  0.9402549  ...,  0.21805647  0.03664471\n",
        "  0.23741176]"
       ]
      },
      {
       "output_type": "stream",
       "stream": "stdout",
       "text": [
        "\n",
        "704\n",
        "[ 0.97254902  0.95686275  0.96078431 ...,  0.76911529  0.72205647\n",
        "  0.63531137]\n",
        "705\n",
        "[ 0.92454902  0.91278431  0.89317647 ...,  0.05678431  0.04894118\n",
        "  0.06070588]"
       ]
      },
      {
       "output_type": "stream",
       "stream": "stdout",
       "text": [
        "\n",
        "706\n",
        "[ 0.91572706  0.92749176  0.90004078 ...,  0.54379294  0.47971765\n",
        "  0.44712784]"
       ]
      },
      {
       "output_type": "stream",
       "stream": "stdout",
       "text": [
        "\n",
        "707\n",
        "[ 0.78051294  0.77659137  0.80012078 ...,  0.83168941  0.80031686\n",
        "  0.78855216]\n",
        "708"
       ]
      },
      {
       "output_type": "stream",
       "stream": "stdout",
       "text": [
        "\n",
        "[ 0.63529412  0.73333333  0.85098039 ...,  0.64912941  0.69226667\n",
        "  0.66258824]"
       ]
      },
      {
       "output_type": "stream",
       "stream": "stdout",
       "text": [
        "\n",
        "709\n",
        "[ 0.30503529  0.46189804  0.70111373 ...,  0.41009412  0.33213333\n",
        "  0.36758431]"
       ]
      },
      {
       "output_type": "stream",
       "stream": "stdout",
       "text": [
        "\n",
        "710\n",
        "[  8.19415686e-01   7.52749020e-01   7.25298039e-01 ...,   1.49419608e-01\n",
        "   1.21568627e-04   3.49019608e-04]"
       ]
      },
      {
       "output_type": "stream",
       "stream": "stdout",
       "text": [
        "\n",
        "711\n",
        "[ 0.56346078  0.77953922  0.95414706 ...,  0.83446078  0.79916667\n",
        "  0.77955882]"
       ]
      },
      {
       "output_type": "stream",
       "stream": "stdout",
       "text": [
        "\n",
        "712\n",
        "[ 0.84929412  0.81592471  0.79565647 ...,  0.79639216  0.66698039\n",
        "  0.63168627]"
       ]
      },
      {
       "output_type": "stream",
       "stream": "stdout",
       "text": [
        "\n",
        "713\n",
        "[ 1.          1.          1.         ...,  0.57276706  0.47864941\n",
        "  0.34531608]"
       ]
      },
      {
       "output_type": "stream",
       "stream": "stdout",
       "text": [
        "\n",
        "714\n",
        "[ 0.85110118  0.85502275  0.87070902 ...,  0.65180078  0.56944784\n",
        "  0.49493804]"
       ]
      },
      {
       "output_type": "stream",
       "stream": "stdout",
       "text": [
        "\n",
        "715\n",
        "[ 0.38054902  0.52564706  0.72956863 ...,  0.54169176  0.46541255\n",
        "  0.44276784]\n",
        "716"
       ]
      },
      {
       "output_type": "stream",
       "stream": "stdout",
       "text": [
        "\n",
        "[ 0.30391922  0.23244627  0.23421569 ...,  0.6627451   0.59215686\n",
        "  0.5372549 ]\n",
        "717"
       ]
      },
      {
       "output_type": "stream",
       "stream": "stdout",
       "text": [
        "\n",
        "[ 0.34001961  0.56747059  0.75686275 ...,  0.24693137  0.36412745\n",
        "  0.27669608]\n",
        "718\n",
        "[ 0.83446078  0.87367647  0.90897059 ...,  0.82073529  0.78936275\n",
        "  0.77759804]"
       ]
      },
      {
       "output_type": "stream",
       "stream": "stdout",
       "text": [
        "\n",
        "719\n",
        "[ 0.97647059  0.97647059  0.97647059 ...,  0.86666667  0.69019608\n",
        "  0.57647059]"
       ]
      },
      {
       "output_type": "stream",
       "stream": "stdout",
       "text": [
        "\n",
        "720\n",
        "[ 0.78431373  0.80784314  0.8627451  ...,  0.24509804  0.20588235\n",
        "  0.20980392]"
       ]
      },
      {
       "output_type": "stream",
       "stream": "stdout",
       "text": [
        "\n",
        "721\n",
        "[ 0.73954248  0.75915033  0.74330458 ...,  0.03933203  0.03933203\n",
        "  0.03933203]"
       ]
      },
      {
       "output_type": "stream",
       "stream": "stdout",
       "text": [
        "\n",
        "722\n",
        "[ 0.96078431  0.96470588  0.97254902 ...,  0.26652941  0.27045098\n",
        "  0.21162745]"
       ]
      },
      {
       "output_type": "stream",
       "stream": "stdout",
       "text": [
        "\n",
        "723\n",
        "[ 0.47030065  0.62324183  0.85461438 ...,  0.80031373  0.78462745\n",
        "  0.7414902 ]"
       ]
      },
      {
       "output_type": "stream",
       "stream": "stdout",
       "text": [
        "\n",
        "724\n",
        "[ 0.94509804  0.9254902   0.91372549 ...,  0.77005882  0.69554902\n",
        "  0.62888235]"
       ]
      },
      {
       "output_type": "stream",
       "stream": "stdout",
       "text": [
        "\n",
        "725\n",
        "[ 0.15769621  0.20274824  0.3104732  ...,  0.0682949   0.0682949   0.0682949 ]"
       ]
      },
      {
       "output_type": "stream",
       "stream": "stdout",
       "text": [
        "\n",
        "726\n",
        "[ 0.86372549  0.8872549   0.95       ...,  0.59705882  0.4872549\n",
        "  0.43823529]"
       ]
      },
      {
       "output_type": "stream",
       "stream": "stdout",
       "text": [
        "\n",
        "727\n",
        "[ 0.90588235  0.90588235  0.95294118 ...,  0.66764706  0.58823529\n",
        "  0.5127451 ]\n",
        "728\n",
        "[ 0.10598039  0.10205882  0.08637255 ...,  0.12141176  0.13317647\n",
        "  0.15278431]"
       ]
      },
      {
       "output_type": "stream",
       "stream": "stdout",
       "text": [
        "\n",
        "729\n",
        "[ 0.96862745  0.96470588  0.94901961 ...,  0.69320261  0.75202614\n",
        "  0.74026144]"
       ]
      },
      {
       "output_type": "stream",
       "stream": "stdout",
       "text": [
        "\n",
        "730\n",
        "[ 0.62758065  0.69424732  0.75699242 ...,  0.2315817   0.22766013\n",
        "  0.21981699]"
       ]
      },
      {
       "output_type": "stream",
       "stream": "stdout",
       "text": [
        "\n",
        "731\n",
        "[ 0.38517647  0.58909804  0.74596078 ...,  0.73416993  0.68711111\n",
        "  0.63220915]"
       ]
      },
      {
       "output_type": "stream",
       "stream": "stdout",
       "text": [
        "\n",
        "732\n",
        "[ 0.94117647  0.9372549   0.92941176 ...,  0.33414118  0.3066902\n",
        "  0.27531765]\n",
        "733\n",
        "[ 0.60488235  0.64801961  0.66370588 ...,  0.27831373  0.3685098\n",
        "  0.42341176]"
       ]
      },
      {
       "output_type": "stream",
       "stream": "stdout",
       "text": [
        "\n",
        "734\n",
        "[ 0.97256863  0.82546078  0.70195098 ...,  0.79405882  0.72739216\n",
        "  0.65680392]"
       ]
      },
      {
       "output_type": "stream",
       "stream": "stdout",
       "text": [
        "\n",
        "735\n",
        "[ 0.67841176  0.8117451   0.92154902 ...,  0.51762745  0.4235098\n",
        "  0.32939216]"
       ]
      },
      {
       "output_type": "stream",
       "stream": "stdout",
       "text": [
        "\n",
        "736\n",
        "[ 0.91960784  0.91960784  0.91176471 ...,  0.88040196  0.83726471\n",
        "  0.75491176]"
       ]
      },
      {
       "output_type": "stream",
       "stream": "stdout",
       "text": [
        "\n",
        "737\n",
        "[ 0.71470588  0.84803922  0.95588235 ...,  0.41078431  0.40882353\n",
        "  0.43627451]\n",
        "738"
       ]
      },
      {
       "output_type": "stream",
       "stream": "stdout",
       "text": [
        "\n",
        "[ 0.84509804  0.89607843  0.91960784 ...,  0.3         0.3         0.33921569]\n",
        "739\n",
        "[ 0.99607843  0.96078431  0.90196078 ...,  0.68643791  0.68349673\n",
        "  0.66094771]"
       ]
      },
      {
       "output_type": "stream",
       "stream": "stdout",
       "text": [
        "\n",
        "740\n",
        "[ 0.90588235  0.90196078  0.88627451 ...,  0.09411765  0.10980392\n",
        "  0.11372549]"
       ]
      },
      {
       "output_type": "stream",
       "stream": "stdout",
       "text": [
        "\n",
        "741\n",
        "[ 0.62154902  0.57841176  0.60194118 ...,  0.54252941  0.43462745\n",
        "  0.47566667]"
       ]
      },
      {
       "output_type": "stream",
       "stream": "stdout",
       "text": [
        "\n",
        "742\n",
        "[ 0.96862745  0.97254902  0.98039216 ...,  0.90133333  0.9052549\n",
        "  0.91309804]\n",
        "743"
       ]
      },
      {
       "output_type": "stream",
       "stream": "stdout",
       "text": [
        "\n",
        "[ 0.74568627  0.76137255  0.77313725 ...,  0.68431373  0.70392157\n",
        "  0.72745098]"
       ]
      },
      {
       "output_type": "stream",
       "stream": "stdout",
       "text": [
        "\n",
        "744\n",
        "[ 0.33822549  0.46763725  0.27254902 ...,  0.50683333  0.61469608\n",
        "  0.66179412]"
       ]
      },
      {
       "output_type": "stream",
       "stream": "stdout",
       "text": [
        "\n",
        "745\n",
        "[ 1.  1.  1. ...,  1.  1.  1.]"
       ]
      },
      {
       "output_type": "stream",
       "stream": "stdout",
       "text": [
        "\n",
        "746\n",
        "[ 0.40196078  0.32352941  0.19411765 ...,  0.46143791  0.33594771\n",
        "  0.18300654]"
       ]
      },
      {
       "output_type": "stream",
       "stream": "stdout",
       "text": [
        "\n",
        "747\n",
        "[ 0.14135948  0.12959477  0.1025098  ...,  0.81477124  0.77236601\n",
        "  0.75640523]"
       ]
      },
      {
       "output_type": "stream",
       "stream": "stdout",
       "text": [
        "\n",
        "748\n",
        "[ 0.70501961  0.68541176  0.56811765 ...,  0.65854902  0.64713725\n",
        "  0.58831373]"
       ]
      },
      {
       "output_type": "stream",
       "stream": "stdout",
       "text": [
        "\n",
        "749\n",
        "[ 0.58169935  0.67189542  0.79705882 ...,  0.38006536  0.45130719\n",
        "  0.20686275]\n",
        "750"
       ]
      },
      {
       "output_type": "stream",
       "stream": "stdout",
       "text": [
        "\n",
        "[ 0.80360784  0.76831373  0.74870588 ...,  1.          1.          1.        ]"
       ]
      },
      {
       "output_type": "stream",
       "stream": "stdout",
       "text": [
        "\n",
        "751\n",
        "[ 0.24719608  0.357       0.43935294 ...,  0.32337451  0.24291647\n",
        "  0.11395216]"
       ]
      },
      {
       "output_type": "stream",
       "stream": "stdout",
       "text": [
        "\n",
        "752\n",
        "[ 0.27133333  0.36545098  0.16937255 ...,  0.86236301  0.88037608\n",
        "  0.89214078]"
       ]
      },
      {
       "output_type": "stream",
       "stream": "stdout",
       "text": [
        "\n",
        "753\n",
        "[ 0.41150588  0.47493333  0.41798431 ...,  0.43851765  0.16737255\n",
        "  0.04127843]"
       ]
      },
      {
       "output_type": "stream",
       "stream": "stdout",
       "text": [
        "\n",
        "754\n",
        "[ 0.50735294  0.26651961  0.31147059 ...,  0.60696078  0.55598039\n",
        "  0.42068627]"
       ]
      },
      {
       "output_type": "stream",
       "stream": "stdout",
       "text": [
        "\n",
        "755\n",
        "[ 1.  1.  1. ...,  1.  1.  1.]\n",
        "756"
       ]
      },
      {
       "output_type": "stream",
       "stream": "stdout",
       "text": [
        "\n",
        "[ 0.28627451  0.38823529  0.00784314 ...,  0.78039216  0.00392157\n",
        "  0.34509804]"
       ]
      },
      {
       "output_type": "stream",
       "stream": "stdout",
       "text": [
        "\n",
        "757\n",
        "[ 0.43202614  0.36568627  0.24705882 ...,  0.28300654  0.16143791\n",
        "  0.07908497]\n",
        "758"
       ]
      },
      {
       "output_type": "stream",
       "stream": "stdout",
       "text": [
        "\n",
        "[ 0.68505882  0.62941176  0.55182353 ...,  0.14435294  0.31059804\n",
        "  0.17217647]"
       ]
      },
      {
       "output_type": "stream",
       "stream": "stdout",
       "text": [
        "\n",
        "759\n",
        "[ 0.3859085   0.31139869  0.25257516 ...,  0.54194039  0.40860706\n",
        "  0.36939137]"
       ]
      },
      {
       "output_type": "stream",
       "stream": "stdout",
       "text": [
        "\n",
        "760\n",
        "[ 0.99084967  0.43202614  0.48104575 ...,  0.64901961  0.69215686\n",
        "  0.5745098 ]"
       ]
      },
      {
       "output_type": "stream",
       "stream": "stdout",
       "text": [
        "\n",
        "761\n",
        "[ 0.22732549  0.17046275  0.06614902 ...,  0.24039216  0.07176471\n",
        "  0.04823529]"
       ]
      },
      {
       "output_type": "stream",
       "stream": "stdout",
       "text": [
        "\n",
        "762\n",
        "[ 0.03529412  0.03921569  0.04705882 ...,  0.08169935  0.0620915   0.0503268 ]"
       ]
      },
      {
       "output_type": "stream",
       "stream": "stdout",
       "text": [
        "\n",
        "763\n",
        "[ 0.75330719  0.72542484  0.73471895 ...,  0.59952288  0.40764052\n",
        "  0.37046405]"
       ]
      },
      {
       "output_type": "stream",
       "stream": "stdout",
       "text": [
        "\n",
        "764\n",
        "[ 0.20784314  0.18823529  0.17254902 ...,  0.53529412  0.36666667\n",
        "  0.23529412]"
       ]
      },
      {
       "output_type": "stream",
       "stream": "stdout",
       "text": [
        "\n",
        "765\n",
        "[ 0.75294118  0.76862745  0.77254902 ...,  0.63607268  0.6713668\n",
        "  0.69097464]"
       ]
      },
      {
       "output_type": "stream",
       "stream": "stdout",
       "text": [
        "\n",
        "766\n",
        "[ 0.44695294  0.1620902   0.0206     ...,  0.4277451   0.32970588\n",
        "  0.25127451]"
       ]
      },
      {
       "output_type": "stream",
       "stream": "stdout",
       "text": [
        "\n",
        "767\n",
        "[ 1.          1.          1.         ...,  0.93175124  0.93567281\n",
        "  0.86508458]"
       ]
      },
      {
       "output_type": "stream",
       "stream": "stdout",
       "text": [
        "\n",
        "768\n",
        "[ 0.72941176  0.74509804  0.74133333 ...,  0.41204654  0.39636026\n",
        "  0.36106614]"
       ]
      },
      {
       "output_type": "stream",
       "stream": "stdout",
       "text": [
        "\n",
        "769\n",
        "[ 1.          1.          1.         ...,  0.99607843  0.36470588\n",
        "  0.14901961]"
       ]
      },
      {
       "output_type": "stream",
       "stream": "stdout",
       "text": [
        "\n",
        "770\n",
        "[ 0.60873647  0.50285412  0.42834431 ...,  0.97557255  0.97165098\n",
        "  0.96380784]"
       ]
      },
      {
       "output_type": "stream",
       "stream": "stdout",
       "text": [
        "\n",
        "771\n",
        "[ 0.22091503  0.31503268  0.32287582 ...,  0.00849673  0.10915033\n",
        "  0.20784314]"
       ]
      },
      {
       "output_type": "stream",
       "stream": "stdout",
       "text": [
        "\n",
        "772\n",
        "[ 0.89454118  0.99378248  1.         ...,  0.50101203  0.51362641\n",
        "  0.53869882]"
       ]
      },
      {
       "output_type": "stream",
       "stream": "stdout",
       "text": [
        "\n",
        "773\n",
        "[ 0.          0.20784314  0.6627451  ...,  0.67799346  0.6858366\n",
        "  0.66622876]"
       ]
      },
      {
       "output_type": "stream",
       "stream": "stdout",
       "text": [
        "\n",
        "774\n",
        "[ 0.54026405  0.46169542  0.0228915  ...,  0.35698693  0.34522222\n",
        "  0.5609085 ]"
       ]
      },
      {
       "output_type": "stream",
       "stream": "stdout",
       "text": [
        "\n",
        "775\n",
        "[ 0.28383033  0.49573229  0.82743399 ...,  0.59249804  0.61037595\n",
        "  0.65866784]\n",
        "776"
       ]
      },
      {
       "output_type": "stream",
       "stream": "stdout",
       "text": [
        "\n",
        "[ 0.52169935  0.6275817   0.73346405 ...,  0.29019608  0.39215686\n",
        "  0.35686275]\n",
        "777\n",
        "[ 0.91372549  0.90355556  0.92781699 ...,  0.95686275  0.94117647\n",
        "  0.9372549 ]"
       ]
      },
      {
       "output_type": "stream",
       "stream": "stdout",
       "text": [
        "\n",
        "778\n",
        "[ 0.69399608  0.72917255  0.79589804 ...,  0.43040588  0.39092876\n",
        "  0.29302026]"
       ]
      },
      {
       "output_type": "stream",
       "stream": "stdout",
       "text": [
        "\n",
        "779\n",
        "[ 0.98720431  0.98720431  0.98720431 ...,  0.93356065  0.93356065\n",
        "  0.93356065]"
       ]
      },
      {
       "output_type": "stream",
       "stream": "stdout",
       "text": [
        "\n",
        "780\n",
        "[ 0.28385098  0.3309098   0.42502745 ...,  0.5803451   0.50324706\n",
        "  0.49532549]\n",
        "781"
       ]
      },
      {
       "output_type": "stream",
       "stream": "stdout",
       "text": [
        "\n",
        "[ 0.76147765  0.75755608  0.7418698  ...,  0.80433987  0.8004183\n",
        "  0.78473203]"
       ]
      },
      {
       "output_type": "stream",
       "stream": "stdout",
       "text": [
        "\n",
        "782\n",
        "[ 0.00611765  0.02180392  0.03356863 ...,  0.23129412  0.24831373\n",
        "  0.32980392]\n",
        "783\n",
        "[ 0.5372549   0.77254902  0.8745098  ...,  0.05490196  0.05098039\n",
        "  0.11372549]"
       ]
      },
      {
       "output_type": "stream",
       "stream": "stdout",
       "text": [
        "\n",
        "784\n",
        "[ 0.60472549  0.61256863  0.60864706 ...,  0.89173333  0.88545882\n",
        "  0.91800784]"
       ]
      },
      {
       "output_type": "stream",
       "stream": "stdout",
       "text": [
        "\n",
        "785\n",
        "[ 0.80784314  0.87843137  0.93333333 ...,  0.72494118  0.73866667\n",
        "  0.75435294]"
       ]
      },
      {
       "output_type": "stream",
       "stream": "stdout",
       "text": [
        "\n",
        "786\n",
        "[ 0.62894118  0.66815686  0.63286275 ...,  0.35140288  0.39860078\n",
        "  0.38603399]"
       ]
      },
      {
       "output_type": "stream",
       "stream": "stdout",
       "text": [
        "\n",
        "787\n",
        "[ 0.07401961  0.07401961  0.02696078 ...,  0.06454248  0.15571895\n",
        "  0.16650327]"
       ]
      },
      {
       "output_type": "stream",
       "stream": "stdout",
       "text": [
        "\n",
        "788\n",
        "[ 0.77287582  0.80816993  0.83562092 ...,  0.06078431  0.06078431\n",
        "  0.05294118]"
       ]
      },
      {
       "output_type": "stream",
       "stream": "stdout",
       "text": [
        "\n",
        "789\n",
        "[ 0.73982745  0.74374902  0.72313922 ...,  0.56195294  0.61293333\n",
        "  0.57514902]"
       ]
      },
      {
       "output_type": "stream",
       "stream": "stdout",
       "text": [
        "\n",
        "790\n",
        "[ 0.  0.  0. ...,  0.  0.  0.]\n",
        "791\n",
        "[ 1.          1.          1.         ...,  0.69398954  0.76065621\n",
        "  0.83161046]"
       ]
      },
      {
       "output_type": "stream",
       "stream": "stdout",
       "text": [
        "\n",
        "792\n",
        "[ 0.66666667  0.71764706  0.78431373 ...,  0.86682353  0.86392157\n",
        "  0.89046458]\n",
        "793\n",
        "[ 0.76249412  0.44074902  0.00943529 ...,  0.04476471  0.10045098\n",
        "  0.05966667]"
       ]
      },
      {
       "output_type": "stream",
       "stream": "stdout",
       "text": [
        "\n",
        "794\n",
        "[ 0.52588235  0.65921569  0.91019608 ...,  0.4480915   0.51867974\n",
        "  0.71475817]\n",
        "795\n",
        "[ 0.72094118  0.72002614  0.69139869 ...,  0.59301961  0.59994771\n",
        "  0.55955556]"
       ]
      },
      {
       "output_type": "stream",
       "stream": "stdout",
       "text": [
        "\n",
        "796\n",
        "[ 0.62116993  0.50522876  0.43569281 ...,  0.38268627  0.37876471\n",
        "  0.32516993]\n",
        "797"
       ]
      },
      {
       "output_type": "stream",
       "stream": "stdout",
       "text": [
        "\n",
        "[ 0.97647059  0.97647059  0.97647059 ...,  0.87271242  0.82042484\n",
        "  0.78970588]"
       ]
      },
      {
       "output_type": "stream",
       "stream": "stdout",
       "text": [
        "\n",
        "798\n",
        "[ 0.51985569  0.53162039  0.55122824 ...,  0.60143791  0.60535948\n",
        "  0.62104575]"
       ]
      },
      {
       "output_type": "stream",
       "stream": "stdout",
       "text": [
        "\n",
        "799\n",
        "[ 0.99215686  1.          0.99607843 ...,  0.94851137  0.88768209\n",
        "  0.79782065]"
       ]
      },
      {
       "output_type": "stream",
       "stream": "stdout",
       "text": [
        "\n",
        "800\n",
        "[ 0.40447059  0.43192157  0.47113725 ...,  0.56786275  0.56394118\n",
        "  0.54433333]"
       ]
      },
      {
       "output_type": "stream",
       "stream": "stdout",
       "text": [
        "\n",
        "801\n",
        "[ 0.93298039  0.92332026  0.89950327 ...,  0.98755556  0.98363399\n",
        "  0.97579085]"
       ]
      },
      {
       "output_type": "stream",
       "stream": "stdout",
       "text": [
        "\n",
        "802\n",
        "[ 1.          1.          1.         ...,  0.61669935  0.4397966\n",
        "  0.28207111]"
       ]
      },
      {
       "output_type": "stream",
       "stream": "stdout",
       "text": [
        "\n",
        "803\n",
        "[ 0.13790837  0.22915464  0.15453359 ...,  0.18545791  0.19645791\n",
        "  0.11334026]\n",
        "804"
       ]
      },
      {
       "output_type": "stream",
       "stream": "stdout",
       "text": [
        "\n",
        "[ 0.76073203  0.77249673  0.79994771 ...,  0.86802614  0.91508497\n",
        "  0.96214379]"
       ]
      },
      {
       "output_type": "stream",
       "stream": "stdout",
       "text": [
        "\n",
        "805\n",
        "[ 0.88235294  0.91764706  0.9372549  ...,  0.85114418  0.82226222\n",
        "  0.80302575]"
       ]
      },
      {
       "output_type": "stream",
       "stream": "stdout",
       "text": [
        "\n",
        "806\n",
        "[ 0.99629948  1.          0.99955791 ...,  0.99293765  0.99541595\n",
        "  0.97725137]"
       ]
      },
      {
       "output_type": "stream",
       "stream": "stdout",
       "text": [
        "\n",
        "807\n",
        "[ 0.93234314  0.91665686  0.80293137 ...,  0.84806863  0.82453922\n",
        "  0.73826471]"
       ]
      },
      {
       "output_type": "stream",
       "stream": "stdout",
       "text": [
        "\n",
        "808\n",
        "[ 0.50458824  0.23007843  0.19086275 ...,  0.51372549  0.48627451\n",
        "  0.4574902 ]"
       ]
      },
      {
       "output_type": "stream",
       "stream": "stdout",
       "text": [
        "\n",
        "809\n",
        "[ 0.97647059  0.97647059  0.97647059 ...,  0.24738235  0.27483333\n",
        "  0.14638235]"
       ]
      },
      {
       "output_type": "stream",
       "stream": "stdout",
       "text": [
        "\n",
        "810\n",
        "[ 0.46784314  0.47176471  0.44823529 ...,  0.16211765  0.1814902\n",
        "  0.04486275]"
       ]
      },
      {
       "output_type": "stream",
       "stream": "stdout",
       "text": [
        "\n",
        "811\n",
        "[ 0.48640196  0.5060098   0.49032353 ...,  0.87058824  0.9372549\n",
        "  0.96862745]"
       ]
      },
      {
       "output_type": "stream",
       "stream": "stdout",
       "text": [
        "\n",
        "812\n",
        "[ 0.23529412  0.15098039  0.05098039 ...,  0.1815098   0.19640196\n",
        "  0.06857843]"
       ]
      },
      {
       "output_type": "stream",
       "stream": "stdout",
       "text": [
        "\n",
        "813\n",
        "[ 0.54277124  0.42120261  0.31139869 ...,  0.63787346  0.44955974\n",
        "  0.30869699]"
       ]
      },
      {
       "output_type": "stream",
       "stream": "stdout",
       "text": [
        "\n",
        "814\n",
        "[ 0.40392157  0.35686275  0.29411765 ...,  0.84705882  0.76862745\n",
        "  0.6745098 ]"
       ]
      },
      {
       "output_type": "stream",
       "stream": "stdout",
       "text": [
        "\n",
        "815\n",
        "[ 0.5561451   0.34175033  0.28471765 ...,  0.4943268   0.41589542\n",
        "  0.38844444]"
       ]
      },
      {
       "output_type": "stream",
       "stream": "stdout",
       "text": [
        "\n",
        "816\n",
        "[ 0.09803922  0.08235294  0.07843137 ...,  0.10428758  0.08075817\n",
        "  0.08075817]"
       ]
      },
      {
       "output_type": "stream",
       "stream": "stdout",
       "text": [
        "\n",
        "817\n",
        "[ 0.24043294  0.16592314  0.17376627 ...,  0.92156863  0.81176471\n",
        "  0.85882353]"
       ]
      },
      {
       "output_type": "stream",
       "stream": "stdout",
       "text": [
        "\n",
        "818\n",
        "[ 0.63921569  0.69411765  0.48627451 ...,  0.17578431  0.08205882\n",
        "  0.07970588]"
       ]
      },
      {
       "output_type": "stream",
       "stream": "stdout",
       "text": [
        "\n",
        "819\n",
        "[ 0.77295752  0.82393791  0.89844771 ...,  0.61568627  0.47001634\n",
        "  0.35964052]"
       ]
      },
      {
       "output_type": "stream",
       "stream": "stdout",
       "text": [
        "\n",
        "820\n",
        "[ 0.96862745  0.96862745  0.96862745 ...,  0.7349281   0.72708497\n",
        "  0.74669281]"
       ]
      },
      {
       "output_type": "stream",
       "stream": "stdout",
       "text": [
        "\n",
        "821\n",
        "[ 0.35294118  0.24509804  0.1627451  ...,  0.87843137  0.67647059\n",
        "  0.50588235]"
       ]
      },
      {
       "output_type": "stream",
       "stream": "stdout",
       "text": [
        "\n",
        "822\n",
        "[ 0.72701176  0.67603137  0.64476863 ...,  0.62346667  0.60425098\n",
        "  0.57145098]"
       ]
      },
      {
       "output_type": "stream",
       "stream": "stdout",
       "text": [
        "\n",
        "823\n",
        "[ 0.99607843  0.99607843  0.99607843 ...,  0.61236078  0.62334118\n",
        "  0.45510588]"
       ]
      },
      {
       "output_type": "stream",
       "stream": "stdout",
       "text": [
        "\n",
        "824\n",
        "[ 0.98823529  0.99215686  0.97254902 ...,  0.14562092  0.13189542\n",
        "  0.08777778]"
       ]
      },
      {
       "output_type": "stream",
       "stream": "stdout",
       "text": [
        "\n",
        "825\n",
        "[ 0.94901961  0.94117647  0.94509804 ...,  0.90972549  0.8705098\n",
        "  0.83521569]"
       ]
      },
      {
       "output_type": "stream",
       "stream": "stdout",
       "text": [
        "\n",
        "826\n",
        "[ 0.77647059  0.80457516  0.77124183 ...,  0.89775163  0.86072549\n",
        "  0.7678366 ]"
       ]
      },
      {
       "output_type": "stream",
       "stream": "stdout",
       "text": [
        "\n",
        "827\n",
        "[ 0.95686275  0.92156863  0.8627451  ...,  0.41007843  0.37478431\n",
        "  0.30811765]"
       ]
      },
      {
       "output_type": "stream",
       "stream": "stdout",
       "text": [
        "\n",
        "828\n",
        "[ 0.01078431  0.04019608  0.09215686 ...,  0.12352941  0.04901961\n",
        "  0.04705882]"
       ]
      },
      {
       "output_type": "stream",
       "stream": "stdout",
       "text": [
        "\n",
        "829\n",
        "[ 0.47796549  0.58776941  0.67082824 ...,  0.39867608  0.25176     0.21646588]"
       ]
      },
      {
       "output_type": "stream",
       "stream": "stdout",
       "text": [
        "\n",
        "830\n",
        "[ 0.66764706  0.36568627  0.38921569 ...,  0.23823529  0.15392157\n",
        "  0.20196078]\n",
        "831"
       ]
      },
      {
       "output_type": "stream",
       "stream": "stdout",
       "text": [
        "\n",
        "[ 0.02743137  0.0744902   0.02743137 ...,  0.55092157  0.49209804\n",
        "  0.41754902]"
       ]
      },
      {
       "output_type": "stream",
       "stream": "stdout",
       "text": [
        "\n",
        "832\n",
        "[ 0.89529412  0.9127451   0.92019608 ...,  0.65117647  0.62764706\n",
        "  0.52568627]\n",
        "833\n",
        "[ 0.6254902   0.7         0.76666667 ...,  0.71278431  0.65709804\n",
        "  0.57788235]"
       ]
      },
      {
       "output_type": "stream",
       "stream": "stdout",
       "text": [
        "\n",
        "834\n",
        "[ 0.03456392  0.          0.00319137 ...,  0.10764314  0.10404654\n",
        "  0.02537621]"
       ]
      },
      {
       "output_type": "stream",
       "stream": "stdout",
       "text": [
        "\n",
        "835\n",
        "[ 1.  1.  1. ...,  1.  1.  1.]"
       ]
      },
      {
       "output_type": "stream",
       "stream": "stdout",
       "text": [
        "\n",
        "836\n",
        "[ 0.76470588  0.76862745  0.77647059 ...,  0.26078431  0.23333333\n",
        "  0.20196078]"
       ]
      },
      {
       "output_type": "stream",
       "stream": "stdout",
       "text": [
        "\n",
        "837\n",
        "[ 0.8         0.78039216  0.70196078 ...,  0.92566013  0.78056209\n",
        "  0.6040915 ]"
       ]
      },
      {
       "output_type": "stream",
       "stream": "stdout",
       "text": [
        "\n",
        "838\n",
        "[ 0.67419608  0.78235294  0.79858824 ...,  0.25521569  0.26917647\n",
        "  0.26470588]\n",
        "839"
       ]
      },
      {
       "output_type": "stream",
       "stream": "stdout",
       "text": [
        "\n",
        "[ 0.8627451   0.84313725  0.82745098 ...,  0.09393464  0.05471895\n",
        "  0.0860915 ]"
       ]
      },
      {
       "output_type": "stream",
       "stream": "stdout",
       "text": [
        "\n",
        "840\n",
        "[ 0.88517647  0.90086275  0.90478431 ...,  0.0652549   0.05176471\n",
        "  0.01411765]\n",
        "841"
       ]
      },
      {
       "output_type": "stream",
       "stream": "stdout",
       "text": [
        "\n",
        "[ 0.13280392  0.18770588  0.09693098 ...,  0.27011033  0.31324758\n",
        "  0.28971817]"
       ]
      },
      {
       "output_type": "stream",
       "stream": "stdout",
       "text": [
        "\n",
        "842\n",
        "[ 0.67377778  0.74044444  0.8580915  ...,  0.08464209  0.04953673\n",
        "  0.03932601]"
       ]
      },
      {
       "output_type": "stream",
       "stream": "stdout",
       "text": [
        "\n",
        "843\n",
        "[ 0.02057843  0.0191732   0.03728105 ...,  0.10680065  0.07295752\n",
        "  0.04478105]\n",
        "844"
       ]
      },
      {
       "output_type": "stream",
       "stream": "stdout",
       "text": [
        "\n",
        "[ 0.78287647  0.80248431  0.78679804 ...,  0.17427255  0.16799804\n",
        "  0.05117451]\n",
        "845\n",
        "[ 0.7496732   0.77712418  0.84934641 ...,  0.31764706  0.34901961\n",
        "  0.43921569]"
       ]
      },
      {
       "output_type": "stream",
       "stream": "stdout",
       "text": [
        "\n",
        "846\n",
        "[ 0.48444654  0.43738771  0.39032889 ...,  0.23819399  0.24211556\n",
        "  0.21858614]"
       ]
      },
      {
       "output_type": "stream",
       "stream": "stdout",
       "text": [
        "\n",
        "847\n",
        "[ 0.98431373  0.98431373  0.99215686 ...,  0.95686275  0.96078431\n",
        "  0.9372549 ]"
       ]
      },
      {
       "output_type": "stream",
       "stream": "stdout",
       "text": [
        "\n",
        "848\n",
        "[ 0.21490196  0.12078431  0.01882353 ...,  0.85882353  0.83137255  0.8       ]"
       ]
      },
      {
       "output_type": "stream",
       "stream": "stdout",
       "text": [
        "\n",
        "849\n",
        "[ 0.92219608  0.92219608  0.92219608 ...,  0.7562902   0.74844706\n",
        "  0.75236863]"
       ]
      },
      {
       "output_type": "stream",
       "stream": "stdout",
       "text": [
        "\n",
        "850\n",
        "[ 0.75262196  0.72517098  0.70164157 ...,  0.71928784  0.65452314\n",
        "  0.61481725]\n",
        "851\n",
        "[ 0.          0.          0.         ...,  0.04313725  0.          0.        ]"
       ]
      },
      {
       "output_type": "stream",
       "stream": "stdout",
       "text": [
        "\n",
        "852\n",
        "[ 0.15524248  0.66112484  0.74347778 ...,  0.29982745  0.62376209\n",
        "  0.6155085 ]\n",
        "853"
       ]
      },
      {
       "output_type": "stream",
       "stream": "stdout",
       "text": [
        "\n",
        "[ 0.74901307  0.75685621  0.66273856 ...,  0.10905882  0.11298039\n",
        "  0.09337255]"
       ]
      },
      {
       "output_type": "stream",
       "stream": "stdout",
       "text": [
        "\n",
        "854\n",
        "[ 0.12905882  0.0074902   0.00945098 ...,  0.2691634   0.20606536\n",
        "  0.10088889]\n",
        "855\n",
        "[ 0.94117647  0.94117647  0.94117647 ...,  0.94509804  0.94509804\n",
        "  0.94509804]"
       ]
      },
      {
       "output_type": "stream",
       "stream": "stdout",
       "text": [
        "\n",
        "856\n",
        "[ 0.65882353  0.61960784  0.61176471 ...,  0.74841176  0.74841176\n",
        "  0.74841176]\n",
        "857"
       ]
      },
      {
       "output_type": "stream",
       "stream": "stdout",
       "text": [
        "\n",
        "[ 0.91372549  0.91372549  0.91372549 ...,  0.79280941  0.71437804\n",
        "  0.62026039]"
       ]
      },
      {
       "output_type": "stream",
       "stream": "stdout",
       "text": [
        "\n",
        "858\n",
        "[ 0.04454314  0.07199412  0.14258235 ...,  0.          0.00248366\n",
        "  0.08235294]"
       ]
      },
      {
       "output_type": "stream",
       "stream": "stdout",
       "text": [
        "\n",
        "859\n",
        "[ 0.73535373  0.72358902  0.75433412 ...,  0.81470745  0.74741333\n",
        "  0.66404078]"
       ]
      },
      {
       "output_type": "stream",
       "stream": "stdout",
       "text": [
        "\n",
        "860\n",
        "[ 0.66870588  0.71972549  0.71972549 ...,  0.43464052  0.37581699\n",
        "  0.25424837]"
       ]
      },
      {
       "output_type": "stream",
       "stream": "stdout",
       "text": [
        "\n",
        "861\n",
        "[ 0.20261438  0.19183007  0.02124183 ...,  0.55424837  0.44084967\n",
        "  0.4369281 ]"
       ]
      },
      {
       "output_type": "stream",
       "stream": "stdout",
       "text": [
        "\n",
        "862\n",
        "[ 0.99607843  0.99607843  0.99607843 ...,  0.99607843  0.99607843\n",
        "  0.99607843]"
       ]
      },
      {
       "output_type": "stream",
       "stream": "stdout",
       "text": [
        "\n",
        "863\n",
        "[ 1.  1.  1. ...,  1.  1.  1.]\n",
        "864"
       ]
      },
      {
       "output_type": "stream",
       "stream": "stdout",
       "text": [
        "\n",
        "[ 0.90196078  0.90196078  0.87058824 ...,  0.31281373  0.5285      0.40693137]"
       ]
      },
      {
       "output_type": "stream",
       "stream": "stdout",
       "text": [
        "\n",
        "865\n",
        "[ 0.81801307  0.75526797  0.69252288 ...,  0.82193464  0.79448366\n",
        "  0.75992157]"
       ]
      },
      {
       "output_type": "stream",
       "stream": "stdout",
       "text": [
        "\n",
        "866\n",
        "[ 1.  1.  1. ...,  1.  1.  1.]"
       ]
      },
      {
       "output_type": "stream",
       "stream": "stdout",
       "text": [
        "\n",
        "867\n",
        "[ 1.  1.  1. ...,  1.  1.  1.]\n",
        "868"
       ]
      },
      {
       "output_type": "stream",
       "stream": "stdout",
       "text": [
        "\n",
        "[ 1.  1.  1. ...,  1.  1.  1.]\n",
        "869\n",
        "[ 0.0745098   0.05882353  0.01176471 ...,  0.45745765  0.46105255\n",
        "  0.2369149 ]"
       ]
      },
      {
       "output_type": "stream",
       "stream": "stdout",
       "text": [
        "\n",
        "870\n",
        "[ 0.98431373  0.98431373  0.98431373 ...,  0.39542484  0.37581699\n",
        "  0.29673203]"
       ]
      },
      {
       "output_type": "stream",
       "stream": "stdout",
       "text": [
        "\n",
        "871\n",
        "[ 0.75294118  0.76862745  0.77254902 ...,  0.55370588  0.64227451\n",
        "  0.63366667]"
       ]
      },
      {
       "output_type": "stream",
       "stream": "stdout",
       "text": [
        "\n",
        "872\n",
        "[ 0.93880392  0.9035098   0.86821569 ...,  0.30498039  0.35434431\n",
        "  0.37014549]\n",
        "873"
       ]
      },
      {
       "output_type": "stream",
       "stream": "stdout",
       "text": [
        "\n",
        "[ 0.42156863  0.5         0.50392157 ...,  0.33921569  0.20392157\n",
        "  0.06862745]"
       ]
      },
      {
       "output_type": "stream",
       "stream": "stdout",
       "text": [
        "\n",
        "874\n",
        "[ 0.88235294  0.91764706  0.9372549  ...,  0.83622549  0.81970915\n",
        "  0.79281046]\n",
        "875"
       ]
      },
      {
       "output_type": "stream",
       "stream": "stdout",
       "text": [
        "\n",
        "[ 1.  1.  1. ...,  1.  1.  1.]"
       ]
      },
      {
       "output_type": "stream",
       "stream": "stdout",
       "text": [
        "\n",
        "876\n",
        "[ 0.90122876  0.8463268   0.84240523 ...,  0.73405359  0.71984575\n",
        "  0.70145948]"
       ]
      },
      {
       "output_type": "stream",
       "stream": "stdout",
       "text": [
        "\n",
        "877\n",
        "[ 0.87379869  0.88164183  0.87772026 ...,  0.30372288  0.27117386\n",
        "  0.18797908]\n",
        "878\n",
        "[ 0.3715919   0.38727817  0.39119974 ...,  0.52227007  0.46344654\n",
        "  0.29489752]"
       ]
      },
      {
       "output_type": "stream",
       "stream": "stdout",
       "text": [
        "\n",
        "879\n",
        "[ 0.65098039  0.68627451  0.72156863 ...,  0.85490196  0.84705882\n",
        "  0.86666667]"
       ]
      },
      {
       "output_type": "stream",
       "stream": "stdout",
       "text": [
        "\n",
        "880\n",
        "[ 0.73173699  0.84492118  0.78610418 ...,  0.86831085  0.84675739\n",
        "  0.84938379]"
       ]
      },
      {
       "output_type": "stream",
       "stream": "stdout",
       "text": [
        "\n",
        "881\n",
        "[ 0.80203922  0.86486275  0.92364706 ...,  0.78435294  0.72160784\n",
        "  0.61964706]"
       ]
      },
      {
       "output_type": "stream",
       "stream": "stdout",
       "text": [
        "\n",
        "882\n",
        "[ 0.64901961  0.67647059  0.71568627 ...,  0.38137255  0.26372549\n",
        "  0.16960784]\n",
        "883"
       ]
      },
      {
       "output_type": "stream",
       "stream": "stdout",
       "text": [
        "\n",
        "[ 0.65098039  0.68627451  0.72156863 ...,  0.85490196  0.84705882\n",
        "  0.86666667]"
       ]
      },
      {
       "output_type": "stream",
       "stream": "stdout",
       "text": [
        "\n",
        "884\n",
        "[ 1.          1.          1.         ...,  0.66862745  0.68039216\n",
        "  0.75490196]"
       ]
      },
      {
       "output_type": "stream",
       "stream": "stdout",
       "text": [
        "\n",
        "885\n",
        "[ 1.  1.  1. ...,  1.  1.  1.]"
       ]
      },
      {
       "output_type": "stream",
       "stream": "stdout",
       "text": [
        "\n",
        "886\n",
        "[ 0.94117647  0.91372549  0.8745098  ...,  0.59122876  0.60691503\n",
        "  0.60299346]\n",
        "887"
       ]
      },
      {
       "output_type": "stream",
       "stream": "stdout",
       "text": [
        "\n",
        "[ 0.96293137  0.92763725  0.93940196 ...,  0.85187255  0.81657843  0.8205    ]"
       ]
      },
      {
       "output_type": "stream",
       "stream": "stdout",
       "text": [
        "\n",
        "888\n",
        "[ 0.9372549   0.92941176  0.93333333 ...,  0.10035163  0.14348889\n",
        "  0.11211634]"
       ]
      },
      {
       "output_type": "stream",
       "stream": "stdout",
       "text": [
        "\n",
        "889\n",
        "[ 1.  1.  1. ...,  1.  1.  1.]\n",
        "890\n",
        "[ 0.34411765  0.39183007  0.41993464 ...,  0.50196078  0.52941176\n",
        "  0.49803922]"
       ]
      },
      {
       "output_type": "stream",
       "stream": "stdout",
       "text": [
        "\n",
        "891\n",
        "[ 0.8620915   0.84640523  0.8503268  ...,  0.80380392  0.80380392\n",
        "  0.81164706]"
       ]
      },
      {
       "output_type": "stream",
       "stream": "stdout",
       "text": [
        "\n",
        "892\n",
        "[ 0.76447059  0.76447059  0.77231373 ...,  0.73422222  0.73422222\n",
        "  0.73422222]"
       ]
      },
      {
       "output_type": "stream",
       "stream": "stdout",
       "text": [
        "\n",
        "893\n",
        "[ 0.83670013  0.83277856  0.81709229 ...,  0.89267974  0.89267974\n",
        "  0.8848366 ]"
       ]
      },
      {
       "output_type": "stream",
       "stream": "stdout",
       "text": [
        "\n",
        "894\n",
        "[ 0.62745098  0.85490196  0.8627451  ...,  0.78823529  0.75686275\n",
        "  0.74901961]"
       ]
      },
      {
       "output_type": "stream",
       "stream": "stdout",
       "text": [
        "\n",
        "895\n",
        "[ 0.87615686  0.88007843  0.89921569 ...,  0.68169935  0.65294118\n",
        "  0.62875817]"
       ]
      },
      {
       "output_type": "stream",
       "stream": "stdout",
       "text": [
        "\n",
        "896\n",
        "[ 0.34444902  0.32737059  0.24025294 ...,  0.7395451   0.65327059\n",
        "  0.49248627]"
       ]
      },
      {
       "output_type": "stream",
       "stream": "stdout",
       "text": [
        "\n",
        "897\n",
        "[ 0.57552353  0.56375882  0.53901373 ...,  0.70723529  0.69939216\n",
        "  0.70331373]"
       ]
      },
      {
       "output_type": "stream",
       "stream": "stdout",
       "text": [
        "\n",
        "898\n",
        "[ 0.36470588  0.38823529  0.38039216 ...,  0.35019608  0.36588235\n",
        "  0.36196078]\n",
        "899"
       ]
      },
      {
       "output_type": "stream",
       "stream": "stdout",
       "text": [
        "\n",
        "[ 0.97254902  0.97254902  0.97254902 ...,  0.75803922  0.72666667\n",
        "  0.68352941]\n",
        "900\n",
        "[ 0.94509804  0.94509804  0.94509804 ...,  0.94509804  0.94509804\n",
        "  0.94509804]"
       ]
      },
      {
       "output_type": "stream",
       "stream": "stdout",
       "text": [
        "\n",
        "901\n",
        "[ 0.5205098   0.51658824  0.57501961 ...,  0.59521569  0.59521569\n",
        "  0.62658824]\n",
        "902"
       ]
      },
      {
       "output_type": "stream",
       "stream": "stdout",
       "text": [
        "\n",
        "[ 0.8         0.8         0.8        ...,  0.60670588  0.70334314\n",
        "  0.1307451 ]"
       ]
      },
      {
       "output_type": "stream",
       "stream": "stdout",
       "text": [
        "\n",
        "903\n",
        "[ 0.99607843  0.99607843  0.99607843 ...,  0.44691765  0.43907451\n",
        "  0.39201569]"
       ]
      },
      {
       "output_type": "stream",
       "stream": "stdout",
       "text": [
        "\n",
        "904\n",
        "[ 0.06993464  0.0503268   0.03464052 ...,  0.11862745  0.08333333\n",
        "  0.09509804]"
       ]
      },
      {
       "output_type": "stream",
       "stream": "stdout",
       "text": [
        "\n",
        "905\n",
        "[ 0.95044444  0.9190719   0.83671895 ...,  0.21483007  0.13247712\n",
        "  0.19130065]\n",
        "906"
       ]
      },
      {
       "output_type": "stream",
       "stream": "stdout",
       "text": [
        "\n",
        "[ 0.9079085   0.97065359  0.97065359 ...,  0.77915033  0.66588235\n",
        "  0.71882353]"
       ]
      },
      {
       "output_type": "stream",
       "stream": "stdout",
       "text": [
        "\n",
        "907\n",
        "[ 0.38627451  0.24117647  0.20980392 ...,  0.42156863  0.26470588\n",
        "  0.23333333]"
       ]
      },
      {
       "output_type": "stream",
       "stream": "stdout",
       "text": [
        "\n",
        "908\n",
        "[ 0.80035294  0.8552549   0.96898039 ...,  0.72431373  0.71764706\n",
        "  0.7372549 ]"
       ]
      },
      {
       "output_type": "stream",
       "stream": "stdout",
       "text": [
        "\n",
        "909\n",
        "[ 0.96470588  0.96862745  0.83529412 ...,  0.69437908  0.55124183\n",
        "  0.3924183 ]"
       ]
      },
      {
       "output_type": "stream",
       "stream": "stdout",
       "text": [
        "\n",
        "910\n",
        "[ 0.97254902  0.99607843  0.99607843 ...,  0.2781932   0.33776222\n",
        "  0.06766954]"
       ]
      },
      {
       "output_type": "stream",
       "stream": "stdout",
       "text": [
        "\n",
        "911\n",
        "[ 0.94509804  0.94509804  0.94509804 ...,  0.94509804  0.94509804\n",
        "  0.94509804]"
       ]
      },
      {
       "output_type": "stream",
       "stream": "stdout",
       "text": [
        "\n",
        "912\n",
        "[ 0.85098039  0.9254902   0.98039216 ...,  0.46811895  0.51909935\n",
        "  0.55439346]"
       ]
      },
      {
       "output_type": "stream",
       "stream": "stdout",
       "text": [
        "\n",
        "913\n",
        "[ 0.05363399  0.09284967  0.05951634 ...,  0.03243137  0.17121569\n",
        "  0.03482353]\n",
        "914\n",
        "[ 0.71764706  0.71764706  0.71764706 ...,  0.81503268  0.77973856\n",
        "  0.75228758]"
       ]
      },
      {
       "output_type": "stream",
       "stream": "stdout",
       "text": [
        "\n",
        "915\n",
        "[ 0.11925817  0.08004248  0.07612092 ...,  0.78330065  0.8029085\n",
        "  0.81859477]\n",
        "916\n",
        "[ 0.56612549  0.53749804  0.51749804 ...,  0.48617255  0.44303529\n",
        "  0.3175451 ]"
       ]
      },
      {
       "output_type": "stream",
       "stream": "stdout",
       "text": [
        "\n",
        "917\n",
        "[ 0.10326797  0.23071895  0.43071895 ...,  0.29607843  0.33529412\n",
        "  0.38039216]"
       ]
      },
      {
       "output_type": "stream",
       "stream": "stdout",
       "text": [
        "\n",
        "918\n",
        "[ 1.          1.          1.         ...,  0.43305882  0.35854902\n",
        "  0.23503922]"
       ]
      },
      {
       "output_type": "stream",
       "stream": "stdout",
       "text": [
        "\n",
        "919\n",
        "[ 0.98823529  0.98823529  0.98823529 ...,  0.34535948  0.3179085\n",
        "  0.27869281]"
       ]
      },
      {
       "output_type": "stream",
       "stream": "stdout",
       "text": [
        "\n",
        "920\n",
        "[ 0.82026144  0.90588235  0.99640523 ...,  0.98660131  0.8748366\n",
        "  0.72156863]"
       ]
      },
      {
       "output_type": "stream",
       "stream": "stdout",
       "text": [
        "\n",
        "921\n",
        "[ 0.76352941  0.74392157  0.66941176 ...,  0.57764706  0.55803922\n",
        "  0.48352941]"
       ]
      },
      {
       "output_type": "stream",
       "stream": "stdout",
       "text": [
        "\n",
        "922\n",
        "[ 0.92941176  0.92941176  0.92941176 ...,  1.          1.          1.        ]"
       ]
      },
      {
       "output_type": "stream",
       "stream": "stdout",
       "text": [
        "\n",
        "923\n",
        "[ 1.          1.          1.         ...,  0.83389542  0.80252288\n",
        "  0.79075817]"
       ]
      },
      {
       "output_type": "stream",
       "stream": "stdout",
       "text": [
        "\n",
        "924\n",
        "[ 1.          1.          1.         ...,  0.92941176  0.94117647\n",
        "  0.97647059]"
       ]
      },
      {
       "output_type": "stream",
       "stream": "stdout",
       "text": [
        "\n",
        "925\n",
        "[ 0.28630641  0.21963974  0.10983582 ...,  0.3537051   0.20860706\n",
        "  0.03446327]"
       ]
      },
      {
       "output_type": "stream",
       "stream": "stdout",
       "text": [
        "\n",
        "926\n",
        "[ 0.83282353  0.57752941  0.37560784 ...,  0.33439216  0.21211765\n",
        "  0.2414902 ]"
       ]
      },
      {
       "output_type": "stream",
       "stream": "stdout",
       "text": [
        "\n",
        "927\n",
        "[ 0.70122876  0.69487582  0.72728105 ...,  0.14482353  0.22082353\n",
        "  0.22596078]"
       ]
      },
      {
       "output_type": "stream",
       "stream": "stdout",
       "text": [
        "\n",
        "928\n",
        "[ 0.94509804  0.90980392  0.8745098  ...,  0.16247059  0.40866667\n",
        "  0.33720261]"
       ]
      },
      {
       "output_type": "stream",
       "stream": "stdout",
       "text": [
        "\n",
        "929\n",
        "[ 1.  1.  1. ...,  1.  1.  1.]"
       ]
      },
      {
       "output_type": "stream",
       "stream": "stdout",
       "text": [
        "\n",
        "930\n",
        "[ 0.19803922  0.12352941  0.09607843 ...,  0.53921569  0.54313725\n",
        "  0.51960784]\n",
        "931\n",
        "[ 0.74258824  0.70588235  0.68698039 ...,  0.0099085   0.10635294\n",
        "  0.20575163]"
       ]
      },
      {
       "output_type": "stream",
       "stream": "stdout",
       "text": [
        "\n",
        "932\n",
        "[ 0.00611765  0.02180392  0.03356863 ...,  0.23129412  0.24831373\n",
        "  0.32980392]\n",
        "933"
       ]
      },
      {
       "output_type": "stream",
       "stream": "stdout",
       "text": [
        "\n",
        "[ 0.92941176  0.92941176  0.92941176 ...,  1.          1.          1.        ]"
       ]
      },
      {
       "output_type": "stream",
       "stream": "stdout",
       "text": [
        "\n",
        "934\n",
        "[ 0.10677124  0.09411765  0.21139869 ...,  0.21532026  0.20695425\n",
        "  0.28465359]"
       ]
      },
      {
       "output_type": "stream",
       "stream": "stdout",
       "text": [
        "\n",
        "935\n",
        "[ 0.75835294  0.79364706  0.86031373 ...,  0.14520261  0.14664052\n",
        "  0.11814379]"
       ]
      },
      {
       "output_type": "stream",
       "stream": "stdout",
       "text": [
        "\n",
        "936\n",
        "[ 1.  1.  1. ...,  1.  1.  1.]"
       ]
      },
      {
       "output_type": "stream",
       "stream": "stdout",
       "text": [
        "\n",
        "937\n",
        "[ 0.84313725  0.83921569  0.90196078 ...,  0.48475948  0.68475948\n",
        "  0.89260261]"
       ]
      },
      {
       "output_type": "stream",
       "stream": "stdout",
       "text": [
        "\n",
        "938\n",
        "[ 0.77984967  0.60178431  0.35486418 ...,  0.04009804  0.0165919\n",
        "  0.02905373]"
       ]
      },
      {
       "output_type": "stream",
       "stream": "stdout",
       "text": [
        "\n",
        "939\n",
        "[ 0.45686275  0.31764706  0.18823529 ...,  0.08823529  0.23333333\n",
        "  0.39803922]"
       ]
      },
      {
       "output_type": "stream",
       "stream": "stdout",
       "text": [
        "\n",
        "940\n",
        "[ 1.          1.          1.         ...,  0.99708497  0.9931634\n",
        "  0.99983007]"
       ]
      },
      {
       "output_type": "stream",
       "stream": "stdout",
       "text": [
        "\n",
        "941\n",
        "[ 0.99745098  0.98960784  0.9072549  ...,  0.95622222  0.93935948\n",
        "  0.86484967]"
       ]
      },
      {
       "output_type": "stream",
       "stream": "stdout",
       "text": [
        "\n",
        "942\n",
        "[ 0.83349673  0.79035948  0.71977124 ...,  0.94133987  0.91388889\n",
        "  0.84330065]"
       ]
      },
      {
       "output_type": "stream",
       "stream": "stdout",
       "text": [
        "\n",
        "943\n",
        "[ 0.39183007  0.28202614  0.23496732 ...,  0.67973856  0.72745098\n",
        "  0.86993464]"
       ]
      },
      {
       "output_type": "stream",
       "stream": "stdout",
       "text": [
        "\n",
        "944\n",
        "[ 0.94509804  0.94509804  0.94509804 ...,  0.94509804  0.94509804\n",
        "  0.94509804]"
       ]
      },
      {
       "output_type": "stream",
       "stream": "stdout",
       "text": [
        "\n",
        "945\n",
        "[ 0.75147647  0.83775098  0.88873137 ...,  0.93071176  0.90718235\n",
        "  0.84992745]"
       ]
      },
      {
       "output_type": "stream",
       "stream": "stdout",
       "text": [
        "\n",
        "946\n",
        "[ 0.58052288  0.60405229  0.65895425 ...,  0.5924183   0.58849673\n",
        "  0.61202614]"
       ]
      },
      {
       "output_type": "stream",
       "stream": "stdout",
       "text": [
        "\n",
        "947\n",
        "[ 0.84711765  0.8312549   0.78817647 ...,  0.79704575  0.74606536\n",
        "  0.71077124]"
       ]
      },
      {
       "output_type": "stream",
       "stream": "stdout",
       "text": [
        "\n",
        "948\n",
        "[ 1.  1.  1. ...,  1.  1.  1.]"
       ]
      },
      {
       "output_type": "stream",
       "stream": "stdout",
       "text": [
        "\n",
        "949\n",
        "[ 0.7739085   0.82488889  0.89939869 ...,  0.59370458  0.44650458\n",
        "  0.31535686]"
       ]
      },
      {
       "output_type": "stream",
       "stream": "stdout",
       "text": [
        "\n",
        "950\n",
        "[ 0.00784314  0.          0.00392157 ...,  0.0552549   0.00352941\n",
        "  0.00352941]"
       ]
      },
      {
       "output_type": "stream",
       "stream": "stdout",
       "text": [
        "\n",
        "951\n",
        "[ 0.89668627  0.89668627  0.88884314 ...,  0.26970614  0.22264732\n",
        "  0.15990222]"
       ]
      },
      {
       "output_type": "stream",
       "stream": "stdout",
       "text": [
        "\n",
        "952\n",
        "[ 0.51019608  0.47960784  0.16627451 ...,  0.50705882  0.51254902\n",
        "  0.54784314]"
       ]
      },
      {
       "output_type": "stream",
       "stream": "stdout",
       "text": [
        "\n",
        "953\n",
        "[ 0.91372549  0.91372549  0.91372549 ...,  0.7930719   0.7930719   0.7930719 ]"
       ]
      },
      {
       "output_type": "stream",
       "stream": "stdout",
       "text": [
        "\n",
        "954\n",
        "[ 0.87400784  0.87792941  0.85069281 ...,  0.59430065  0.6139085\n",
        "  0.63743791]"
       ]
      },
      {
       "output_type": "stream",
       "stream": "stdout",
       "text": [
        "\n",
        "955\n",
        "[ 1.  1.  1. ...,  1.  1.  1.]\n",
        "956"
       ]
      },
      {
       "output_type": "stream",
       "stream": "stdout",
       "text": [
        "\n",
        "[ 0.52509804  0.52509804  0.52509804 ...,  0.61503268  0.59542484\n",
        "  0.58366013]"
       ]
      },
      {
       "output_type": "stream",
       "stream": "stdout",
       "text": [
        "\n",
        "957\n",
        "[ 0.9349281   0.9231634   0.90355556 ...,  0.61528954  0.4624281   0.3442451 ]"
       ]
      },
      {
       "output_type": "stream",
       "stream": "stdout",
       "text": [
        "\n",
        "958\n",
        "[ 0.40980392  0.52745098  0.26470588 ...,  0.89607843  0.88039216\n",
        "  0.86862745]"
       ]
      },
      {
       "output_type": "stream",
       "stream": "stdout",
       "text": [
        "\n",
        "959\n",
        "[ 0.53856314  0.36575059  0.22862745 ...,  0.43772549  0.27301961  0.124     ]\n",
        "960"
       ]
      },
      {
       "output_type": "stream",
       "stream": "stdout",
       "text": [
        "\n",
        "[ 0.69952941  0.74266667  0.7647451  ...,  0.85657961  0.80952078\n",
        "  0.70901098]\n",
        "961\n",
        "[ 0.40980392  0.41564706  0.41772549 ...,  0.66862745  0.72745098\n",
        "  0.75490196]"
       ]
      },
      {
       "output_type": "stream",
       "stream": "stdout",
       "text": [
        "\n",
        "962\n",
        "[ 0.6284183   0.62849673  0.35408    ...,  0.83137255  0.82352941\n",
        "  0.82745098]"
       ]
      },
      {
       "output_type": "stream",
       "stream": "stdout",
       "text": [
        "\n",
        "963\n",
        "[ 0.21079843  0.26162196  0.21268078 ...,  0.46737255  0.43207843\n",
        "  0.63992157]"
       ]
      },
      {
       "output_type": "stream",
       "stream": "stdout",
       "text": [
        "\n",
        "964\n",
        "[ 0.72666667  0.81137255  0.74533333 ...,  0.75791765  0.76599608\n",
        "  0.73512549]"
       ]
      },
      {
       "output_type": "stream",
       "stream": "stdout",
       "text": [
        "\n",
        "965\n",
        "[ 0.17581699  0.41503268  0.76405229 ...,  0.93660131  0.92091503\n",
        "  0.87777778]\n",
        "966"
       ]
      },
      {
       "output_type": "stream",
       "stream": "stdout",
       "text": [
        "\n",
        "[ 0.60588235  0.59019608  0.55490196 ...,  0.55686275  0.52941176\n",
        "  0.50588235]"
       ]
      },
      {
       "output_type": "stream",
       "stream": "stdout",
       "text": [
        "\n",
        "967\n",
        "[ 0.67058824  0.74117647  0.78039216 ...,  0.56371569  0.49314706\n",
        "  0.4657549 ]"
       ]
      },
      {
       "output_type": "stream",
       "stream": "stdout",
       "text": [
        "\n",
        "968\n",
        "[ 0.71891176  0.63137255  0.56653922 ...,  0.24508824  0.42864706\n",
        "  0.31801961]"
       ]
      },
      {
       "output_type": "stream",
       "stream": "stdout",
       "text": [
        "\n",
        "969\n",
        "[ 0.49803922  0.4745098   0.4745098  ...,  0.3248366   0.18039216\n",
        "  0.10392157]\n",
        "970\n",
        "[ 0.38466667  0.3807451   0.37290196 ...,  0.2772549   0.17054902\n",
        "  0.12741176]"
       ]
      },
      {
       "output_type": "stream",
       "stream": "stdout",
       "text": [
        "\n",
        "971\n",
        "[ 0.64567438  0.61430183  0.60412536 ...,  0.82196797  0.7825485\n",
        "  0.75519556]"
       ]
      },
      {
       "output_type": "stream",
       "stream": "stdout",
       "text": [
        "\n",
        "972\n",
        "[ 0.47155556  0.50491503  0.56470588 ...,  0.94901961  0.93529412\n",
        "  0.94901961]\n",
        "973"
       ]
      },
      {
       "output_type": "stream",
       "stream": "stdout",
       "text": [
        "\n",
        "[ 1.          1.          1.         ...,  0.0701719   0.38332824\n",
        "  0.35966157]"
       ]
      },
      {
       "output_type": "stream",
       "stream": "stdout",
       "text": [
        "\n",
        "974\n",
        "[ 0.65490196  0.64705882  0.66666667 ...,  0.34721569  0.36682353\n",
        "  0.34329412]"
       ]
      },
      {
       "output_type": "stream",
       "stream": "stdout",
       "text": [
        "\n",
        "975\n",
        "[ 0.80951634  0.88010458  0.96309647 ...,  0.79683085  0.76005542\n",
        "  0.73635451]"
       ]
      },
      {
       "output_type": "stream",
       "stream": "stdout",
       "text": [
        "\n",
        "976\n",
        "[ 1.          1.          1.         ...,  0.55424837  0.4673366\n",
        "  0.40454248]"
       ]
      },
      {
       "output_type": "stream",
       "stream": "stdout",
       "text": [
        "\n",
        "977\n",
        "[ 0.96862745  0.96862745  0.96862745 ...,  0.94509804  0.94509804\n",
        "  0.94509804]"
       ]
      },
      {
       "output_type": "stream",
       "stream": "stdout",
       "text": [
        "\n",
        "978\n",
        "[ 0.38627451  0.28039216  0.18431373 ...,  0.25784314  0.23039216\n",
        "  0.16764706]"
       ]
      },
      {
       "output_type": "stream",
       "stream": "stdout",
       "text": [
        "\n",
        "979\n",
        "[ 0.1379085   0.02026144  0.11437908 ...,  0.15163399  0.06143791\n",
        "  0.13986928]"
       ]
      },
      {
       "output_type": "stream",
       "stream": "stdout",
       "text": [
        "\n",
        "980\n",
        "[ 0.42990196  0.43382353  0.45343137 ...,  0.00196078  0.00441176\n",
        "  0.00098039]\n",
        "981"
       ]
      },
      {
       "output_type": "stream",
       "stream": "stdout",
       "text": [
        "\n",
        "[ 0.36490928  0.5294583   0.72552209 ...,  0.14199268  0.17888157\n",
        "  0.07299922]"
       ]
      },
      {
       "output_type": "stream",
       "stream": "stdout",
       "text": [
        "\n",
        "982\n",
        "[ 0.96405556  0.95425163  0.97451307 ...,  0.77843137  0.74313725\n",
        "  0.75490196]\n",
        "983\n",
        "[ 0.44705882  0.39215686  0.38823529 ...,  0.71098039  0.71098039\n",
        "  0.70313725]"
       ]
      },
      {
       "output_type": "stream",
       "stream": "stdout",
       "text": [
        "\n",
        "984\n",
        "[ 0.08708497  0.21445752  0.19631373 ...,  0.39278431  0.30258824\n",
        "  0.36533333]"
       ]
      },
      {
       "output_type": "stream",
       "stream": "stdout",
       "text": [
        "\n",
        "985\n",
        "[ 0.72672575  0.76594144  0.77378458 ...,  0.12443869  0.39976575\n",
        "  0.48507294]"
       ]
      },
      {
       "output_type": "stream",
       "stream": "stdout",
       "text": [
        "\n",
        "986\n",
        "[ 0.61212967  0.61605124  0.63173752 ...,  0.62546405  0.62938562\n",
        "  0.63722876]"
       ]
      },
      {
       "output_type": "stream",
       "stream": "stdout",
       "text": [
        "\n",
        "987\n",
        "[ 0.69019608  0.56078431  0.43921569 ...,  0.73001307  0.8229281\n",
        "  0.92368627]"
       ]
      },
      {
       "output_type": "stream",
       "stream": "stdout",
       "text": [
        "\n",
        "988\n",
        "[ 0.97260327  0.97260327  0.97260327 ...,  0.9702549   0.9702549   0.9702549 ]\n",
        "989"
       ]
      },
      {
       "output_type": "stream",
       "stream": "stdout",
       "text": [
        "\n",
        "[ 0.96862745  0.94901961  0.9372549  ...,  0.98823529  0.96862745\n",
        "  0.94509804]"
       ]
      },
      {
       "output_type": "stream",
       "stream": "stdout",
       "text": [
        "\n",
        "990\n",
        "[ 0.09411765  0.2745098   0.36862745 ...,  0.10009725  0.09256784\n",
        "  0.00205804]"
       ]
      },
      {
       "output_type": "stream",
       "stream": "stdout",
       "text": [
        "\n",
        "991\n",
        "[ 0.30668301  0.62825163  0.77334967 ...,  0.41245752  0.52226144\n",
        "  0.56932026]"
       ]
      },
      {
       "output_type": "stream",
       "stream": "stdout",
       "text": [
        "\n",
        "992\n",
        "[ 0.69313725  0.70098039  0.68921569 ...,  0.04019608  0.04607843\n",
        "  0.04803922]"
       ]
      },
      {
       "output_type": "stream",
       "stream": "stdout",
       "text": [
        "\n",
        "993\n",
        "[ 0.98214275  1.          1.         ...,  0.99321569  0.99321569\n",
        "  0.99321569]\n",
        "994"
       ]
      },
      {
       "output_type": "stream",
       "stream": "stdout",
       "text": [
        "\n",
        "[ 0.6450915   0.53953268  0.35511111 ...,  0.74901961  0.74509804\n",
        "  0.7254902 ]"
       ]
      },
      {
       "output_type": "stream",
       "stream": "stdout",
       "text": [
        "\n",
        "995\n",
        "[ 0.68101961  0.67552941  0.6574902  ...,  0.39647059  0.42392157\n",
        "  0.44745098]"
       ]
      },
      {
       "output_type": "stream",
       "stream": "stdout",
       "text": [
        "\n",
        "996\n",
        "[ 0.7627451   0.68823529  0.62941176 ...,  0.66666667  0.59607843\n",
        "  0.53529412]"
       ]
      },
      {
       "output_type": "stream",
       "stream": "stdout",
       "text": [
        "\n",
        "997\n",
        "[ 0.10454902  0.19780392  0.31019608 ...,  0.8729281   0.82194771\n",
        "  0.74743791]"
       ]
      },
      {
       "output_type": "stream",
       "stream": "stdout",
       "text": [
        "\n",
        "998\n",
        "[ 0.47140523  0.58218954  0.71617647 ...,  0.55506536  0.40604575\n",
        "  0.26486928]"
       ]
      },
      {
       "output_type": "stream",
       "stream": "stdout",
       "text": [
        "\n",
        "999\n",
        "[ 0.94509804  0.94509804  0.94509804 ...,  0.94509804  0.94509804\n",
        "  0.94509804]"
       ]
      },
      {
       "output_type": "stream",
       "stream": "stdout",
       "text": [
        "\n",
        "1000\n",
        "[ 0.47336601  0.38316993  0.31454248 ...,  0.4246732   0.34330065\n",
        "  0.23937908]"
       ]
      },
      {
       "output_type": "stream",
       "stream": "stdout",
       "text": [
        "\n"
       ]
      }
     ],
     "prompt_number": 30
    },
    {
     "cell_type": "code",
     "collapsed": false,
     "input": [
      "print beach_arr.shape"
     ],
     "language": "python",
     "metadata": {},
     "outputs": [
      {
       "output_type": "stream",
       "stream": "stdout",
       "text": [
        "(1000, 22501)\n"
       ]
      }
     ],
     "prompt_number": 32
    },
    {
     "cell_type": "code",
     "collapsed": false,
     "input": [
      "merged = np.concatenate((beach_arr, rustic_arr, ballroom_arr, vintage_arr), axis =0)"
     ],
     "language": "python",
     "metadata": {},
     "outputs": [],
     "prompt_number": 108
    },
    {
     "cell_type": "code",
     "collapsed": false,
     "input": [
      "merged.shape"
     ],
     "language": "python",
     "metadata": {},
     "outputs": [
      {
       "metadata": {},
       "output_type": "pyout",
       "prompt_number": 109,
       "text": [
        "(1202, 22501)"
       ]
      }
     ],
     "prompt_number": 109
    },
    {
     "cell_type": "code",
     "collapsed": false,
     "input": [
      "# def img_to_matrix_all(directory_lst):\n",
      "#     for directory in dirctory_lst:\n",
      "#         img_to_matrix(directory)"
     ],
     "language": "python",
     "metadata": {},
     "outputs": []
    }
   ],
   "metadata": {}
  }
 ]
}