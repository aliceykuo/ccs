{
 "metadata": {
  "name": "",
  "signature": "sha256:ef3b6be5f2d6ac8bd792931b2b095cd8daa3bb48cebc64f23538e342c914a304"
 },
 "nbformat": 3,
 "nbformat_minor": 0,
 "worksheets": [
  {
   "cells": [
    {
     "cell_type": "code",
     "collapsed": false,
     "input": [
      "from skimage import io\n",
      "import pandas as pd\n",
      "import numpy as np\n",
      "import os"
     ],
     "language": "python",
     "metadata": {},
     "outputs": [],
     "prompt_number": 9
    },
    {
     "cell_type": "code",
     "collapsed": false,
     "input": [
      "class StandardizeSize(object):\n",
      "\n",
      "    def __init__(self, path='/Users/kuoyen/Documents/capstone/', raw_dir = 'image_dir', output_dir = 'uniform_img'):\n",
      "        self.path = path\n",
      "        self.raw_dir = raw_dir\n",
      "        self.output_dir = output_dir\n",
      "        self.raw_dir_path = path + raw_dir\n",
      "        self.output_dir_path = path + output_dir\n",
      "        self.dir_list = os.listdir(self.raw_dir_path)\n",
      "        os.mkdir(self.output_dir_path) \n",
      "\n",
      "    def copy_directory(self, new_dir='uniform'):\n",
      "        '''Objective: Make a copy of the raw image directory. check to see if it already \\\n",
      "            exists. Same naming convention except with \"uniform\" appended to dir name. '''\n",
      "\n",
      "        #for each of the directory in raw image directory, \n",
      "        for directory in self.dir_list:\n",
      "            print directory\n",
      "            if not os.path.isdir(directory + '_uniform'):\n",
      "                os.mkdir(directory + '_uniform')\n",
      "\n",
      "    def standardize(n, size=(28, 28)):\n",
      "        for directory in self.dir_list:\n",
      "            for ith_image, file_img in enumerate(directory):\n",
      "                if ith_image <= n:\n",
      "                    if 'jpg' in file_img:\n",
      "                        std_img = run_standardize_img(file_img, size)\n",
      "                        io.imsave(self.output_dir_path + '/+' + '%s_uniform' % directory)\n",
      "\n",
      "\n",
      "    def run_standardize_img(img, size):\n",
      "        img = io.imread(self.raw_dir_path + '/' + file_img)\n",
      "        if len(img.shape) == 3:\n",
      "            img = resize(img, size)\n",
      "        return img\n"
     ],
     "language": "python",
     "metadata": {},
     "outputs": [],
     "prompt_number": 36
    },
    {
     "cell_type": "code",
     "collapsed": false,
     "input": [
      "ss = StandardizeSize()\n",
      "ss.standardize(10)"
     ],
     "language": "python",
     "metadata": {},
     "outputs": [
      {
       "ename": "NameError",
       "evalue": "global name 'self' is not defined",
       "output_type": "pyerr",
       "traceback": [
        "\u001b[0;31m---------------------------------------------------------------------------\u001b[0m\n\u001b[0;31mNameError\u001b[0m                                 Traceback (most recent call last)",
        "\u001b[0;32m<ipython-input-37-e9bd938bcc67>\u001b[0m in \u001b[0;36m<module>\u001b[0;34m()\u001b[0m\n\u001b[1;32m      1\u001b[0m \u001b[0mss\u001b[0m \u001b[0;34m=\u001b[0m \u001b[0mStandardizeSize\u001b[0m\u001b[0;34m(\u001b[0m\u001b[0;34m)\u001b[0m\u001b[0;34m\u001b[0m\u001b[0m\n\u001b[0;32m----> 2\u001b[0;31m \u001b[0mss\u001b[0m\u001b[0;34m.\u001b[0m\u001b[0mstandardize\u001b[0m\u001b[0;34m(\u001b[0m\u001b[0;36m10\u001b[0m\u001b[0;34m)\u001b[0m\u001b[0;34m\u001b[0m\u001b[0m\n\u001b[0m",
        "\u001b[0;32m<ipython-input-36-500152676eca>\u001b[0m in \u001b[0;36mstandardize\u001b[0;34m(n, size)\u001b[0m\n\u001b[1;32m     21\u001b[0m \u001b[0;34m\u001b[0m\u001b[0m\n\u001b[1;32m     22\u001b[0m     \u001b[0;32mdef\u001b[0m \u001b[0mstandardize\u001b[0m\u001b[0;34m(\u001b[0m\u001b[0mn\u001b[0m\u001b[0;34m,\u001b[0m \u001b[0msize\u001b[0m\u001b[0;34m=\u001b[0m\u001b[0;34m(\u001b[0m\u001b[0;36m28\u001b[0m\u001b[0;34m,\u001b[0m \u001b[0;36m28\u001b[0m\u001b[0;34m)\u001b[0m\u001b[0;34m)\u001b[0m\u001b[0;34m:\u001b[0m\u001b[0;34m\u001b[0m\u001b[0m\n\u001b[0;32m---> 23\u001b[0;31m         \u001b[0;32mfor\u001b[0m \u001b[0mdirectory\u001b[0m \u001b[0;32min\u001b[0m \u001b[0mself\u001b[0m\u001b[0;34m.\u001b[0m\u001b[0mdir_list\u001b[0m\u001b[0;34m:\u001b[0m\u001b[0;34m\u001b[0m\u001b[0m\n\u001b[0m\u001b[1;32m     24\u001b[0m             \u001b[0;32mfor\u001b[0m \u001b[0mith_image\u001b[0m\u001b[0;34m,\u001b[0m \u001b[0mfile_img\u001b[0m \u001b[0;32min\u001b[0m \u001b[0menumerate\u001b[0m\u001b[0;34m(\u001b[0m\u001b[0mdirectory\u001b[0m\u001b[0;34m)\u001b[0m\u001b[0;34m:\u001b[0m\u001b[0;34m\u001b[0m\u001b[0m\n\u001b[1;32m     25\u001b[0m                 \u001b[0;32mif\u001b[0m \u001b[0mith_image\u001b[0m \u001b[0;34m<=\u001b[0m \u001b[0mn\u001b[0m\u001b[0;34m:\u001b[0m\u001b[0;34m\u001b[0m\u001b[0m\n",
        "\u001b[0;31mNameError\u001b[0m: global name 'self' is not defined"
       ]
      }
     ],
     "prompt_number": 37
    },
    {
     "cell_type": "code",
     "collapsed": false,
     "input": [],
     "language": "python",
     "metadata": {},
     "outputs": []
    }
   ],
   "metadata": {}
  }
 ]
}