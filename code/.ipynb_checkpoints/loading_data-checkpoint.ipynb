{
 "metadata": {
  "name": "",
  "signature": "sha256:58270ea77151f56c801a311ec51388557aed393bf61fd64cdc3913dc90fda823"
 },
 "nbformat": 3,
 "nbformat_minor": 0,
 "worksheets": [
  {
   "cells": [
    {
     "cell_type": "code",
     "collapsed": false,
     "input": [
      "import pandas as pd\n",
      "import numpy as np\n",
      "import psycopg2\n",
      "from psycopg2 import ProgrammingError\n",
      "import urllib "
     ],
     "language": "python",
     "metadata": {},
     "outputs": [],
     "prompt_number": 15
    },
    {
     "cell_type": "code",
     "collapsed": false,
     "input": [
      "def process_dataframe(directory='beach'):\n",
      "    filename = '../data/' + directory + 'data.csv'\n",
      "    df = pd.read_csv(filename)\n",
      "    df.columns = ['pin_desc', 'img_url', 'img_href', 'img_text', 'title_href', 'title_text', 'tag_desc', 'orig_pinner_href','orig_pinner', 'board_name_href', 'board_name']\n",
      "    df = df.apply(lambda x: x.replace('\\'', ''))\n",
      "    return df"
     ],
     "language": "python",
     "metadata": {},
     "outputs": [],
     "prompt_number": 16
    },
    {
     "cell_type": "code",
     "collapsed": false,
     "input": [
      "def save_image(dataframe, directory='beach'):\n",
      "    conn = psycopg2.connect(dbname='pinterest_wedding', user='postgres', host='/tmp')\n",
      "    c = conn.cursor()\n",
      "    print 'Connected'\n",
      "    print c\n",
      "    \n",
      "    try:\n",
      "        c.execute('''\n",
      "            CREATE TABLE pin_data \n",
      "            (\n",
      "                pin_id varchar(100),\n",
      "                category varchar(100),\n",
      "                pin_desc varchar(5000),\n",
      "                img_url varchar(5000),\n",
      "                img_href varchar(5000),\n",
      "                img_text varchar(5000),\n",
      "                title_href varchar(5000),\n",
      "                title_text varchar(5000), \n",
      "                tag_desc varchar(5000),\n",
      "                orig_pinner_href varchar(5000),\n",
      "                orig_pinner varchar(5000),\n",
      "                board_name_href varchar(5000),\n",
      "                board_name varchar(5000),\n",
      "                PRIMARY KEY(pin_id)\n",
      "                )''')\n",
      "        conn.commit()\n",
      "    except ProgrammingError:\n",
      "        pass\n",
      " \n",
      "    print 'created table'\n",
      "    \n",
      "    for i, row in enumerate(df.iterrows()):\n",
      "        row = row[1]\n",
      "        pin_id = directory + str(i)\n",
      "        category = directory\n",
      "        pin_desc = row['pin_desc']\n",
      "        img_url = row['img_url']\n",
      "        img_href = row['img_href']\n",
      "        img_text = row['img_text']\n",
      "        title_href = row['title_href']\n",
      "        title_text = row['title_text']\n",
      "        tag_desc = row['tag_desc']\n",
      "        orig_pinner_href = row['orig_pinner_href']\n",
      "        orig_pinner = row['orig_pinner']\n",
      "        board_name_href = row['board_name_href']\n",
      "        board_name = row['board_name']\n",
      "        if i == 0 or i % 100 == 0:\n",
      "            print 'Inserted', i\n",
      "        try:\n",
      "            c.execute(\"\"\"INSERT INTO pin_data VALUES ('%s', '%s', '%s', '%s', '%s', '%s', \n",
      "                        '%s', '%s','%s', '%s','%s', '%s','%s')\"\"\" % \\\n",
      "                        (pin_id, category, pin_desc, img_url, img_href, img_text,\n",
      "                        title_href, title_text, tag_desc, orig_pinner_href,\n",
      "                        orig_pinner, board_name_href, \n",
      "                        board_name))\n",
      "            conn.commit()\n",
      "        except:\n",
      "            conn.rollback()\n",
      "            # Writing the images\n",
      "        resource = urllib.urlopen(img_url)\n",
      "        dir_url = '../image_dir/' + directory + '/' + pin_id + '.jpg'\n",
      "        print dir_url\n",
      "        output = open(dir_url, \"wb\")\n",
      "        output.write(resource.read())\n",
      "        output.close()\n",
      "    conn.close()\n",
      "\n"
     ],
     "language": "python",
     "metadata": {},
     "outputs": [
      {
       "ename": "IndentationError",
       "evalue": "unexpected indent (<ipython-input-17-507ec4f2ed72>, line 62)",
       "output_type": "pyerr",
       "traceback": [
        "\u001b[0;36m  File \u001b[0;32m\"<ipython-input-17-507ec4f2ed72>\"\u001b[0;36m, line \u001b[0;32m62\u001b[0m\n\u001b[0;31m    resource = urllib.urlopen(img_url)\u001b[0m\n\u001b[0m    ^\u001b[0m\n\u001b[0;31mIndentationError\u001b[0m\u001b[0;31m:\u001b[0m unexpected indent\n"
       ]
      }
     ],
     "prompt_number": 17
    },
    {
     "cell_type": "code",
     "collapsed": false,
     "input": [
      "df = process_dataframe('beach')"
     ],
     "language": "python",
     "metadata": {},
     "outputs": [],
     "prompt_number": 13
    },
    {
     "cell_type": "code",
     "collapsed": false,
     "input": [
      "save_image(df, directory='beach')"
     ],
     "language": "python",
     "metadata": {},
     "outputs": [
      {
       "output_type": "stream",
       "stream": "stdout",
       "text": [
        "Connected\n",
        "<cursor object at 0x106e90a00; closed: 0>\n",
        "created table\n",
        "Inserted 0\n",
        "Inserted"
       ]
      },
      {
       "output_type": "stream",
       "stream": "stdout",
       "text": [
        " 100\n",
        "Inserted"
       ]
      },
      {
       "output_type": "stream",
       "stream": "stdout",
       "text": [
        " 200\n",
        "Inserted"
       ]
      },
      {
       "output_type": "stream",
       "stream": "stdout",
       "text": [
        " 300\n",
        "Inserted"
       ]
      },
      {
       "output_type": "stream",
       "stream": "stdout",
       "text": [
        " 400\n",
        "Inserted"
       ]
      },
      {
       "output_type": "stream",
       "stream": "stdout",
       "text": [
        " 500\n",
        "Inserted"
       ]
      },
      {
       "output_type": "stream",
       "stream": "stdout",
       "text": [
        " 600\n",
        "Inserted"
       ]
      },
      {
       "output_type": "stream",
       "stream": "stdout",
       "text": [
        " 700\n",
        "Inserted"
       ]
      },
      {
       "output_type": "stream",
       "stream": "stdout",
       "text": [
        " 800\n",
        "Inserted"
       ]
      },
      {
       "output_type": "stream",
       "stream": "stdout",
       "text": [
        " 900\n",
        "Inserted"
       ]
      },
      {
       "output_type": "stream",
       "stream": "stdout",
       "text": [
        " 1000\n",
        "Inserted"
       ]
      },
      {
       "output_type": "stream",
       "stream": "stdout",
       "text": [
        " 1100\n",
        "Inserted"
       ]
      },
      {
       "output_type": "stream",
       "stream": "stdout",
       "text": [
        " 1200\n",
        "Inserted"
       ]
      },
      {
       "output_type": "stream",
       "stream": "stdout",
       "text": [
        " 1300\n",
        "Inserted"
       ]
      },
      {
       "output_type": "stream",
       "stream": "stdout",
       "text": [
        " 1400\n",
        "Inserted"
       ]
      },
      {
       "output_type": "stream",
       "stream": "stdout",
       "text": [
        " 1500\n",
        "Inserted"
       ]
      },
      {
       "output_type": "stream",
       "stream": "stdout",
       "text": [
        " 1600\n",
        "Inserted"
       ]
      },
      {
       "output_type": "stream",
       "stream": "stdout",
       "text": [
        " 1700\n",
        "Inserted"
       ]
      },
      {
       "output_type": "stream",
       "stream": "stdout",
       "text": [
        " 1800\n",
        "Inserted"
       ]
      },
      {
       "output_type": "stream",
       "stream": "stdout",
       "text": [
        " 1900\n",
        "Inserted"
       ]
      },
      {
       "output_type": "stream",
       "stream": "stdout",
       "text": [
        " 2000\n",
        "Inserted"
       ]
      },
      {
       "output_type": "stream",
       "stream": "stdout",
       "text": [
        " 2100\n",
        "Inserted"
       ]
      },
      {
       "output_type": "stream",
       "stream": "stdout",
       "text": [
        " 2200\n",
        "Inserted"
       ]
      },
      {
       "output_type": "stream",
       "stream": "stdout",
       "text": [
        " 2300\n",
        "Inserted"
       ]
      },
      {
       "output_type": "stream",
       "stream": "stdout",
       "text": [
        " 2400\n",
        "Inserted"
       ]
      },
      {
       "output_type": "stream",
       "stream": "stdout",
       "text": [
        " 2500\n",
        "Inserted"
       ]
      },
      {
       "output_type": "stream",
       "stream": "stdout",
       "text": [
        " 2600\n",
        "Inserted"
       ]
      },
      {
       "output_type": "stream",
       "stream": "stdout",
       "text": [
        " 2700\n",
        "Inserted"
       ]
      },
      {
       "output_type": "stream",
       "stream": "stdout",
       "text": [
        " 2800\n",
        "../image_dir/beach/beach2848.jpg"
       ]
      },
      {
       "output_type": "stream",
       "stream": "stdout",
       "text": [
        "\n"
       ]
      }
     ],
     "prompt_number": 14
    },
    {
     "cell_type": "code",
     "collapsed": false,
     "input": [],
     "language": "python",
     "metadata": {},
     "outputs": [],
     "prompt_number": 11
    },
    {
     "cell_type": "code",
     "collapsed": false,
     "input": [],
     "language": "python",
     "metadata": {},
     "outputs": []
    }
   ],
   "metadata": {}
  }
 ]
}