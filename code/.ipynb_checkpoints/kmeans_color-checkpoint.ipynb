{
 "metadata": {
  "name": "",
  "signature": "sha256:c836bba53fe686c3355aa3c8aaf2aa7ce75faeb22374dd4f054d76f392316007"
 },
 "nbformat": 3,
 "nbformat_minor": 0,
 "worksheets": [
  {
   "cells": [
    {
     "cell_type": "code",
     "collapsed": false,
     "input": [],
     "language": "python",
     "metadata": {},
     "outputs": []
    },
    {
     "cell_type": "code",
     "collapsed": false,
     "input": [
      "#http://stackoverflow.com/questions/3241929/python-find-dominant-most-common-color-in-an-image\n",
      "\n",
      "import struct\n",
      "import Image\n",
      "import scipy\n",
      "import scipy.misc\n",
      "import scipy.cluster\n",
      "import os\n",
      "import numpy as np\n",
      "\n",
      "NUM_CLUSTERS = 5\n",
      "n=5\n",
      "raw_img_path = ('/Users/kuoyen/Documents/capstone/images/raw')\n",
      "dirs = os.listdir(raw_img_path)\n",
      "for i in dirs:\n",
      "    if not i.startswith('.'): \n",
      "        file_dir = os.path.join(raw_img_path, i)\n",
      "        # print file_dir\n",
      "        for ith_image, file_img in enumerate(os.listdir(file_dir)):\n",
      "            # print ith_image, file_img\n",
      "            if ith_image <= n:\n",
      "                if 'jpg' in file_img:\n",
      "                    filename = os.path.join(file_dir, file_img)\n",
      "                    img = Image.open(filename).resize( (60,60) )\n",
      "                    # img = img.resize( (28,28), Image.ANTIALIAS)     # optional, to reduce time\n",
      "                    ar = scipy.misc.fromimage(img)\n",
      "                    shape = ar.shape\n",
      "                    ar = ar.reshape((scipy.product(shape[:2]), shape[2]))\n",
      "#                     print ar.shape\n",
      "\n",
      "#                     print 'finding clusters'\n",
      "                    codes, dist = scipy.cluster.vq.kmeans(ar, NUM_CLUSTERS)\n",
      "#                     print 'cluster centres:\\n', codes\n",
      "\n",
      "                    vecs, dist = scipy.cluster.vq.vq(ar, codes)         # assign codes\n",
      "                    counts, bins = scipy.histogram(vecs, len(codes))    # count occurrences\n",
      "                    print counts\n",
      "                    index_max = scipy.argmax(counts)                    # find most frequent\n",
      "                    index_top = np.argsort(counts)[:-3:-1]\n",
      "                    print index_top\n",
      "                    peak = codes[index_max]\n",
      "                    colour = ''.join(chr(c) for c in peak).encode('hex')\n",
      "#                     print 'most frequent is %s (#%s)' % (peak, colour)\n"
     ],
     "language": "python",
     "metadata": {},
     "outputs": [
      {
       "output_type": "stream",
       "stream": "stdout",
       "text": [
        "[745 628 664 730 833]\n",
        "[ 410  469  528  843 1350]"
       ]
      },
      {
       "output_type": "stream",
       "stream": "stdout",
       "text": [
        "\n",
        "[1267  681 1007  249  396]"
       ]
      },
      {
       "output_type": "stream",
       "stream": "stdout",
       "text": [
        "\n",
        "[275 982 842 694 807]"
       ]
      },
      {
       "output_type": "stream",
       "stream": "stdout",
       "text": [
        "\n",
        "[ 544 1211  539  538  768]"
       ]
      },
      {
       "output_type": "stream",
       "stream": "stdout",
       "text": [
        "\n",
        "[828 889 533 445 905]"
       ]
      },
      {
       "output_type": "stream",
       "stream": "stdout",
       "text": [
        "\n",
        "[ 534 1582  697  301  486]"
       ]
      },
      {
       "output_type": "stream",
       "stream": "stdout",
       "text": [
        "\n",
        "[ 870 1935  155  452  188]"
       ]
      },
      {
       "output_type": "stream",
       "stream": "stdout",
       "text": [
        "\n",
        "[ 270 1335  757  817  421]"
       ]
      },
      {
       "output_type": "stream",
       "stream": "stdout",
       "text": [
        "\n",
        "[1691 1112  161  359  277]"
       ]
      },
      {
       "output_type": "stream",
       "stream": "stdout",
       "text": [
        "\n",
        "[ 488  856  682 1228  346]"
       ]
      },
      {
       "output_type": "stream",
       "stream": "stdout",
       "text": [
        "\n",
        "[1163  765  169  788  715]"
       ]
      },
      {
       "output_type": "stream",
       "stream": "stdout",
       "text": [
        "\n",
        "[ 582  437 1039  870  672]"
       ]
      },
      {
       "output_type": "stream",
       "stream": "stdout",
       "text": [
        "\n",
        "[ 929  181 1026  793  671]"
       ]
      },
      {
       "output_type": "stream",
       "stream": "stdout",
       "text": [
        "\n",
        "[725 378 670 937 890]"
       ]
      },
      {
       "output_type": "stream",
       "stream": "stdout",
       "text": [
        "\n",
        "[ 561  552  874  555 1058]"
       ]
      },
      {
       "output_type": "stream",
       "stream": "stdout",
       "text": [
        "\n",
        "[1206  169  752  758  715]"
       ]
      },
      {
       "output_type": "stream",
       "stream": "stdout",
       "text": [
        "\n",
        "[ 704  368  601  516 1411]"
       ]
      },
      {
       "output_type": "stream",
       "stream": "stdout",
       "text": [
        "\n",
        "[670 793 787 801 549]"
       ]
      },
      {
       "output_type": "stream",
       "stream": "stdout",
       "text": [
        "\n",
        "[ 947 1539  409  356  349]"
       ]
      },
      {
       "output_type": "stream",
       "stream": "stdout",
       "text": [
        "\n",
        "[790 930 608 513 759]"
       ]
      },
      {
       "output_type": "stream",
       "stream": "stdout",
       "text": [
        "\n",
        "[ 598  589  317  563 1533]"
       ]
      },
      {
       "output_type": "stream",
       "stream": "stdout",
       "text": [
        "\n"
       ]
      }
     ],
     "prompt_number": 6
    },
    {
     "cell_type": "code",
     "collapsed": false,
     "input": [],
     "language": "python",
     "metadata": {},
     "outputs": []
    },
    {
     "cell_type": "code",
     "collapsed": false,
     "input": [],
     "language": "python",
     "metadata": {},
     "outputs": []
    },
    {
     "cell_type": "code",
     "collapsed": false,
     "input": [],
     "language": "python",
     "metadata": {},
     "outputs": []
    },
    {
     "cell_type": "code",
     "collapsed": false,
     "input": [],
     "language": "python",
     "metadata": {},
     "outputs": []
    },
    {
     "cell_type": "code",
     "collapsed": false,
     "input": [],
     "language": "python",
     "metadata": {},
     "outputs": []
    },
    {
     "cell_type": "code",
     "collapsed": false,
     "input": [
      "#https://gist.github.com/zollinger/1722663\n",
      "import Image, ImageDraw\n",
      " \n",
      "def get_colors(infile, outfile, numcolors=10, swatchsize=20, resize=150):\n",
      " \n",
      "    image = Image.open(infile)\n",
      "    image = image.resize((resize, resize))\n",
      "    result = image.convert('P', palette=Image.ADAPTIVE, colors=numcolors)\n",
      "    result.putalpha(0)\n",
      "    colors = result.getcolors(resize*resize)\n",
      " \n",
      "    # Save colors to file\n",
      " \n",
      "    pal = Image.new('RGB', (swatchsize*numcolors, swatchsize))\n",
      "    draw = ImageDraw.Draw(pal)\n",
      " \n",
      "    posx = 0\n",
      "    for count, col in colors:\n",
      "        draw.rectangle([posx, 0, posx+swatchsize, swatchsize], fill=col)\n",
      "        posx = posx + swatchsize\n",
      " \n",
      "    del draw\n",
      "    pal.save(outfile, \"PNG\")\n",
      " \n",
      "if __name__ == '__main__':\n",
      "    get_colors('infile.jpg', '')"
     ],
     "language": "python",
     "metadata": {},
     "outputs": [
      {
       "ename": "IOError",
       "evalue": "[Errno 2] No such file or directory: 'infile.jpg'",
       "output_type": "pyerr",
       "traceback": [
        "\u001b[0;31m---------------------------------------------------------------------------\u001b[0m\n\u001b[0;31mIOError\u001b[0m                                   Traceback (most recent call last)",
        "\u001b[0;32m<ipython-input-2-35212aa0aaf2>\u001b[0m in \u001b[0;36m<module>\u001b[0;34m()\u001b[0m\n\u001b[1;32m     24\u001b[0m \u001b[0;34m\u001b[0m\u001b[0m\n\u001b[1;32m     25\u001b[0m \u001b[0;32mif\u001b[0m \u001b[0m__name__\u001b[0m \u001b[0;34m==\u001b[0m \u001b[0;34m'__main__'\u001b[0m\u001b[0;34m:\u001b[0m\u001b[0;34m\u001b[0m\u001b[0m\n\u001b[0;32m---> 26\u001b[0;31m     \u001b[0mget_colors\u001b[0m\u001b[0;34m(\u001b[0m\u001b[0;34m'infile.jpg'\u001b[0m\u001b[0;34m,\u001b[0m \u001b[0;34m'outfile.png'\u001b[0m\u001b[0;34m)\u001b[0m\u001b[0;34m\u001b[0m\u001b[0m\n\u001b[0m",
        "\u001b[0;32m<ipython-input-2-35212aa0aaf2>\u001b[0m in \u001b[0;36mget_colors\u001b[0;34m(infile, outfile, numcolors, swatchsize, resize)\u001b[0m\n\u001b[1;32m      4\u001b[0m \u001b[0;32mdef\u001b[0m \u001b[0mget_colors\u001b[0m\u001b[0;34m(\u001b[0m\u001b[0minfile\u001b[0m\u001b[0;34m,\u001b[0m \u001b[0moutfile\u001b[0m\u001b[0;34m,\u001b[0m \u001b[0mnumcolors\u001b[0m\u001b[0;34m=\u001b[0m\u001b[0;36m10\u001b[0m\u001b[0;34m,\u001b[0m \u001b[0mswatchsize\u001b[0m\u001b[0;34m=\u001b[0m\u001b[0;36m20\u001b[0m\u001b[0;34m,\u001b[0m \u001b[0mresize\u001b[0m\u001b[0;34m=\u001b[0m\u001b[0;36m150\u001b[0m\u001b[0;34m)\u001b[0m\u001b[0;34m:\u001b[0m\u001b[0;34m\u001b[0m\u001b[0m\n\u001b[1;32m      5\u001b[0m \u001b[0;34m\u001b[0m\u001b[0m\n\u001b[0;32m----> 6\u001b[0;31m     \u001b[0mimage\u001b[0m \u001b[0;34m=\u001b[0m \u001b[0mImage\u001b[0m\u001b[0;34m.\u001b[0m\u001b[0mopen\u001b[0m\u001b[0;34m(\u001b[0m\u001b[0minfile\u001b[0m\u001b[0;34m)\u001b[0m\u001b[0;34m\u001b[0m\u001b[0m\n\u001b[0m\u001b[1;32m      7\u001b[0m     \u001b[0mimage\u001b[0m \u001b[0;34m=\u001b[0m \u001b[0mimage\u001b[0m\u001b[0;34m.\u001b[0m\u001b[0mresize\u001b[0m\u001b[0;34m(\u001b[0m\u001b[0;34m(\u001b[0m\u001b[0mresize\u001b[0m\u001b[0;34m,\u001b[0m \u001b[0mresize\u001b[0m\u001b[0;34m)\u001b[0m\u001b[0;34m)\u001b[0m\u001b[0;34m\u001b[0m\u001b[0m\n\u001b[1;32m      8\u001b[0m     \u001b[0mresult\u001b[0m \u001b[0;34m=\u001b[0m \u001b[0mimage\u001b[0m\u001b[0;34m.\u001b[0m\u001b[0mconvert\u001b[0m\u001b[0;34m(\u001b[0m\u001b[0;34m'P'\u001b[0m\u001b[0;34m,\u001b[0m \u001b[0mpalette\u001b[0m\u001b[0;34m=\u001b[0m\u001b[0mImage\u001b[0m\u001b[0;34m.\u001b[0m\u001b[0mADAPTIVE\u001b[0m\u001b[0;34m,\u001b[0m \u001b[0mcolors\u001b[0m\u001b[0;34m=\u001b[0m\u001b[0mnumcolors\u001b[0m\u001b[0;34m)\u001b[0m\u001b[0;34m\u001b[0m\u001b[0m\n",
        "\u001b[0;32m/Users/kuoyen/anaconda/lib/python2.7/site-packages/PIL/Image.pyc\u001b[0m in \u001b[0;36mopen\u001b[0;34m(fp, mode)\u001b[0m\n\u001b[1;32m   1950\u001b[0m         \u001b[0;32mimport\u001b[0m \u001b[0m__builtin__\u001b[0m\u001b[0;34m\u001b[0m\u001b[0m\n\u001b[1;32m   1951\u001b[0m         \u001b[0mfilename\u001b[0m \u001b[0;34m=\u001b[0m \u001b[0mfp\u001b[0m\u001b[0;34m\u001b[0m\u001b[0m\n\u001b[0;32m-> 1952\u001b[0;31m         \u001b[0mfp\u001b[0m \u001b[0;34m=\u001b[0m \u001b[0m__builtin__\u001b[0m\u001b[0;34m.\u001b[0m\u001b[0mopen\u001b[0m\u001b[0;34m(\u001b[0m\u001b[0mfp\u001b[0m\u001b[0;34m,\u001b[0m \u001b[0;34m\"rb\"\u001b[0m\u001b[0;34m)\u001b[0m\u001b[0;34m\u001b[0m\u001b[0m\n\u001b[0m\u001b[1;32m   1953\u001b[0m     \u001b[0;32melse\u001b[0m\u001b[0;34m:\u001b[0m\u001b[0;34m\u001b[0m\u001b[0m\n\u001b[1;32m   1954\u001b[0m         \u001b[0mfilename\u001b[0m \u001b[0;34m=\u001b[0m \u001b[0;34m\"\"\u001b[0m\u001b[0;34m\u001b[0m\u001b[0m\n",
        "\u001b[0;31mIOError\u001b[0m: [Errno 2] No such file or directory: 'infile.jpg'"
       ]
      }
     ],
     "prompt_number": 2
    },
    {
     "cell_type": "code",
     "collapsed": false,
     "input": [],
     "language": "python",
     "metadata": {},
     "outputs": []
    },
    {
     "cell_type": "code",
     "collapsed": false,
     "input": [],
     "language": "python",
     "metadata": {},
     "outputs": []
    },
    {
     "cell_type": "code",
     "collapsed": false,
     "input": [],
     "language": "python",
     "metadata": {},
     "outputs": []
    },
    {
     "cell_type": "code",
     "collapsed": false,
     "input": [],
     "language": "python",
     "metadata": {},
     "outputs": []
    }
   ],
   "metadata": {}
  }
 ]
}