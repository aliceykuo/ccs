{
 "metadata": {
  "name": "",
  "signature": "sha256:d17e6f87df0f38c6012ae8dfda41c4693017139bcb17110749c1d56021787575"
 },
 "nbformat": 3,
 "nbformat_minor": 0,
 "worksheets": [
  {
   "cells": [
    {
     "cell_type": "code",
     "collapsed": false,
     "input": [
      "import sys\n",
      "import os\n",
      "import numpy as np\n",
      "# import itertools\n",
      "from sklearn.preprocessing import StandardScaler\n",
      "from skimage import io\n",
      "import scipy\n",
      "from scipy import ndimage, misc\n",
      "from skimage.color import rgb2gray\n",
      "from skimage.exposure import equalize_hist\n",
      "from skimage.segmentation import felzenszwalb, slic, quickshift\n",
      "from PIL import Image\n",
      "from scipy.cluster.vq import vq\n",
      "from sklearn.cross_validation import train_test_split\n",
      "from sklearn.metrics import confusion_matrix, precision_score, recall_score, f1_score\n",
      "from sklearn.ensemble import RandomForestClassifier\n",
      "from sklearn import preprocessing\n",
      "import pickle as pkl\n",
      "from dom_color import DominantColor\n",
      "import cv2\n",
      "import time\n",
      "import datetime\n",
      "import os, errno"
     ],
     "language": "python",
     "metadata": {},
     "outputs": [],
     "prompt_number": 8
    },
    {
     "cell_type": "code",
     "collapsed": false,
     "input": [
      "def dom_colors(filename):\n",
      "    dom_colors = []\n",
      "    img = Image.open(filename)\n",
      "    # segments = segment_image(i)\n",
      "    ar = scipy.misc.fromimage(img)\n",
      "    shape = ar.shape\n",
      "    ar = ar.reshape((scipy.product(shape[:2]), shape[2]))\n",
      "    codes, dist = scipy.cluster.vq.kmeans(ar, 3)\n",
      "    vecs, dist = scipy.cluster.vq.vq(ar, codes)         \n",
      "    counts, bins = scipy.histogram(vecs, len(codes))   \n",
      "    index_top = scipy.argsort(counts) [:-6:-1]         \n",
      "    img_dom_colors = []\n",
      "    for i in codes[index_top]:\n",
      "        img_dom_colors.append(i)\n",
      "        colour = ''.join(chr(c) for c in i).encode('hex')\n",
      "        # print 'most frequent is %s (#%s)' % (i, colour)\n",
      "        if len(img_dom_colors) != 2:\n",
      "            img_dom_colors.extend(img_dom_colors[0])\n",
      "            dom_colors.append(img_dom_colors)\n",
      "    dom_colors.append(img_dom_colors)\n",
      "    return dom_colors\n"
     ],
     "language": "python",
     "metadata": {},
     "outputs": [],
     "prompt_number": 29
    },
    {
     "cell_type": "code",
     "collapsed": false,
     "input": [
      "dom = dom_colors('/Users/kuoyen/Documents/myweddingstyle/images/segmented/1409seg0.jpg')"
     ],
     "language": "python",
     "metadata": {},
     "outputs": [],
     "prompt_number": 30
    },
    {
     "cell_type": "code",
     "collapsed": false,
     "input": [
      "dom"
     ],
     "language": "python",
     "metadata": {},
     "outputs": [
      {
       "metadata": {},
       "output_type": "pyout",
       "prompt_number": 32,
       "text": [
        "[[array([254, 255, 255], dtype=uint8),\n",
        "  array([253, 253, 253], dtype=uint8),\n",
        "  array([247, 251, 254], dtype=uint8),\n",
        "  254,\n",
        "  255,\n",
        "  255],\n",
        " [array([254, 255, 255], dtype=uint8),\n",
        "  array([253, 253, 253], dtype=uint8),\n",
        "  array([247, 251, 254], dtype=uint8),\n",
        "  254,\n",
        "  255,\n",
        "  255]]"
       ]
      }
     ],
     "prompt_number": 32
    },
    {
     "cell_type": "code",
     "collapsed": false,
     "input": [
      "dom = dom_colors('/Users/kuoyen/Documents/myweddingstyle/images/segmented/1409seg1.jpg')"
     ],
     "language": "python",
     "metadata": {},
     "outputs": [],
     "prompt_number": 33
    },
    {
     "cell_type": "code",
     "collapsed": false,
     "input": [
      "dom"
     ],
     "language": "python",
     "metadata": {},
     "outputs": [
      {
       "metadata": {},
       "output_type": "pyout",
       "prompt_number": 34,
       "text": [
        "[[array([243, 244, 245], dtype=uint8),\n",
        "  array([154, 157, 160], dtype=uint8),\n",
        "  array([58, 59, 60], dtype=uint8),\n",
        "  243,\n",
        "  244,\n",
        "  245],\n",
        " [array([243, 244, 245], dtype=uint8),\n",
        "  array([154, 157, 160], dtype=uint8),\n",
        "  array([58, 59, 60], dtype=uint8),\n",
        "  243,\n",
        "  244,\n",
        "  245]]"
       ]
      }
     ],
     "prompt_number": 34
    },
    {
     "cell_type": "code",
     "collapsed": false,
     "input": [],
     "language": "python",
     "metadata": {},
     "outputs": []
    }
   ],
   "metadata": {}
  }
 ]
}