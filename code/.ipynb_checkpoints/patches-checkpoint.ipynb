{
 "metadata": {
  "name": "",
  "signature": "sha256:8b15e946070762e58bdaafcb51a61a00388c6a38c49c55a83a754e892ce92c4f"
 },
 "nbformat": 3,
 "nbformat_minor": 0,
 "worksheets": [
  {
   "cells": [
    {
     "cell_type": "code",
     "collapsed": false,
     "input": [
      "import numpy as np\n",
      "from skimage import io\n",
      "from sklearn.feature_extraction import image"
     ],
     "language": "python",
     "metadata": {},
     "outputs": [],
     "prompt_number": 18
    },
    {
     "cell_type": "code",
     "collapsed": false,
     "input": [
      "mat = np.zeros(shape = (10,5))"
     ],
     "language": "python",
     "metadata": {},
     "outputs": [],
     "prompt_number": 6
    },
    {
     "cell_type": "code",
     "collapsed": false,
     "input": [
      "b = np.arange(5).reshape(1,5)"
     ],
     "language": "python",
     "metadata": {},
     "outputs": [],
     "prompt_number": 8
    },
    {
     "cell_type": "code",
     "collapsed": false,
     "input": [
      "for i in range(mat.shape[0]):\n",
      "    mat[i:] = b\n"
     ],
     "language": "python",
     "metadata": {},
     "outputs": [],
     "prompt_number": 16
    },
    {
     "cell_type": "code",
     "collapsed": false,
     "input": [
      "mat "
     ],
     "language": "python",
     "metadata": {},
     "outputs": [
      {
       "metadata": {},
       "output_type": "pyout",
       "prompt_number": 17,
       "text": [
        "array([[ 0.,  1.,  2.,  3.,  4.],\n",
        "       [ 0.,  1.,  2.,  3.,  4.],\n",
        "       [ 0.,  1.,  2.,  3.,  4.],\n",
        "       [ 0.,  1.,  2.,  3.,  4.],\n",
        "       [ 0.,  1.,  2.,  3.,  4.],\n",
        "       [ 0.,  1.,  2.,  3.,  4.],\n",
        "       [ 0.,  1.,  2.,  3.,  4.],\n",
        "       [ 0.,  1.,  2.,  3.,  4.],\n",
        "       [ 0.,  1.,  2.,  3.,  4.],\n",
        "       [ 0.,  1.,  2.,  3.,  4.]])"
       ]
      }
     ],
     "prompt_number": 17
    },
    {
     "cell_type": "markdown",
     "metadata": {},
     "source": [
      "img = io.imread('/Users/kuoyen/Documents/myweddingstyle/images/uniform_100/ballroom/ballroom0.jpg')"
     ]
    },
    {
     "cell_type": "code",
     "collapsed": false,
     "input": [
      "img = io.imread('/Users/kuoyen/Documents/myweddingstyle/images/uniform_100/ballroom/ballroom0.jpg')\n",
      "img"
     ],
     "language": "python",
     "metadata": {},
     "outputs": [
      {
       "metadata": {},
       "output_type": "pyout",
       "prompt_number": 37,
       "text": [
        "array([[[ 8, 15,  0],\n",
        "        [ 0,  2,  0],\n",
        "        [11, 12,  6],\n",
        "        ..., \n",
        "        [16, 15, 21],\n",
        "        [17, 16, 22],\n",
        "        [10,  9, 15]],\n",
        "\n",
        "       [[ 2,  6,  0],\n",
        "        [ 7, 10,  1],\n",
        "        [ 7,  6,  2],\n",
        "        ..., \n",
        "        [ 7,  8, 13],\n",
        "        [ 0,  0,  5],\n",
        "        [ 0,  1,  6]],\n",
        "\n",
        "       [[24, 25, 17],\n",
        "        [ 7,  6,  1],\n",
        "        [ 8,  4,  3],\n",
        "        ..., \n",
        "        [ 8,  9, 13],\n",
        "        [ 5,  6, 10],\n",
        "        [ 3,  4,  8]],\n",
        "\n",
        "       ..., \n",
        "       [[11,  0,  4],\n",
        "        [55, 46, 51],\n",
        "        [13, 11, 16],\n",
        "        ..., \n",
        "        [ 3,  3,  3],\n",
        "        [ 0,  0,  0],\n",
        "        [ 0,  0,  0]],\n",
        "\n",
        "       [[25, 14, 18],\n",
        "        [17,  8, 13],\n",
        "        [11,  9, 14],\n",
        "        ..., \n",
        "        [ 3,  3,  3],\n",
        "        [ 0,  0,  0],\n",
        "        [ 0,  0,  0]],\n",
        "\n",
        "       [[30, 19, 23],\n",
        "        [52, 43, 48],\n",
        "        [ 2,  0,  5],\n",
        "        ..., \n",
        "        [ 3,  3,  3],\n",
        "        [ 0,  0,  0],\n",
        "        [ 0,  0,  0]]], dtype=uint8)"
       ]
      }
     ],
     "prompt_number": 37
    },
    {
     "cell_type": "code",
     "collapsed": false,
     "input": [
      "patches = image.extract_patches_2d(img, (2,2), max_patches = 10)"
     ],
     "language": "python",
     "metadata": {},
     "outputs": [],
     "prompt_number": 34
    },
    {
     "cell_type": "code",
     "collapsed": false,
     "input": [
      "patches.shape"
     ],
     "language": "python",
     "metadata": {},
     "outputs": [
      {
       "metadata": {},
       "output_type": "pyout",
       "prompt_number": 35,
       "text": [
        "(10, 2, 2, 3)"
       ]
      }
     ],
     "prompt_number": 35
    },
    {
     "cell_type": "code",
     "collapsed": false,
     "input": [
      "len(patches.ravel())"
     ],
     "language": "python",
     "metadata": {},
     "outputs": [
      {
       "metadata": {},
       "output_type": "pyout",
       "prompt_number": 31,
       "text": [
        "120"
       ]
      }
     ],
     "prompt_number": 31
    },
    {
     "cell_type": "code",
     "collapsed": false,
     "input": [
      "patches[1]"
     ],
     "language": "python",
     "metadata": {},
     "outputs": [
      {
       "metadata": {},
       "output_type": "pyout",
       "prompt_number": 26,
       "text": [
        "array([[[150, 105, 102],\n",
        "        [ 56,  18,  17]],\n",
        "\n",
        "       [[ 35,   0,   0],\n",
        "        [ 55,  22,  29]]], dtype=uint8)"
       ]
      }
     ],
     "prompt_number": 26
    },
    {
     "cell_type": "code",
     "collapsed": false,
     "input": [
      "patches[2]"
     ],
     "language": "python",
     "metadata": {},
     "outputs": [
      {
       "metadata": {},
       "output_type": "pyout",
       "prompt_number": 28,
       "text": [
        "array([[[209, 164, 133],\n",
        "        [165, 121,  84]],\n",
        "\n",
        "       [[204, 160, 133],\n",
        "        [172, 129,  94]]], dtype=uint8)"
       ]
      }
     ],
     "prompt_number": 28
    },
    {
     "cell_type": "code",
     "collapsed": false,
     "input": [
      "import pandas as pd\n",
      "df = pd.read_pickle('/Users/kuoyen/Desktop/wedding/extract_patches_50img_0156.pkl')\n",
      "# /Users/kuoyen/Desktop/wedding/extract_patches_50img_0156.pkl"
     ],
     "language": "python",
     "metadata": {},
     "outputs": [
      {
       "ename": "IOError",
       "evalue": "[Errno 2] No such file or directory: 'Users/kuoyen/Desktop/wedding/extract_patches_50img_0156.pkl'",
       "output_type": "pyerr",
       "traceback": [
        "\u001b[0;31m---------------------------------------------------------------------------\u001b[0m\n\u001b[0;31mIOError\u001b[0m                                   Traceback (most recent call last)",
        "\u001b[0;32m<ipython-input-39-7d2ba26f0ca8>\u001b[0m in \u001b[0;36m<module>\u001b[0;34m()\u001b[0m\n\u001b[1;32m      1\u001b[0m \u001b[0;32mimport\u001b[0m \u001b[0mpandas\u001b[0m \u001b[0;32mas\u001b[0m \u001b[0mpd\u001b[0m\u001b[0;34m\u001b[0m\u001b[0m\n\u001b[0;32m----> 2\u001b[0;31m \u001b[0mdf\u001b[0m \u001b[0;34m=\u001b[0m \u001b[0mpd\u001b[0m\u001b[0;34m.\u001b[0m\u001b[0mread_pickle\u001b[0m\u001b[0;34m(\u001b[0m\u001b[0;34m'Users/kuoyen/Desktop/wedding/extract_patches_50img_0156.pkl'\u001b[0m\u001b[0;34m)\u001b[0m\u001b[0;34m\u001b[0m\u001b[0m\n\u001b[0m",
        "\u001b[0;32m/Users/kuoyen/anaconda/lib/python2.7/site-packages/pandas/io/pickle.pyc\u001b[0m in \u001b[0;36mread_pickle\u001b[0;34m(path)\u001b[0m\n\u001b[1;32m     59\u001b[0m \u001b[0;34m\u001b[0m\u001b[0m\n\u001b[1;32m     60\u001b[0m     \u001b[0;32mtry\u001b[0m\u001b[0;34m:\u001b[0m\u001b[0;34m\u001b[0m\u001b[0m\n\u001b[0;32m---> 61\u001b[0;31m         \u001b[0;32mreturn\u001b[0m \u001b[0mtry_read\u001b[0m\u001b[0;34m(\u001b[0m\u001b[0mpath\u001b[0m\u001b[0;34m)\u001b[0m\u001b[0;34m\u001b[0m\u001b[0m\n\u001b[0m\u001b[1;32m     62\u001b[0m     \u001b[0;32mexcept\u001b[0m\u001b[0;34m:\u001b[0m\u001b[0;34m\u001b[0m\u001b[0m\n\u001b[1;32m     63\u001b[0m         \u001b[0;32mif\u001b[0m \u001b[0mPY3\u001b[0m\u001b[0;34m:\u001b[0m\u001b[0;34m\u001b[0m\u001b[0m\n",
        "\u001b[0;32m/Users/kuoyen/anaconda/lib/python2.7/site-packages/pandas/io/pickle.pyc\u001b[0m in \u001b[0;36mtry_read\u001b[0;34m(path, encoding)\u001b[0m\n\u001b[1;32m     55\u001b[0m             \u001b[0;31m# compat pickle\u001b[0m\u001b[0;34m\u001b[0m\u001b[0;34m\u001b[0m\u001b[0m\n\u001b[1;32m     56\u001b[0m             \u001b[0;32mexcept\u001b[0m\u001b[0;34m:\u001b[0m\u001b[0;34m\u001b[0m\u001b[0m\n\u001b[0;32m---> 57\u001b[0;31m                 \u001b[0;32mwith\u001b[0m \u001b[0mopen\u001b[0m\u001b[0;34m(\u001b[0m\u001b[0mpath\u001b[0m\u001b[0;34m,\u001b[0m \u001b[0;34m'rb'\u001b[0m\u001b[0;34m)\u001b[0m \u001b[0;32mas\u001b[0m \u001b[0mfh\u001b[0m\u001b[0;34m:\u001b[0m\u001b[0;34m\u001b[0m\u001b[0m\n\u001b[0m\u001b[1;32m     58\u001b[0m                     \u001b[0;32mreturn\u001b[0m \u001b[0mpc\u001b[0m\u001b[0;34m.\u001b[0m\u001b[0mload\u001b[0m\u001b[0;34m(\u001b[0m\u001b[0mfh\u001b[0m\u001b[0;34m,\u001b[0m \u001b[0mencoding\u001b[0m\u001b[0;34m=\u001b[0m\u001b[0mencoding\u001b[0m\u001b[0;34m,\u001b[0m \u001b[0mcompat\u001b[0m\u001b[0;34m=\u001b[0m\u001b[0mTrue\u001b[0m\u001b[0;34m)\u001b[0m\u001b[0;34m\u001b[0m\u001b[0m\n\u001b[1;32m     59\u001b[0m \u001b[0;34m\u001b[0m\u001b[0m\n",
        "\u001b[0;31mIOError\u001b[0m: [Errno 2] No such file or directory: 'Users/kuoyen/Desktop/wedding/extract_patches_50img_0156.pkl'"
       ]
      }
     ],
     "prompt_number": 39
    },
    {
     "cell_type": "code",
     "collapsed": false,
     "input": [],
     "language": "python",
     "metadata": {},
     "outputs": []
    }
   ],
   "metadata": {}
  }
 ]
}