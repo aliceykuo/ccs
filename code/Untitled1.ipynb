{
 "metadata": {
  "name": "",
  "signature": "sha256:3ed49941793eaba0326d471b0e246d8598b18623d0206d97551991d3e6773b45"
 },
 "nbformat": 3,
 "nbformat_minor": 0,
 "worksheets": [
  {
   "cells": [
    {
     "cell_type": "code",
     "collapsed": false,
     "input": [
      "import pandas as pd\n",
      "import numpy as np\n",
      "from skimage import io\n",
      "import os, sys\n",
      "from collections import namedtuple\n"
     ],
     "language": "python",
     "metadata": {},
     "outputs": [],
     "prompt_number": 30
    },
    {
     "cell_type": "code",
     "collapsed": false,
     "input": [
      "# def get_points(img):\n",
      "#     points = []\n",
      "#     w, h = img.size\n",
      "#     print w, h\n",
      "#     for count, color in img.getcolors(w * h):\n",
      "#         points.append(Point(color, 3, count))\n",
      "#     return points\n",
      "\n",
      "# rtoh = lambda rgb: '#%s' % ''.join(('%02x' % p for p in rgb))\n",
      "\n",
      "# def dominant_color(directory, n=3):\n",
      "#     path = '/Users/kuoyen/Documents/capstone/image_dir/'+ directory\n",
      "#     dirs = os.listdir(path)\n",
      "#     label_img_arr = None\n",
      "#     for ith_image, file_img in enumerate(dirs):\n",
      "#         if ith_image <= 100:\n",
      "#             if ith_image == 0 or ith_image % 100 == 0:\n",
      "#                 print 'Vectorized', ith_image\n",
      "#             if 'jpg' in file_img:\n",
      "#                 standard_size = (100, 75)\n",
      "#                 img = io.imread(path + '/' + file_img)\n",
      "#                 w, h = img.size\n",
      "#                 if len(img.shape) == 3:\n",
      "#                     points = get_points(img)\n",
      "#                     clusters = kmeans(points, n, 1)\n",
      "#                     rgbs = [map(int, c.center.coords) for c in clusters]\n",
      "#                     return map(rtoh, rgbs)\n",
      "Point = namedtuple('Point', ('coords', 'n', 'ct'))\n",
      "Cluster = namedtuple('Cluster', ('points', 'center', 'n'))                \n",
      "\n",
      "def get_points(img):\n",
      "    points = []\n",
      "    for count, color in img.getcolors(w * h):\n",
      "        points.append(Point(color, 3, count))\n",
      "    return points\n",
      "\n",
      "rtoh = lambda rgb: '#%s' % ''.join(('%02x' % p for p in rgb))\n",
      "\n",
      "def colorz(directory='beach', n=3):\n",
      "    path = '/Users/kuoyen/Documents/capstone/image_dir/'+ directory\n",
      "    dirs = os.listdir(path)\n",
      "    label_img_arr = None\n",
      "    for ith_image, file_img in enumerate(dirs):\n",
      "        if ith_image <= 10:\n",
      "            if ith_image == 0 or ith_image % 100 == 0:\n",
      "                print 'Vectorized', ith_image\n",
      "            if 'jpg' in file_img:\n",
      "                standard_size = (100, 75)\n",
      "                img = io.imread(path + '/' + file_img)\n",
      "                print img.shape\n",
      "\n",
      "#                 points = get_points(img)\n",
      "#                 clusters = kmeans(points, n, 1)\n",
      "#                 rgbs = [map(int, c.center.coords) for c in clusters]\n",
      "#     return map(rtoh, rgbs)\n"
     ],
     "language": "python",
     "metadata": {},
     "outputs": [],
     "prompt_number": 31
    },
    {
     "cell_type": "code",
     "collapsed": false,
     "input": [
      "dominant_color('beach', n=4)"
     ],
     "language": "python",
     "metadata": {},
     "outputs": [
      {
       "output_type": "stream",
       "stream": "stdout",
       "text": [
        "Vectorized 0\n"
       ]
      },
      {
       "ename": "TypeError",
       "evalue": "'int' object is not iterable",
       "output_type": "pyerr",
       "traceback": [
        "\u001b[0;31m---------------------------------------------------------------------------\u001b[0m\n\u001b[0;31mTypeError\u001b[0m                                 Traceback (most recent call last)",
        "\u001b[0;32m<ipython-input-32-0b89a80dd024>\u001b[0m in \u001b[0;36m<module>\u001b[0;34m()\u001b[0m\n\u001b[0;32m----> 1\u001b[0;31m \u001b[0mdominant_color\u001b[0m\u001b[0;34m(\u001b[0m\u001b[0;34m'beach'\u001b[0m\u001b[0;34m,\u001b[0m \u001b[0mn\u001b[0m\u001b[0;34m=\u001b[0m\u001b[0;36m4\u001b[0m\u001b[0;34m)\u001b[0m\u001b[0;34m\u001b[0m\u001b[0m\n\u001b[0m",
        "\u001b[0;32m<ipython-input-15-b6ac53658cfc>\u001b[0m in \u001b[0;36mdominant_color\u001b[0;34m(directory, n)\u001b[0m\n\u001b[1;32m     20\u001b[0m                 \u001b[0mstandard_size\u001b[0m \u001b[0;34m=\u001b[0m \u001b[0;34m(\u001b[0m\u001b[0;36m100\u001b[0m\u001b[0;34m,\u001b[0m \u001b[0;36m75\u001b[0m\u001b[0;34m)\u001b[0m\u001b[0;34m\u001b[0m\u001b[0m\n\u001b[1;32m     21\u001b[0m                 \u001b[0mimg\u001b[0m \u001b[0;34m=\u001b[0m \u001b[0mio\u001b[0m\u001b[0;34m.\u001b[0m\u001b[0mimread\u001b[0m\u001b[0;34m(\u001b[0m\u001b[0mpath\u001b[0m \u001b[0;34m+\u001b[0m \u001b[0;34m'/'\u001b[0m \u001b[0;34m+\u001b[0m \u001b[0mfile_img\u001b[0m\u001b[0;34m)\u001b[0m\u001b[0;34m\u001b[0m\u001b[0m\n\u001b[0;32m---> 22\u001b[0;31m                 \u001b[0mw\u001b[0m\u001b[0;34m,\u001b[0m \u001b[0mh\u001b[0m \u001b[0;34m=\u001b[0m \u001b[0mimg\u001b[0m\u001b[0;34m.\u001b[0m\u001b[0msize\u001b[0m\u001b[0;34m\u001b[0m\u001b[0m\n\u001b[0m\u001b[1;32m     23\u001b[0m                 \u001b[0;32mif\u001b[0m \u001b[0mlen\u001b[0m\u001b[0;34m(\u001b[0m\u001b[0mimg\u001b[0m\u001b[0;34m.\u001b[0m\u001b[0mshape\u001b[0m\u001b[0;34m)\u001b[0m \u001b[0;34m==\u001b[0m \u001b[0;36m3\u001b[0m\u001b[0;34m:\u001b[0m\u001b[0;34m\u001b[0m\u001b[0m\n\u001b[1;32m     24\u001b[0m                     \u001b[0mpoints\u001b[0m \u001b[0;34m=\u001b[0m \u001b[0mget_points\u001b[0m\u001b[0;34m(\u001b[0m\u001b[0mimg\u001b[0m\u001b[0;34m)\u001b[0m\u001b[0;34m\u001b[0m\u001b[0m\n",
        "\u001b[0;31mTypeError\u001b[0m: 'int' object is not iterable"
       ]
      }
     ],
     "prompt_number": 32
    },
    {
     "cell_type": "code",
     "collapsed": false,
     "input": [],
     "language": "python",
     "metadata": {},
     "outputs": []
    }
   ],
   "metadata": {}
  }
 ]
}