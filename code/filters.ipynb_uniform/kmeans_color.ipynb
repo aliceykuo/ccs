{
 "metadata": {
  "name": "",
  "signature": "sha256:6c89d8eae0eaa32beb50701474a06f6fa9afb7c36f4be28a87c3a360692de44c"
 },
 "nbformat": 3,
 "nbformat_minor": 0,
 "worksheets": [
  {
   "cells": [
    {
     "cell_type": "code",
     "collapsed": false,
     "input": [],
     "language": "python",
     "metadata": {},
     "outputs": []
    },
    {
     "cell_type": "code",
     "collapsed": false,
     "input": [
      "#http://stackoverflow.com/questions/3241929/python-find-dominant-most-common-color-in-an-image\n",
      "\n",
      "import struct\n",
      "import Image\n",
      "import scipy\n",
      "import scipy.misc\n",
      "import scipy.cluster\n",
      "import os\n",
      "import numpy as np\n",
      "\n",
      "NUM_CLUSTERS = 10\n",
      "n=5\n",
      "raw_img_path = ('/Users/kuoyen/Documents/capstone/images/raw')\n",
      "dirs = os.listdir(raw_img_path)\n",
      "for i in dirs:\n",
      "    if not i.startswith('.'): \n",
      "        file_dir = os.path.join(raw_img_path, i)\n",
      "        # print file_dir\n",
      "        for ith_image, file_img in enumerate(os.listdir(file_dir)):\n",
      "            # print ith_image, file_img\n",
      "            if ith_image <= n:\n",
      "                if 'jpg' in file_img:\n",
      "                    filename = os.path.join(file_dir, file_img)\n",
      "                    img = Image.open(filename).resize( (60,60) )\n",
      "                    # img = img.resize( (28,28), Image.ANTIALIAS)     # optional, to reduce time\n",
      "                    ar = scipy.misc.fromimage(img)\n",
      "                    shape = ar.shape\n",
      "                    ar = ar.reshape((scipy.product(shape[:2]), shape[2]))\n",
      "#                     print ar.shape\n",
      "\n",
      "#                     print 'finding clusters'\n",
      "                    codes, dist = scipy.cluster.vq.kmeans(ar, NUM_CLUSTERS)\n",
      "#                     print 'cluster centres:\\n', codes\n",
      "\n",
      "                    vecs, dist = scipy.cluster.vq.vq(ar, codes)         # assign codes\n",
      "#                     print vecs\n",
      "#                     print dist\n",
      "                    counts, bins = scipy.histogram(vecs, len(codes))    # count occurrences\n",
      "#                     print counts\n",
      "                    index_max = np.argmax(counts)                    # find most frequent\n",
      "                    index_top = np.argsort(counts)[:-6:-1]\n",
      "                    print index_top\n",
      "                    for i in range(len(index_top)):\n",
      "                        print codes[i]\n",
      "#                     peak = codes[index_top]\n",
      "                   \n",
      "#                     colour = ''.join(\n",
      "chr(c) for c in peak).encode('hex')\n",
      "#                     print 'most frequent is %s (#%s)' % (peak, colour)\n"
     ],
     "language": "python",
     "metadata": {},
     "outputs": []
    },
    {
     "cell_type": "code",
     "collapsed": false,
     "input": [],
     "language": "python",
     "metadata": {},
     "outputs": []
    },
    {
     "cell_type": "code",
     "collapsed": false,
     "input": [],
     "language": "python",
     "metadata": {},
     "outputs": []
    },
    {
     "cell_type": "code",
     "collapsed": false,
     "input": [],
     "language": "python",
     "metadata": {},
     "outputs": []
    },
    {
     "cell_type": "code",
     "collapsed": false,
     "input": [],
     "language": "python",
     "metadata": {},
     "outputs": []
    },
    {
     "cell_type": "code",
     "collapsed": false,
     "input": [],
     "language": "python",
     "metadata": {},
     "outputs": []
    },
    {
     "cell_type": "code",
     "collapsed": false,
     "input": [
      "#https://gist.github.com/zollinger/1722663\n",
      "import Image, ImageDraw\n",
      " \n",
      "def get_colors(infile, outfile, numcolors=10, swatchsize=20, resize=150):\n",
      " \n",
      "    image = Image.open(infile)\n",
      "    image = image.resize((resize, resize))\n",
      "    result = image.convert('P', palette=Image.ADAPTIVE, colors=numcolors)\n",
      "    result.putalpha(0)\n",
      "    colors = result.getcolors(resize*resize)\n",
      " \n",
      "    # Save colors to file\n",
      " \n",
      "    pal = Image.new('RGB', (swatchsize*numcolors, swatchsize))\n",
      "    draw = ImageDraw.Draw(pal)\n",
      " \n",
      "    posx = 0\n",
      "    for count, col in colors:\n",
      "        draw.rectangle([posx, 0, posx+swatchsize, swatchsize], fill=col)\n",
      "        posx = posx + swatchsize\n",
      " \n",
      "    del draw\n",
      "    pal.save(outfile, \"PNG\")\n",
      " \n",
      "if __name__ == '__main__':\n",
      "    get_colors('infile.jpg', '')"
     ],
     "language": "python",
     "metadata": {},
     "outputs": [
      {
       "ename": "IOError",
       "evalue": "[Errno 2] No such file or directory: 'infile.jpg'",
       "output_type": "pyerr",
       "traceback": [
        "\u001b[0;31m---------------------------------------------------------------------------\u001b[0m\n\u001b[0;31mIOError\u001b[0m                                   Traceback (most recent call last)",
        "\u001b[0;32m<ipython-input-2-35212aa0aaf2>\u001b[0m in \u001b[0;36m<module>\u001b[0;34m()\u001b[0m\n\u001b[1;32m     24\u001b[0m \u001b[0;34m\u001b[0m\u001b[0m\n\u001b[1;32m     25\u001b[0m \u001b[0;32mif\u001b[0m \u001b[0m__name__\u001b[0m \u001b[0;34m==\u001b[0m \u001b[0;34m'__main__'\u001b[0m\u001b[0;34m:\u001b[0m\u001b[0;34m\u001b[0m\u001b[0m\n\u001b[0;32m---> 26\u001b[0;31m     \u001b[0mget_colors\u001b[0m\u001b[0;34m(\u001b[0m\u001b[0;34m'infile.jpg'\u001b[0m\u001b[0;34m,\u001b[0m \u001b[0;34m'outfile.png'\u001b[0m\u001b[0;34m)\u001b[0m\u001b[0;34m\u001b[0m\u001b[0m\n\u001b[0m",
        "\u001b[0;32m<ipython-input-2-35212aa0aaf2>\u001b[0m in \u001b[0;36mget_colors\u001b[0;34m(infile, outfile, numcolors, swatchsize, resize)\u001b[0m\n\u001b[1;32m      4\u001b[0m \u001b[0;32mdef\u001b[0m \u001b[0mget_colors\u001b[0m\u001b[0;34m(\u001b[0m\u001b[0minfile\u001b[0m\u001b[0;34m,\u001b[0m \u001b[0moutfile\u001b[0m\u001b[0;34m,\u001b[0m \u001b[0mnumcolors\u001b[0m\u001b[0;34m=\u001b[0m\u001b[0;36m10\u001b[0m\u001b[0;34m,\u001b[0m \u001b[0mswatchsize\u001b[0m\u001b[0;34m=\u001b[0m\u001b[0;36m20\u001b[0m\u001b[0;34m,\u001b[0m \u001b[0mresize\u001b[0m\u001b[0;34m=\u001b[0m\u001b[0;36m150\u001b[0m\u001b[0;34m)\u001b[0m\u001b[0;34m:\u001b[0m\u001b[0;34m\u001b[0m\u001b[0m\n\u001b[1;32m      5\u001b[0m \u001b[0;34m\u001b[0m\u001b[0m\n\u001b[0;32m----> 6\u001b[0;31m     \u001b[0mimage\u001b[0m \u001b[0;34m=\u001b[0m \u001b[0mImage\u001b[0m\u001b[0;34m.\u001b[0m\u001b[0mopen\u001b[0m\u001b[0;34m(\u001b[0m\u001b[0minfile\u001b[0m\u001b[0;34m)\u001b[0m\u001b[0;34m\u001b[0m\u001b[0m\n\u001b[0m\u001b[1;32m      7\u001b[0m     \u001b[0mimage\u001b[0m \u001b[0;34m=\u001b[0m \u001b[0mimage\u001b[0m\u001b[0;34m.\u001b[0m\u001b[0mresize\u001b[0m\u001b[0;34m(\u001b[0m\u001b[0;34m(\u001b[0m\u001b[0mresize\u001b[0m\u001b[0;34m,\u001b[0m \u001b[0mresize\u001b[0m\u001b[0;34m)\u001b[0m\u001b[0;34m)\u001b[0m\u001b[0;34m\u001b[0m\u001b[0m\n\u001b[1;32m      8\u001b[0m     \u001b[0mresult\u001b[0m \u001b[0;34m=\u001b[0m \u001b[0mimage\u001b[0m\u001b[0;34m.\u001b[0m\u001b[0mconvert\u001b[0m\u001b[0;34m(\u001b[0m\u001b[0;34m'P'\u001b[0m\u001b[0;34m,\u001b[0m \u001b[0mpalette\u001b[0m\u001b[0;34m=\u001b[0m\u001b[0mImage\u001b[0m\u001b[0;34m.\u001b[0m\u001b[0mADAPTIVE\u001b[0m\u001b[0;34m,\u001b[0m \u001b[0mcolors\u001b[0m\u001b[0;34m=\u001b[0m\u001b[0mnumcolors\u001b[0m\u001b[0;34m)\u001b[0m\u001b[0;34m\u001b[0m\u001b[0m\n",
        "\u001b[0;32m/Users/kuoyen/anaconda/lib/python2.7/site-packages/PIL/Image.pyc\u001b[0m in \u001b[0;36mopen\u001b[0;34m(fp, mode)\u001b[0m\n\u001b[1;32m   1950\u001b[0m         \u001b[0;32mimport\u001b[0m \u001b[0m__builtin__\u001b[0m\u001b[0;34m\u001b[0m\u001b[0m\n\u001b[1;32m   1951\u001b[0m         \u001b[0mfilename\u001b[0m \u001b[0;34m=\u001b[0m \u001b[0mfp\u001b[0m\u001b[0;34m\u001b[0m\u001b[0m\n\u001b[0;32m-> 1952\u001b[0;31m         \u001b[0mfp\u001b[0m \u001b[0;34m=\u001b[0m \u001b[0m__builtin__\u001b[0m\u001b[0;34m.\u001b[0m\u001b[0mopen\u001b[0m\u001b[0;34m(\u001b[0m\u001b[0mfp\u001b[0m\u001b[0;34m,\u001b[0m \u001b[0;34m\"rb\"\u001b[0m\u001b[0;34m)\u001b[0m\u001b[0;34m\u001b[0m\u001b[0m\n\u001b[0m\u001b[1;32m   1953\u001b[0m     \u001b[0;32melse\u001b[0m\u001b[0;34m:\u001b[0m\u001b[0;34m\u001b[0m\u001b[0m\n\u001b[1;32m   1954\u001b[0m         \u001b[0mfilename\u001b[0m \u001b[0;34m=\u001b[0m \u001b[0;34m\"\"\u001b[0m\u001b[0;34m\u001b[0m\u001b[0m\n",
        "\u001b[0;31mIOError\u001b[0m: [Errno 2] No such file or directory: 'infile.jpg'"
       ]
      }
     ],
     "prompt_number": 2
    },
    {
     "cell_type": "code",
     "collapsed": false,
     "input": [],
     "language": "python",
     "metadata": {},
     "outputs": []
    },
    {
     "cell_type": "code",
     "collapsed": false,
     "input": [],
     "language": "python",
     "metadata": {},
     "outputs": []
    },
    {
     "cell_type": "code",
     "collapsed": false,
     "input": [],
     "language": "python",
     "metadata": {},
     "outputs": []
    },
    {
     "cell_type": "code",
     "collapsed": false,
     "input": [],
     "language": "python",
     "metadata": {},
     "outputs": []
    }
   ],
   "metadata": {}
  }
 ]
}