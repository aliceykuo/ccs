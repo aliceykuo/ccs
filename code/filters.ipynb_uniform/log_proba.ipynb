{
 "metadata": {
  "name": "",
  "signature": "sha256:5180326e20cc3a236bd633dcdbb0c9ecc02e8ecc6e733fbc4d2deec63805cffe"
 },
 "nbformat": 3,
 "nbformat_minor": 0,
 "worksheets": [
  {
   "cells": [
    {
     "cell_type": "code",
     "collapsed": false,
     "input": [
      "import pandas as pd\n",
      "import numpy as np\n",
      "from sklearn.datasets import make_classification\n",
      "from sklearn.linear_model import LogisticRegression\n",
      "import matplotlib.pyplot as plt\n",
      "from sklearn.cross_validation import train_test_split\n",
      "from sklearn.preprocessing import StandardScaler\n",
      "from sklearn.cross_validation import train_test_split\n",
      "from sklearn.metrics import confusion_matrix, precision_score, recall_score, f1_score\n",
      "from sklearn.ensemble import RandomForestClassifier\n",
      "from sklearn import preprocessing\n",
      "from sklearn.svm import SVC\n",
      "import pickle as pkl"
     ],
     "language": "python",
     "metadata": {},
     "outputs": [],
     "prompt_number": 44
    },
    {
     "cell_type": "code",
     "collapsed": false,
     "input": [
      "df = pd.read_pickle('/Users/kuoyen/Documents/capstone/images/pkl/mat_100_200_scaled.pkl')\n",
      "X = df[:, 1:]\n",
      "y = df[:, 0:1]"
     ],
     "language": "python",
     "metadata": {},
     "outputs": [],
     "prompt_number": 34
    },
    {
     "cell_type": "code",
     "collapsed": false,
     "input": [
      "# X_test.shape, y_test.shape, probabilities.shap\n",
      "print y_test[:5]\n",
      "y2_test = (y_test + 1) % 3\n",
      "print y2_test[:5]"
     ],
     "language": "python",
     "metadata": {},
     "outputs": [
      {
       "output_type": "stream",
       "stream": "stdout",
       "text": [
        "[[ 1.]\n",
        " [ 2.]\n",
        " [ 2.]\n",
        " [ 1.]\n",
        " [ 2.]]\n",
        "[[ 2.]\n",
        " [ 0.]\n",
        " [ 0.]\n",
        " [ 2.]\n",
        " [ 0.]]\n"
       ]
      }
     ],
     "prompt_number": 35
    },
    {
     "cell_type": "code",
     "collapsed": false,
     "input": [
      "x = np.arange(10)\n",
      "print x # [0, 1, ..., 9]\n",
      "print (x+1) % 4"
     ],
     "language": "python",
     "metadata": {},
     "outputs": [
      {
       "output_type": "stream",
       "stream": "stdout",
       "text": [
        "[0 1 2 3 4 5 6 7 8 9]\n",
        "[1 2 3 0 1 2 3 0 1 2]\n"
       ]
      }
     ],
     "prompt_number": 36
    },
    {
     "cell_type": "code",
     "collapsed": false,
     "input": [
      "X_train, X_test, y_train, y_test = train_test_split(X, y)\n",
      "model = LogisticRegression()\n",
      "model.fit(X_train, y_train)\n",
      "probabilities = model.predict_proba(X_test)[:]\n",
      "y_predict = model.predict(X_test)\n",
      "\n",
      "# print probabilities\n",
      "print \"precision:\", precision_score(y_test, y_predict)\n",
      "print \"recall:\", recall_score(y_test, y_predict)\n",
      "print \"f1:\", f1_score(y_test, y_predict, average='weighted')\n"
     ],
     "language": "python",
     "metadata": {},
     "outputs": [
      {
       "output_type": "stream",
       "stream": "stdout",
       "text": [
        "precision: 0.412198775628\n",
        "recall: 0.413333333333\n",
        "f1: 0.376665244131\n"
       ]
      },
      {
       "output_type": "stream",
       "stream": "stderr",
       "text": [
        "/Users/kuoyen/anaconda/lib/python2.7/site-packages/sklearn/preprocessing/label.py:99: DataConversionWarning: A column-vector y was passed when a 1d array was expected. Please change the shape of y to (n_samples, ), for example using ravel().\n",
        "  y = column_or_1d(y, warn=True)\n"
       ]
      }
     ],
     "prompt_number": 41
    },
    {
     "cell_type": "code",
     "collapsed": false,
     "input": [
      "df = pd.read_pickle('/Users/kuoyen/Documents/capstone/images/pkl/mat_28_1000_minmaxscaler.pkl')\n",
      "X = df[:, 1:]\n",
      "y = df[:, 0:1]"
     ],
     "language": "python",
     "metadata": {},
     "outputs": [],
     "prompt_number": 42
    },
    {
     "cell_type": "code",
     "collapsed": false,
     "input": [
      "X_train, X_test, y_train, y_test = train_test_split(X, y)\n",
      "model = LogisticRegression()\n",
      "model.fit(X_train, y_train)\n",
      "probabilities = model.predict_proba(X_test)[:]\n",
      "y_predict = model.predict(X_test)\n",
      "\n",
      "# print probabilities\n",
      "print \"precision:\", precision_score(y_test, y_predict)\n",
      "print \"recall:\", recall_score(y_test, y_predict)\n",
      "print \"f1:\", f1_score(y_test, y_predict, average='weighted')"
     ],
     "language": "python",
     "metadata": {},
     "outputs": [
      {
       "output_type": "stream",
       "stream": "stdout",
       "text": [
        "precision: 0.482466075818\n",
        "recall: 0.481927710843\n",
        "f1: 0.48169481778\n"
       ]
      },
      {
       "output_type": "stream",
       "stream": "stderr",
       "text": [
        "/Users/kuoyen/anaconda/lib/python2.7/site-packages/sklearn/preprocessing/label.py:99: DataConversionWarning: A column-vector y was passed when a 1d array was expected. Please change the shape of y to (n_samples, ), for example using ravel().\n",
        "  y = column_or_1d(y, warn=True)\n"
       ]
      }
     ],
     "prompt_number": 43
    },
    {
     "cell_type": "code",
     "collapsed": false,
     "input": [
      "svm = SVC(kernel='linear')\n",
      "svm.fit(X_train, y_train)\n",
      "y_predict = svm.predict(X_test)\n",
      "\n"
     ],
     "language": "python",
     "metadata": {},
     "outputs": [
      {
       "output_type": "stream",
       "stream": "stderr",
       "text": [
        "/Users/kuoyen/anaconda/lib/python2.7/site-packages/sklearn/svm/base.py:440: DataConversionWarning: A column-vector y was passed when a 1d array was expected. Please change the shape of y to (n_samples, ), for example using ravel().\n",
        "  y = column_or_1d(y, warn=True)\n"
       ]
      }
     ],
     "prompt_number": 46
    },
    {
     "cell_type": "code",
     "collapsed": false,
     "input": [
      "print \"precision:\", precision_score(y_test, y_predict)\n",
      "print \"recall:\", recall_score(y_test, y_predict)\n",
      "print \"f1:\", f1_score(y_test, y_predict, average='weighted')"
     ],
     "language": "python",
     "metadata": {},
     "outputs": [
      {
       "output_type": "stream",
       "stream": "stdout",
       "text": [
        "precision: 0.456879567978\n",
        "recall: 0.460508701473\n",
        "f1: 0.457170609408\n"
       ]
      }
     ],
     "prompt_number": 47
    },
    {
     "cell_type": "code",
     "collapsed": false,
     "input": [
      "df = pd.read_pickle('/Users/kuoyen/Documents/capstone/images/pkl/mat_28_1000_stdscaler.pkl')"
     ],
     "language": "python",
     "metadata": {},
     "outputs": [],
     "prompt_number": 49
    },
    {
     "cell_type": "code",
     "collapsed": false,
     "input": [
      "df.shape"
     ],
     "language": "python",
     "metadata": {},
     "outputs": [
      {
       "metadata": {},
       "output_type": "pyout",
       "prompt_number": 50,
       "text": [
        "(3150, 7519)"
       ]
      }
     ],
     "prompt_number": 50
    },
    {
     "cell_type": "code",
     "collapsed": false,
     "input": [
      "df = pd.read_pickle('/Users/kuoyen/Documents/capstone/images/pkl/mat_28_1000_minmaxscaler.pkl')"
     ],
     "language": "python",
     "metadata": {},
     "outputs": [],
     "prompt_number": 51
    },
    {
     "cell_type": "code",
     "collapsed": false,
     "input": [
      "df.shape"
     ],
     "language": "python",
     "metadata": {},
     "outputs": [
      {
       "metadata": {},
       "output_type": "pyout",
       "prompt_number": 52,
       "text": [
        "(2988, 2371)"
       ]
      }
     ],
     "prompt_number": 52
    },
    {
     "cell_type": "code",
     "collapsed": false,
     "input": [],
     "language": "python",
     "metadata": {},
     "outputs": []
    }
   ],
   "metadata": {}
  }
 ]
}