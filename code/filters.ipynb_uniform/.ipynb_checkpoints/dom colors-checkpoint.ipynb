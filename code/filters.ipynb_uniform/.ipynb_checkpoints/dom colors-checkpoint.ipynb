{
 "metadata": {
  "name": "",
  "signature": "sha256:b77e01b8e56181ade47b6f336e3b3e341741a521eadfb4fd4af991db3aaacc1b"
 },
 "nbformat": 3,
 "nbformat_minor": 0,
 "worksheets": []
}