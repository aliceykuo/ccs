{
 "metadata": {
  "name": "",
  "signature": "sha256:62f560211849bffa03ef6d8737cc4ce611dcef21fa21b97aafc3db8082b3945b"
 },
 "nbformat": 3,
 "nbformat_minor": 0,
 "worksheets": [
  {
   "cells": [
    {
     "cell_type": "code",
     "collapsed": false,
     "input": [
      "from sklearn.preprocessing import StandardScaler\n",
      "from sklearn.cross_validation import train_test_split\n",
      "from sklearn.metrics import confusion_matrix, precision_score, recall_score, f1_score\n",
      "from sklearn.ensemble import RandomForestClassifier\n",
      "from sklearn import preprocessing\n",
      "import pickle as pkl\n",
      "import pandas as pd\n",
      "import numpy as np"
     ],
     "language": "python",
     "metadata": {},
     "outputs": [],
     "prompt_number": 1
    },
    {
     "cell_type": "code",
     "collapsed": false,
     "input": [
      "df = pd.read_pickle('/Users/kuoyen/Documents/capstone/images/pkl/mat_28_50.nonscaled.pkl')"
     ],
     "language": "python",
     "metadata": {},
     "outputs": [],
     "prompt_number": 5
    },
    {
     "cell_type": "code",
     "collapsed": false,
     "input": [
      "df"
     ],
     "language": "python",
     "metadata": {},
     "outputs": [
      {
       "metadata": {},
       "output_type": "pyout",
       "prompt_number": 7,
       "text": [
        "array([[0, 1, 1, ..., 2, 1, 1],\n",
        "       [0, 2, 1, ..., 3, 1, 2],\n",
        "       [0, 1, 1, ..., 2, 2, 2],\n",
        "       ..., \n",
        "       [2, 1, 1, ..., 2, 2, 2],\n",
        "       [2, 0, 0, ..., 1, 1, 1],\n",
        "       [2, 0, 0, ..., 1, 1, 1]])"
       ]
      }
     ],
     "prompt_number": 7
    },
    {
     "cell_type": "code",
     "collapsed": false,
     "input": [
      "X = df[:, 1:]\n",
      "y = df[:, 0:1].ravel"
     ],
     "language": "python",
     "metadata": {},
     "outputs": [],
     "prompt_number": 19
    },
    {
     "cell_type": "code",
     "collapsed": false,
     "input": [
      "X[0:1,]"
     ],
     "language": "python",
     "metadata": {},
     "outputs": [
      {
       "metadata": {},
       "output_type": "pyout",
       "prompt_number": 13,
       "text": [
        "array([[1, 1, 1, 1, 1, 1, 1, 0, 0, 1, 1, 1, 0, 0, 0, 2, 1, 1]])"
       ]
      }
     ],
     "prompt_number": 13
    },
    {
     "cell_type": "code",
     "collapsed": false,
     "input": [
      "X_train, X_test, y_train, y_test = train_test_split(X, y)\n",
      "rf = RandomForestClassifier(n_jobs=-1)\n",
      "rf.fit(X_train, y_train)\n",
      "y_predict = rf.predict(X_test)\n",
      "print \"score:\", rf.score(X_test, y_test)\n",
      "print \"precision:\", precision_score(y_test, y_predict)\n",
      "print \"recall:\", recall_score(y_test, y_predict)\n",
      "print \"f1:\", f1_score(y_test, y_predict, average='micro')"
     ],
     "language": "python",
     "metadata": {},
     "outputs": [
      {
       "output_type": "stream",
       "stream": "stderr",
       "text": [
        "-c:3: DataConversionWarning: A column-vector y was passed when a 1d array was expected. Please change the shape of y to (n_samples, ), for example using ravel().\n"
       ]
      },
      {
       "output_type": "stream",
       "stream": "stdout",
       "text": [
        "score:"
       ]
      },
      {
       "output_type": "stream",
       "stream": "stdout",
       "text": [
        " 0.263157894737\n",
        "precision: 0.284197335444\n",
        "recall: 0.263157894737\n",
        "f1: 0.263157894737\n"
       ]
      }
     ],
     "prompt_number": 15
    },
    {
     "cell_type": "code",
     "collapsed": false,
     "input": [
      "df2 = pd.read_pickle('/Users/kuoyen/Documents/capstone/images/pkl/mat_60_50.pkl')"
     ],
     "language": "python",
     "metadata": {},
     "outputs": [],
     "prompt_number": 2
    },
    {
     "cell_type": "code",
     "collapsed": false,
     "input": [
      "X = df2[:, 1:]\n",
      "y = df2[:, 0:1].ravel()"
     ],
     "language": "python",
     "metadata": {},
     "outputs": [],
     "prompt_number": 3
    },
    {
     "cell_type": "code",
     "collapsed": false,
     "input": [
      "X_train, X_test, y_train, y_test = train_test_split(X, y)\n",
      "rf2 = RandomForestClassifier(n_jobs=-1)\n",
      "rf2.fit(X_train, y_train)\n",
      "y_predict = rf2.predict(X_test)\n",
      "print \"score:\", rf2.score(X_test, y_test)\n",
      "print \"precision:\", precision_score(y_test, y_predict)\n",
      "print \"recall:\", recall_score(y_test, y_predict)\n",
      "print \"f1:\", f1_score(y_test, y_predict, average='micro')"
     ],
     "language": "python",
     "metadata": {},
     "outputs": [
      {
       "output_type": "stream",
       "stream": "stdout",
       "text": [
        "score:"
       ]
      },
      {
       "output_type": "stream",
       "stream": "stdout",
       "text": [
        " 0.263157894737\n",
        "precision: 0.260964912281\n",
        "recall: 0.263157894737\n",
        "f1: 0.263157894737\n"
       ]
      }
     ],
     "prompt_number": 4
    },
    {
     "cell_type": "code",
     "collapsed": false,
     "input": [],
     "language": "python",
     "metadata": {},
     "outputs": []
    }
   ],
   "metadata": {}
  }
 ]
}