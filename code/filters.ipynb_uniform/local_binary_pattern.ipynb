{
 "metadata": {
  "name": "",
  "signature": "sha256:ec14f7c407bafff5df66a066faeaffe2af26df3c895af2c6f7c8d183889598a1"
 },
 "nbformat": 3,
 "nbformat_minor": 0,
 "worksheets": [
  {
   "cells": [
    {
     "cell_type": "code",
     "collapsed": false,
     "input": [
      "from skimage import io\n",
      "import pandas as pd\n",
      "import numpy as np\n",
      "from __future__ import print_function\n",
      "import numpy as np\n",
      "import matplotlib.pyplot as plt\n",
      "%matplotlib inline\n",
      "\n",
      "from skimage.transform import rotate\n",
      "from skimage.feature import local_binary_pattern\n",
      "from skimage import data\n",
      "from skimage.color import label2rgb\n"
     ],
     "language": "python",
     "metadata": {},
     "outputs": [],
     "prompt_number": 7
    },
    {
     "cell_type": "code",
     "collapsed": false,
     "input": [
      "# settings for LBP\n",
      "radius = 2\n",
      "n_points = 8 * radius\n",
      "\n",
      "\n",
      "def kullback_leibler_divergence(p, q):\n",
      "    p = np.asarray(p)\n",
      "    q = np.asarray(q)\n",
      "    filt = np.logical_and(p != 0, q != 0)\n",
      "    return np.sum(p[filt] * np.log2(p[filt] / q[filt]))\n",
      "\n",
      "\n",
      "def match(refs, img):\n",
      "    best_score = 10\n",
      "    best_name = None\n",
      "    lbp = local_binary_pattern(img, n_points, radius, METHOD)\n",
      "    n_bins = lbp.max() + 1\n",
      "    hist, _ = np.histogram(lbp, normed=True, bins=n_bins, range=(0, n_bins))\n",
      "    for name, ref in refs.items():\n",
      "        ref_hist, _ = np.histogram(ref, normed=True, bins=n_bins,\n",
      "                                   range=(0, n_bins))\n",
      "        score = kullback_leibler_divergence(hist, ref_hist)\n",
      "        if score < best_score:\n",
      "            best_score = score\n",
      "            best_name = name\n",
      "    return best_name\n",
      "\n",
      "lbp = local_binary_pattern(image, n_points, radius, METHOD)\n",
      "beach = io.imread('/Users/kuoyen/Desktop/beachsamp1.jpg')\n",
      "\n",
      "refs = {\n",
      "    'beach': local_binary_pattern(beach, n_points, radius, METHOD),\n",
      "}\n",
      "\n",
      "# classify rotated textures\n",
      "print('Rotated images matched against references using LBP:')\n",
      "print('original: brick, rotated: 30deg, match result: ',\n",
      "      match(refs, rotate(brick, angle=30, resize=False)))\n",
      "print('original: brick, rotated: 70deg, match result: ',\n",
      "      match(refs, rotate(brick, angle=70, resize=False)))\n",
      "print('original: grass, rotated: 145deg, match result: ',\n",
      "      match(refs, rotate(grass, angle=145, resize=False)))\n",
      "\n",
      "# plot histograms of LBP of textures\n",
      "fig, ((ax1, ax2, ax3), (ax4, ax5, ax6)) = plt.subplots(nrows=2, ncols=3,\n",
      "                                                       figsize=(9, 6))\n",
      "plt.gray()\n",
      "\n",
      "ax1.imshow(brick)\n",
      "ax1.axis('off')\n",
      "hist(ax4, refs['brick'])\n",
      "ax4.set_ylabel('Percentage')\n",
      "\n",
      "ax2.imshow(grass)\n",
      "ax2.axis('off')\n",
      "hist(ax5, refs['grass'])\n",
      "ax5.set_xlabel('Uniform LBP values')\n",
      "\n",
      "ax3.imshow(wall)\n",
      "ax3.axis('off')\n",
      "hist(ax6, refs['wall'])\n"
     ],
     "language": "python",
     "metadata": {},
     "outputs": [
      {
       "ename": "NameError",
       "evalue": "name 'METHOD' is not defined",
       "output_type": "pyerr",
       "traceback": [
        "\u001b[0;31m---------------------------------------------------------------------------\u001b[0m\n\u001b[0;31mNameError\u001b[0m                                 Traceback (most recent call last)",
        "\u001b[0;32m<ipython-input-8-d9f95934b4ab>\u001b[0m in \u001b[0;36m<module>\u001b[0;34m()\u001b[0m\n\u001b[1;32m     29\u001b[0m \u001b[0;34m\u001b[0m\u001b[0m\n\u001b[1;32m     30\u001b[0m refs = {\n\u001b[0;32m---> 31\u001b[0;31m     \u001b[0;34m'beach'\u001b[0m\u001b[0;34m:\u001b[0m \u001b[0mlocal_binary_pattern\u001b[0m\u001b[0;34m(\u001b[0m\u001b[0mbeach\u001b[0m\u001b[0;34m,\u001b[0m \u001b[0mn_points\u001b[0m\u001b[0;34m,\u001b[0m \u001b[0mradius\u001b[0m\u001b[0;34m,\u001b[0m \u001b[0mMETHOD\u001b[0m\u001b[0;34m)\u001b[0m\u001b[0;34m,\u001b[0m\u001b[0;34m\u001b[0m\u001b[0m\n\u001b[0m\u001b[1;32m     32\u001b[0m }\n\u001b[1;32m     33\u001b[0m \u001b[0;34m\u001b[0m\u001b[0m\n",
        "\u001b[0;31mNameError\u001b[0m: name 'METHOD' is not defined"
       ]
      }
     ],
     "prompt_number": 8
    },
    {
     "cell_type": "code",
     "collapsed": false,
     "input": [],
     "language": "python",
     "metadata": {},
     "outputs": []
    }
   ],
   "metadata": {}
  }
 ]
}