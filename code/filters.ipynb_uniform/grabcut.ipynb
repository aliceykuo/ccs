{
 "metadata": {
  "name": "",
  "signature": "sha256:4732321697e0eb66b86c0f2d40aeac0fb4abd50c5bec3bd781239cb71b83c756"
 },
 "nbformat": 3,
 "nbformat_minor": 0,
 "worksheets": [
  {
   "cells": [
    {
     "cell_type": "code",
     "collapsed": false,
     "input": [
      "import cv2\n",
      "import numpy as np \n",
      "import cv2 \n",
      "from matplotlib import pyplot as plt \n",
      "%matplotlib inline"
     ],
     "language": "python",
     "metadata": {},
     "outputs": [],
     "prompt_number": 5
    },
    {
     "cell_type": "code",
     "collapsed": false,
     "input": [
      "import numpy as np import cv2 from matplotlib import pyplot as plt - See more at: http://www.bogotobogo.com/python/OpenCV_Python/python_opencv3_Image_Segmentation_by_Foreground_Extraction_Grabcut_Algorithm_based_on_Graph_cuts.php#sthash.9WGQDUI4.dpuf"
     ],
     "language": "python",
     "metadata": {},
     "outputs": []
    },
    {
     "cell_type": "code",
     "collapsed": false,
     "input": [
      "import numpy as np \n",
      "import cv2 \n",
      "from matplotlib import pyplot as plt \n",
      "\n",
      "img = cv2.imread('/Users/kuoyen/Desktop/beachsamp1.jpg') \n",
      "# img.shape : (413, 620, 3) \n",
      "mask = np.zeros(img.shape[:2],np.uint8) # \n",
      "# img.shape[:2] = (413, 620)\n",
      "bgdModel = np.zeros((1,65),np.float64) \n",
      "fgdModel = np.zeros((1,65),np.float64) \n",
      "rect = (300,120,470,350) # this modifies mask \n",
      "cv2.grabCut(img,mask,rect,bgdModel,fgdModel,5,cv2.GC_INIT_WITH_RECT) \n",
      "# If mask==2 or mask== 1, mask2 get 0, other wise it gets 1 as 'uint8' type. \n",
      "mask2 = np.where((mask==2)|(mask==0),0,1).astype('uint8')\n",
      "# adding additional dimension for rgb to the mask, by default it gets 1\n",
      "# multiply it with input image to get the segmented image\n",
      "img_cut = img*mask2[:,:,np.newaxis]\n",
      "plt.subplot(211),plt.imshow(img) \n",
      "plt.title('Input Image'), plt.xticks([]), plt.yticks([])\n",
      "plt.subplot(212),plt.imshow(img_cut) \n",
      "plt.title('Grab cut'), plt.xticks([]), plt.yticks([]) \n",
      "plt.show()\n",
      "# See more at: http://www.bogotobogo.com/python/OpenCV_Python/python_opencv3_Image_Segmentation_by_Foreground_Extraction_Grabcut_Algorithm_based_on_Graph_cuts.php#sthash.9WGQDUI4.dpuf"
     ],
     "language": "python",
     "metadata": {},
     "outputs": [
      {
       "metadata": {},
       "output_type": "display_data",
       "png": "[encoded data removed]",
       "text": [
        "<matplotlib.figure.Figure at 0x10754ec90>"
       ]
      }
     ],
     "prompt_number": 6
    },
    {
     "cell_type": "code",
     "collapsed": false,
     "input": [
      "import cv2\n",
      "import numpy as np\n",
      " \n",
      "# c = cv2.VideoCapture(0)\n",
      "img = cv2.imread('/Users/kuoyen/Desktop/beachsamp1.jpg') \n",
      "cv2.imshow('image',img)\n",
      "cv2.waitKey(0)\n",
      "cv2.destroyAllWindows()\n",
      "\n",
      " \n",
      "# avg1 = np.float32(f)\n",
      "# avg2 = np.float32(f)\n",
      " \n",
      "# while(1):\n",
      "#     _,f = c.read()\n",
      "     \n",
      "#     cv2.accumulateWeighted(f,avg1,0.1)\n",
      "#     cv2.accumulateWeighted(f,avg2,0.01)\n",
      "     \n",
      "#     res1 = cv2.convertScaleAbs(avg1)\n",
      "#     res2 = cv2.convertScaleAbs(avg2)\n",
      " \n",
      "#     cv2.imshow('img',f)\n",
      "#     cv2.imshow('avg1',res1)\n",
      "#     cv2.imshow('avg2',res2)\n",
      "#     k = cv2.waitKey(20)\n",
      " \n",
      "#     if k == 27:\n",
      "#         break\n",
      " \n",
      "# cv2.destroyAllWindows()\n",
      "# c.release()"
     ],
     "language": "python",
     "metadata": {},
     "outputs": []
    },
    {
     "cell_type": "code",
     "collapsed": false,
     "input": [
      "import numpy as np\n",
      "import cv2\n",
      "from matplotlib import pyplot as plt\n",
      "\n",
      "img = cv2.imread('/Users/kuoyen/Desktop/beachsamp1.jpg')\n",
      "mask = np.zeros(img.shape[:2],np.uint8)\n",
      "\n",
      "bgdModel = np.zeros((1,65),np.float64)\n",
      "fgdModel = np.zeros((1,65),np.float64)\n",
      "\n",
      "rect = (50,50,450,290)\n",
      "cv2.grabCut(img,mask,rect,bgdModel,fgdModel,5,cv2.GC_INIT_WITH_RECT)\n",
      "\n",
      "mask2 = np.where((mask==2)|(mask==0),0,1).astype('uint8')\n",
      "img = img*mask2[:,:,np.newaxis]\n",
      "\n",
      "plt.imshow(img),plt.colorbar(),plt.show()"
     ],
     "language": "python",
     "metadata": {},
     "outputs": []
    },
    {
     "cell_type": "code",
     "collapsed": false,
     "input": [],
     "language": "python",
     "metadata": {},
     "outputs": []
    }
   ],
   "metadata": {}
  }
 ]
}