{
 "metadata": {
  "name": "",
  "signature": "sha256:a72263f325520f0723adc2b9d000515423377ddb63094ba1d5e2095a958a0ce9"
 },
 "nbformat": 3,
 "nbformat_minor": 0,
 "worksheets": [
  {
   "cells": [
    {
     "cell_type": "code",
     "collapsed": false,
     "input": [
      "import pandas as pd\n",
      "import numpy as np\n",
      "from sklearn.datasets import make_classification\n",
      "from sklearn.linear_model import LogisticRegression\n",
      "import matplotlib.pyplot as plt\n",
      "from sklearn.cross_validation import train_test_split"
     ],
     "language": "python",
     "metadata": {},
     "outputs": [],
     "prompt_number": 8
    },
    {
     "cell_type": "code",
     "collapsed": false,
     "input": [
      "df = pd.read_pickle('/Users/kuoyen/Documents/myweddingstyle/images/pkl/mat_100_200_scaled.pkl')\n",
      "X = df[:, 1:]\n",
      "y = df[:, 0:1]"
     ],
     "language": "python",
     "metadata": {},
     "outputs": [],
     "prompt_number": 14
    },
    {
     "cell_type": "code",
     "collapsed": false,
     "input": [
      "X_train, X_test, y_train, y_test = train_test_split(X, y)"
     ],
     "language": "python",
     "metadata": {},
     "outputs": [],
     "prompt_number": 15
    },
    {
     "cell_type": "code",
     "collapsed": false,
     "input": [
      "def roc_curve(probabilities, labels):\n",
      "    '''\n",
      "    INPUT: numpy array, numpy array\n",
      "    OUTPUT: list, list, list\n",
      "    Take a numpy array of the predicted probabilities and a numpy array of the\n",
      "    true labels.\n",
      "    Return the True Positive Rates, False Positive Rates and Thresholds for the\n",
      "    ROC curve.\n",
      "    '''\n",
      "    thresholds = np.sort(probabilities)\n",
      "    tprs = []\n",
      "    fprs = []\n",
      "    num_positive_cases = sum(labels)\n",
      "    num_negative_cases = len(labels) - num_positive_cases\n",
      "    for threshold in thresholds:\n",
      "        # With this threshold, give the prediction of each instance\n",
      "        predicted_positive = probabilities >= threshold\n",
      "        # Calculate the number of correctly predicted positive cases\n",
      "        true_positives = np.sum(predicted_positive * labels)\n",
      "        # Calculate the number of incorrectly predicted positive cases\n",
      "        false_positives = np.sum(predicted_positive) - true_positives\n",
      "        # Calculate the True Positive Rate\n",
      "        tpr = true_positives / float(num_positive_cases)\n",
      "        # Calculate the False Positive Rate\n",
      "        fpr = false_positives / float(num_negative_cases)\n",
      "        fprs.append(fpr)\n",
      "        tprs.append(tpr)\n",
      "    return tprs, fprs, thresholds.tolist()"
     ],
     "language": "python",
     "metadata": {},
     "outputs": [],
     "prompt_number": 16
    },
    {
     "cell_type": "code",
     "collapsed": false,
     "input": [
      "model = LogisticRegression()\n",
      "model.fit(X_train, y_train)\n",
      "probabilities = model.predict_proba(X_test)[:, 1]\n",
      "\n",
      "tpr, fpr, thresholds = roc_curve(probabilities, y_test)\n",
      "\n",
      "plt.plot(fpr, tpr)\n",
      "plt.xlabel(\"False Positive Rate (1 - Specificity)\")\n",
      "plt.ylabel(\"True Positive Rate (Sensitivity, Recall)\")\n",
      "plt.title(\"ROC plot 600 sampled, size 100x100, standardscaler\")\n",
      "plt.show()"
     ],
     "language": "python",
     "metadata": {},
     "outputs": [
      {
       "output_type": "stream",
       "stream": "stderr",
       "text": [
        "/Users/kuoyen/anaconda/lib/python2.7/site-packages/sklearn/preprocessing/label.py:99: DataConversionWarning: A column-vector y was passed when a 1d array was expected. Please change the shape of y to (n_samples, ), for example using ravel().\n",
        "  y = column_or_1d(y, warn=True)\n"
       ]
      }
     ],
     "prompt_number": 17
    },
    {
     "cell_type": "code",
     "collapsed": false,
     "input": [],
     "language": "python",
     "metadata": {},
     "outputs": []
    }
   ],
   "metadata": {}
  }
 ]
}