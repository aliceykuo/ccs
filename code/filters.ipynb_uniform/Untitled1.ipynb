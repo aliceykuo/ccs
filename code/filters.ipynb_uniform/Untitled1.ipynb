{
 "metadata": {
  "name": "",
  "signature": "sha256:71d68a2d1c8028de3d462c5ffb3a1907c2844ed741f2fe02d241b6312f2751a7"
 },
 "nbformat": 3,
 "nbformat_minor": 0,
 "worksheets": [
  {
   "cells": [
    {
     "cell_type": "code",
     "collapsed": false,
     "input": [
      "import matplotlib\n",
      "import matplotlib.pyplot as plt\n",
      "\n",
      "from skimage import data\n",
      "from skimage.morphology import disk\n",
      "from skimage.filters import threshold_otsu, rank\n",
      "from skimage.util import img_as_ubyte\n",
      "\n",
      "\n",
      "matplotlib.rcParams['font.size'] = 9\n",
      "\n",
      "\n",
      "img = img_as_ubyte(data.page())\n",
      "\n",
      "radius = 15\n",
      "selem = disk(radius)\n",
      "\n",
      "local_otsu = rank.otsu(img, selem)\n",
      "threshold_global_otsu = threshold_otsu(img)\n",
      "global_otsu = img >= threshold_global_otsu\n",
      "\n",
      "\n",
      "fig, ax = plt.subplots(2, 2, figsize=(8, 5))\n",
      "ax1, ax2, ax3, ax4 = ax.ravel()\n",
      "\n",
      "fig.colorbar(ax1.imshow(img, cmap=plt.cm.gray),\n",
      "           ax=ax1, orientation='horizontal')\n",
      "ax1.set_title('Original')\n",
      "ax1.axis('off')\n",
      "\n",
      "fig.colorbar(ax2.imshow(local_otsu, cmap=plt.cm.gray),\n",
      "           ax=ax2, orientation='horizontal')\n",
      "ax2.set_title('Local Otsu (radius=%d)' % radius)\n",
      "ax2.axis('off')\n",
      "\n",
      "ax3.imshow(img >= local_otsu, cmap=plt.cm.gray)\n",
      "ax3.set_title('Original >= Local Otsu' % threshold_global_otsu)\n",
      "ax3.axis('off')\n",
      "\n",
      "ax4.imshow(global_otsu, cmap=plt.cm.gray)\n",
      "ax4.set_title('Global Otsu (threshold = %d)' % threshold_global_otsu)\n",
      "ax4.axis('off')\n",
      "\n",
      "plt.show()"
     ],
     "language": "python",
     "metadata": {},
     "outputs": []
    },
    {
     "cell_type": "code",
     "collapsed": false,
     "input": [],
     "language": "python",
     "metadata": {},
     "outputs": []
    }
   ],
   "metadata": {}
  }
 ]
}