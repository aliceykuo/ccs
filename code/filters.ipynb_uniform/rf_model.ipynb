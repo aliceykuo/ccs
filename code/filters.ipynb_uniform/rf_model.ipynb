{
 "metadata": {
  "name": "",
  "signature": "sha256:547439f0249a065c01499ff27223a53338c82c18aa05f68c7cd7ef2a4e7da33f"
 },
 "nbformat": 3,
 "nbformat_minor": 0,
 "worksheets": [
  {
   "cells": [
    {
     "cell_type": "code",
     "collapsed": false,
     "input": [
      "from sklearn.preprocessing import StandardScaler\n",
      "from sklearn.cross_validation import train_test_split\n",
      "from sklearn.metrics import confusion_matrix, precision_score, recall_score, f1_score\n",
      "from sklearn.ensemble import RandomForestClassifier\n",
      "from sklearn import preprocessing\n",
      "import pickle as pkl\n",
      "import pandas as pd\n",
      "import numpy as np"
     ],
     "language": "python",
     "metadata": {},
     "outputs": [],
     "prompt_number": 20
    },
    {
     "cell_type": "code",
     "collapsed": false,
     "input": [
      "mat_28_50 = pd.read_pickle('/Users/kuoyen/Documents/capstone/images/pkl/mat_28_50.pkl')"
     ],
     "language": "python",
     "metadata": {},
     "outputs": [
      {
       "ename": "IOError",
       "evalue": "[Errno 2] No such file or directory: '/Users/kuoyen/Documents/capstone/images/pkl/mat_28_50.pkl'",
       "output_type": "pyerr",
       "traceback": [
        "\u001b[0;31m---------------------------------------------------------------------------\u001b[0m\n\u001b[0;31mIOError\u001b[0m                                   Traceback (most recent call last)",
        "\u001b[0;32m<ipython-input-78-36dca1c6c112>\u001b[0m in \u001b[0;36m<module>\u001b[0;34m()\u001b[0m\n\u001b[0;32m----> 1\u001b[0;31m \u001b[0mmat_28_50\u001b[0m \u001b[0;34m=\u001b[0m \u001b[0mpd\u001b[0m\u001b[0;34m.\u001b[0m\u001b[0mread_pickle\u001b[0m\u001b[0;34m(\u001b[0m\u001b[0;34m'/Users/kuoyen/Documents/capstone/images/pkl/mat_28_50.pkl'\u001b[0m\u001b[0;34m)\u001b[0m\u001b[0;34m\u001b[0m\u001b[0m\n\u001b[0m",
        "\u001b[0;32m/Users/kuoyen/anaconda/lib/python2.7/site-packages/pandas/io/pickle.pyc\u001b[0m in \u001b[0;36mread_pickle\u001b[0;34m(path)\u001b[0m\n\u001b[1;32m     59\u001b[0m \u001b[0;34m\u001b[0m\u001b[0m\n\u001b[1;32m     60\u001b[0m     \u001b[0;32mtry\u001b[0m\u001b[0;34m:\u001b[0m\u001b[0;34m\u001b[0m\u001b[0m\n\u001b[0;32m---> 61\u001b[0;31m         \u001b[0;32mreturn\u001b[0m \u001b[0mtry_read\u001b[0m\u001b[0;34m(\u001b[0m\u001b[0mpath\u001b[0m\u001b[0;34m)\u001b[0m\u001b[0;34m\u001b[0m\u001b[0m\n\u001b[0m\u001b[1;32m     62\u001b[0m     \u001b[0;32mexcept\u001b[0m\u001b[0;34m:\u001b[0m\u001b[0;34m\u001b[0m\u001b[0m\n\u001b[1;32m     63\u001b[0m         \u001b[0;32mif\u001b[0m \u001b[0mPY3\u001b[0m\u001b[0;34m:\u001b[0m\u001b[0;34m\u001b[0m\u001b[0m\n",
        "\u001b[0;32m/Users/kuoyen/anaconda/lib/python2.7/site-packages/pandas/io/pickle.pyc\u001b[0m in \u001b[0;36mtry_read\u001b[0;34m(path, encoding)\u001b[0m\n\u001b[1;32m     55\u001b[0m             \u001b[0;31m# compat pickle\u001b[0m\u001b[0;34m\u001b[0m\u001b[0;34m\u001b[0m\u001b[0m\n\u001b[1;32m     56\u001b[0m             \u001b[0;32mexcept\u001b[0m\u001b[0;34m:\u001b[0m\u001b[0;34m\u001b[0m\u001b[0m\n\u001b[0;32m---> 57\u001b[0;31m                 \u001b[0;32mwith\u001b[0m \u001b[0mopen\u001b[0m\u001b[0;34m(\u001b[0m\u001b[0mpath\u001b[0m\u001b[0;34m,\u001b[0m \u001b[0;34m'rb'\u001b[0m\u001b[0;34m)\u001b[0m \u001b[0;32mas\u001b[0m \u001b[0mfh\u001b[0m\u001b[0;34m:\u001b[0m\u001b[0;34m\u001b[0m\u001b[0m\n\u001b[0m\u001b[1;32m     58\u001b[0m                     \u001b[0;32mreturn\u001b[0m \u001b[0mpc\u001b[0m\u001b[0;34m.\u001b[0m\u001b[0mload\u001b[0m\u001b[0;34m(\u001b[0m\u001b[0mfh\u001b[0m\u001b[0;34m,\u001b[0m \u001b[0mencoding\u001b[0m\u001b[0;34m=\u001b[0m\u001b[0mencoding\u001b[0m\u001b[0;34m,\u001b[0m \u001b[0mcompat\u001b[0m\u001b[0;34m=\u001b[0m\u001b[0mTrue\u001b[0m\u001b[0;34m)\u001b[0m\u001b[0;34m\u001b[0m\u001b[0m\n\u001b[1;32m     59\u001b[0m \u001b[0;34m\u001b[0m\u001b[0m\n",
        "\u001b[0;31mIOError\u001b[0m: [Errno 2] No such file or directory: '/Users/kuoyen/Documents/capstone/images/pkl/mat_28_50.pkl'"
       ]
      }
     ],
     "prompt_number": 78
    },
    {
     "cell_type": "code",
     "collapsed": false,
     "input": [
      "X = mat_28_50[:, 1:]\n",
      "y = mat_28_50[:, 0:1]"
     ],
     "language": "python",
     "metadata": {},
     "outputs": [],
     "prompt_number": 27
    },
    {
     "cell_type": "code",
     "collapsed": false,
     "input": [
      "X_train, X_test, y_train, y_test = train_test_split(X, y)\n",
      "rf2 = RandomForestClassifier(n_jobs=-1)\n",
      "rf2.fit(X_train, y_train)\n",
      "y_predict = rf2.predict(X_test)\n",
      "print \"score:\", rf2.score(X_test, y_test)\n",
      "print \"precision:\", precision_score(y_test, y_predict)\n",
      "print \"recall:\", recall_score(y_test, y_predict)\n",
      "print \"f1:\", f1_score(y_test, y_predict, average='micro')"
     ],
     "language": "python",
     "metadata": {},
     "outputs": [
      {
       "output_type": "stream",
       "stream": "stderr",
       "text": [
        "-c:3: DataConversionWarning: A column-vector y was passed when a 1d array was expected. Please change the shape of y to (n_samples, ), for example using ravel().\n"
       ]
      },
      {
       "output_type": "stream",
       "stream": "stdout",
       "text": [
        "score:"
       ]
      },
      {
       "output_type": "stream",
       "stream": "stdout",
       "text": [
        " 0.447368421053\n",
        "precision: 0.303801169591\n",
        "recall: 0.447368421053\n",
        "f1: 0.447368421053\n"
       ]
      }
     ],
     "prompt_number": 28
    },
    {
     "cell_type": "code",
     "collapsed": false,
     "input": [
      "mat_60_50_nonscaled = pd.read_pickle('/Users/kuoyen/Documents/capstone/images/pkl/mat_60_50_nonscaled.pkl')\n",
      "X = mat_60_50_nonscaled[:, 1:]\n",
      "y = mat_60_50_nonscaled[:, 0:1]"
     ],
     "language": "python",
     "metadata": {},
     "outputs": [],
     "prompt_number": 79
    },
    {
     "cell_type": "code",
     "collapsed": false,
     "input": [
      "X_train, X_test, y_train, y_test = train_test_split(X, y)\n",
      "rf3 = RandomForestClassifier(n_jobs=-1)\n",
      "rf3.fit(X_train, y_train)\n",
      "y_predict = rf3.predict(X_test)\n",
      "print \"score:\", rf3.score(X_test, y_test)\n",
      "print \"precision:\", precision_score(y_test, y_predict)\n",
      "print \"recall:\", recall_score(y_test, y_predict)\n",
      "print \"f1:\", f1_score(y_test, y_predict, average='weighted')"
     ],
     "language": "python",
     "metadata": {},
     "outputs": [
      {
       "output_type": "stream",
       "stream": "stderr",
       "text": [
        "-c:3: DataConversionWarning: A column-vector y was passed when a 1d array was expected. Please change the shape of y to (n_samples, ), for example using ravel().\n"
       ]
      },
      {
       "output_type": "stream",
       "stream": "stdout",
       "text": [
        "score:"
       ]
      },
      {
       "output_type": "stream",
       "stream": "stdout",
       "text": [
        " 0.447368421053\n",
        "precision: 0.47975708502\n",
        "recall: 0.447368421053\n",
        "f1: 0.455096073517\n"
       ]
      }
     ],
     "prompt_number": 80
    },
    {
     "cell_type": "code",
     "collapsed": false,
     "input": [
      "mat_28_100_scaled = pd.read_pickle('/Users/kuoyen/Documents/capstone/images/pkl/mat_28_100_scaled.pkl')\n",
      "X = mat_28_100_scaled[:, 1:]\n",
      "y = mat_28_100_scaled[:, 0:1]"
     ],
     "language": "python",
     "metadata": {},
     "outputs": [],
     "prompt_number": 81
    },
    {
     "cell_type": "code",
     "collapsed": false,
     "input": [
      "X_train, X_test, y_train, y_test = train_test_split(X, y)\n",
      "rf4 = RandomForestClassifier(n_jobs=-1)\n",
      "rf4.fit(X_train, y_train)\n",
      "y_predict = rf4.predict(X_test)\n",
      "print \"score:\", rf4.score(X_test, y_test)\n",
      "print \"precision:\", precision_score(y_test, y_predict)\n",
      "print \"recall:\", recall_score(y_test, y_predict)\n",
      "print \"f1:\", f1_score(y_test, y_predict, average='weighted')"
     ],
     "language": "python",
     "metadata": {},
     "outputs": [
      {
       "output_type": "stream",
       "stream": "stderr",
       "text": [
        "-c:3: DataConversionWarning: A column-vector y was passed when a 1d array was expected. Please change the shape of y to (n_samples, ), for example using ravel().\n"
       ]
      },
      {
       "output_type": "stream",
       "stream": "stdout",
       "text": [
        "score:"
       ]
      },
      {
       "output_type": "stream",
       "stream": "stdout",
       "text": [
        " 0.493333333333\n",
        "precision: 0.485502645503\n",
        "recall: 0.493333333333\n",
        "f1: 0.487282051282\n"
       ]
      }
     ],
     "prompt_number": 82
    },
    {
     "cell_type": "code",
     "collapsed": false,
     "input": [
      "images/pkl/mat_28_100_nonscaled.pkl"
     ],
     "language": "python",
     "metadata": {},
     "outputs": []
    },
    {
     "cell_type": "code",
     "collapsed": false,
     "input": [
      "mat_28_100_nonscaled = pd.read_pickle('/Users/kuoyen/Documents/capstone/images/pkl/mat_28_100_nonscaled.pkl')\n",
      "X = mat_28_100_nonscaled[:, 1:]\n",
      "y = mat_28_100_nonscaled[:, 0:1]"
     ],
     "language": "python",
     "metadata": {},
     "outputs": [],
     "prompt_number": 83
    },
    {
     "cell_type": "code",
     "collapsed": false,
     "input": [
      "X_train, X_test, y_train, y_test = train_test_split(X, y)\n",
      "rf5 = RandomForestClassifier(n_jobs=-1)\n",
      "rf5.fit(X_train, y_train)\n",
      "y_predict = rf5.predict(X_test)\n",
      "print \"score:\", rf5.score(X_test, y_test)\n",
      "print \"precision:\", precision_score(y_test, y_predict)\n",
      "print \"recall:\", recall_score(y_test, y_predict)\n",
      "print \"f1:\", f1_score(y_test, y_predict, average='weighted')"
     ],
     "language": "python",
     "metadata": {},
     "outputs": [
      {
       "output_type": "stream",
       "stream": "stderr",
       "text": [
        "-c:3: DataConversionWarning: A column-vector y was passed when a 1d array was expected. Please change the shape of y to (n_samples, ), for example using ravel().\n"
       ]
      },
      {
       "output_type": "stream",
       "stream": "stdout",
       "text": [
        "score:"
       ]
      },
      {
       "output_type": "stream",
       "stream": "stdout",
       "text": [
        " 0.573333333333\n",
        "precision: 0.571991341991\n",
        "recall: 0.573333333333\n",
        "f1: 0.572501019992\n"
       ]
      }
     ],
     "prompt_number": 84
    },
    {
     "cell_type": "code",
     "collapsed": false,
     "input": [
      "mat_28_100_nonscaled = pd.read_pickle('/Users/kuoyen/Documents/capstone/images/pkl/mat_28_100_nonscaled.pkl')\n",
      "X = mat_28_100_nonscaled[:, 1:]\n",
      "y = mat_28_100_nonscaled[:, 0:1]"
     ],
     "language": "python",
     "metadata": {},
     "outputs": [],
     "prompt_number": 38
    },
    {
     "cell_type": "code",
     "collapsed": false,
     "input": [
      "X_train, X_test, y_train, y_test = train_test_split(X, y)\n",
      "rf6 = RandomForestClassifier(n_jobs=-1)\n",
      "rf6.fit(X_train, y_train)\n",
      "y_predict = rf6.predict(X_test)\n",
      "print \"score:\", rf6.score(X_test, y_test)\n",
      "print \"precision:\", precision_score(y_test, y_predict)\n",
      "print \"recall:\", recall_score(y_test, y_predict)\n",
      "print \"f1:\", f1_score(y_test, y_predict, average='weighted')"
     ],
     "language": "python",
     "metadata": {},
     "outputs": [
      {
       "output_type": "stream",
       "stream": "stderr",
       "text": [
        "-c:3: DataConversionWarning: A column-vector y was passed when a 1d array was expected. Please change the shape of y to (n_samples, ), for example using ravel().\n"
       ]
      },
      {
       "output_type": "stream",
       "stream": "stdout",
       "text": [
        "score:"
       ]
      },
      {
       "output_type": "stream",
       "stream": "stdout",
       "text": [
        " 0.52\n",
        "precision: 0.534755996691\n",
        "recall: 0.52\n",
        "f1: 0.521318770359\n"
       ]
      }
     ],
     "prompt_number": 85
    },
    {
     "cell_type": "code",
     "collapsed": false,
     "input": [
      "mat_60_100_scaled = pd.read_pickle('/Users/kuoyen/Documents/capstone/images/pkl/mat_60_100_scaled.pkl')\n",
      "X = mat_60_100_scaled[:, 1:]\n",
      "y = mat_60_100_scaled[:, 0:1]\n"
     ],
     "language": "python",
     "metadata": {},
     "outputs": [],
     "prompt_number": 86
    },
    {
     "cell_type": "code",
     "collapsed": false,
     "input": [
      "X_train, X_test, y_train, y_test = train_test_split(X, y)\n",
      "rf7 = RandomForestClassifier(n_jobs=-1)\n",
      "rf7.fit(X_train, y_train)\n",
      "y_predict = rf7.predict(X_test)\n",
      "print \"score:\", rf7.score(X_test, y_test)\n",
      "print \"precision:\", precision_score(y_test, y_predict)\n",
      "print \"recall:\", recall_score(y_test, y_predict)\n",
      "print \"f1:\", f1_score(y_test, y_predict, average='weighted')"
     ],
     "language": "python",
     "metadata": {},
     "outputs": [
      {
       "output_type": "stream",
       "stream": "stderr",
       "text": [
        "-c:3: DataConversionWarning: A column-vector y was passed when a 1d array was expected. Please change the shape of y to (n_samples, ), for example using ravel().\n"
       ]
      },
      {
       "output_type": "stream",
       "stream": "stdout",
       "text": [
        "score:"
       ]
      },
      {
       "output_type": "stream",
       "stream": "stdout",
       "text": [
        " 0.506666666667\n",
        "precision: 0.568380952381\n",
        "recall: 0.506666666667\n",
        "f1: 0.5121642299\n"
       ]
      }
     ],
     "prompt_number": 87
    },
    {
     "cell_type": "code",
     "collapsed": false,
     "input": [
      "mat_60_100_nonscaled = pd.read_pickle('/Users/kuoyen/Documents/capstone/images/pkl/mat_60_100_nonscaled.pkl')\n",
      "X = mat_60_100_nonscaled[:, 1:]\n",
      "y = mat_60_100_nonscaled[:, 0:1]"
     ],
     "language": "python",
     "metadata": {},
     "outputs": [],
     "prompt_number": 89
    },
    {
     "cell_type": "code",
     "collapsed": false,
     "input": [
      "X_train, X_test, y_train, y_test = train_test_split(X, y)\n",
      "rf8 = RandomForestClassifier(n_jobs=-1)\n",
      "rf8.fit(X_train, y_train)\n",
      "y_predict = rf8.predict(X_test)\n",
      "print \"score:\", rf8.score(X_test, y_test)\n",
      "print \"precision:\", precision_score(y_test, y_predict)\n",
      "print \"recall:\", recall_score(y_test, y_predict)\n",
      "print \"f1:\", f1_score(y_test, y_predict, average='weighted')"
     ],
     "language": "python",
     "metadata": {},
     "outputs": [
      {
       "output_type": "stream",
       "stream": "stderr",
       "text": [
        "-c:3: DataConversionWarning: A column-vector y was passed when a 1d array was expected. Please change the shape of y to (n_samples, ), for example using ravel().\n"
       ]
      },
      {
       "output_type": "stream",
       "stream": "stdout",
       "text": [
        "score:"
       ]
      },
      {
       "output_type": "stream",
       "stream": "stdout",
       "text": [
        " 0.52\n",
        "precision: 0.547281996483\n",
        "recall: 0.52\n",
        "f1: 0.526203238325\n"
       ]
      }
     ],
     "prompt_number": 90
    },
    {
     "cell_type": "code",
     "collapsed": false,
     "input": [
      "mat_28_50_nonscaled = pd.read_pickle('/Users/kuoyen/Documents/capstone/images/pkl/mat_28_50_nonscaled.pkl')\n",
      "X = mat_28_50_nonscaled[:, 1:]\n",
      "y = mat_28_50_nonscaled[:, 0:1]"
     ],
     "language": "python",
     "metadata": {},
     "outputs": [],
     "prompt_number": 91
    },
    {
     "cell_type": "code",
     "collapsed": false,
     "input": [
      "X_train, X_test, y_train, y_test = train_test_split(X, y)\n",
      "rf10 = RandomForestClassifier(n_jobs=-1)\n",
      "rf10.fit(X_train, y_train)\n",
      "y_predict = rf10.predict(X_test)\n",
      "print \"score:\", rf10.score(X_test, y_test)\n",
      "print \"precision:\", precision_score(y_test, y_predict)\n",
      "print \"recall:\", recall_score(y_test, y_predict)\n",
      "print \"f1:\", f1_score(y_test, y_predict, average='weighted')"
     ],
     "language": "python",
     "metadata": {},
     "outputs": [
      {
       "output_type": "stream",
       "stream": "stderr",
       "text": [
        "-c:3: DataConversionWarning: A column-vector y was passed when a 1d array was expected. Please change the shape of y to (n_samples, ), for example using ravel().\n"
       ]
      },
      {
       "output_type": "stream",
       "stream": "stdout",
       "text": [
        "score:"
       ]
      },
      {
       "output_type": "stream",
       "stream": "stdout",
       "text": [
        " 0.552631578947\n",
        "precision: 0.619298245614\n",
        "recall: 0.552631578947\n",
        "f1: 0.56328320802\n"
       ]
      }
     ],
     "prompt_number": 92
    },
    {
     "cell_type": "code",
     "collapsed": false,
     "input": [
      "mat_60_50_scaled = pd.read_pickle('/Users/kuoyen/Documents/capstone/images/pkl/mat_60_50_scaled.pkl')\n",
      "X = mat_60_50_scaled[:, 1:]\n",
      "y = mat_60_50_scaled[:, 0:1]\n"
     ],
     "language": "python",
     "metadata": {},
     "outputs": [],
     "prompt_number": 93
    },
    {
     "cell_type": "code",
     "collapsed": false,
     "input": [
      "X_train, X_test, y_train, y_test = train_test_split(X, y)\n",
      "rf11 = RandomForestClassifier(n_jobs=-1)\n",
      "rf11.fit(X_train, y_train)\n",
      "y_predict = rf11.predict(X_test)\n",
      "print \"score:\", rf11.score(X_test, y_test)\n",
      "print \"precision:\", precision_score(y_test, y_predict)\n",
      "print \"recall:\", recall_score(y_test, y_predict)\n",
      "print \"f1:\", f1_score(y_test, y_predict, average='weighted')"
     ],
     "language": "python",
     "metadata": {},
     "outputs": [
      {
       "output_type": "stream",
       "stream": "stderr",
       "text": [
        "-c:3: DataConversionWarning: A column-vector y was passed when a 1d array was expected. Please change the shape of y to (n_samples, ), for example using ravel().\n"
       ]
      },
      {
       "output_type": "stream",
       "stream": "stdout",
       "text": [
        "score:"
       ]
      },
      {
       "output_type": "stream",
       "stream": "stdout",
       "text": [
        " 0.394736842105\n",
        "precision: 0.365836466165\n",
        "recall: 0.394736842105\n",
        "f1: 0.371087279327\n"
       ]
      }
     ],
     "prompt_number": 94
    },
    {
     "cell_type": "code",
     "collapsed": false,
     "input": [
      "mat_60_50_nonscaled = pd.read_pickle('/Users/kuoyen/Documents/capstone/images/pkl/mat_60_50_nonscaled.pkl')\n",
      "X = mat_60_50_nonscaled[:, 1:]\n",
      "y = mat_60_50_nonscaled[:, 0:1]\n"
     ],
     "language": "python",
     "metadata": {},
     "outputs": [],
     "prompt_number": 95
    },
    {
     "cell_type": "code",
     "collapsed": false,
     "input": [
      "X_train, X_test, y_train, y_test = train_test_split(X, y)\n",
      "rf12 = RandomForestClassifier(n_jobs=-1)\n",
      "rf12.fit(X_train, y_train)\n",
      "y_predict = rf12.predict(X_test)\n",
      "print \"score:\", rf12.score(X_test, y_test)\n",
      "print \"precision:\", precision_score(y_test, y_predict)\n",
      "print \"recall:\", recall_score(y_test, y_predict)\n",
      "print \"f1:\", f1_score(y_test, y_predict, average='weighted')"
     ],
     "language": "python",
     "metadata": {},
     "outputs": [
      {
       "output_type": "stream",
       "stream": "stderr",
       "text": [
        "-c:3: DataConversionWarning: A column-vector y was passed when a 1d array was expected. Please change the shape of y to (n_samples, ), for example using ravel().\n"
       ]
      },
      {
       "output_type": "stream",
       "stream": "stdout",
       "text": [
        "score:"
       ]
      },
      {
       "output_type": "stream",
       "stream": "stdout",
       "text": [
        " 0.631578947368\n",
        "precision: 0.634586466165\n",
        "recall: 0.631578947368\n",
        "f1: 0.625068226121\n"
       ]
      }
     ],
     "prompt_number": 96
    },
    {
     "cell_type": "code",
     "collapsed": false,
     "input": [
      "df = pd.read_pickle('/Users/kuoyen/Documents/capstone/images/pkl/mat_100_50_nonscaled.pkl')\n",
      "X = df[:, 1:]\n",
      "y = df[:, 0:1]"
     ],
     "language": "python",
     "metadata": {},
     "outputs": [],
     "prompt_number": 97
    },
    {
     "cell_type": "code",
     "collapsed": false,
     "input": [
      "X_train, X_test, y_train, y_test = train_test_split(X, y)\n",
      "rf13 = RandomForestClassifier(n_jobs=-1)\n",
      "rf13.fit(X_train, y_train)\n",
      "y_predict = rf13.predict(X_test)\n",
      "print \"score:\", rf13.score(X_test, y_test)\n",
      "print \"precision:\", precision_score(y_test, y_predict)\n",
      "print \"recall:\", recall_score(y_test, y_predict)\n",
      "print \"f1:\", f1_score(y_test, y_predict, average='weighted')"
     ],
     "language": "python",
     "metadata": {},
     "outputs": [
      {
       "output_type": "stream",
       "stream": "stderr",
       "text": [
        "-c:3: DataConversionWarning: A column-vector y was passed when a 1d array was expected. Please change the shape of y to (n_samples, ), for example using ravel().\n"
       ]
      },
      {
       "output_type": "stream",
       "stream": "stdout",
       "text": [
        "score:"
       ]
      },
      {
       "output_type": "stream",
       "stream": "stdout",
       "text": [
        " 0.473684210526\n",
        "precision: 0.571126242179\n",
        "recall: 0.473684210526\n",
        "f1: 0.493916076742\n"
       ]
      }
     ],
     "prompt_number": 98
    },
    {
     "cell_type": "code",
     "collapsed": false,
     "input": [
      "df = pd.read_pickle('/Users/kuoyen/Documents/capstone/images/pkl/mat_100_50_nonscaled_slic3.pkl')\n",
      "X = df[:, 1:]\n",
      "y = df[:, 0:1]"
     ],
     "language": "python",
     "metadata": {},
     "outputs": [],
     "prompt_number": 101
    },
    {
     "cell_type": "code",
     "collapsed": false,
     "input": [
      "X_train, X_test, y_train, y_test = train_test_split(X, y)\n",
      "rf14 = RandomForestClassifier(n_jobs=-1)\n",
      "rf14.fit(X_train, y_train)\n",
      "y_predict = rf14.predict(X_test)\n",
      "print \"score:\", rf14.score(X_test, y_test)\n",
      "print \"precision:\", precision_score(y_test, y_predict)\n",
      "print \"recall:\", recall_score(y_test, y_predict)\n",
      "print \"f1:\", f1_score(y_test, y_predict, average='weighted')"
     ],
     "language": "python",
     "metadata": {},
     "outputs": [
      {
       "output_type": "stream",
       "stream": "stderr",
       "text": [
        "-c:3: DataConversionWarning: A column-vector y was passed when a 1d array was expected. Please change the shape of y to (n_samples, ), for example using ravel().\n"
       ]
      },
      {
       "output_type": "stream",
       "stream": "stdout",
       "text": [
        "score:"
       ]
      },
      {
       "output_type": "stream",
       "stream": "stdout",
       "text": [
        " 0.44\n",
        "precision: 0.441360614694\n",
        "recall: 0.44\n",
        "f1: 0.436270721622\n"
       ]
      }
     ],
     "prompt_number": 102
    },
    {
     "cell_type": "code",
     "collapsed": false,
     "input": [
      "df = pd.read_pickle('/Users/kuoyen/Documents/capstone/images/pkl/mat_100_200_scaled.pkl')\n",
      "X = df[:, 1:]\n",
      "y = df[:, 0:1]"
     ],
     "language": "python",
     "metadata": {},
     "outputs": [],
     "prompt_number": 114
    },
    {
     "cell_type": "code",
     "collapsed": false,
     "input": [
      "X_train, X_test, y_train, y_test = train_test_split(X, y)\n",
      "rf15 = RandomForestClassifier(n_jobs=-1)\n",
      "rf15.fit(X_train, y_train)\n",
      "y_predict = rf15.predict(X_test)\n",
      "print \"score:\", rf15.score(X_test, y_test)\n",
      "print \"precision:\", precision_score(y_test, y_predict)\n",
      "print \"recall:\", recall_score(y_test, y_predict)\n",
      "print \"f1:\", f1_score(y_test, y_predict, average='weighted')"
     ],
     "language": "python",
     "metadata": {},
     "outputs": [
      {
       "output_type": "stream",
       "stream": "stderr",
       "text": [
        "-c:3: DataConversionWarning: A column-vector y was passed when a 1d array was expected. Please change the shape of y to (n_samples, ), for example using ravel().\n"
       ]
      },
      {
       "output_type": "stream",
       "stream": "stdout",
       "text": [
        "score:"
       ]
      },
      {
       "output_type": "stream",
       "stream": "stdout",
       "text": [
        " 0.453333333333\n",
        "precision: 0.455718954248\n",
        "recall: 0.453333333333\n",
        "f1: 0.438963985867\n"
       ]
      }
     ],
     "prompt_number": 115
    },
    {
     "cell_type": "code",
     "collapsed": false,
     "input": [
      "df = pd.read_pickle('/Users/kuoyen/Documents/capstone/images/pkl/mat_100_200_scaled.pkl')\n",
      "X = df[:, 1:]\n",
      "y = df[:, 0:1]"
     ],
     "language": "python",
     "metadata": {},
     "outputs": [],
     "prompt_number": 128
    },
    {
     "cell_type": "code",
     "collapsed": false,
     "input": [
      "X_train, X_test, y_train, y_test = train_test_split(X, y)\n",
      "rf15 = RandomForestClassifier(n_jobs=-1)\n",
      "rf15.fit(X_train, y_train)\n",
      "y_predict = rf15.predict(X_test)\n",
      "print \"score:\", rf15.score(X_test, y_test)\n",
      "print \"precision:\", precision_score(y_test, y_predict)\n",
      "print \"recall:\", recall_score(y_test, y_predict)\n",
      "print \"f1:\", f1_score(y_test, y_predict, average='weighted')"
     ],
     "language": "python",
     "metadata": {},
     "outputs": [
      {
       "output_type": "stream",
       "stream": "stderr",
       "text": [
        "-c:3: DataConversionWarning: A column-vector y was passed when a 1d array was expected. Please change the shape of y to (n_samples, ), for example using ravel().\n"
       ]
      },
      {
       "output_type": "stream",
       "stream": "stdout",
       "text": [
        "score:"
       ]
      },
      {
       "output_type": "stream",
       "stream": "stdout",
       "text": [
        " 0.533333333333\n",
        "precision: 0.538990715193\n",
        "recall: 0.533333333333\n",
        "f1: 0.535601322146\n"
       ]
      }
     ],
     "prompt_number": 129
    },
    {
     "cell_type": "code",
     "collapsed": false,
     "input": [
      "df = pd.read_pickle('/Users/kuoyen/Documents/capstone/images/pkl/mat_60_50_scaled.pkl')\n",
      "X = df[:, 1:]\n",
      "y = df[:, 0:1]"
     ],
     "language": "python",
     "metadata": {},
     "outputs": [],
     "prompt_number": 130
    },
    {
     "cell_type": "code",
     "collapsed": false,
     "input": [
      "X_train, X_test, y_train, y_test = train_test_split(X, y)\n",
      "rf16 = RandomForestClassifier(n_jobs=-1)\n",
      "rf16.fit(X_train, y_train)\n",
      "y_predict = rf16.predict(X_test)\n",
      "print \"score:\", rf16.score(X_test, y_test)\n",
      "print \"precision:\", precision_score(y_test, y_predict)\n",
      "print \"recall:\", recall_score(y_test, y_predict)\n",
      "print \"f1:\", f1_score(y_test, y_predict, average='weighted')"
     ],
     "language": "python",
     "metadata": {},
     "outputs": [
      {
       "output_type": "stream",
       "stream": "stderr",
       "text": [
        "-c:3: DataConversionWarning: A column-vector y was passed when a 1d array was expected. Please change the shape of y to (n_samples, ), for example using ravel().\n"
       ]
      },
      {
       "output_type": "stream",
       "stream": "stdout",
       "text": [
        "score:"
       ]
      },
      {
       "output_type": "stream",
       "stream": "stdout",
       "text": [
        " 0.421052631579\n",
        "precision: 0.430103668262\n",
        "recall: 0.421052631579\n",
        "f1: 0.406456358287\n"
       ]
      }
     ],
     "prompt_number": 131
    },
    {
     "cell_type": "code",
     "collapsed": false,
     "input": [
      "df = pd.read_pickle('/Users/kuoyen/Documents/capstone/images/pkl/mat_28_1000_minmaxscaler.pkl')\n",
      "X = df[:, 1:]\n",
      "y = df[:, 0:1]"
     ],
     "language": "python",
     "metadata": {},
     "outputs": [],
     "prompt_number": 132
    },
    {
     "cell_type": "code",
     "collapsed": false,
     "input": [
      "X_train, X_test, y_train, y_test = train_test_split(X, y)\n",
      "rf17 = RandomForestClassifier(n_jobs=-1)\n",
      "rf17.fit(X_train, y_train)\n",
      "y_predict = rf17.predict(X_test)\n",
      "print \"score:\", rf17.score(X_test, y_test)\n",
      "print \"precision:\", precision_score(y_test, y_predict)\n",
      "print \"recall:\", recall_score(y_test, y_predict)\n",
      "print \"f1:\", f1_score(y_test, y_predict, average='weighted')"
     ],
     "language": "python",
     "metadata": {},
     "outputs": [
      {
       "output_type": "stream",
       "stream": "stderr",
       "text": [
        "-c:3: DataConversionWarning: A column-vector y was passed when a 1d array was expected. Please change the shape of y to (n_samples, ), for example using ravel().\n"
       ]
      },
      {
       "output_type": "stream",
       "stream": "stdout",
       "text": [
        "score:"
       ]
      },
      {
       "output_type": "stream",
       "stream": "stdout",
       "text": [
        " 0.519410977242\n",
        "precision: 0.512482227045\n",
        "recall: 0.519410977242\n",
        "f1: 0.514010835698\n"
       ]
      }
     ],
     "prompt_number": 133
    },
    {
     "cell_type": "code",
     "collapsed": false,
     "input": [
      "X_train.shape"
     ],
     "language": "python",
     "metadata": {},
     "outputs": [
      {
       "metadata": {},
       "output_type": "pyout",
       "prompt_number": 134,
       "text": [
        "(2241, 2370)"
       ]
      }
     ],
     "prompt_number": 134
    },
    {
     "cell_type": "code",
     "collapsed": false,
     "input": [
      "y_test.shape"
     ],
     "language": "python",
     "metadata": {},
     "outputs": [
      {
       "metadata": {},
       "output_type": "pyout",
       "prompt_number": 135,
       "text": [
        "(747, 1)"
       ]
      }
     ],
     "prompt_number": 135
    },
    {
     "cell_type": "code",
     "collapsed": false,
     "input": [],
     "language": "python",
     "metadata": {},
     "outputs": []
    }
   ],
   "metadata": {}
  }
 ]
}