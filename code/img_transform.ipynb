{
 "metadata": {
  "name": "",
  "signature": "sha256:76550d4410193d3aacbd61228faaa2dfa7c22fcf6389a9eb08b34e0e7ee571c0"
 },
 "nbformat": 3,
 "nbformat_minor": 0,
 "worksheets": [
  {
   "cells": [
    {
     "cell_type": "code",
     "collapsed": false,
     "input": [
      "from skimage import io\n",
      "import pandas as pd\n",
      "import numpy as np\n",
      "from skimage.color import rgb2gray\n",
      "from skimage.transform import resize, downscale_local_mean\n",
      "from sklearn.preprocessing import StandardScaler\n",
      "# from PIL import Image\n",
      "import cv2\n",
      "import os, sys\n",
      "import pickle as pkl"
     ],
     "language": "python",
     "metadata": {},
     "outputs": [],
     "prompt_number": 79
    },
    {
     "cell_type": "code",
     "collapsed": false,
     "input": [
      "# setup a standard image size - downsize and get all images to the same dimensions \n",
      "# converts into a numpy array of RGB pixels\n",
      "def img_to_matrix(directory='beach'):\n",
      "    \"\"\"doc string\"\"\"\n",
      "    # Open a file\n",
      "    path = '/Users/kuoyen/Documents/myweddingstyle/image_dir/'+ directory\n",
      "    dirs = os.listdir(path)\n",
      "    label_img_arr = None\n",
      "    for ith_image, file_img in enumerate(dirs):\n",
      "        if ith_image <= 100:\n",
      "            if ith_image == 0 or ith_image % 100 == 0:\n",
      "                print 'Vectorized', ith_image\n",
      "            if 'jpg' in file_img:\n",
      "                standard_size = (100, 75)\n",
      "                img = io.imread(path + '/' + file_img)\n",
      "                if len(img.shape) == 3:\n",
      "                    img = resize(img, standard_size)\n",
      "                    img = img.ravel()\n",
      "                    label_img = np.append(directory, img)[np.newaxis, :]\n",
      "                    if label_img_arr is None:\n",
      "                        label_img_arr = label_img\n",
      "                    else:\n",
      "                        label_img_arr = np.r_[label_img_arr, label_img]\n",
      "                else:\n",
      "                    print 'Something wrong with image', file_img\n",
      "            \n",
      "    return label_img_arr"
     ],
     "language": "python",
     "metadata": {},
     "outputs": [],
     "prompt_number": 80
    },
    {
     "cell_type": "code",
     "collapsed": false,
     "input": [
      "rustic_arr = img_to_matrix(directory='rustic')"
     ],
     "language": "python",
     "metadata": {},
     "outputs": [
      {
       "output_type": "stream",
       "stream": "stdout",
       "text": [
        "Vectorized 0\n",
        "Vectorized"
       ]
      },
      {
       "output_type": "stream",
       "stream": "stdout",
       "text": [
        " 100\n"
       ]
      }
     ],
     "prompt_number": 71
    },
    {
     "cell_type": "code",
     "collapsed": false,
     "input": [
      "def colorz(filename, n=3):\n",
      "    img = Image.open(filename)\n",
      "    img.thumbnail((200, 200))\n",
      "    w, h = img.size\n",
      "    points = get_points(img)\n",
      "    clusters = kmeans(points, n, 1)\n",
      "    rgbs = [map(int, c.center.coords) for c in clusters]\n",
      "    return map(rtoh, rgbs)"
     ],
     "language": "python",
     "metadata": {},
     "outputs": [
      {
       "metadata": {},
       "output_type": "pyout",
       "prompt_number": 67,
       "text": [
        "u'/Users/kuoyen/Documents/myweddingstyle/code'"
       ]
      }
     ],
     "prompt_number": 67
    },
    {
     "cell_type": "code",
     "collapsed": false,
     "input": [
      "# pkl.dump(rustic_arr, open('../image_dir/rustic_wedding.pkl', 'wb'))"
     ],
     "language": "python",
     "metadata": {},
     "outputs": [],
     "prompt_number": 68
    },
    {
     "cell_type": "code",
     "collapsed": false,
     "input": [
      "ballroom_arr = img_to_matrix(directory='ballroom')"
     ],
     "language": "python",
     "metadata": {},
     "outputs": [
      {
       "output_type": "stream",
       "stream": "stdout",
       "text": [
        "Vectorized 0\n",
        "Vectorized"
       ]
      },
      {
       "output_type": "stream",
       "stream": "stdout",
       "text": [
        " 100\n"
       ]
      }
     ],
     "prompt_number": 72
    },
    {
     "cell_type": "code",
     "collapsed": false,
     "input": [
      "print ballroom_arr.shape"
     ],
     "language": "python",
     "metadata": {},
     "outputs": [
      {
       "output_type": "stream",
       "stream": "stdout",
       "text": [
        "(801,)\n"
       ]
      }
     ],
     "prompt_number": 19
    },
    {
     "cell_type": "code",
     "collapsed": false,
     "input": [
      "vintage_arr = img_to_matrix(directory='vintage')"
     ],
     "language": "python",
     "metadata": {},
     "outputs": [
      {
       "output_type": "stream",
       "stream": "stdout",
       "text": [
        "Vectorized 0\n",
        "Vectorized"
       ]
      },
      {
       "output_type": "stream",
       "stream": "stdout",
       "text": [
        " 100\n"
       ]
      }
     ],
     "prompt_number": 73
    },
    {
     "cell_type": "code",
     "collapsed": false,
     "input": [
      "# print vintage_arr.shape"
     ],
     "language": "python",
     "metadata": {},
     "outputs": [
      {
       "output_type": "stream",
       "stream": "stdout",
       "text": [
        "(11, 22501)\n"
       ]
      }
     ],
     "prompt_number": 154
    },
    {
     "cell_type": "code",
     "collapsed": false,
     "input": [
      "beach_arr = img_to_matrix(directory='beach')"
     ],
     "language": "python",
     "metadata": {},
     "outputs": [
      {
       "output_type": "stream",
       "stream": "stdout",
       "text": [
        "Vectorized 0\n",
        "Vectorized"
       ]
      },
      {
       "output_type": "stream",
       "stream": "stdout",
       "text": [
        " 100\n"
       ]
      }
     ],
     "prompt_number": 74
    },
    {
     "cell_type": "code",
     "collapsed": false,
     "input": [
      "print beach_arr.shape"
     ],
     "language": "python",
     "metadata": {},
     "outputs": [
      {
       "output_type": "stream",
       "stream": "stdout",
       "text": [
        "(1000, 22501)\n"
       ]
      }
     ],
     "prompt_number": 32
    },
    {
     "cell_type": "code",
     "collapsed": false,
     "input": [
      "merged_100 = np.concatenate((beach_arr, rustic_arr, ballroom_arr, vintage_arr), axis =0)"
     ],
     "language": "python",
     "metadata": {},
     "outputs": [],
     "prompt_number": 77
    },
    {
     "cell_type": "code",
     "collapsed": false,
     "input": [
      "merged.shape"
     ],
     "language": "python",
     "metadata": {},
     "outputs": [
      {
       "metadata": {},
       "output_type": "pyout",
       "prompt_number": 109,
       "text": [
        "(1202, 22501)"
       ]
      }
     ],
     "prompt_number": 109
    },
    {
     "cell_type": "code",
     "collapsed": false,
     "input": [
      "pkl.dump(merged_100, open('../image_dir/merged_100.pkl', 'wb'))"
     ],
     "language": "python",
     "metadata": {},
     "outputs": [],
     "prompt_number": 78
    },
    {
     "cell_type": "code",
     "collapsed": false,
     "input": [
      "# def img_to_matrix_all(directory_lst):\n",
      "#     for directory in dirctory_lst:\n",
      "#         img_to_matrix(directory)"
     ],
     "language": "python",
     "metadata": {},
     "outputs": []
    },
    {
     "cell_type": "code",
     "collapsed": false,
     "input": [
      "rustic_arr = img_to_matrix(directory='rustic')"
     ],
     "language": "python",
     "metadata": {},
     "outputs": [
      {
       "output_type": "stream",
       "stream": "stdout",
       "text": [
        "Vectorized 0\n",
        "Vectorized"
       ]
      },
      {
       "output_type": "stream",
       "stream": "stdout",
       "text": [
        " 100\n"
       ]
      }
     ],
     "prompt_number": 81
    },
    {
     "cell_type": "code",
     "collapsed": false,
     "input": [
      "beach_arr = img_to_matrix(directory='beach')"
     ],
     "language": "python",
     "metadata": {},
     "outputs": [
      {
       "output_type": "stream",
       "stream": "stdout",
       "text": [
        "Vectorized 0\n",
        "Vectorized"
       ]
      },
      {
       "output_type": "stream",
       "stream": "stdout",
       "text": [
        " 100\n"
       ]
      }
     ],
     "prompt_number": 82
    },
    {
     "cell_type": "code",
     "collapsed": false,
     "input": [
      "ballroom_arr = img_to_matrix(directory='ballroom')"
     ],
     "language": "python",
     "metadata": {},
     "outputs": [
      {
       "output_type": "stream",
       "stream": "stdout",
       "text": [
        "Vectorized 0\n",
        "Vectorized"
       ]
      },
      {
       "output_type": "stream",
       "stream": "stdout",
       "text": [
        " 100\n"
       ]
      }
     ],
     "prompt_number": 83
    },
    {
     "cell_type": "code",
     "collapsed": false,
     "input": [
      "merged_three = np.concatenate((beach_arr, rustic_arr, ballroom_arr), axis =0)"
     ],
     "language": "python",
     "metadata": {},
     "outputs": [],
     "prompt_number": 84
    },
    {
     "cell_type": "code",
     "collapsed": false,
     "input": [
      "pkl.dump(merged_three, open('../image_dir/merged_three.pkl', 'wb'))"
     ],
     "language": "python",
     "metadata": {},
     "outputs": [],
     "prompt_number": 85
    },
    {
     "cell_type": "code",
     "collapsed": false,
     "input": [],
     "language": "python",
     "metadata": {},
     "outputs": []
    }
   ],
   "metadata": {}
  }
 ]
}