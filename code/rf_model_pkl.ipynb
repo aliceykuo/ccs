{
 "metadata": {
  "name": "",
  "signature": "sha256:dcc3390af61d2bd74d22a8907dcb62bb7cef04c722e1183632f75d40c548a8fb"
 },
 "nbformat": 3,
 "nbformat_minor": 0,
 "worksheets": [
  {
   "cells": [
    {
     "cell_type": "code",
     "collapsed": false,
     "input": [
      "from sklearn.preprocessing import StandardScaler\n",
      "from sklearn.cross_validation import train_test_split\n",
      "from sklearn.cross_validation import cross_val_score\n",
      "from sklearn.metrics import confusion_matrix, precision_score, recall_score, f1_score\n",
      "from sklearn.ensemble import RandomForestClassifier\n",
      "from sklearn.linear_model import LogisticRegression\n",
      "from sklearn.svm import SVC\n",
      "from sklearn.decomposition import RandomizedPCA\n",
      "from sklearn.linear_model import SGDClassifier\n",
      "from sklearn.neighbors import KNeighborsClassifier\n",
      "from sklearn.linear_model import SGDClassifier\n",
      "from sklearn.multiclass import OneVsRestClassifier\n",
      "from sklearn.grid_search import GridSearchCV\n",
      "from sklearn.cross_validation import cross_val_score\n",
      "from sklearn.svm import LinearSVC\n",
      "from sklearn import preprocessing\n",
      "import pickle as pkl\n",
      "import pandas as pd\n",
      "import numpy as np\n",
      "from sklearn.neural_network import BernoulliRBM\n",
      "from sklearn.naive_bayes import MultinomialNB\n",
      "from skimage import io"
     ],
     "language": "python",
     "metadata": {},
     "outputs": []
    },
    {
     "cell_type": "code",
     "collapsed": false,
     "input": [
      "pkl_path1 = '/Users/kuoyen/Desktop/wedding/extract_patches_500img_0330.pkl'\n",
      "df = pd.read_pickle(pkl_path1)\n",
      "X = df[6250:12500, 1:]\n",
      "y = df[6250:12500, 0:1]"
     ],
     "language": "python",
     "metadata": {},
     "outputs": []
    },
    {
     "cell_type": "code",
     "collapsed": false,
     "input": [
      "X = df[6250:12500, 1:]\n",
      "y = df[6250:12500, 0:1]\n",
      "\n",
      "print X.shape\n",
      "print y.shape\n",
      "\n",
      "# pkl.dump(rf, open('/Users/kuoyen/Documents/capstone/images/rf_baseline_500patches.pkl', 'wb'))"
     ],
     "language": "python",
     "metadata": {},
     "outputs": [
      {
       "output_type": "stream",
       "stream": "stdout",
       "text": [
        "(6250, 1215)\n",
        "(6250, 1)\n"
       ]
      }
     ],
     "prompt_number": 4
    },
    {
     "cell_type": "code",
     "collapsed": false,
     "input": [
      "def random_forest(X, y):\n",
      "    # X_train, X_test, y_train, y_test = train_test_split(X, y)\n",
      "    rf = RandomForestClassifier(n_estimators=500, n_jobs=-1)\n",
      "    mean_f1 = cross_val_score(rf, X, y, cv=5, scoring='f1').mean()\n",
      "\n",
      "    rf = RandomForestClassifier(n_estimators=500, n_jobs=-1)\n",
      "    rf.fit(X, y)\n",
      "    pkl.dump(rf, open('rf_model_test.pkl', 'wb'))\n",
      "#   \n",
      "#     rf.predict(X)\n",
      "#     print mean_f1"
     ],
     "language": "python",
     "metadata": {},
     "outputs": [],
     "prompt_number": 7
    },
    {
     "cell_type": "code",
     "collapsed": false,
     "input": [
      "rf = random_forest(X, y.ravel())"
     ],
     "language": "python",
     "metadata": {},
     "outputs": [],
     "prompt_number": 8
    },
    {
     "cell_type": "code",
     "collapsed": false,
     "input": [
      "X"
     ],
     "language": "python",
     "metadata": {},
     "outputs": [
      {
       "metadata": {},
       "output_type": "pyout",
       "prompt_number": 22,
       "text": [
        "array([[165, 156, 141, ..., 173, 168, 148],\n",
        "       [165, 156, 141, ..., 155, 135, 100],\n",
        "       [165, 156, 141, ..., 167, 150, 132],\n",
        "       ..., \n",
        "       [190, 166, 128, ..., 120,  96,  58],\n",
        "       [190, 166, 128, ..., 183, 161, 124],\n",
        "       [190, 166, 128, ..., 175, 152, 111]])"
       ]
      }
     ],
     "prompt_number": 22
    },
    {
     "cell_type": "code",
     "collapsed": false,
     "input": [
      "model = pd.read_pickle('/Users/kuoyen/Desktop/wedding/rf_model_500.pkl')"
     ],
     "language": "python",
     "metadata": {},
     "outputs": []
    },
    {
     "cell_type": "code",
     "collapsed": false,
     "input": [
      "model.predict_proba(new_data)"
     ],
     "language": "python",
     "metadata": {},
     "outputs": [
      {
       "metadata": {},
       "output_type": "pyout",
       "prompt_number": 25,
       "text": [
        "array([[ 0.26,  0.4 ,  0.34],\n",
        "       [ 0.28,  0.32,  0.4 ]])"
       ]
      }
     ],
     "prompt_number": 25
    },
    {
     "cell_type": "code",
     "collapsed": false,
     "input": [
      "# new_data = df[36407:36507, 1:]\n",
      "new_data = df[:30, 1:]\n",
      "# new_data = io.imread('/Users/kuoyen/Documents/capstone/images/uniform_100/ballroom/ballroom1017.jpg')\n",
      "\n",
      "# /Users/kuoyen/Documents/capstone/images/"
     ],
     "language": "python",
     "metadata": {},
     "outputs": [],
     "prompt_number": 44
    },
    {
     "cell_type": "code",
     "collapsed": false,
     "input": [
      "model.predict_proba(new_data)"
     ],
     "language": "python",
     "metadata": {},
     "outputs": [
      {
       "ename": "ImportError",
       "evalue": "[joblib] Attempting to do parallel computingwithout protecting your import on a system that does not support forking. To use parallel-computing in a script, you must protect you main loop using \"if __name__ == '__main__'\". Please see the joblib documentation on Parallel for more information",
       "output_type": "pyerr",
       "traceback": [
        "\u001b[0;31m---------------------------------------------------------------------------\u001b[0m\n\u001b[0;31mImportError\u001b[0m                               Traceback (most recent call last)",
        "\u001b[0;32m<ipython-input-45-64ef4d35c65c>\u001b[0m in \u001b[0;36m<module>\u001b[0;34m()\u001b[0m\n\u001b[0;32m----> 1\u001b[0;31m \u001b[0mmodel\u001b[0m\u001b[0;34m.\u001b[0m\u001b[0mpredict_proba\u001b[0m\u001b[0;34m(\u001b[0m\u001b[0mnew_data\u001b[0m\u001b[0;34m)\u001b[0m\u001b[0;34m\u001b[0m\u001b[0m\n\u001b[0m",
        "\u001b[0;32m/Users/kuoyen/anaconda/lib/python2.7/site-packages/sklearn/ensemble/forest.pyc\u001b[0m in \u001b[0;36mpredict_proba\u001b[0;34m(self, X)\u001b[0m\n\u001b[1;32m    489\u001b[0m                 \u001b[0mself\u001b[0m\u001b[0;34m.\u001b[0m\u001b[0mn_classes_\u001b[0m\u001b[0;34m,\u001b[0m\u001b[0;34m\u001b[0m\u001b[0m\n\u001b[1;32m    490\u001b[0m                 self.n_outputs_)\n\u001b[0;32m--> 491\u001b[0;31m             for i in range(n_jobs))\n\u001b[0m\u001b[1;32m    492\u001b[0m \u001b[0;34m\u001b[0m\u001b[0m\n\u001b[1;32m    493\u001b[0m         \u001b[0;31m# Reduce\u001b[0m\u001b[0;34m\u001b[0m\u001b[0;34m\u001b[0m\u001b[0m\n",
        "\u001b[0;32m/Users/kuoyen/anaconda/lib/python2.7/site-packages/sklearn/externals/joblib/parallel.pyc\u001b[0m in \u001b[0;36m__call__\u001b[0;34m(self, iterable)\u001b[0m\n\u001b[1;32m    478\u001b[0m                 \u001b[0malready_forked\u001b[0m \u001b[0;34m=\u001b[0m \u001b[0mint\u001b[0m\u001b[0;34m(\u001b[0m\u001b[0mos\u001b[0m\u001b[0;34m.\u001b[0m\u001b[0menviron\u001b[0m\u001b[0;34m.\u001b[0m\u001b[0mget\u001b[0m\u001b[0;34m(\u001b[0m\u001b[0;34m'__JOBLIB_SPAWNED_PARALLEL__'\u001b[0m\u001b[0;34m,\u001b[0m \u001b[0;36m0\u001b[0m\u001b[0;34m)\u001b[0m\u001b[0;34m)\u001b[0m\u001b[0;34m\u001b[0m\u001b[0m\n\u001b[1;32m    479\u001b[0m                 \u001b[0;32mif\u001b[0m \u001b[0malready_forked\u001b[0m\u001b[0;34m:\u001b[0m\u001b[0;34m\u001b[0m\u001b[0m\n\u001b[0;32m--> 480\u001b[0;31m                     raise ImportError('[joblib] Attempting to do parallel computing'\n\u001b[0m\u001b[1;32m    481\u001b[0m                             \u001b[0;34m'without protecting your import on a system that does '\u001b[0m\u001b[0;34m\u001b[0m\u001b[0m\n\u001b[1;32m    482\u001b[0m                             \u001b[0;34m'not support forking. To use parallel-computing in a '\u001b[0m\u001b[0;34m\u001b[0m\u001b[0m\n",
        "\u001b[0;31mImportError\u001b[0m: [joblib] Attempting to do parallel computingwithout protecting your import on a system that does not support forking. To use parallel-computing in a script, you must protect you main loop using \"if __name__ == '__main__'\". Please see the joblib documentation on Parallel for more information"
       ]
      }
     ],
     "prompt_number": 45
    },
    {
     "cell_type": "code",
     "collapsed": false,
     "input": [],
     "language": "python",
     "metadata": {},
     "outputs": []
    }
   ],
   "metadata": {}
  }
 ]
}