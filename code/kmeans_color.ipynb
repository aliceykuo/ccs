{
 "metadata": {
  "name": "",
  "signature": "sha256:fabb1aaa38ead4376afebaf409bf150c0cb5d4edd3b1f9c261df11955dd3ae8c"
 },
 "nbformat": 3,
 "nbformat_minor": 0,
 "worksheets": [
  {
   "cells": [
    {
     "cell_type": "code",
     "collapsed": false,
     "input": [],
     "language": "python",
     "metadata": {},
     "outputs": []
    },
    {
     "cell_type": "code",
     "collapsed": false,
     "input": [
      "#http://stackoverflow.com/questions/3241929/python-find-dominant-most-common-color-in-an-image\n",
      "\n",
      "import struct\n",
      "import Image\n",
      "import scipy\n",
      "import scipy.misc\n",
      "import scipy.cluster\n",
      "import os\n",
      "import numpy as np\n",
      "\n",
      "NUM_CLUSTERS = 10\n",
      "n=5\n",
      "raw_img_path = ('/Users/kuoyen/Documents/capstone/images/raw')\n",
      "dirs = os.listdir(raw_img_path)\n",
      "for i in dirs:\n",
      "    if not i.startswith('.'): \n",
      "        file_dir = os.path.join(raw_img_path, i)\n",
      "        # print file_dir\n",
      "        for ith_image, file_img in enumerate(os.listdir(file_dir)):\n",
      "            # print ith_image, file_img\n",
      "            if ith_image <= n:\n",
      "                if 'jpg' in file_img:\n",
      "                    filename = os.path.join(file_dir, file_img)\n",
      "                    img = Image.open(filename).resize( (60,60) )\n",
      "                    # img = img.resize( (28,28), Image.ANTIALIAS)     # optional, to reduce time\n",
      "                    ar = scipy.misc.fromimage(img)\n",
      "                    shape = ar.shape\n",
      "                    ar = ar.reshape((scipy.product(shape[:2]), shape[2]))\n",
      "#                     print ar.shape\n",
      "\n",
      "#                     print 'finding clusters'\n",
      "                    codes, dist = scipy.cluster.vq.kmeans(ar, NUM_CLUSTERS)\n",
      "#                     print 'cluster centres:\\n', codes\n",
      "\n",
      "                    vecs, dist = scipy.cluster.vq.vq(ar, codes)         # assign codes\n",
      "#                     print vecs\n",
      "#                     print dist\n",
      "                    counts, bins = scipy.histogram(vecs, len(codes))    # count occurrences\n",
      "#                     print counts\n",
      "                    index_max = np.argmax(counts)                    # find most frequent\n",
      "                    index_top = np.argsort(counts)[:-6:-1]\n",
      "                    print index_top\n",
      "                    for i in range(len(index_top)):\n",
      "                        print codes[i]\n",
      "#                     peak = codes[index_top]\n",
      "                   \n",
      "#                     colour = ''.join(chr(c) for c in peak).encode('hex')\n",
      "#                     print 'most frequent is %s (#%s)' % (peak, colour)\n"
     ],
     "language": "python",
     "metadata": {},
     "outputs": [
      {
       "output_type": "stream",
       "stream": "stdout",
       "text": [
        "[8 6 1 3 4]\n",
        "[55 11 13]\n",
        "[250 208 177]\n",
        "[135  69  58]\n",
        "[241 181 149]\n",
        "[251 238 215]\n",
        "[0 8 3 1 6]"
       ]
      },
      {
       "output_type": "stream",
       "stream": "stdout",
       "text": [
        "\n",
        "[114  47  40]\n",
        "[136  24  91]\n",
        "[239 210 240]\n",
        "[117  12  48]\n",
        "[184 104 149]\n",
        "[5 6 9 0 1]"
       ]
      },
      {
       "output_type": "stream",
       "stream": "stdout",
       "text": [
        "\n",
        "[115  70  62]\n",
        "[132  76  30]\n",
        "[78 48 49]\n",
        "[173 114  71]\n",
        "[21  4  4]\n",
        "[0 5 6 9 8]"
       ]
      },
      {
       "output_type": "stream",
       "stream": "stdout",
       "text": [
        "\n",
        "[247 246 244]\n",
        "[178 159 136]\n",
        "[129  93  58]\n",
        "[70 46 29]\n",
        "[176 116  82]\n",
        "[7 9 0 1 2]"
       ]
      },
      {
       "output_type": "stream",
       "stream": "stdout",
       "text": [
        "\n",
        "[234 232 234]\n",
        "[231 218 209]\n",
        "[203 203 204]\n",
        "[233 183 124]\n",
        "[113  93  76]\n",
        "[9 8 4 6 5]"
       ]
      },
      {
       "output_type": "stream",
       "stream": "stdout",
       "text": [
        "\n",
        "[217 203 177]\n",
        "[186 172 144]\n",
        "[247 241 226]\n",
        "[37 35 25]\n",
        "[116 102  78]\n",
        "[8 1 4 7 9]"
       ]
      },
      {
       "output_type": "stream",
       "stream": "stdout",
       "text": [
        "\n",
        "[176 156 134]\n",
        "[247 243 238]\n",
        "[222 200 176]\n",
        "[226 220 220]\n",
        "[237 220 201]\n",
        "[2 0 9 6 7]"
       ]
      },
      {
       "output_type": "stream",
       "stream": "stdout",
       "text": [
        "\n",
        "[235 235 240]\n",
        "[62 74 36]\n",
        "[245 238 233]\n",
        "[186 201 205]\n",
        "[171 136  81]\n",
        "[2 6 9 7 3]"
       ]
      },
      {
       "output_type": "stream",
       "stream": "stdout",
       "text": [
        "\n",
        "[127 130 113]\n",
        "[164 161 149]\n",
        "[205 201 195]\n",
        "[185 181 170]\n",
        "[197 206 216]\n",
        "[0 7 3 5 2]"
       ]
      },
      {
       "output_type": "stream",
       "stream": "stdout",
       "text": [
        "\n",
        "[243 245 244]\n",
        "[170 226 226]\n",
        "[174 158 140]\n",
        "[237 238 237]\n",
        "[205 193 176]\n",
        "[7 9 0 5 4]"
       ]
      },
      {
       "output_type": "stream",
       "stream": "stdout",
       "text": [
        "\n",
        "[200 200 198]\n",
        "[228 208  81]\n",
        "[ 22  88 153]\n",
        "[225 230 235]\n",
        "[ 71 126 195]\n",
        "[8 6 5 0 9]"
       ]
      },
      {
       "output_type": "stream",
       "stream": "stdout",
       "text": [
        "\n",
        "[126 126 126]\n",
        "[68 68 68]\n",
        "[81 81 81]\n",
        "[93 93 93]\n",
        "[228 228 228]\n",
        "[6 7 4 9 1]"
       ]
      },
      {
       "output_type": "stream",
       "stream": "stdout",
       "text": [
        "\n",
        "[113  94  67]\n",
        "[183 164 144]\n",
        "[166 145 120]\n",
        "[228 215 207]\n",
        "[200 182 167]\n",
        "[8 1 9 6 0]"
       ]
      },
      {
       "output_type": "stream",
       "stream": "stdout",
       "text": [
        "\n",
        "[189 201 186]\n",
        "[237 239 241]\n",
        "[10  9 10]\n",
        "[69 68 69]\n",
        "[162 173 156]\n",
        "[9 6 2 8 4]"
       ]
      },
      {
       "output_type": "stream",
       "stream": "stdout",
       "text": [
        "\n",
        "[176 120  65]\n",
        "[217 202 206]\n",
        "[47 48 35]\n",
        "[67 76 51]\n",
        "[113 124  98]\n",
        "[3 2 9 0 8]"
       ]
      },
      {
       "output_type": "stream",
       "stream": "stdout",
       "text": [
        "\n",
        "[189 183 194]\n",
        "[216 181 146]\n",
        "[199 203 222]\n",
        "[251 252 251]\n",
        "[168 155 153]\n",
        "[0 4 6 1 9]"
       ]
      },
      {
       "output_type": "stream",
       "stream": "stdout",
       "text": [
        "\n",
        "[42 42 42]\n",
        "[50 50 50]\n",
        "[76 76 76]\n",
        "[61 61 61]\n",
        "[36 36 36]\n",
        "[5 3 0 1 9]"
       ]
      },
      {
       "output_type": "stream",
       "stream": "stdout",
       "text": [
        "\n",
        "[193 182 172]\n",
        "[225 217 213]\n",
        "[42 52 39]\n",
        "[210 202 196]\n",
        "[158 143 118]\n",
        "[2 7 8 5 9]"
       ]
      },
      {
       "output_type": "stream",
       "stream": "stdout",
       "text": [
        "\n",
        "[202 199 186]\n",
        "[152 151 139]\n",
        "[36 37 29]\n",
        "[126 125 114]\n",
        "[232 229 215]\n",
        "[4 8 5 7 0]"
       ]
      },
      {
       "output_type": "stream",
       "stream": "stdout",
       "text": [
        "\n",
        "[88 83 65]\n",
        "[176 165 145]\n",
        "[50 41 27]\n",
        "[189 182 173]\n",
        "[202 202 200]\n",
        "[5 1 7 6 2]"
       ]
      },
      {
       "output_type": "stream",
       "stream": "stdout",
       "text": [
        "\n",
        "[178 107  26]\n",
        "[75 50 25]\n",
        "[169 127  75]\n",
        "[114  93  53]\n",
        "[231 217 188]\n",
        "[6 4 2 3 7]"
       ]
      },
      {
       "output_type": "stream",
       "stream": "stdout",
       "text": [
        "\n",
        "[183 168 143]\n",
        "[148 158 156]\n",
        "[135 127  82]\n",
        "[113 105  59]\n",
        "[207 210 213]\n"
       ]
      }
     ],
     "prompt_number": 23
    },
    {
     "cell_type": "code",
     "collapsed": false,
     "input": [],
     "language": "python",
     "metadata": {},
     "outputs": []
    },
    {
     "cell_type": "code",
     "collapsed": false,
     "input": [],
     "language": "python",
     "metadata": {},
     "outputs": []
    },
    {
     "cell_type": "code",
     "collapsed": false,
     "input": [],
     "language": "python",
     "metadata": {},
     "outputs": []
    },
    {
     "cell_type": "code",
     "collapsed": false,
     "input": [],
     "language": "python",
     "metadata": {},
     "outputs": []
    },
    {
     "cell_type": "code",
     "collapsed": false,
     "input": [],
     "language": "python",
     "metadata": {},
     "outputs": []
    },
    {
     "cell_type": "code",
     "collapsed": false,
     "input": [
      "#https://gist.github.com/zollinger/1722663\n",
      "import Image, ImageDraw\n",
      " \n",
      "def get_colors(infile, outfile, numcolors=10, swatchsize=20, resize=150):\n",
      " \n",
      "    image = Image.open(infile)\n",
      "    image = image.resize((resize, resize))\n",
      "    result = image.convert('P', palette=Image.ADAPTIVE, colors=numcolors)\n",
      "    result.putalpha(0)\n",
      "    colors = result.getcolors(resize*resize)\n",
      " \n",
      "    # Save colors to file\n",
      " \n",
      "    pal = Image.new('RGB', (swatchsize*numcolors, swatchsize))\n",
      "    draw = ImageDraw.Draw(pal)\n",
      " \n",
      "    posx = 0\n",
      "    for count, col in colors:\n",
      "        draw.rectangle([posx, 0, posx+swatchsize, swatchsize], fill=col)\n",
      "        posx = posx + swatchsize\n",
      " \n",
      "    del draw\n",
      "    pal.save(outfile, \"PNG\")\n",
      " \n",
      "if __name__ == '__main__':\n",
      "    get_colors('infile.jpg', '')"
     ],
     "language": "python",
     "metadata": {},
     "outputs": [
      {
       "ename": "IOError",
       "evalue": "[Errno 2] No such file or directory: 'infile.jpg'",
       "output_type": "pyerr",
       "traceback": [
        "\u001b[0;31m---------------------------------------------------------------------------\u001b[0m\n\u001b[0;31mIOError\u001b[0m                                   Traceback (most recent call last)",
        "\u001b[0;32m<ipython-input-2-35212aa0aaf2>\u001b[0m in \u001b[0;36m<module>\u001b[0;34m()\u001b[0m\n\u001b[1;32m     24\u001b[0m \u001b[0;34m\u001b[0m\u001b[0m\n\u001b[1;32m     25\u001b[0m \u001b[0;32mif\u001b[0m \u001b[0m__name__\u001b[0m \u001b[0;34m==\u001b[0m \u001b[0;34m'__main__'\u001b[0m\u001b[0;34m:\u001b[0m\u001b[0;34m\u001b[0m\u001b[0m\n\u001b[0;32m---> 26\u001b[0;31m     \u001b[0mget_colors\u001b[0m\u001b[0;34m(\u001b[0m\u001b[0;34m'infile.jpg'\u001b[0m\u001b[0;34m,\u001b[0m \u001b[0;34m'outfile.png'\u001b[0m\u001b[0;34m)\u001b[0m\u001b[0;34m\u001b[0m\u001b[0m\n\u001b[0m",
        "\u001b[0;32m<ipython-input-2-35212aa0aaf2>\u001b[0m in \u001b[0;36mget_colors\u001b[0;34m(infile, outfile, numcolors, swatchsize, resize)\u001b[0m\n\u001b[1;32m      4\u001b[0m \u001b[0;32mdef\u001b[0m \u001b[0mget_colors\u001b[0m\u001b[0;34m(\u001b[0m\u001b[0minfile\u001b[0m\u001b[0;34m,\u001b[0m \u001b[0moutfile\u001b[0m\u001b[0;34m,\u001b[0m \u001b[0mnumcolors\u001b[0m\u001b[0;34m=\u001b[0m\u001b[0;36m10\u001b[0m\u001b[0;34m,\u001b[0m \u001b[0mswatchsize\u001b[0m\u001b[0;34m=\u001b[0m\u001b[0;36m20\u001b[0m\u001b[0;34m,\u001b[0m \u001b[0mresize\u001b[0m\u001b[0;34m=\u001b[0m\u001b[0;36m150\u001b[0m\u001b[0;34m)\u001b[0m\u001b[0;34m:\u001b[0m\u001b[0;34m\u001b[0m\u001b[0m\n\u001b[1;32m      5\u001b[0m \u001b[0;34m\u001b[0m\u001b[0m\n\u001b[0;32m----> 6\u001b[0;31m     \u001b[0mimage\u001b[0m \u001b[0;34m=\u001b[0m \u001b[0mImage\u001b[0m\u001b[0;34m.\u001b[0m\u001b[0mopen\u001b[0m\u001b[0;34m(\u001b[0m\u001b[0minfile\u001b[0m\u001b[0;34m)\u001b[0m\u001b[0;34m\u001b[0m\u001b[0m\n\u001b[0m\u001b[1;32m      7\u001b[0m     \u001b[0mimage\u001b[0m \u001b[0;34m=\u001b[0m \u001b[0mimage\u001b[0m\u001b[0;34m.\u001b[0m\u001b[0mresize\u001b[0m\u001b[0;34m(\u001b[0m\u001b[0;34m(\u001b[0m\u001b[0mresize\u001b[0m\u001b[0;34m,\u001b[0m \u001b[0mresize\u001b[0m\u001b[0;34m)\u001b[0m\u001b[0;34m)\u001b[0m\u001b[0;34m\u001b[0m\u001b[0m\n\u001b[1;32m      8\u001b[0m     \u001b[0mresult\u001b[0m \u001b[0;34m=\u001b[0m \u001b[0mimage\u001b[0m\u001b[0;34m.\u001b[0m\u001b[0mconvert\u001b[0m\u001b[0;34m(\u001b[0m\u001b[0;34m'P'\u001b[0m\u001b[0;34m,\u001b[0m \u001b[0mpalette\u001b[0m\u001b[0;34m=\u001b[0m\u001b[0mImage\u001b[0m\u001b[0;34m.\u001b[0m\u001b[0mADAPTIVE\u001b[0m\u001b[0;34m,\u001b[0m \u001b[0mcolors\u001b[0m\u001b[0;34m=\u001b[0m\u001b[0mnumcolors\u001b[0m\u001b[0;34m)\u001b[0m\u001b[0;34m\u001b[0m\u001b[0m\n",
        "\u001b[0;32m/Users/kuoyen/anaconda/lib/python2.7/site-packages/PIL/Image.pyc\u001b[0m in \u001b[0;36mopen\u001b[0;34m(fp, mode)\u001b[0m\n\u001b[1;32m   1950\u001b[0m         \u001b[0;32mimport\u001b[0m \u001b[0m__builtin__\u001b[0m\u001b[0;34m\u001b[0m\u001b[0m\n\u001b[1;32m   1951\u001b[0m         \u001b[0mfilename\u001b[0m \u001b[0;34m=\u001b[0m \u001b[0mfp\u001b[0m\u001b[0;34m\u001b[0m\u001b[0m\n\u001b[0;32m-> 1952\u001b[0;31m         \u001b[0mfp\u001b[0m \u001b[0;34m=\u001b[0m \u001b[0m__builtin__\u001b[0m\u001b[0;34m.\u001b[0m\u001b[0mopen\u001b[0m\u001b[0;34m(\u001b[0m\u001b[0mfp\u001b[0m\u001b[0;34m,\u001b[0m \u001b[0;34m\"rb\"\u001b[0m\u001b[0;34m)\u001b[0m\u001b[0;34m\u001b[0m\u001b[0m\n\u001b[0m\u001b[1;32m   1953\u001b[0m     \u001b[0;32melse\u001b[0m\u001b[0;34m:\u001b[0m\u001b[0;34m\u001b[0m\u001b[0m\n\u001b[1;32m   1954\u001b[0m         \u001b[0mfilename\u001b[0m \u001b[0;34m=\u001b[0m \u001b[0;34m\"\"\u001b[0m\u001b[0;34m\u001b[0m\u001b[0m\n",
        "\u001b[0;31mIOError\u001b[0m: [Errno 2] No such file or directory: 'infile.jpg'"
       ]
      }
     ],
     "prompt_number": 2
    },
    {
     "cell_type": "code",
     "collapsed": false,
     "input": [],
     "language": "python",
     "metadata": {},
     "outputs": []
    },
    {
     "cell_type": "code",
     "collapsed": false,
     "input": [],
     "language": "python",
     "metadata": {},
     "outputs": []
    },
    {
     "cell_type": "code",
     "collapsed": false,
     "input": [],
     "language": "python",
     "metadata": {},
     "outputs": []
    },
    {
     "cell_type": "code",
     "collapsed": false,
     "input": [],
     "language": "python",
     "metadata": {},
     "outputs": []
    }
   ],
   "metadata": {}
  }
 ]
}