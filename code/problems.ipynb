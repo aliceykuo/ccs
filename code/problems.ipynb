{
 "metadata": {
  "name": "",
  "signature": "sha256:4f00c4f7b4d8f54ae8b8d8bf1a2711dd07f541bc7566dea765f49ab7082c4fe2"
 },
 "nbformat": 3,
 "nbformat_minor": 0,
 "worksheets": [
  {
   "cells": [
    {
     "cell_type": "code",
     "collapsed": false,
     "input": [
      "import sys\n",
      "import os\n",
      "import numpy as np\n",
      "# import itertools\n",
      "from sklearn.preprocessing import StandardScaler\n",
      "from skimage import io\n",
      "import scipy\n",
      "from scipy import ndimage, misc\n",
      "from skimage.color import rgb2gray\n",
      "from skimage.exposure import equalize_hist\n",
      "from skimage.segmentation import felzenszwalb, slic, quickshift\n",
      "from PIL import Image\n",
      "from scipy.cluster.vq import vq\n",
      "from sklearn.cross_validation import train_test_split\n",
      "from sklearn.metrics import confusion_matrix, precision_score, recall_score, f1_score\n",
      "from sklearn.ensemble import RandomForestClassifier\n",
      "from sklearn import preprocessing\n",
      "import pickle as pkl\n",
      "from dom_color import DominantColor\n",
      "import cv2\n",
      "import time\n",
      "import datetime\n",
      "import os, errno"
     ],
     "language": "python",
     "metadata": {},
     "outputs": [],
     "prompt_number": 85
    },
    {
     "cell_type": "code",
     "collapsed": false,
     "input": [
      "def dom_colors(filename):\n",
      "    dom_colors = []\n",
      "    img = Image.open(filename)\n",
      "    # segments = segment_image(i)\n",
      "    ar = scipy.misc.fromimage(img)\n",
      "    shape = ar.shape\n",
      "    ar = ar.reshape((scipy.product(shape[:2]), shape[2]))\n",
      "    codes, dist = scipy.cluster.vq.kmeans(ar, 5)\n",
      "    vecs, dist = scipy.cluster.vq.vq(ar, codes)         \n",
      "    counts, bins = scipy.histogram(vecs, len(codes))   \n",
      "    index_top = scipy.argsort(counts) [:-4:-1]         \n",
      "    img_dom_colors = []\n",
      "    if len(img_dom_colors) != 3:\n",
      "        print len(img_dom_colors)\n",
      "        diff = 3 - len(img_dom_colors)\n",
      "        print diff\n",
      "        print \"IMG less than 3 dominant colors:\", diff\n",
      "        new_arr = ([(sum(img_dom_colors[0])/3)]*3) * diff\n",
      "        print \"new_arr\", new_arr\n",
      "        img_dom_colors.extend(new_arr)\n",
      "    dom_colors.append(img_dom_colors)\n",
      "    print len(dom_colors)\n",
      "    return dom_colors\n"
     ],
     "language": "python",
     "metadata": {},
     "outputs": [],
     "prompt_number": 86
    },
    {
     "cell_type": "code",
     "collapsed": false,
     "input": [
      "dom = dom_colors('/Users/kuoyen/Documents/capstone/images/segmented_1/564seg2.jpg')"
     ],
     "language": "python",
     "metadata": {},
     "outputs": [
      {
       "output_type": "stream",
       "stream": "stdout",
       "text": [
        "0\n",
        "3\n",
        "IMG less than 3 dominant colors: 3\n"
       ]
      },
      {
       "ename": "IndexError",
       "evalue": "list index out of range",
       "output_type": "pyerr",
       "traceback": [
        "\u001b[0;31m---------------------------------------------------------------------------\u001b[0m\n\u001b[0;31mIndexError\u001b[0m                                Traceback (most recent call last)",
        "\u001b[0;32m<ipython-input-87-748f6161f3a7>\u001b[0m in \u001b[0;36m<module>\u001b[0;34m()\u001b[0m\n\u001b[0;32m----> 1\u001b[0;31m \u001b[0mdom\u001b[0m \u001b[0;34m=\u001b[0m \u001b[0mdom_colors\u001b[0m\u001b[0;34m(\u001b[0m\u001b[0;34m'/Users/kuoyen/Documents/capstone/images/segmented_1/564seg2.jpg'\u001b[0m\u001b[0;34m)\u001b[0m\u001b[0;34m\u001b[0m\u001b[0m\n\u001b[0m",
        "\u001b[0;32m<ipython-input-86-f790218ef3dc>\u001b[0m in \u001b[0;36mdom_colors\u001b[0;34m(filename)\u001b[0m\n\u001b[1;32m     16\u001b[0m         \u001b[0;32mprint\u001b[0m \u001b[0mdiff\u001b[0m\u001b[0;34m\u001b[0m\u001b[0m\n\u001b[1;32m     17\u001b[0m         \u001b[0;32mprint\u001b[0m \u001b[0;34m\"IMG less than 3 dominant colors:\"\u001b[0m\u001b[0;34m,\u001b[0m \u001b[0mdiff\u001b[0m\u001b[0;34m\u001b[0m\u001b[0m\n\u001b[0;32m---> 18\u001b[0;31m         \u001b[0mnew_arr\u001b[0m \u001b[0;34m=\u001b[0m \u001b[0;34m(\u001b[0m\u001b[0;34m[\u001b[0m\u001b[0;34m(\u001b[0m\u001b[0msum\u001b[0m\u001b[0;34m(\u001b[0m\u001b[0mimg_dom_colors\u001b[0m\u001b[0;34m[\u001b[0m\u001b[0;36m0\u001b[0m\u001b[0;34m]\u001b[0m\u001b[0;34m)\u001b[0m\u001b[0;34m/\u001b[0m\u001b[0;36m3\u001b[0m\u001b[0;34m)\u001b[0m\u001b[0;34m]\u001b[0m\u001b[0;34m*\u001b[0m\u001b[0;36m3\u001b[0m\u001b[0;34m)\u001b[0m \u001b[0;34m*\u001b[0m \u001b[0mdiff\u001b[0m\u001b[0;34m\u001b[0m\u001b[0m\n\u001b[0m\u001b[1;32m     19\u001b[0m         \u001b[0;32mprint\u001b[0m \u001b[0;34m\"new_arr\"\u001b[0m\u001b[0;34m,\u001b[0m \u001b[0mnew_arr\u001b[0m\u001b[0;34m\u001b[0m\u001b[0m\n\u001b[1;32m     20\u001b[0m         \u001b[0mimg_dom_colors\u001b[0m\u001b[0;34m.\u001b[0m\u001b[0mextend\u001b[0m\u001b[0;34m(\u001b[0m\u001b[0mnew_arr\u001b[0m\u001b[0;34m)\u001b[0m\u001b[0;34m\u001b[0m\u001b[0m\n",
        "\u001b[0;31mIndexError\u001b[0m: list index out of range"
       ]
      }
     ],
     "prompt_number": 87
    },
    {
     "cell_type": "code",
     "collapsed": false,
     "input": [],
     "language": "python",
     "metadata": {},
     "outputs": [
      {
       "metadata": {},
       "output_type": "pyout",
       "prompt_number": 65,
       "text": [
        "[[array([254, 254, 254], dtype=uint8),\n",
        "  array([252, 252, 253], dtype=uint8),\n",
        "  array([247, 251, 254], dtype=uint8)]]"
       ]
      }
     ],
     "prompt_number": 65
    },
    {
     "cell_type": "code",
     "collapsed": false,
     "input": [
      "dink = dom_colors('/Users/kuoyen/Documents/capstone/images/segmented/1409seg1.jpg')"
     ],
     "language": "python",
     "metadata": {},
     "outputs": [],
     "prompt_number": 43
    },
    {
     "cell_type": "code",
     "collapsed": false,
     "input": [
      "dom"
     ],
     "language": "python",
     "metadata": {},
     "outputs": [
      {
       "metadata": {},
       "output_type": "pyout",
       "prompt_number": 44,
       "text": [
        "[[array([239, 240, 241], dtype=uint8), array([ 96,  99, 101], dtype=uint8)]]"
       ]
      }
     ],
     "prompt_number": 44
    },
    {
     "cell_type": "code",
     "collapsed": false,
     "input": [
      "def dom_colors_by_segment(k=3):\n",
      "    dom_colors = []\n",
      "    segment = '/Users/kuoyen/Documents/capstone/images/segmented_1/564seg2.jpg'\n",
      "    img = Image.open(segment)\n",
      "    ar = scipy.misc.fromimage(img)\n",
      "    shape = ar.shape\n",
      "    ar = ar.reshape((scipy.product(shape[:2]), shape[2]))\n",
      "    codes, dist = scipy.cluster.vq.kmeans(ar, k)\n",
      "    vecs, dist = scipy.cluster.vq.vq(ar, codes)         \n",
      "    counts, bins = scipy.histogram(vecs, len(codes))   \n",
      "    index_top = scipy.argsort(counts) [:-5:-1]         \n",
      "    img_dom_colors = []\n",
      "    #img_dom_colors is the k (5) arrays of dominant colors detected in each image (segment)\n",
      "    for i in codes[index_top]:\n",
      "        img_dom_colors.append(i)\n",
      "        colour = ''.join(chr(c) for c in i).encode('hex')\n",
      "        # print 'most frequent is %s (#%s)' % (i, colour)\n",
      "    print img_dom_colors\n",
      "    if len(img_dom_colors) != 3:\n",
      "        diff = 3 - len(img_dom_colors)\n",
      "        print \"IMG only has one dominant color:\", segment\n",
      "        for i in range(diff):\n",
      "            img_dom_colors.extend([(sum(img_dom_colors[0])/3)]*3)\n",
      "    dom_colors.append(img_dom_colors)\n",
      "    return img_dom_colors\n",
      "    \n"
     ],
     "language": "python",
     "metadata": {},
     "outputs": [],
     "prompt_number": 71
    },
    {
     "cell_type": "code",
     "collapsed": false,
     "input": [
      "img_dom_colors = dom_colors_by_segment()"
     ],
     "language": "python",
     "metadata": {},
     "outputs": [
      {
       "output_type": "stream",
       "stream": "stdout",
       "text": [
        "[array([253, 254, 254], dtype=uint8), array([168,  25,  26], dtype=uint8), array([234, 231, 224], dtype=uint8)]\n"
       ]
      }
     ],
     "prompt_number": 72
    },
    {
     "cell_type": "code",
     "collapsed": false,
     "input": [
      "(img_dom_colors[0]) "
     ],
     "language": "python",
     "metadata": {},
     "outputs": [
      {
       "metadata": {},
       "output_type": "pyout",
       "prompt_number": 73,
       "text": [
        "array([253, 254, 254], dtype=uint8)"
       ]
      }
     ],
     "prompt_number": 73
    },
    {
     "cell_type": "code",
     "collapsed": false,
     "input": [
      "list((sum(img_dom_colors[0])/3) *3) "
     ],
     "language": "python",
     "metadata": {},
     "outputs": [
      {
       "ename": "TypeError",
       "evalue": "'int' object is not callable",
       "output_type": "pyerr",
       "traceback": [
        "\u001b[0;31m---------------------------------------------------------------------------\u001b[0m\n\u001b[0;31mTypeError\u001b[0m                                 Traceback (most recent call last)",
        "\u001b[0;32m<ipython-input-24-04ba0ed671cc>\u001b[0m in \u001b[0;36m<module>\u001b[0;34m()\u001b[0m\n\u001b[0;32m----> 1\u001b[0;31m \u001b[0mlist\u001b[0m\u001b[0;34m(\u001b[0m\u001b[0;34m(\u001b[0m\u001b[0msum\u001b[0m\u001b[0;34m(\u001b[0m\u001b[0mimg_dom_colors\u001b[0m\u001b[0;34m[\u001b[0m\u001b[0;36m0\u001b[0m\u001b[0;34m]\u001b[0m\u001b[0;34m)\u001b[0m\u001b[0;34m/\u001b[0m\u001b[0;36m3\u001b[0m\u001b[0;34m)\u001b[0m \u001b[0;34m*\u001b[0m\u001b[0;36m3\u001b[0m\u001b[0;34m)\u001b[0m\u001b[0;34m\u001b[0m\u001b[0m\n\u001b[0m",
        "\u001b[0;31mTypeError\u001b[0m: 'int' object is not callable"
       ]
      }
     ],
     "prompt_number": 24
    },
    {
     "cell_type": "code",
     "collapsed": false,
     "input": [
      "array = [(sum(img_dom_colors[0])/3)]*3\n",
      "type(array)"
     ],
     "language": "python",
     "metadata": {},
     "outputs": [
      {
       "metadata": {},
       "output_type": "pyout",
       "prompt_number": 40,
       "text": [
        "list"
       ]
      }
     ],
     "prompt_number": 40
    },
    {
     "cell_type": "code",
     "collapsed": false,
     "input": [
      "arr = [[254, 255, 255], [253, 253, 253]]\n",
      "if len(img_dom_colors) != 3:\n",
      "    diff = 3 - len(arr)\n",
      "    print \"IMG only has one dominant color:\", diff\n",
      "    for i in xrange(diff):\n",
      "#         print i, diff\n",
      "        new_arr = ([(sum(img_dom_colors[0])/3)]*3) * diff\n",
      "        print \"new_arr\", new_arr\n",
      "        arr.extend(new_arr)"
     ],
     "language": "python",
     "metadata": {},
     "outputs": [
      {
       "output_type": "stream",
       "stream": "stdout",
       "text": [
        "IMG only has one dominant color: 1\n",
        "new_arr [254, 254, 254]\n"
       ]
      }
     ],
     "prompt_number": 63
    },
    {
     "cell_type": "code",
     "collapsed": false,
     "input": [
      "print arr"
     ],
     "language": "python",
     "metadata": {},
     "outputs": [
      {
       "output_type": "stream",
       "stream": "stdout",
       "text": [
        "[[254, 255, 255], [253, 253, 253], 254, 254, 254]\n"
       ]
      }
     ],
     "prompt_number": 64
    },
    {
     "cell_type": "code",
     "collapsed": false,
     "input": [],
     "language": "python",
     "metadata": {},
     "outputs": [],
     "prompt_number": 33
    },
    {
     "cell_type": "code",
     "collapsed": false,
     "input": [],
     "language": "python",
     "metadata": {},
     "outputs": []
    }
   ],
   "metadata": {}
  }
 ]
}