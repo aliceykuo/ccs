{
 "metadata": {
  "name": "",
  "signature": "sha256:f033c52cda3469e62eb278ca6334ecbd7404bf382201b49d7e151c3ac38e09b0"
 },
 "nbformat": 3,
 "nbformat_minor": 0,
 "worksheets": [
  {
   "cells": [
    {
     "cell_type": "code",
     "collapsed": false,
     "input": [
      "from skimage import io\n",
      "import pandas as pd\n",
      "import numpy as np\n",
      "from skimage.color import rgb2gray\n",
      "# from skimage.exposure import \n",
      "from sklearn.preprocessing import StandardScaler\n",
      "from PIL import Image\n",
      "import cv2"
     ],
     "language": "python",
     "metadata": {},
     "outputs": [],
     "prompt_number": 25
    },
    {
     "cell_type": "code",
     "collapsed": false,
     "input": [
      "#setup a standard image size - downsize and get all images to the same dimensions \n",
      "#converts into a numpy array of RGB pixels\n",
      "\n",
      "standard_size = (100, 75)\n",
      "def img_to_matrix(filename):\n",
      "    img = Image.open(filename)\n",
      "    img = img.resize(standard_size)\n",
      "    img = list(img.getdata())\n",
      "    img = map(list, img)\n",
      "    img = np.array(img)\n",
      "    return img\n",
      " \n",
      "def flatten_image(img):\n",
      "    img =img.ravel() \n",
      "    return img"
     ],
     "language": "python",
     "metadata": {},
     "outputs": [],
     "prompt_number": 26
    },
    {
     "cell_type": "code",
     "collapsed": false,
     "input": [
      "# matrix t\n",
      "img = img_to_matrix('beach/beach1.jpg')\n",
      "print img\n",
      "print (flatten_image(img))\n",
      "print \"length:\", len(flatten_image(img))"
     ],
     "language": "python",
     "metadata": {},
     "outputs": [
      {
       "output_type": "stream",
       "stream": "stdout",
       "text": [
        "[[ 98  87 103]\n",
        " [ 90  92 115]\n",
        " [ 75  92 122]\n",
        " ..., \n",
        " [ 48  40  38]\n",
        " [ 50  42  40]\n",
        " [ 50  42  40]]\n",
        "[ 98  87 103 ...,  50  42  40]\n",
        "length: 22500\n"
       ]
      }
     ],
     "prompt_number": 35
    },
    {
     "cell_type": "code",
     "collapsed": false,
     "input": [
      "def process(label, n):\n",
      "    beach = []\n",
      "    for i in range(1,n):\n",
      "        img_url = label + '/' + label\n",
      "        img = img_to_matrix(img_url + str(i) + '.jpg')\n",
      "        beach.append(flatten_image(img))\n",
      "    print beach\n",
      "#     print \"length:\", len(flatten_image(img))"
     ],
     "language": "python",
     "metadata": {},
     "outputs": [],
     "prompt_number": 48
    },
    {
     "cell_type": "code",
     "collapsed": false,
     "input": [
      "process('beach', 5)"
     ],
     "language": "python",
     "metadata": {},
     "outputs": [
      {
       "output_type": "stream",
       "stream": "stdout",
       "text": [
        "[array([ 98,  87, 103, ...,  50,  42,  40]), array([249, 240, 199, ..., 255, 251, 235]), array([236, 220, 194, ..., 124, 172, 174]), array([ 22,  21,  16, ..., 153, 126, 105])]\n"
       ]
      }
     ],
     "prompt_number": 49
    },
    {
     "cell_type": "code",
     "collapsed": false,
     "input": [
      "# img_dir = \"images\"\n",
      "# images = [img_dir+ f for f in os.listdir(img_dir)]\n",
      "# labels = [\"beach\" if \"beach\" in f.split('/')[-1] else \"rustic\" for f in images]\n",
      " \n",
      "# data = []\n",
      "# for image in images:\n",
      "#     img = img_to_matrix(image)\n",
      "#     img = flatten_image(img)\n",
      "#     data.append(img)\n",
      " \n",
      "# data = np.array(data)\n",
      "# data"
     ],
     "language": "python",
     "metadata": {},
     "outputs": []
    },
    {
     "cell_type": "code",
     "collapsed": false,
     "input": [
      "# img = cv2.imread('beach1.jpg')\n",
      "# mask = np.zeros(img.shape[:2],np.uint8)\n",
      "\n",
      "# bgdModel = np.zeros((1,65),np.float64)\n",
      "# fgdModel = np.zeros((1,65),np.float64)\n",
      "\n",
      "# rect = (50,50,450,290)\n",
      "# cv2.grabCut(img,mask,rect,bgdModel,fgdModel,5,cv2.GC_INIT_WITH_RECT)\n",
      "\n",
      "# mask2 = np.where((mask==2)|(mask==0),0,1).astype('uint8')\n",
      "# img = img*mask2[:,:,np.newaxis]\n",
      "\n",
      "# plt.imshow(img),plt.colorbar(),plt.show()"
     ],
     "language": "python",
     "metadata": {},
     "outputs": [],
     "prompt_number": 52
    },
    {
     "cell_type": "code",
     "collapsed": false,
     "input": [],
     "language": "python",
     "metadata": {},
     "outputs": []
    }
   ],
   "metadata": {}
  }
 ]
}